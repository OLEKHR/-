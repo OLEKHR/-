{
 "cells": [
  {
   "cell_type": "markdown",
   "metadata": {},
   "source": [
    "## Домашнее задание L3"
   ]
  },
  {
   "cell_type": "markdown",
   "metadata": {},
   "source": [
    "    Вывести название месяца по его номеру."
   ]
  },
  {
   "cell_type": "code",
   "execution_count": 16,
   "metadata": {},
   "outputs": [
    {
     "name": "stdout",
     "output_type": "stream",
     "text": [
      "Месяц октябрь\n"
     ]
    }
   ],
   "source": [
    "month =int(input(\"Номер месяца:\"))\n",
    "\n",
    "c = {1:\"январь\", 2:\"февраль\", 3:\"март\", 4:\"апрель\", 5:\"май\", 6:\"июнь\", 7:\"июль\", 8:\"август\", 9:\"сентябрь\", 10:\"октябрь\", 11:\"ноябрь\", 12:\"декабрь\"}\n",
    "\n",
    "if month >= 1 and month <= 12:\n",
    "    print(f\"Месяц {c[month]}\")\n",
    "else:\n",
    "    \"Некорректный номер месяца\""
   ]
  },
  {
   "cell_type": "markdown",
   "metadata": {},
   "source": [
    "    Найти наибольший общий делитель чисел."
   ]
  },
  {
   "cell_type": "code",
   "execution_count": 27,
   "metadata": {},
   "outputs": [
    {
     "name": "stdout",
     "output_type": "stream",
     "text": [
      "1\n"
     ]
    }
   ],
   "source": [
    "a, b = input(\"Введите 2 числа:\" )\n",
    "a = int(a)\n",
    "b = int(b)\n",
    "\n",
    "while a!=0 and b!=0:\n",
    "    if a>b: \n",
    "        a%=b\n",
    "    else:\n",
    "        b%=a\n",
    "print(a+b)"
   ]
  },
  {
   "cell_type": "markdown",
   "metadata": {},
   "source": [
    "    Проверить расширение файла."
   ]
  },
  {
   "cell_type": "code",
   "execution_count": 34,
   "metadata": {},
   "outputs": [
    {
     "name": "stdout",
     "output_type": "stream",
     "text": [
      "Допустимое расширение\n"
     ]
    }
   ],
   "source": [
    "file='Моя диссертац.jpg'\n",
    "extensions = ['png', 'jpg', 'jpeg', 'gif', 'svg']\n",
    "\n",
    "if file.split(\".\")[1] in extensions:\n",
    "    print(\"Допустимое расширение.\")\n",
    "else:\n",
    "    print(\"Недопустимое расширение.\")"
   ]
  },
  {
   "cell_type": "markdown",
   "metadata": {},
   "source": [
    "    Определить, является ли год високосным.\n",
    "    \n",
    "    Год, номер которого кратен:\n",
    "        400 и 4 — високосный;\n",
    "        100 — невисокосные;"
   ]
  },
  {
   "cell_type": "code",
   "execution_count": 44,
   "metadata": {},
   "outputs": [
    {
     "name": "stdout",
     "output_type": "stream",
     "text": [
      "2022 год - невисокосный\n"
     ]
    }
   ],
   "source": [
    "year = int(input(\"Введите год:\"))\n",
    "\n",
    "if year%400 == 0 or year%4 == 0:\n",
    "    print(f\"{year} год - високосный.\")\n",
    "else:\n",
    "    print(f\"{year} год - невисокосный.\")"
   ]
  }
 ],
 "metadata": {
  "kernelspec": {
   "display_name": "Python 3.10.6 64-bit",
   "language": "python",
   "name": "python3"
  },
  "language_info": {
   "codemirror_mode": {
    "name": "ipython",
    "version": 3
   },
   "file_extension": ".py",
   "mimetype": "text/x-python",
   "name": "python",
   "nbconvert_exporter": "python",
   "pygments_lexer": "ipython3",
   "version": "3.10.8"
  },
  "orig_nbformat": 4,
  "vscode": {
   "interpreter": {
    "hash": "b0fa6594d8f4cbf19f97940f81e996739fb7646882a419484c72d19e05852a7e"
   }
  }
 },
 "nbformat": 4,
 "nbformat_minor": 2
}
