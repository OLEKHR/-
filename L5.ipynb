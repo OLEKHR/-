{
 "cells": [
  {
   "cell_type": "markdown",
   "metadata": {},
   "source": [
    "## Домашнее задание L5"
   ]
  },
  {
   "cell_type": "markdown",
   "metadata": {},
   "source": [
    "    Средний бал и список отстающих учеников.\n",
    "    \n",
    "    Иванов О. 4\n",
    "    Петров И. 3\n",
    "    Дмитриев Н. 2\n",
    "    Смирнова О. 4\n",
    "    Керченских В. 5\n",
    "    Котов Д. 2\n",
    "    Бирюкова Н. 1\n",
    "    Данилов П. 3\n",
    "    Аранских В. 5\n",
    "    Лемонов Ю. 2\n",
    "    Олегова К. 4"
   ]
  },
  {
   "cell_type": "code",
   "execution_count": 54,
   "metadata": {},
   "outputs": [
    {
     "name": "stdout",
     "output_type": "stream",
     "text": [
      "Средний балл: 3.18\n",
      "Список отстающих:\n",
      "['Петров И.', 'Дмитриев И.', 'Котов Д.', 'Бирюкова Н.', 'Данилов П.', 'Лемонов Ю.']\n"
     ]
    }
   ],
   "source": [
    "st = [(\"Иванов О.\",4),(\"Петров И.\",3),(\"Дмитриев И.\",2),\n",
    "    (\"Смирнова О.\",4),(\"Керченских В.\",5),(\"Котов Д.\",2),\n",
    "    (\"Бирюкова Н.\",1),(\"Данилов П.\",3),(\"Аранских В.\",5),\n",
    "    (\"Лемонов Ю.\",2),(\"Олегова К.\",4),]\n",
    "\n",
    "s = 0\n",
    "for i in st:\n",
    "    s += i[1]\n",
    "avg = s/len(st)\n",
    "\n",
    "l = []\n",
    "for j in st:\n",
    "    if j[1]< avg:\n",
    "        l.append(j[0])\n",
    "\n",
    "print(f\"Средний балл: {avg:.2f}\\nСписок отстающих:\\n{l}\")\n"
   ]
  },
  {
   "cell_type": "markdown",
   "metadata": {},
   "source": [
    "    Посчитать количество определенных слов в файле."
   ]
  },
  {
   "cell_type": "code",
   "execution_count": 55,
   "metadata": {},
   "outputs": [
    {
     "name": "stdout",
     "output_type": "stream",
     "text": [
      "Лекций: 2\n",
      "Практических: 3\n",
      "Лабораторных: 2\n"
     ]
    }
   ],
   "source": [
    "with open(\"Расписание.txt\", 'r', encoding='utf-8') as f:\n",
    "    lec = 0\n",
    "    pract = 0\n",
    "    lab = 0\n",
    "    \n",
    "    for line in f:\n",
    "        if \"лекц\" in line:\n",
    "            lec += 1\n",
    "        elif \"практ\" in line:\n",
    "            pract += 1\n",
    "        elif \"лаб\" in line:\n",
    "            lab += 1\n",
    "\n",
    "print('Лекций:', lec)\n",
    "print('Практических:', pract)\n",
    "print('Лабораторных:', lab)"
   ]
  },
  {
   "cell_type": "markdown",
   "metadata": {},
   "source": [
    "    Выведите список файлов в указанной директории. например где у вас лежат ваши тетради"
   ]
  },
  {
   "cell_type": "code",
   "execution_count": 56,
   "metadata": {},
   "outputs": [
    {
     "name": "stdout",
     "output_type": "stream",
     "text": [
      "['Текст.txt', 'Расписание.txt', 'L4.ipynb', 'L2.ipynb', '.ipynb_checkpoints', 'L5.ipynb', 'L3.ipynb']\n"
     ]
    }
   ],
   "source": [
    "import os\n",
    "\n",
    "\n",
    "print(os.listdir(\"../МИСиС ДЗ по Python\"))"
   ]
  },
  {
   "cell_type": "markdown",
   "metadata": {},
   "source": [
    "    Напишите программу, которая принимает текст и выводит два слова: наиболее часто встречающееся и самое длинное."
   ]
  },
  {
   "cell_type": "code",
   "execution_count": 57,
   "metadata": {},
   "outputs": [
    {
     "name": "stdout",
     "output_type": "stream",
     "text": [
      "Наиболее повторяющееся слово: И\n",
      "Cамое длинное слово: храброславленный\n"
     ]
    }
   ],
   "source": [
    "import re\n",
    "\n",
    "\n",
    "with open(\"Текст.txt\", \"r\", encoding = \"utf-8\") as f:\n",
    "    text = list(re.findall('\\w+', f.read()))\n",
    "\n",
    "    n = 0\n",
    "    max = \"\"\n",
    "    long = \"\"\n",
    "\n",
    "    for word in text:\n",
    "        q = text.count(word)\n",
    "        if q > n:\n",
    "            n = q\n",
    "            max = word    \n",
    "        if len(word) > len(long):\n",
    "            long = word\n",
    "\n",
    "    print(f\"Наиболее повторяющееся слово: {max}\\nCамое длинное слово: {long}\")\n",
    "\n"
   ]
  }
 ],
 "metadata": {
  "kernelspec": {
   "display_name": "Python 3.10.8 64-bit",
   "language": "python",
   "name": "python3"
  },
  "language_info": {
   "codemirror_mode": {
    "name": "ipython",
    "version": 3
   },
   "file_extension": ".py",
   "mimetype": "text/x-python",
   "name": "python",
   "nbconvert_exporter": "python",
   "pygments_lexer": "ipython3",
   "version": "3.10.8"
  },
  "orig_nbformat": 4,
  "vscode": {
   "interpreter": {
    "hash": "b0fa6594d8f4cbf19f97940f81e996739fb7646882a419484c72d19e05852a7e"
   }
  }
 },
 "nbformat": 4,
 "nbformat_minor": 2
}
