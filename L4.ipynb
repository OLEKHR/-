{
 "cells": [
  {
   "cell_type": "markdown",
   "metadata": {},
   "source": [
    "## Домашнее задание L4"
   ]
  },
  {
   "cell_type": "markdown",
   "metadata": {},
   "source": [
    "\n",
    "    Напишите функцию, извлекающую корень n-й степени из числа x. По умолчанию def будет извлекать квадратный корень."
   ]
  },
  {
   "cell_type": "code",
   "execution_count": 47,
   "metadata": {},
   "outputs": [
    {
     "name": "stdout",
     "output_type": "stream",
     "text": [
      "2.0\n"
     ]
    }
   ],
   "source": [
    "def sqrt(n, p=2):\n",
    "    print(pow(n, 1/p))\n",
    "\n",
    "sqrt(16, 4)"
   ]
  },
  {
   "cell_type": "markdown",
   "metadata": {},
   "source": [
    "\n",
    "    Перепишите ваш код для проверки расширения из прошлого ДЗ в функцию которая принимает список расширений и имя файла."
   ]
  },
  {
   "cell_type": "code",
   "execution_count": 48,
   "metadata": {},
   "outputs": [
    {
     "name": "stdout",
     "output_type": "stream",
     "text": [
      "Недопустимое расширение.\n"
     ]
    }
   ],
   "source": [
    "file='Моя диссертац.jpdg'\n",
    "extensions = ['png', 'jpg', 'jpeg', 'gif', 'svg']\n",
    "\n",
    "def ext(f, e):\n",
    "    if f.split(\".\")[1] in e:\n",
    "        print(\"Допустимое расширение.\")\n",
    "    else:\n",
    "        print(\"Недопустимое расширение.\")\n",
    "\n",
    "ext(file, extensions)"
   ]
  },
  {
   "cell_type": "markdown",
   "metadata": {},
   "source": [
    "\n",
    "    Слейте воедино три словаря."
   ]
  },
  {
   "cell_type": "code",
   "execution_count": 49,
   "metadata": {},
   "outputs": [
    {
     "name": "stdout",
     "output_type": "stream",
     "text": [
      "{1: 10, 2: 20, 3: 30, 4: 40, 5: 50, 6: 60}\n"
     ]
    }
   ],
   "source": [
    "dict_a = {1:10, 2:20}\n",
    "dict_b = {3:30, 4:40}\n",
    "dict_c = {5:50, 6:60}\n",
    "\n",
    "a = {**dict_a, **dict_b, **dict_c}\n",
    "print(a)"
   ]
  },
  {
   "cell_type": "markdown",
   "metadata": {},
   "source": [
    "    Напишите функцию которая будет складывать цифры внутри числа."
   ]
  },
  {
   "cell_type": "code",
   "execution_count": 50,
   "metadata": {},
   "outputs": [
    {
     "name": "stdout",
     "output_type": "stream",
     "text": [
      "20\n"
     ]
    }
   ],
   "source": [
    "def s(n):\n",
    "    print(sum(map(int,str(n))))\n",
    "\n",
    "num = 1928\n",
    "s(num)"
   ]
  },
  {
   "cell_type": "markdown",
   "metadata": {},
   "source": [
    "    Нужно проверить, все ли числа в последовательности уникальны."
   ]
  },
  {
   "cell_type": "code",
   "execution_count": 51,
   "metadata": {},
   "outputs": [
    {
     "name": "stdout",
     "output_type": "stream",
     "text": [
      "Не уникальны\n"
     ]
    }
   ],
   "source": [
    "numbers=[1,4,5,5]\n",
    "s_num = set(numbers)\n",
    "\n",
    "if len(numbers) == len(s_num):\n",
    "    print(\"Уникальны\")\n",
    "else:\n",
    "    print(\"Не уникальны\")"
   ]
  },
  {
   "cell_type": "markdown",
   "metadata": {},
   "source": [
    "    Создать функцию, которая просто печатает все элементы заданного ей списка:\n",
    "\n",
    "    НОМЕР J --> ЗНАЧЕНИЕ\n",
    "    НОМЕР K --> ЗНАЧЕНИЕ\n",
    "    J, K — порядковые номера в списке"
   ]
  },
  {
   "cell_type": "code",
   "execution_count": 52,
   "metadata": {},
   "outputs": [
    {
     "name": "stdout",
     "output_type": "stream",
     "text": [
      "НОМЕР 0 --> я\n",
      "НОМЕР 1 --> не\n",
      "НОМЕР 2 --> в\n",
      "НОМЕР 3 --> отпуск\n",
      "НОМЕР 4 --> ага\n"
     ]
    }
   ],
   "source": [
    "def print_list(my_list):\n",
    "   for i, el in enumerate(my_list):\n",
    "      print(f\"НОМЕР {i} --> {el}\")\n",
    "print_list([\"я\", \"не\", \"в\", \"отпуск\", \"ага\" ])"
   ]
  },
  {
   "cell_type": "markdown",
   "metadata": {},
   "source": [
    "    Создать функцию, которая печатает каждый элемент словарика:\n",
    "    \n",
    "    КЛЮЧ <> --> ЗНАЧЕНИЕ\n",
    "    КЛЮЧ <> --> ЗНАЧЕНИЕ\n",
    "    J, K — ключи словарика"
   ]
  },
  {
   "cell_type": "code",
   "execution_count": 53,
   "metadata": {},
   "outputs": [
    {
     "name": "stdout",
     "output_type": "stream",
     "text": [
      "КЛЮЧ <key1> --> 2\n",
      "КЛЮЧ <key3> --> False\n",
      "КЛЮЧ <Приветствие> --> Hello\n"
     ]
    }
   ],
   "source": [
    "def print_dict(my_dict):\n",
    "    for key, value in my_dict.items():\n",
    "        print(f\"КЛЮЧ <{key}> --> {value}\")\n",
    "\n",
    "print_dict({\"key1\": 2, \"key3\": False, \"Приветствие\": \"Hello\"})"
   ]
  },
  {
   "cell_type": "markdown",
   "metadata": {},
   "source": [
    "    Сделать функцию, которая использует две уже написанные функции следующим образом:\n",
    "    \n",
    "    если ЗНАЧЕНИЕ это LIST --> вызывается print_list\n",
    "    если ЗНАЧЕНИЕ это DICT --> вызывается print_dict\n",
    "    во всех других случаях просто выводится ЗНАЧЕНИЕ"
   ]
  },
  {
   "cell_type": "code",
   "execution_count": 54,
   "metadata": {},
   "outputs": [
    {
     "name": "stdout",
     "output_type": "stream",
     "text": [
      "1\n",
      "НОМЕР 0 --> 1\n",
      "НОМЕР 1 --> 2\n",
      "НОМЕР 2 --> 3\n",
      "НОМЕР 3 --> 4\n",
      "Hello\n",
      "КЛЮЧ <ciao> --> Mondo\n",
      "КЛЮЧ <Привет> --> О дивный мир\n"
     ]
    }
   ],
   "source": [
    "def print_overlord(mydict):\n",
    "    for i in mydict.values():\n",
    "        if isinstance(i, list):\n",
    "            print_list(i)\n",
    "        elif isinstance(i, dict):\n",
    "            print_dict(i)\n",
    "        else: \n",
    "            print(i)\n",
    "\n",
    "print_overlord(dict(key1=1,\n",
    "            key2=[1, 2, 3, 4], \n",
    "            key3='Hello', \n",
    "            key4={\"ciao\":\"Mondo\", \"Привет\": \"О дивный мир\"}))\n"
   ]
  },
  {
   "cell_type": "markdown",
   "metadata": {},
   "source": [
    "    *Сделать функцию, которая на вход получает фразу и печатает все отдельные слова из этой фразы."
   ]
  },
  {
   "cell_type": "code",
   "execution_count": 55,
   "metadata": {},
   "outputs": [
    {
     "name": "stdout",
     "output_type": "stream",
     "text": [
      "Тут\n",
      "фраза\n",
      "с\n",
      "пробелами\n",
      "и\n",
      "я\n",
      "хочу\n",
      "их\n",
      "распечатать\n",
      "по\n",
      "одному\n",
      "на\n",
      "строку\n",
      "и\n",
      "ещё\n",
      "посчитать\n",
      "слова\n",
      "Количество слов: 17\n"
     ]
    }
   ],
   "source": [
    "def word_count(phrase):\n",
    "    a = phrase.split()\n",
    "    for i in a: print(i)\n",
    "    print(f\"Количество слов: {len(a)}\")\n",
    "   \n",
    "word_count(\"Тут фраза с пробелами и я хочу их распечатать по одному на строку и ещё посчитать слова\")"
   ]
  },
  {
   "cell_type": "markdown",
   "metadata": {},
   "source": [
    "    Модифицировать функцию из предыдущего задания так, чтобы она считала \"вес\" каждого слова, выводя в процентное соотношение во фразе для каждого слова. Проценты печатать с точностью до 2 знаков после запятой."
   ]
  },
  {
   "cell_type": "code",
   "execution_count": 56,
   "metadata": {},
   "outputs": [
    {
     "name": "stdout",
     "output_type": "stream",
     "text": [
      "Тут --- 5.88%\n",
      "фраза --- 5.88%\n",
      "с --- 5.88%\n",
      "пробелами --- 5.88%\n",
      "и --- 11.76%\n",
      "я --- 5.88%\n",
      "хочу --- 5.88%\n",
      "их --- 5.88%\n",
      "распечатать --- 5.88%\n",
      "по --- 5.88%\n",
      "одному --- 5.88%\n",
      "на --- 5.88%\n",
      "строку --- 5.88%\n",
      "и --- 11.76%\n",
      "ещё --- 5.88%\n",
      "посчитать --- 5.88%\n",
      "слова --- 5.88%\n",
      "Количество слов: 17\n"
     ]
    }
   ],
   "source": [
    "from collections import Counter\n",
    "\n",
    "\n",
    "def word_count(phrase):\n",
    "    a = phrase.split()\n",
    "    c = Counter(a)\n",
    "    \n",
    "    for i in a:\n",
    "        pr = c[i]/len(a)*100\n",
    "        print(f\"{i} --- {pr:.2f}%\")\n",
    "    \n",
    "    print(f\"Количество слов: {len(a)}\")\n",
    "   \n",
    "word_count(\"Тут фраза с пробелами и я хочу их распечатать по одному на строку и ещё посчитать слова\")"
   ]
  }
 ],
 "metadata": {
  "kernelspec": {
   "display_name": "Python 3.10.8 64-bit",
   "language": "python",
   "name": "python3"
  },
  "language_info": {
   "codemirror_mode": {
    "name": "ipython",
    "version": 3
   },
   "file_extension": ".py",
   "mimetype": "text/x-python",
   "name": "python",
   "nbconvert_exporter": "python",
   "pygments_lexer": "ipython3",
   "version": "3.10.8"
  },
  "orig_nbformat": 4,
  "vscode": {
   "interpreter": {
    "hash": "b0fa6594d8f4cbf19f97940f81e996739fb7646882a419484c72d19e05852a7e"
   }
  }
 },
 "nbformat": 4,
 "nbformat_minor": 2
}
