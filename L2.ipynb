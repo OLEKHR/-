{
 "cells": [
  {
   "cell_type": "markdown",
   "metadata": {},
   "source": [
    "## Домашнее задание L2"
   ]
  },
  {
   "cell_type": "markdown",
   "metadata": {},
   "source": [
    "    Сделайте так, чтобы число секунд отображалось в виде дни:часы:минуты:секунды."
   ]
  },
  {
   "cell_type": "code",
   "execution_count": null,
   "metadata": {},
   "outputs": [],
   "source": [
    "s = 10000\n",
    "\n",
    "days = s // 86400\n",
    "s %= 86400\n",
    "hours = s // 3600\n",
    "s %= 3600\n",
    "minutes = s // 60\n",
    "s %= 3600\n",
    "seconds = s % 60\n",
    "\n",
    "print(f\"{days}:{hours}:{minutes}:{seconds}\")"
   ]
  },
  {
   "cell_type": "markdown",
   "metadata": {},
   "source": [
    "    Напишите калькулятор который запрашивает на входе две переменные и знак, и в соответствии с знаком ( + - * / ) выводит результат"
   ]
  },
  {
   "cell_type": "code",
   "execution_count": null,
   "metadata": {},
   "outputs": [],
   "source": [
    "a = float(input(\"Введите число 1:\"))\n",
    "c = float(input(\"Введите число 2:\"))\n",
    "b = input(\"Введите знак:\")\n",
    "\n",
    "if b == '+':\n",
    "    print(a + c)\n",
    "elif b == '-':\n",
    "    print(a - c)\n",
    "elif b == '*':\n",
    "    print(a * c)\n",
    "elif b == '/':\n",
    "    if c == 0:\n",
    "        print(\"Делить на 0 нельзя!\")\n",
    "    else:\n",
    "        print(a / c)\n",
    "else:\n",
    "    print(\"Неверный формат ввода!\")"
   ]
  },
  {
   "cell_type": "markdown",
   "metadata": {},
   "source": [
    "    Считайте 2 строки и выведите их на печать, разделив символом $.\n",
    "    \n",
    "    Попробуйте решить эту задачу как минимум 2 способами:\n",
    "        - с помощью конкатенации строк\n",
    "        - с помощью указания разделителя в параметре sep метода print"
   ]
  },
  {
   "cell_type": "code",
   "execution_count": null,
   "metadata": {},
   "outputs": [],
   "source": [
    "#конкатенация\n",
    "line_1 = input(\"Введите текст 1:\")\n",
    "line_2 = input(\"Введите текст 2:\")\n",
    "\n",
    "print(line_1+\"$\"+line_2)"
   ]
  },
  {
   "cell_type": "code",
   "execution_count": null,
   "metadata": {},
   "outputs": [],
   "source": [
    "#указание разделителя\n",
    "line_1 = input(\"Введите текст 1:\")\n",
    "line_2 = input(\"Введите текст 2:\")\n",
    "\n",
    "print(line_1, line_2, sep=\"$\")"
   ]
  },
  {
   "cell_type": "markdown",
   "metadata": {},
   "source": [
    "\n",
    "    Напишите поздравление с Днем рождения, где программа считает имя и возраст и выведет поздравление столько раз, сколько лет именнинику\n"
   ]
  },
  {
   "cell_type": "code",
   "execution_count": null,
   "metadata": {},
   "outputs": [],
   "source": [
    "name = input(\"Введите имя: \")\n",
    "age = int(input(\"Введите возраст: \"))\n",
    "\n",
    "line = f\"С Днем рождения, {name}!\\n\"\n",
    "print(line*age)"
   ]
  }
 ],
 "metadata": {
  "kernelspec": {
   "display_name": "Python 3.10.6 64-bit",
   "language": "python",
   "name": "python3"
  },
  "language_info": {
   "codemirror_mode": {
    "name": "ipython",
    "version": 3
   },
   "file_extension": ".py",
   "mimetype": "text/x-python",
   "name": "python",
   "nbconvert_exporter": "python",
   "pygments_lexer": "ipython3",
   "version": "3.10.6"
  },
  "orig_nbformat": 4,
  "vscode": {
   "interpreter": {
    "hash": "b0fa6594d8f4cbf19f97940f81e996739fb7646882a419484c72d19e05852a7e"
   }
  }
 },
 "nbformat": 4,
 "nbformat_minor": 2
}
