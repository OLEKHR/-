{
 "cells": [
  {
   "cell_type": "markdown",
   "metadata": {
    "papermill": {
     "duration": 0.017967,
     "end_time": "2020-10-21T17:47:43.955383",
     "exception": false,
     "start_time": "2020-10-21T17:47:43.937416",
     "status": "completed"
    },
    "tags": []
   },
   "source": [
    "## Иерархическая агломеративная кластеризация клиентов\n"
   ]
  },
  {
   "cell_type": "code",
   "execution_count": 2,
   "metadata": {
    "_cell_guid": "b1076dfc-b9ad-4769-8c92-a6c4dae69d19",
    "_uuid": "8f2839f25d086af736a60e9eeb907d3b93b6e0e5",
    "execution": {
     "iopub.execute_input": "2020-10-21T17:47:44.033680Z",
     "iopub.status.busy": "2020-10-21T17:47:44.032729Z",
     "iopub.status.idle": "2020-10-21T17:47:45.541363Z",
     "shell.execute_reply": "2020-10-21T17:47:45.540376Z"
    },
    "papermill": {
     "duration": 1.532832,
     "end_time": "2020-10-21T17:47:45.541514",
     "exception": false,
     "start_time": "2020-10-21T17:47:44.008682",
     "status": "completed"
    },
    "tags": []
   },
   "outputs": [],
   "source": [
    "import numpy as np \n",
    "import pandas as pd \n",
    "import matplotlib.pyplot as plt \n",
    "import seaborn as sns\n",
    "\n",
    "import plotly as py\n",
    "import plotly.graph_objs as go\n",
    "\n",
    "import warnings\n",
    "warnings.filterwarnings('ignore')\n",
    "\n",
    "from sklearn import preprocessing \n",
    "import scipy.cluster.hierarchy as sch\n",
    "from sklearn.cluster import AgglomerativeClustering \n"
   ]
  },
  {
   "cell_type": "markdown",
   "metadata": {
    "papermill": {
     "duration": 0.016523,
     "end_time": "2020-10-21T17:47:45.577663",
     "exception": false,
     "start_time": "2020-10-21T17:47:45.561140",
     "status": "completed"
    },
    "tags": []
   },
   "source": [
    "## Разведовательный анализ данных"
   ]
  },
  {
   "cell_type": "code",
   "execution_count": 3,
   "metadata": {
    "_cell_guid": "79c7e3d0-c299-4dcb-8224-4455121ee9b0",
    "_uuid": "d629ff2d2480ee46fbb7e2d37f6b5fab8052498a",
    "execution": {
     "iopub.execute_input": "2020-10-21T17:47:45.621458Z",
     "iopub.status.busy": "2020-10-21T17:47:45.620601Z",
     "iopub.status.idle": "2020-10-21T17:47:45.648082Z",
     "shell.execute_reply": "2020-10-21T17:47:45.648658Z"
    },
    "papermill": {
     "duration": 0.054365,
     "end_time": "2020-10-21T17:47:45.648819",
     "exception": false,
     "start_time": "2020-10-21T17:47:45.594454",
     "status": "completed"
    },
    "tags": []
   },
   "outputs": [
    {
     "data": {
      "text/html": [
       "<div>\n",
       "<style scoped>\n",
       "    .dataframe tbody tr th:only-of-type {\n",
       "        vertical-align: middle;\n",
       "    }\n",
       "\n",
       "    .dataframe tbody tr th {\n",
       "        vertical-align: top;\n",
       "    }\n",
       "\n",
       "    .dataframe thead th {\n",
       "        text-align: right;\n",
       "    }\n",
       "</style>\n",
       "<table border=\"1\" class=\"dataframe\">\n",
       "  <thead>\n",
       "    <tr style=\"text-align: right;\">\n",
       "      <th></th>\n",
       "      <th>CustomerID</th>\n",
       "      <th>Gender</th>\n",
       "      <th>Age</th>\n",
       "      <th>Annual Income (k$)</th>\n",
       "      <th>Spending Score (1-100)</th>\n",
       "    </tr>\n",
       "  </thead>\n",
       "  <tbody>\n",
       "    <tr>\n",
       "      <th>0</th>\n",
       "      <td>1</td>\n",
       "      <td>Male</td>\n",
       "      <td>19</td>\n",
       "      <td>15</td>\n",
       "      <td>39</td>\n",
       "    </tr>\n",
       "    <tr>\n",
       "      <th>1</th>\n",
       "      <td>2</td>\n",
       "      <td>Male</td>\n",
       "      <td>21</td>\n",
       "      <td>15</td>\n",
       "      <td>81</td>\n",
       "    </tr>\n",
       "    <tr>\n",
       "      <th>2</th>\n",
       "      <td>3</td>\n",
       "      <td>Female</td>\n",
       "      <td>20</td>\n",
       "      <td>16</td>\n",
       "      <td>6</td>\n",
       "    </tr>\n",
       "    <tr>\n",
       "      <th>3</th>\n",
       "      <td>4</td>\n",
       "      <td>Female</td>\n",
       "      <td>23</td>\n",
       "      <td>16</td>\n",
       "      <td>77</td>\n",
       "    </tr>\n",
       "    <tr>\n",
       "      <th>4</th>\n",
       "      <td>5</td>\n",
       "      <td>Female</td>\n",
       "      <td>31</td>\n",
       "      <td>17</td>\n",
       "      <td>40</td>\n",
       "    </tr>\n",
       "  </tbody>\n",
       "</table>\n",
       "</div>"
      ],
      "text/plain": [
       "   CustomerID  Gender  Age  Annual Income (k$)  Spending Score (1-100)\n",
       "0           1    Male   19                  15                      39\n",
       "1           2    Male   21                  15                      81\n",
       "2           3  Female   20                  16                       6\n",
       "3           4  Female   23                  16                      77\n",
       "4           5  Female   31                  17                      40"
      ]
     },
     "execution_count": 3,
     "metadata": {},
     "output_type": "execute_result"
    }
   ],
   "source": [
    "df = pd.read_csv('/Users/olgahromova/Desktop/УчЕБА/МИСиС СпецГлМатематики/Mall_Customers.csv')\n",
    "df.head()"
   ]
  },
  {
   "cell_type": "code",
   "execution_count": 4,
   "metadata": {
    "execution": {
     "iopub.execute_input": "2020-10-21T17:47:45.692944Z",
     "iopub.status.busy": "2020-10-21T17:47:45.689106Z",
     "iopub.status.idle": "2020-10-21T17:47:45.696947Z",
     "shell.execute_reply": "2020-10-21T17:47:45.697525Z"
    },
    "papermill": {
     "duration": 0.031115,
     "end_time": "2020-10-21T17:47:45.697686",
     "exception": false,
     "start_time": "2020-10-21T17:47:45.666571",
     "status": "completed"
    },
    "tags": []
   },
   "outputs": [
    {
     "data": {
      "text/plain": [
       "CustomerID                0\n",
       "Gender                    0\n",
       "Age                       0\n",
       "Annual Income (k$)        0\n",
       "Spending Score (1-100)    0\n",
       "dtype: int64"
      ]
     },
     "execution_count": 4,
     "metadata": {},
     "output_type": "execute_result"
    }
   ],
   "source": [
    "df.isnull().sum()"
   ]
  },
  {
   "cell_type": "code",
   "execution_count": 5,
   "metadata": {
    "execution": {
     "iopub.execute_input": "2020-10-21T17:47:45.742665Z",
     "iopub.status.busy": "2020-10-21T17:47:45.741878Z",
     "iopub.status.idle": "2020-10-21T17:47:45.763795Z",
     "shell.execute_reply": "2020-10-21T17:47:45.764395Z"
    },
    "papermill": {
     "duration": 0.048907,
     "end_time": "2020-10-21T17:47:45.764557",
     "exception": false,
     "start_time": "2020-10-21T17:47:45.715650",
     "status": "completed"
    },
    "tags": []
   },
   "outputs": [
    {
     "data": {
      "text/html": [
       "<div>\n",
       "<style scoped>\n",
       "    .dataframe tbody tr th:only-of-type {\n",
       "        vertical-align: middle;\n",
       "    }\n",
       "\n",
       "    .dataframe tbody tr th {\n",
       "        vertical-align: top;\n",
       "    }\n",
       "\n",
       "    .dataframe thead th {\n",
       "        text-align: right;\n",
       "    }\n",
       "</style>\n",
       "<table border=\"1\" class=\"dataframe\">\n",
       "  <thead>\n",
       "    <tr style=\"text-align: right;\">\n",
       "      <th></th>\n",
       "      <th>CustomerID</th>\n",
       "      <th>Age</th>\n",
       "      <th>Annual Income (k$)</th>\n",
       "      <th>Spending Score (1-100)</th>\n",
       "    </tr>\n",
       "  </thead>\n",
       "  <tbody>\n",
       "    <tr>\n",
       "      <th>count</th>\n",
       "      <td>200.000000</td>\n",
       "      <td>200.000000</td>\n",
       "      <td>200.000000</td>\n",
       "      <td>200.000000</td>\n",
       "    </tr>\n",
       "    <tr>\n",
       "      <th>mean</th>\n",
       "      <td>100.500000</td>\n",
       "      <td>38.850000</td>\n",
       "      <td>60.560000</td>\n",
       "      <td>50.200000</td>\n",
       "    </tr>\n",
       "    <tr>\n",
       "      <th>std</th>\n",
       "      <td>57.879185</td>\n",
       "      <td>13.969007</td>\n",
       "      <td>26.264721</td>\n",
       "      <td>25.823522</td>\n",
       "    </tr>\n",
       "    <tr>\n",
       "      <th>min</th>\n",
       "      <td>1.000000</td>\n",
       "      <td>18.000000</td>\n",
       "      <td>15.000000</td>\n",
       "      <td>1.000000</td>\n",
       "    </tr>\n",
       "    <tr>\n",
       "      <th>25%</th>\n",
       "      <td>50.750000</td>\n",
       "      <td>28.750000</td>\n",
       "      <td>41.500000</td>\n",
       "      <td>34.750000</td>\n",
       "    </tr>\n",
       "    <tr>\n",
       "      <th>50%</th>\n",
       "      <td>100.500000</td>\n",
       "      <td>36.000000</td>\n",
       "      <td>61.500000</td>\n",
       "      <td>50.000000</td>\n",
       "    </tr>\n",
       "    <tr>\n",
       "      <th>75%</th>\n",
       "      <td>150.250000</td>\n",
       "      <td>49.000000</td>\n",
       "      <td>78.000000</td>\n",
       "      <td>73.000000</td>\n",
       "    </tr>\n",
       "    <tr>\n",
       "      <th>max</th>\n",
       "      <td>200.000000</td>\n",
       "      <td>70.000000</td>\n",
       "      <td>137.000000</td>\n",
       "      <td>99.000000</td>\n",
       "    </tr>\n",
       "  </tbody>\n",
       "</table>\n",
       "</div>"
      ],
      "text/plain": [
       "       CustomerID         Age  Annual Income (k$)  Spending Score (1-100)\n",
       "count  200.000000  200.000000          200.000000              200.000000\n",
       "mean   100.500000   38.850000           60.560000               50.200000\n",
       "std     57.879185   13.969007           26.264721               25.823522\n",
       "min      1.000000   18.000000           15.000000                1.000000\n",
       "25%     50.750000   28.750000           41.500000               34.750000\n",
       "50%    100.500000   36.000000           61.500000               50.000000\n",
       "75%    150.250000   49.000000           78.000000               73.000000\n",
       "max    200.000000   70.000000          137.000000               99.000000"
      ]
     },
     "execution_count": 5,
     "metadata": {},
     "output_type": "execute_result"
    }
   ],
   "source": [
    "df.describe()"
   ]
  },
  {
   "cell_type": "code",
   "execution_count": 6,
   "metadata": {
    "execution": {
     "iopub.execute_input": "2020-10-21T17:47:45.811130Z",
     "iopub.status.busy": "2020-10-21T17:47:45.810317Z",
     "iopub.status.idle": "2020-10-21T17:47:46.442450Z",
     "shell.execute_reply": "2020-10-21T17:47:46.441773Z"
    },
    "papermill": {
     "duration": 0.658964,
     "end_time": "2020-10-21T17:47:46.442570",
     "exception": false,
     "start_time": "2020-10-21T17:47:45.783606",
     "status": "completed"
    },
    "tags": []
   },
   "outputs": [
    {
     "data": {
      "image/png": "[encoded data removed]",
      "text/plain": [
       "<Figure size 1080x432 with 3 Axes>"
      ]
     },
     "metadata": {
      "needs_background": "light"
     },
     "output_type": "display_data"
    }
   ],
   "source": [
    "plt.figure(1 , figsize = (15 , 6))\n",
    "n = 0 \n",
    "for x in ['Age' , 'Annual Income (k$)' , 'Spending Score (1-100)']:\n",
    "    n += 1\n",
    "    plt.subplot(1 , 3 , n)\n",
    "    plt.subplots_adjust(hspace = 0.5 , wspace = 0.5)\n",
    "    sns.distplot(df[x] , bins = 15)\n",
    "    plt.title('Distplot of {}'.format(x))\n",
    "plt.show()"
   ]
  },
  {
   "cell_type": "markdown",
   "metadata": {},
   "source": [
    "В данных нет пропущенных значений. признаки распрежедены нормально. \n",
    "Также по каждому признаку отсутвуют выбросы значнеий, максималные значения по каждому признаку правдоподобны и не отклоняются от среднего больше, чем на величину трех среднеквадратическтх отклонений."
   ]
  },
  {
   "cell_type": "markdown",
   "metadata": {
    "papermill": {
     "duration": 0.020232,
     "end_time": "2020-10-21T17:47:46.483640",
     "exception": false,
     "start_time": "2020-10-21T17:47:46.463408",
     "status": "completed"
    },
    "tags": []
   },
   "source": [
    "## Кодирование признаков\n",
    "В данных присутвует категориальный признак. Для применения алгоритма кластеризации и последующей визулизации закодируем признак занчениями 1, 0.\n"
   ]
  },
  {
   "cell_type": "code",
   "execution_count": 7,
   "metadata": {
    "execution": {
     "iopub.execute_input": "2020-10-21T17:47:46.538532Z",
     "iopub.status.busy": "2020-10-21T17:47:46.537405Z",
     "iopub.status.idle": "2020-10-21T17:47:46.542520Z",
     "shell.execute_reply": "2020-10-21T17:47:46.541770Z"
    },
    "papermill": {
     "duration": 0.038393,
     "end_time": "2020-10-21T17:47:46.542645",
     "exception": false,
     "start_time": "2020-10-21T17:47:46.504252",
     "status": "completed"
    },
    "tags": []
   },
   "outputs": [
    {
     "data": {
      "text/html": [
       "<div>\n",
       "<style scoped>\n",
       "    .dataframe tbody tr th:only-of-type {\n",
       "        vertical-align: middle;\n",
       "    }\n",
       "\n",
       "    .dataframe tbody tr th {\n",
       "        vertical-align: top;\n",
       "    }\n",
       "\n",
       "    .dataframe thead th {\n",
       "        text-align: right;\n",
       "    }\n",
       "</style>\n",
       "<table border=\"1\" class=\"dataframe\">\n",
       "  <thead>\n",
       "    <tr style=\"text-align: right;\">\n",
       "      <th></th>\n",
       "      <th>CustomerID</th>\n",
       "      <th>Gender</th>\n",
       "      <th>Age</th>\n",
       "      <th>Annual Income (k$)</th>\n",
       "      <th>Spending Score (1-100)</th>\n",
       "    </tr>\n",
       "  </thead>\n",
       "  <tbody>\n",
       "    <tr>\n",
       "      <th>0</th>\n",
       "      <td>1</td>\n",
       "      <td>1</td>\n",
       "      <td>19</td>\n",
       "      <td>15</td>\n",
       "      <td>39</td>\n",
       "    </tr>\n",
       "    <tr>\n",
       "      <th>1</th>\n",
       "      <td>2</td>\n",
       "      <td>1</td>\n",
       "      <td>21</td>\n",
       "      <td>15</td>\n",
       "      <td>81</td>\n",
       "    </tr>\n",
       "    <tr>\n",
       "      <th>2</th>\n",
       "      <td>3</td>\n",
       "      <td>0</td>\n",
       "      <td>20</td>\n",
       "      <td>16</td>\n",
       "      <td>6</td>\n",
       "    </tr>\n",
       "    <tr>\n",
       "      <th>3</th>\n",
       "      <td>4</td>\n",
       "      <td>0</td>\n",
       "      <td>23</td>\n",
       "      <td>16</td>\n",
       "      <td>77</td>\n",
       "    </tr>\n",
       "    <tr>\n",
       "      <th>4</th>\n",
       "      <td>5</td>\n",
       "      <td>0</td>\n",
       "      <td>31</td>\n",
       "      <td>17</td>\n",
       "      <td>40</td>\n",
       "    </tr>\n",
       "  </tbody>\n",
       "</table>\n",
       "</div>"
      ],
      "text/plain": [
       "   CustomerID  Gender  Age  Annual Income (k$)  Spending Score (1-100)\n",
       "0           1       1   19                  15                      39\n",
       "1           2       1   21                  15                      81\n",
       "2           3       0   20                  16                       6\n",
       "3           4       0   23                  16                      77\n",
       "4           5       0   31                  17                      40"
      ]
     },
     "execution_count": 7,
     "metadata": {},
     "output_type": "execute_result"
    }
   ],
   "source": [
    "label_encoder = preprocessing.LabelEncoder() \n",
    "\n",
    "df['Gender'] = label_encoder.fit_transform(df['Gender'])\n",
    "df.head()"
   ]
  },
  {
   "cell_type": "markdown",
   "metadata": {
    "papermill": {
     "duration": 0.02228,
     "end_time": "2020-10-21T17:47:47.321593",
     "exception": false,
     "start_time": "2020-10-21T17:47:47.299313",
     "status": "completed"
    },
    "tags": []
   },
   "source": [
    "## Дендограмма\n",
    "\n",
    "По мере объединения кластеров, каждой итерации алгоритма соответствует пара объединяемых на этой итерации кластеров, а также расстояние между кластерами в момент слияния. Расстояния с ростом итерации будут только увеличиваться, поэтому возникает возможность построить следующую схему, называемую дендрограммой"
   ]
  },
  {
   "cell_type": "code",
   "execution_count": 11,
   "metadata": {},
   "outputs": [
    {
     "data": {
      "text/plain": [
       "array([[4.80000000e+01, 4.90000000e+01, 2.23606798e+00, 2.00000000e+00],\n",
       "       [1.29000000e+02, 1.31000000e+02, 2.23606798e+00, 2.00000000e+00],\n",
       "       [1.14000000e+02, 1.15000000e+02, 2.44948974e+00, 2.00000000e+00],\n",
       "       [3.00000000e+00, 5.00000000e+00, 2.64575131e+00, 2.00000000e+00],\n",
       "       [6.50000000e+01, 6.80000000e+01, 3.16227766e+00, 2.00000000e+00],\n",
       "       [1.30000000e+01, 1.50000000e+01, 3.60555128e+00, 2.00000000e+00],\n",
       "       [8.30000000e+01, 8.50000000e+01, 3.60555128e+00, 2.00000000e+00],\n",
       "       [1.17000000e+02, 1.19000000e+02, 3.60555128e+00, 2.00000000e+00],\n",
       "       [1.56000000e+02, 1.58000000e+02, 3.60555128e+00, 2.00000000e+00],\n",
       "       [1.06000000e+02, 1.09000000e+02, 3.74165739e+00, 2.00000000e+00],\n",
       "       [1.50000000e+02, 1.52000000e+02, 3.87298335e+00, 2.00000000e+00],\n",
       "       [1.37000000e+02, 1.39000000e+02, 4.00000000e+00, 2.00000000e+00],\n",
       "       [9.50000000e+01, 9.70000000e+01, 4.24264069e+00, 2.00000000e+00],\n",
       "       [1.13000000e+02, 2.02000000e+02, 4.24264069e+00, 3.00000000e+00],\n",
       "       [1.81000000e+02, 1.83000000e+02, 4.24264069e+00, 2.00000000e+00],\n",
       "       [9.20000000e+01, 9.60000000e+01, 4.69041576e+00, 2.00000000e+00],\n",
       "       [1.10000000e+02, 2.09000000e+02, 4.69041576e+00, 3.00000000e+00],\n",
       "       [6.20000000e+01, 6.40000000e+01, 4.79583152e+00, 2.00000000e+00],\n",
       "       [7.50000000e+01, 7.80000000e+01, 4.79583152e+00, 2.00000000e+00],\n",
       "       [8.40000000e+01, 8.70000000e+01, 4.79583152e+00, 2.00000000e+00],\n",
       "       [1.60000000e+01, 2.00000000e+01, 5.09901951e+00, 2.00000000e+00],\n",
       "       [7.20000000e+01, 7.40000000e+01, 5.09901951e+00, 2.00000000e+00],\n",
       "       [5.40000000e+01, 5.50000000e+01, 5.19615242e+00, 2.00000000e+00],\n",
       "       [1.70000000e+02, 1.72000000e+02, 5.38516481e+00, 2.00000000e+00],\n",
       "       [1.57000000e+02, 1.59000000e+02, 5.38516481e+00, 2.00000000e+00],\n",
       "       [4.60000000e+01, 5.00000000e+01, 5.47722558e+00, 2.00000000e+00],\n",
       "       [1.00000000e+02, 1.05000000e+02, 5.47722558e+00, 2.00000000e+00],\n",
       "       [2.60000000e+01, 2.80000000e+01, 5.56776436e+00, 2.00000000e+00],\n",
       "       [1.76000000e+02, 1.78000000e+02, 5.56776436e+00, 2.00000000e+00],\n",
       "       [1.49000000e+02, 1.51000000e+02, 5.74456265e+00, 2.00000000e+00],\n",
       "       [5.60000000e+01, 5.90000000e+01, 5.83095189e+00, 2.00000000e+00],\n",
       "       [1.23000000e+02, 1.27000000e+02, 6.08276253e+00, 2.00000000e+00],\n",
       "       [1.54000000e+02, 2.10000000e+02, 6.08276253e+00, 3.00000000e+00],\n",
       "       [1.87000000e+02, 1.91000000e+02, 6.16441400e+00, 2.00000000e+00],\n",
       "       [2.10000000e+01, 2.30000000e+01, 6.40312424e+00, 2.00000000e+00],\n",
       "       [1.41000000e+02, 1.43000000e+02, 6.48074070e+00, 2.00000000e+00],\n",
       "       [5.10000000e+01, 5.20000000e+01, 6.55743852e+00, 2.00000000e+00],\n",
       "       [1.34000000e+02, 1.38000000e+02, 6.55743852e+00, 2.00000000e+00],\n",
       "       [1.00000000e+00, 2.03000000e+02, 6.80685929e+00, 3.00000000e+00],\n",
       "       [9.80000000e+01, 1.01000000e+02, 6.92820323e+00, 2.00000000e+00],\n",
       "       [1.33000000e+02, 2.11000000e+02, 6.92820323e+00, 3.00000000e+00],\n",
       "       [4.70000000e+01, 2.00000000e+02, 6.95221787e+00, 3.00000000e+00],\n",
       "       [1.63000000e+02, 1.67000000e+02, 7.00000000e+00, 2.00000000e+00],\n",
       "       [6.70000000e+01, 2.17000000e+02, 7.09459888e+00, 3.00000000e+00],\n",
       "       [7.90000000e+01, 2.06000000e+02, 7.14142843e+00, 3.00000000e+00],\n",
       "       [7.60000000e+01, 7.70000000e+01, 7.21110255e+00, 2.00000000e+00],\n",
       "       [8.90000000e+01, 2.15000000e+02, 7.25718035e+00, 3.00000000e+00],\n",
       "       [1.30000000e+02, 1.36000000e+02, 7.34846923e+00, 2.00000000e+00],\n",
       "       [9.90000000e+01, 2.12000000e+02, 7.70281334e+00, 3.00000000e+00],\n",
       "       [3.00000000e+01, 3.20000000e+01, 7.87400787e+00, 2.00000000e+00],\n",
       "       [3.40000000e+01, 3.60000000e+01, 7.93725393e+00, 2.00000000e+00],\n",
       "       [6.10000000e+01, 2.04000000e+02, 8.20568908e+00, 3.00000000e+00],\n",
       "       [3.50000000e+01, 3.90000000e+01, 8.30662386e+00, 2.00000000e+00],\n",
       "       [4.30000000e+01, 4.50000000e+01, 8.30662386e+00, 2.00000000e+00],\n",
       "       [9.30000000e+01, 9.40000000e+01, 8.30662386e+00, 2.00000000e+00],\n",
       "       [4.20000000e+01, 4.40000000e+01, 8.36660027e+00, 2.00000000e+00],\n",
       "       [1.11000000e+02, 2.13000000e+02, 8.48528137e+00, 4.00000000e+00],\n",
       "       [1.71000000e+02, 1.77000000e+02, 8.60232527e+00, 2.00000000e+00],\n",
       "       [1.95000000e+02, 1.97000000e+02, 8.66025404e+00, 2.00000000e+00],\n",
       "       [1.47000000e+02, 1.53000000e+02, 8.77496439e+00, 2.00000000e+00],\n",
       "       [1.55000000e+02, 1.61000000e+02, 8.77496439e+00, 2.00000000e+00],\n",
       "       [1.73000000e+02, 1.79000000e+02, 8.77496439e+00, 2.00000000e+00],\n",
       "       [2.50000000e+01, 2.90000000e+01, 8.88819442e+00, 2.00000000e+00],\n",
       "       [1.10000000e+01, 1.90000000e+01, 9.00000000e+00, 2.00000000e+00],\n",
       "       [1.74000000e+02, 2.28000000e+02, 9.00000000e+00, 3.00000000e+00],\n",
       "       [8.10000000e+01, 2.45000000e+02, 9.01849951e+00, 3.00000000e+00],\n",
       "       [1.75000000e+02, 2.61000000e+02, 9.03696114e+00, 3.00000000e+00],\n",
       "       [1.08000000e+02, 2.16000000e+02, 9.05538514e+00, 4.00000000e+00],\n",
       "       [1.80000000e+02, 1.84000000e+02, 9.21954446e+00, 2.00000000e+00],\n",
       "       [1.00000000e+01, 1.20000000e+01, 9.38083152e+00, 2.00000000e+00],\n",
       "       [1.88000000e+02, 1.90000000e+02, 9.43398113e+00, 2.00000000e+00],\n",
       "       [1.66000000e+02, 1.68000000e+02, 9.53939201e+00, 2.00000000e+00],\n",
       "       [7.30000000e+01, 2.21000000e+02, 9.55684746e+00, 3.00000000e+00],\n",
       "       [1.35000000e+02, 2.35000000e+02, 9.55684746e+00, 3.00000000e+00],\n",
       "       [1.21000000e+02, 1.26000000e+02, 9.59166305e+00, 2.00000000e+00],\n",
       "       [8.00000000e+01, 2.72000000e+02, 9.78093383e+00, 4.00000000e+00],\n",
       "       [1.24000000e+02, 1.32000000e+02, 9.84885780e+00, 2.00000000e+00],\n",
       "       [1.03000000e+02, 2.48000000e+02, 9.95824616e+00, 4.00000000e+00],\n",
       "       [2.22000000e+02, 2.30000000e+02, 1.00249688e+01, 4.00000000e+00],\n",
       "       [6.00000000e+01, 2.43000000e+02, 1.02550800e+01, 4.00000000e+00],\n",
       "       [6.60000000e+01, 7.10000000e+01, 1.02956301e+01, 2.00000000e+00],\n",
       "       [7.00000000e+01, 2.79000000e+02, 1.04642248e+01, 5.00000000e+00],\n",
       "       [3.10000000e+01, 2.52000000e+02, 1.07238053e+01, 3.00000000e+00],\n",
       "       [1.25000000e+02, 2.01000000e+02, 1.07857931e+01, 3.00000000e+00],\n",
       "       [1.07000000e+02, 2.39000000e+02, 1.09544512e+01, 3.00000000e+00],\n",
       "       [6.00000000e+00, 1.40000000e+01, 1.10453610e+01, 2.00000000e+00],\n",
       "       [3.30000000e+01, 4.10000000e+01, 1.11803399e+01, 2.00000000e+00],\n",
       "       [5.30000000e+01, 6.30000000e+01, 1.19582607e+01, 2.00000000e+00],\n",
       "       [9.00000000e+00, 2.05000000e+02, 1.21792173e+01, 3.00000000e+00],\n",
       "       [1.85000000e+02, 2.14000000e+02, 1.22474487e+01, 3.00000000e+00],\n",
       "       [1.16000000e+02, 1.18000000e+02, 1.23288280e+01, 2.00000000e+00],\n",
       "       [1.45000000e+02, 2.73000000e+02, 1.23760521e+01, 4.00000000e+00],\n",
       "       [1.22000000e+02, 2.07000000e+02, 1.23962360e+01, 3.00000000e+00],\n",
       "       [3.70000000e+01, 2.82000000e+02, 1.24096736e+01, 4.00000000e+00],\n",
       "       [5.80000000e+01, 2.36000000e+02, 1.24230968e+01, 3.00000000e+00],\n",
       "       [1.89000000e+02, 1.93000000e+02, 1.24899960e+01, 2.00000000e+00],\n",
       "       [2.20000000e+01, 2.40000000e+01, 1.25698051e+01, 2.00000000e+00],\n",
       "       [0.00000000e+00, 4.00000000e+00, 1.28840987e+01, 2.00000000e+00],\n",
       "       [1.69000000e+02, 2.57000000e+02, 1.29871732e+01, 3.00000000e+00],\n",
       "       [1.44000000e+02, 2.37000000e+02, 1.30000000e+01, 3.00000000e+00],\n",
       "       [1.60000000e+02, 1.64000000e+02, 1.30384048e+01, 2.00000000e+00],\n",
       "       [9.00000000e+01, 1.02000000e+02, 1.30766968e+01, 2.00000000e+00],\n",
       "       [1.82000000e+02, 1.86000000e+02, 1.30766968e+01, 2.00000000e+00],\n",
       "       [1.65000000e+02, 2.24000000e+02, 1.33790882e+01, 3.00000000e+00],\n",
       "       [1.04000000e+02, 2.84000000e+02, 1.33977610e+01, 4.00000000e+00],\n",
       "       [1.94000000e+02, 1.96000000e+02, 1.37113092e+01, 2.00000000e+00],\n",
       "       [5.70000000e+01, 2.81000000e+02, 1.37719522e+01, 6.00000000e+00],\n",
       "       [8.00000000e+00, 2.69000000e+02, 1.38564065e+01, 3.00000000e+00],\n",
       "       [1.70000000e+01, 2.34000000e+02, 1.41539158e+01, 3.00000000e+00],\n",
       "       [1.28000000e+02, 1.40000000e+02, 1.41774469e+01, 2.00000000e+00],\n",
       "       [2.18000000e+02, 2.19000000e+02, 1.42478068e+01, 4.00000000e+00],\n",
       "       [9.10000000e+01, 2.26000000e+02, 1.45373083e+01, 3.00000000e+00],\n",
       "       [1.48000000e+02, 2.32000000e+02, 1.49331845e+01, 4.00000000e+00],\n",
       "       [6.90000000e+01, 2.80000000e+02, 1.50775772e+01, 3.00000000e+00],\n",
       "       [1.12000000e+02, 2.74000000e+02, 1.56631202e+01, 3.00000000e+00],\n",
       "       [1.20000000e+02, 2.56000000e+02, 1.61987654e+01, 5.00000000e+00],\n",
       "       [1.80000000e+01, 2.27000000e+02, 1.66833250e+01, 3.00000000e+00],\n",
       "       [2.40000000e+02, 2.83000000e+02, 1.68027775e+01, 6.00000000e+00],\n",
       "       [2.29000000e+02, 2.60000000e+02, 1.71172428e+01, 4.00000000e+00],\n",
       "       [3.80000000e+01, 2.55000000e+02, 1.71852650e+01, 3.00000000e+00],\n",
       "       [2.59000000e+02, 3.03000000e+02, 1.72452892e+01, 5.00000000e+00],\n",
       "       [8.60000000e+01, 2.46000000e+02, 1.74880912e+01, 4.00000000e+00],\n",
       "       [7.00000000e+00, 2.63000000e+02, 1.77857621e+01, 3.00000000e+00],\n",
       "       [2.47000000e+02, 3.09000000e+02, 1.77904469e+01, 4.00000000e+00],\n",
       "       [2.88000000e+02, 3.08000000e+02, 1.78605711e+01, 6.00000000e+00],\n",
       "       [2.23000000e+02, 2.71000000e+02, 1.79722008e+01, 4.00000000e+00],\n",
       "       [2.49000000e+02, 2.96000000e+02, 1.80277564e+01, 4.00000000e+00],\n",
       "       [8.80000000e+01, 3.10000000e+02, 1.83684512e+01, 5.00000000e+00],\n",
       "       [8.20000000e+01, 2.75000000e+02, 1.85849401e+01, 5.00000000e+00],\n",
       "       [1.99000000e+02, 2.58000000e+02, 1.86100331e+01, 3.00000000e+00],\n",
       "       [1.92000000e+02, 2.70000000e+02, 1.91224127e+01, 3.00000000e+00],\n",
       "       [2.25000000e+02, 2.78000000e+02, 1.91702895e+01, 6.00000000e+00],\n",
       "       [2.44000000e+02, 2.65000000e+02, 1.95448203e+01, 6.00000000e+00],\n",
       "       [2.77000000e+02, 3.11000000e+02, 1.99827306e+01, 7.00000000e+00],\n",
       "       [1.42000000e+02, 2.76000000e+02, 2.03059925e+01, 3.00000000e+00],\n",
       "       [2.42000000e+02, 2.66000000e+02, 2.03650027e+01, 5.00000000e+00],\n",
       "       [1.62000000e+02, 2.08000000e+02, 2.07284024e+01, 3.00000000e+00],\n",
       "       [2.20000000e+02, 3.16000000e+02, 2.11250247e+01, 5.00000000e+00],\n",
       "       [1.46000000e+02, 3.00000000e+02, 2.11817532e+01, 3.00000000e+00],\n",
       "       [2.53000000e+02, 2.94000000e+02, 2.12053452e+01, 5.00000000e+00],\n",
       "       [2.00000000e+00, 2.85000000e+02, 2.13385410e+01, 3.00000000e+00],\n",
       "       [2.62000000e+02, 2.86000000e+02, 2.14709106e+01, 4.00000000e+00],\n",
       "       [2.89000000e+02, 2.95000000e+02, 2.26627448e+01, 5.00000000e+00],\n",
       "       [2.67000000e+02, 2.90000000e+02, 2.30506688e+01, 6.00000000e+00],\n",
       "       [2.64000000e+02, 3.02000000e+02, 2.35499469e+01, 5.00000000e+00],\n",
       "       [1.98000000e+02, 3.05000000e+02, 2.36079083e+01, 3.00000000e+00],\n",
       "       [2.87000000e+02, 3.31000000e+02, 2.42796211e+01, 8.00000000e+00],\n",
       "       [2.50000000e+02, 3.26000000e+02, 2.42830531e+01, 6.00000000e+00],\n",
       "       [3.04000000e+02, 3.21000000e+02, 2.47285260e+01, 8.00000000e+00],\n",
       "       [4.00000000e+01, 3.19000000e+02, 2.60991698e+01, 4.00000000e+00],\n",
       "       [2.70000000e+01, 3.24000000e+02, 2.62415519e+01, 7.00000000e+00],\n",
       "       [3.18000000e+02, 3.20000000e+02, 2.65149853e+01, 9.00000000e+00],\n",
       "       [2.93000000e+02, 3.41000000e+02, 2.66739573e+01, 8.00000000e+00],\n",
       "       [3.13000000e+02, 3.32000000e+02, 2.68948570e+01, 9.00000000e+00],\n",
       "       [2.54000000e+02, 3.33000000e+02, 2.73835195e+01, 9.00000000e+00],\n",
       "       [2.41000000e+02, 3.39000000e+02, 2.85773803e+01, 8.00000000e+00],\n",
       "       [2.31000000e+02, 2.91000000e+02, 3.15145469e+01, 6.00000000e+00],\n",
       "       [3.12000000e+02, 3.38000000e+02, 3.25671468e+01, 7.00000000e+00],\n",
       "       [3.01000000e+02, 3.43000000e+02, 3.33753901e+01, 8.00000000e+00],\n",
       "       [2.33000000e+02, 2.98000000e+02, 3.44460932e+01, 5.00000000e+00],\n",
       "       [2.92000000e+02, 3.14000000e+02, 3.48903043e+01, 6.00000000e+00],\n",
       "       [2.68000000e+02, 3.30000000e+02, 3.54222153e+01, 5.00000000e+00],\n",
       "       [2.38000000e+02, 3.50000000e+02, 3.69889301e+01, 1.00000000e+01],\n",
       "       [3.06000000e+02, 3.28000000e+02, 3.71816996e+01, 1.10000000e+01],\n",
       "       [2.51000000e+02, 3.27000000e+02, 4.00220772e+01, 8.00000000e+00],\n",
       "       [3.25000000e+02, 3.36000000e+02, 4.01075934e+01, 7.00000000e+00],\n",
       "       [3.17000000e+02, 3.56000000e+02, 4.50943455e+01, 1.20000000e+01],\n",
       "       [2.99000000e+02, 3.34000000e+02, 4.57857329e+01, 6.00000000e+00],\n",
       "       [3.35000000e+02, 3.42000000e+02, 4.72927056e+01, 1.00000000e+01],\n",
       "       [2.97000000e+02, 3.37000000e+02, 4.73449349e+01, 7.00000000e+00],\n",
       "       [3.15000000e+02, 3.54000000e+02, 4.83974616e+01, 1.40000000e+01],\n",
       "       [3.44000000e+02, 3.61000000e+02, 4.89693782e+01, 1.00000000e+01],\n",
       "       [3.48000000e+02, 3.58000000e+02, 5.10844888e+01, 1.60000000e+01],\n",
       "       [3.07000000e+02, 3.47000000e+02, 5.15633375e+01, 9.00000000e+00],\n",
       "       [3.22000000e+02, 3.62000000e+02, 5.20275568e+01, 1.30000000e+01],\n",
       "       [3.57000000e+02, 3.65000000e+02, 5.62684890e+01, 1.40000000e+01],\n",
       "       [3.59000000e+02, 3.68000000e+02, 5.64027186e+01, 1.50000000e+01],\n",
       "       [3.46000000e+02, 3.49000000e+02, 5.67758752e+01, 1.20000000e+01],\n",
       "       [3.40000000e+02, 3.69000000e+02, 5.84082512e+01, 1.00000000e+01],\n",
       "       [3.53000000e+02, 3.64000000e+02, 6.47377061e+01, 1.70000000e+01],\n",
       "       [3.60000000e+02, 3.72000000e+02, 6.83648024e+01, 2.20000000e+01],\n",
       "       [3.23000000e+02, 3.67000000e+02, 6.92938189e+01, 1.00000000e+01],\n",
       "       [3.45000000e+02, 3.71000000e+02, 6.95881658e+01, 1.30000000e+01],\n",
       "       [3.51000000e+02, 3.66000000e+02, 7.12581379e+01, 2.10000000e+01],\n",
       "       [3.55000000e+02, 3.77000000e+02, 7.23671196e+01, 2.00000000e+01],\n",
       "       [3.52000000e+02, 3.74000000e+02, 7.69067153e+01, 2.10000000e+01],\n",
       "       [3.29000000e+02, 3.76000000e+02, 8.59666602e+01, 1.80000000e+01],\n",
       "       [3.73000000e+02, 3.78000000e+02, 8.69063487e+01, 1.90000000e+01],\n",
       "       [3.75000000e+02, 3.81000000e+02, 8.94104900e+01, 2.40000000e+01],\n",
       "       [3.63000000e+02, 3.84000000e+02, 1.16129182e+02, 3.10000000e+01],\n",
       "       [3.70000000e+02, 3.79000000e+02, 1.21831093e+02, 3.10000000e+01],\n",
       "       [3.80000000e+02, 3.90000000e+02, 1.57238787e+02, 5.30000000e+01],\n",
       "       [3.82000000e+02, 3.88000000e+02, 1.91150213e+02, 3.70000000e+01],\n",
       "       [3.83000000e+02, 3.86000000e+02, 2.01850033e+02, 3.90000000e+01],\n",
       "       [3.87000000e+02, 3.89000000e+02, 2.58508665e+02, 5.00000000e+01],\n",
       "       [3.85000000e+02, 3.94000000e+02, 2.93332757e+02, 7.10000000e+01],\n",
       "       [3.92000000e+02, 3.93000000e+02, 3.96888195e+02, 7.60000000e+01],\n",
       "       [3.91000000e+02, 3.95000000e+02, 5.13011100e+02, 1.24000000e+02],\n",
       "       [3.96000000e+02, 3.97000000e+02, 1.05539790e+03, 2.00000000e+02]])"
      ]
     },
     "execution_count": 11,
     "metadata": {},
     "output_type": "execute_result"
    }
   ],
   "source": [
    "sch.linkage(df, method  = \"ward\")"
   ]
  },
  {
   "cell_type": "code",
   "execution_count": 12,
   "metadata": {},
   "outputs": [
    {
     "data": {
      "text/html": [
       "<div>\n",
       "<style scoped>\n",
       "    .dataframe tbody tr th:only-of-type {\n",
       "        vertical-align: middle;\n",
       "    }\n",
       "\n",
       "    .dataframe tbody tr th {\n",
       "        vertical-align: top;\n",
       "    }\n",
       "\n",
       "    .dataframe thead th {\n",
       "        text-align: right;\n",
       "    }\n",
       "</style>\n",
       "<table border=\"1\" class=\"dataframe\">\n",
       "  <thead>\n",
       "    <tr style=\"text-align: right;\">\n",
       "      <th></th>\n",
       "      <th>CustomerID</th>\n",
       "      <th>Gender</th>\n",
       "      <th>Age</th>\n",
       "      <th>Annual Income (k$)</th>\n",
       "      <th>Spending Score (1-100)</th>\n",
       "    </tr>\n",
       "  </thead>\n",
       "  <tbody>\n",
       "    <tr>\n",
       "      <th>0</th>\n",
       "      <td>1</td>\n",
       "      <td>1</td>\n",
       "      <td>19</td>\n",
       "      <td>15</td>\n",
       "      <td>39</td>\n",
       "    </tr>\n",
       "    <tr>\n",
       "      <th>1</th>\n",
       "      <td>2</td>\n",
       "      <td>1</td>\n",
       "      <td>21</td>\n",
       "      <td>15</td>\n",
       "      <td>81</td>\n",
       "    </tr>\n",
       "    <tr>\n",
       "      <th>2</th>\n",
       "      <td>3</td>\n",
       "      <td>0</td>\n",
       "      <td>20</td>\n",
       "      <td>16</td>\n",
       "      <td>6</td>\n",
       "    </tr>\n",
       "    <tr>\n",
       "      <th>3</th>\n",
       "      <td>4</td>\n",
       "      <td>0</td>\n",
       "      <td>23</td>\n",
       "      <td>16</td>\n",
       "      <td>77</td>\n",
       "    </tr>\n",
       "    <tr>\n",
       "      <th>4</th>\n",
       "      <td>5</td>\n",
       "      <td>0</td>\n",
       "      <td>31</td>\n",
       "      <td>17</td>\n",
       "      <td>40</td>\n",
       "    </tr>\n",
       "    <tr>\n",
       "      <th>...</th>\n",
       "      <td>...</td>\n",
       "      <td>...</td>\n",
       "      <td>...</td>\n",
       "      <td>...</td>\n",
       "      <td>...</td>\n",
       "    </tr>\n",
       "    <tr>\n",
       "      <th>195</th>\n",
       "      <td>196</td>\n",
       "      <td>0</td>\n",
       "      <td>35</td>\n",
       "      <td>120</td>\n",
       "      <td>79</td>\n",
       "    </tr>\n",
       "    <tr>\n",
       "      <th>196</th>\n",
       "      <td>197</td>\n",
       "      <td>0</td>\n",
       "      <td>45</td>\n",
       "      <td>126</td>\n",
       "      <td>28</td>\n",
       "    </tr>\n",
       "    <tr>\n",
       "      <th>197</th>\n",
       "      <td>198</td>\n",
       "      <td>1</td>\n",
       "      <td>32</td>\n",
       "      <td>126</td>\n",
       "      <td>74</td>\n",
       "    </tr>\n",
       "    <tr>\n",
       "      <th>198</th>\n",
       "      <td>199</td>\n",
       "      <td>1</td>\n",
       "      <td>32</td>\n",
       "      <td>137</td>\n",
       "      <td>18</td>\n",
       "    </tr>\n",
       "    <tr>\n",
       "      <th>199</th>\n",
       "      <td>200</td>\n",
       "      <td>1</td>\n",
       "      <td>30</td>\n",
       "      <td>137</td>\n",
       "      <td>83</td>\n",
       "    </tr>\n",
       "  </tbody>\n",
       "</table>\n",
       "<p>200 rows × 5 columns</p>\n",
       "</div>"
      ],
      "text/plain": [
       "     CustomerID  Gender  Age  Annual Income (k$)  Spending Score (1-100)\n",
       "0             1       1   19                  15                      39\n",
       "1             2       1   21                  15                      81\n",
       "2             3       0   20                  16                       6\n",
       "3             4       0   23                  16                      77\n",
       "4             5       0   31                  17                      40\n",
       "..          ...     ...  ...                 ...                     ...\n",
       "195         196       0   35                 120                      79\n",
       "196         197       0   45                 126                      28\n",
       "197         198       1   32                 126                      74\n",
       "198         199       1   32                 137                      18\n",
       "199         200       1   30                 137                      83\n",
       "\n",
       "[200 rows x 5 columns]"
      ]
     },
     "execution_count": 12,
     "metadata": {},
     "output_type": "execute_result"
    }
   ],
   "source": [
    "df"
   ]
  },
  {
   "cell_type": "code",
   "execution_count": 13,
   "metadata": {
    "execution": {
     "iopub.execute_input": "2020-10-21T17:47:47.374439Z",
     "iopub.status.busy": "2020-10-21T17:47:47.373665Z",
     "iopub.status.idle": "2020-10-21T17:47:51.988527Z",
     "shell.execute_reply": "2020-10-21T17:47:51.987768Z"
    },
    "papermill": {
     "duration": 4.644358,
     "end_time": "2020-10-21T17:47:51.988652",
     "exception": false,
     "start_time": "2020-10-21T17:47:47.344294",
     "status": "completed"
    },
    "tags": []
   },
   "outputs": [
    {
     "data": {
      "image/png": "[encoded data removed]",
      "text/plain": [
       "<Figure size 1152x576 with 1 Axes>"
      ]
     },
     "metadata": {
      "needs_background": "light"
     },
     "output_type": "display_data"
    }
   ],
   "source": [
    "plt.figure(1, figsize = (16 ,8))\n",
    "dendrogram = sch.dendrogram(sch.linkage(df, method  = \"ward\"))\n",
    "\n",
    "plt.title('Дендограмма образования кластеров')\n",
    "plt.xlabel('Покупатели')\n",
    "plt.ylabel('Евклидово расстояние')\n",
    "plt.show()"
   ]
  },
  {
   "cell_type": "markdown",
   "metadata": {},
   "source": [
    "## Проверка качества кластеризации по дендограмме"
   ]
  },
  {
   "cell_type": "markdown",
   "metadata": {},
   "source": [
    "По вертикали откладывается расстояние  между кластерами, а по горизонтали – исходные данные (объекты). Глядя на этот график, мы сразу видим, в каком порядке происходило объединение данных в группы и насколько сильно кластеры отделены друг от друга по минимальному расстоянию.\n",
    "\n",
    "Хороший алгоритм иерархической кластеризации должен давать дендограмму без внутренних пересечений и с ярко выраженными минимальными отступами между формируемыми кластерами. Дендограмма на рисунке соответствует этим критериям. Конечно, при выборе других метрик и способов вычисления расстояний между кластерами, дендограмма будет меняться. "
   ]
  },
  {
   "cell_type": "markdown",
   "metadata": {
    "papermill": {
     "duration": 0.023428,
     "end_time": "2020-10-21T17:47:52.036464",
     "exception": false,
     "start_time": "2020-10-21T17:47:52.013036",
     "status": "completed"
    },
    "tags": []
   },
   "source": [
    "## Агломеративная кластеризация\n",
    "\n",
    "Подход к кластеризации \"снизу-вверх\". каждому налюдению присваивается свой кластер, поэтапно наблюдения объединяются в более обикные кластеры, пока в итоге не получится один кластер, содержащий все наблюдения."
   ]
  },
  {
   "cell_type": "code",
   "execution_count": 16,
   "metadata": {
    "execution": {
     "iopub.execute_input": "2020-10-21T17:47:52.095769Z",
     "iopub.status.busy": "2020-10-21T17:47:52.092057Z",
     "iopub.status.idle": "2020-10-21T17:47:52.100512Z",
     "shell.execute_reply": "2020-10-21T17:47:52.099728Z"
    },
    "papermill": {
     "duration": 0.040222,
     "end_time": "2020-10-21T17:47:52.100638",
     "exception": false,
     "start_time": "2020-10-21T17:47:52.060416",
     "status": "completed"
    },
    "tags": []
   },
   "outputs": [],
   "source": [
    "def clustering(df):\n",
    "    hc = AgglomerativeClustering(n_clusters = 5, affinity = 'euclidean', linkage ='average')\n",
    "    y_hc = hc.fit_predict(df)\n",
    "    return y_hc\n",
    "y_hc = clustering(df)"
   ]
  },
  {
   "cell_type": "code",
   "execution_count": 17,
   "metadata": {
    "execution": {
     "iopub.execute_input": "2020-10-21T17:47:52.158077Z",
     "iopub.status.busy": "2020-10-21T17:47:52.157269Z",
     "iopub.status.idle": "2020-10-21T17:47:52.160662Z",
     "shell.execute_reply": "2020-10-21T17:47:52.160045Z"
    },
    "papermill": {
     "duration": 0.03481,
     "end_time": "2020-10-21T17:47:52.160786",
     "exception": false,
     "start_time": "2020-10-21T17:47:52.125976",
     "status": "completed"
    },
    "tags": []
   },
   "outputs": [],
   "source": [
    "df['cluster'] = pd.DataFrame(y_hc)"
   ]
  },
  {
   "cell_type": "code",
   "execution_count": 18,
   "metadata": {
    "execution": {
     "iopub.execute_input": "2020-10-21T17:47:52.222614Z",
     "iopub.status.busy": "2020-10-21T17:47:52.221824Z",
     "iopub.status.idle": "2020-10-21T17:47:53.507995Z",
     "shell.execute_reply": "2020-10-21T17:47:53.507222Z"
    },
    "papermill": {
     "duration": 1.321727,
     "end_time": "2020-10-21T17:47:53.508124",
     "exception": false,
     "start_time": "2020-10-21T17:47:52.186397",
     "status": "completed"
    },
    "tags": []
   },
   "outputs": [
    {
     "data": {
      "application/vnd.plotly.v1+json": {
       "config": {
        "linkText": "Export to plot.ly",
        "plotlyServerURL": "https://plot.ly",
        "showLink": false
       },
       "data": [
        {
         "marker": {
          "color": [
           3,
           4,
           3,
           4,
           3,
           4,
           3,
           4,
           3,
           4,
           3,
           4,
           3,
           4,
           3,
           4,
           3,
           4,
           3,
           4,
           3,
           4,
           3,
           4,
           3,
           4,
           3,
           4,
           3,
           4,
           3,
           4,
           3,
           4,
           3,
           4,
           3,
           4,
           3,
           4,
           3,
           4,
           3,
           2,
           3,
           2,
           2,
           2,
           2,
           2,
           2,
           2,
           2,
           2,
           2,
           2,
           2,
           2,
           2,
           2,
           2,
           2,
           2,
           2,
           2,
           2,
           2,
           2,
           2,
           2,
           2,
           2,
           2,
           2,
           2,
           2,
           2,
           2,
           2,
           2,
           2,
           2,
           2,
           2,
           2,
           2,
           2,
           2,
           2,
           2,
           2,
           2,
           2,
           2,
           2,
           2,
           2,
           2,
           2,
           2,
           2,
           2,
           2,
           2,
           2,
           2,
           2,
           2,
           2,
           2,
           2,
           2,
           2,
           2,
           2,
           2,
           2,
           2,
           2,
           2,
           2,
           2,
           2,
           1,
           0,
           1,
           2,
           1,
           0,
           1,
           0,
           1,
           0,
           1,
           0,
           1,
           0,
           1,
           0,
           1,
           0,
           1,
           0,
           1,
           0,
           1,
           0,
           1,
           0,
           1,
           0,
           1,
           0,
           1,
           0,
           1,
           0,
           1,
           0,
           1,
           0,
           1,
           0,
           1,
           0,
           1,
           0,
           1,
           0,
           1,
           0,
           1,
           0,
           1,
           0,
           1,
           0,
           1,
           0,
           1,
           0,
           1,
           0,
           1,
           0,
           1,
           0,
           1,
           0,
           1,
           0,
           1,
           0,
           1,
           0,
           1,
           0,
           1,
           0,
           1
          ],
          "line": {
           "color": [
            3,
            4,
            3,
            4,
            3,
            4,
            3,
            4,
            3,
            4,
            3,
            4,
            3,
            4,
            3,
            4,
            3,
            4,
            3,
            4,
            3,
            4,
            3,
            4,
            3,
            4,
            3,
            4,
            3,
            4,
            3,
            4,
            3,
            4,
            3,
            4,
            3,
            4,
            3,
            4,
            3,
            4,
            3,
            2,
            3,
            2,
            2,
            2,
            2,
            2,
            2,
            2,
            2,
            2,
            2,
            2,
            2,
            2,
            2,
            2,
            2,
            2,
            2,
            2,
            2,
            2,
            2,
            2,
            2,
            2,
            2,
            2,
            2,
            2,
            2,
            2,
            2,
            2,
            2,
            2,
            2,
            2,
            2,
            2,
            2,
            2,
            2,
            2,
            2,
            2,
            2,
            2,
            2,
            2,
            2,
            2,
            2,
            2,
            2,
            2,
            2,
            2,
            2,
            2,
            2,
            2,
            2,
            2,
            2,
            2,
            2,
            2,
            2,
            2,
            2,
            2,
            2,
            2,
            2,
            2,
            2,
            2,
            2,
            1,
            0,
            1,
            2,
            1,
            0,
            1,
            0,
            1,
            0,
            1,
            0,
            1,
            0,
            1,
            0,
            1,
            0,
            1,
            0,
            1,
            0,
            1,
            0,
            1,
            0,
            1,
            0,
            1,
            0,
            1,
            0,
            1,
            0,
            1,
            0,
            1,
            0,
            1,
            0,
            1,
            0,
            1,
            0,
            1,
            0,
            1,
            0,
            1,
            0,
            1,
            0,
            1,
            0,
            1,
            0,
            1,
            0,
            1,
            0,
            1,
            0,
            1,
            0,
            1,
            0,
            1,
            0,
            1,
            0,
            1,
            0,
            1,
            0,
            1,
            0,
            1
           ],
           "width": 12
          },
          "opacity": 0.8,
          "size": 10
         },
         "mode": "markers",
         "type": "scatter3d",
         "x": [
          19,
          21,
          20,
          23,
          31,
          22,
          35,
          23,
          64,
          30,
          67,
          35,
          58,
          24,
          37,
          22,
          35,
          20,
          52,
          35,
          35,
          25,
          46,
          31,
          54,
          29,
          45,
          35,
          40,
          23,
          60,
          21,
          53,
          18,
          49,
          21,
          42,
          30,
          36,
          20,
          65,
          24,
          48,
          31,
          49,
          24,
          50,
          27,
          29,
          31,
          49,
          33,
          31,
          59,
          50,
          47,
          51,
          69,
          27,
          53,
          70,
          19,
          67,
          54,
          63,
          18,
          43,
          68,
          19,
          32,
          70,
          47,
          60,
          60,
          59,
          26,
          45,
          40,
          23,
          49,
          57,
          38,
          67,
          46,
          21,
          48,
          55,
          22,
          34,
          50,
          68,
          18,
          48,
          40,
          32,
          24,
          47,
          27,
          48,
          20,
          23,
          49,
          67,
          26,
          49,
          21,
          66,
          54,
          68,
          66,
          65,
          19,
          38,
          19,
          18,
          19,
          63,
          49,
          51,
          50,
          27,
          38,
          40,
          39,
          23,
          31,
          43,
          40,
          59,
          38,
          47,
          39,
          25,
          31,
          20,
          29,
          44,
          32,
          19,
          35,
          57,
          32,
          28,
          32,
          25,
          28,
          48,
          32,
          34,
          34,
          43,
          39,
          44,
          38,
          47,
          27,
          37,
          30,
          34,
          30,
          56,
          29,
          19,
          31,
          50,
          36,
          42,
          33,
          36,
          32,
          40,
          28,
          36,
          36,
          52,
          30,
          58,
          27,
          59,
          35,
          37,
          32,
          46,
          29,
          41,
          30,
          54,
          28,
          41,
          36,
          34,
          32,
          33,
          38,
          47,
          35,
          45,
          32,
          32,
          30
         ],
         "y": [
          39,
          81,
          6,
          77,
          40,
          76,
          6,
          94,
          3,
          72,
          14,
          99,
          15,
          77,
          13,
          79,
          35,
          66,
          29,
          98,
          35,
          73,
          5,
          73,
          14,
          82,
          32,
          61,
          31,
          87,
          4,
          73,
          4,
          92,
          14,
          81,
          17,
          73,
          26,
          75,
          35,
          92,
          36,
          61,
          28,
          65,
          55,
          47,
          42,
          42,
          52,
          60,
          54,
          60,
          45,
          41,
          50,
          46,
          51,
          46,
          56,
          55,
          52,
          59,
          51,
          59,
          50,
          48,
          59,
          47,
          55,
          42,
          49,
          56,
          47,
          54,
          53,
          48,
          52,
          42,
          51,
          55,
          41,
          44,
          57,
          46,
          58,
          55,
          60,
          46,
          55,
          41,
          49,
          40,
          42,
          52,
          47,
          50,
          42,
          49,
          41,
          48,
          59,
          55,
          56,
          42,
          50,
          46,
          43,
          48,
          52,
          54,
          42,
          46,
          48,
          50,
          43,
          59,
          43,
          57,
          56,
          40,
          58,
          91,
          29,
          77,
          35,
          95,
          11,
          75,
          9,
          75,
          34,
          71,
          5,
          88,
          7,
          73,
          10,
          72,
          5,
          93,
          40,
          87,
          12,
          97,
          36,
          74,
          22,
          90,
          17,
          88,
          20,
          76,
          16,
          89,
          1,
          78,
          1,
          73,
          35,
          83,
          5,
          93,
          26,
          75,
          20,
          95,
          27,
          63,
          13,
          75,
          10,
          92,
          13,
          86,
          15,
          69,
          14,
          90,
          32,
          86,
          15,
          88,
          39,
          97,
          24,
          68,
          17,
          85,
          23,
          69,
          8,
          91,
          16,
          79,
          28,
          74,
          18,
          83
         ],
         "z": [
          15,
          15,
          16,
          16,
          17,
          17,
          18,
          18,
          19,
          19,
          19,
          19,
          20,
          20,
          20,
          20,
          21,
          21,
          23,
          23,
          24,
          24,
          25,
          25,
          28,
          28,
          28,
          28,
          29,
          29,
          30,
          30,
          33,
          33,
          33,
          33,
          34,
          34,
          37,
          37,
          38,
          38,
          39,
          39,
          39,
          39,
          40,
          40,
          40,
          40,
          42,
          42,
          43,
          43,
          43,
          43,
          44,
          44,
          46,
          46,
          46,
          46,
          47,
          47,
          48,
          48,
          48,
          48,
          48,
          48,
          49,
          49,
          50,
          50,
          54,
          54,
          54,
          54,
          54,
          54,
          54,
          54,
          54,
          54,
          54,
          54,
          57,
          57,
          58,
          58,
          59,
          59,
          60,
          60,
          60,
          60,
          60,
          60,
          61,
          61,
          62,
          62,
          62,
          62,
          62,
          62,
          63,
          63,
          63,
          63,
          63,
          63,
          64,
          64,
          65,
          65,
          65,
          65,
          67,
          67,
          67,
          67,
          69,
          69,
          70,
          70,
          71,
          71,
          71,
          71,
          71,
          71,
          72,
          72,
          73,
          73,
          73,
          73,
          74,
          74,
          75,
          75,
          76,
          76,
          77,
          77,
          77,
          77,
          78,
          78,
          78,
          78,
          78,
          78,
          78,
          78,
          78,
          78,
          78,
          78,
          79,
          79,
          81,
          81,
          85,
          85,
          86,
          86,
          87,
          87,
          87,
          87,
          87,
          87,
          88,
          88,
          88,
          88,
          93,
          93,
          97,
          97,
          98,
          98,
          99,
          99,
          101,
          101,
          103,
          103,
          103,
          103,
          113,
          113,
          120,
          120,
          126,
          126,
          137,
          137
         ]
        }
       ],
       "layout": {
        "scene": {
         "xaxis": {
          "title": {
           "text": "Age"
          }
         },
         "yaxis": {
          "title": {
           "text": "Spending Score"
          }
         },
         "zaxis": {
          "title": {
           "text": "Annual Income"
          }
         }
        },
        "template": {
         "data": {
          "bar": [
           {
            "error_x": {
             "color": "#2a3f5f"
            },
            "error_y": {
             "color": "#2a3f5f"
            },
            "marker": {
             "line": {
              "color": "#E5ECF6",
              "width": 0.5
             },
             "pattern": {
              "fillmode": "overlay",
              "size": 10,
              "solidity": 0.2
             }
            },
            "type": "bar"
           }
          ],
          "barpolar": [
           {
            "marker": {
             "line": {
              "color": "#E5ECF6",
              "width": 0.5
             },
             "pattern": {
              "fillmode": "overlay",
              "size": 10,
              "solidity": 0.2
             }
            },
            "type": "barpolar"
           }
          ],
          "carpet": [
           {
            "aaxis": {
             "endlinecolor": "#2a3f5f",
             "gridcolor": "white",
             "linecolor": "white",
             "minorgridcolor": "white",
             "startlinecolor": "#2a3f5f"
            },
            "baxis": {
             "endlinecolor": "#2a3f5f",
             "gridcolor": "white",
             "linecolor": "white",
             "minorgridcolor": "white",
             "startlinecolor": "#2a3f5f"
            },
            "type": "carpet"
           }
          ],
          "choropleth": [
           {
            "colorbar": {
             "outlinewidth": 0,
             "ticks": ""
            },
            "type": "choropleth"
           }
          ],
          "contour": [
           {
            "colorbar": {
             "outlinewidth": 0,
             "ticks": ""
            },
            "colorscale": [
             [
              0,
              "#0d0887"
             ],
             [
              0.1111111111111111,
              "#46039f"
             ],
             [
              0.2222222222222222,
              "#7201a8"
             ],
             [
              0.3333333333333333,
              "#9c179e"
             ],
             [
              0.4444444444444444,
              "#bd3786"
             ],
             [
              0.5555555555555556,
              "#d8576b"
             ],
             [
              0.6666666666666666,
              "#ed7953"
             ],
             [
              0.7777777777777778,
              "#fb9f3a"
             ],
             [
              0.8888888888888888,
              "#fdca26"
             ],
             [
              1,
              "#f0f921"
             ]
            ],
            "type": "contour"
           }
          ],
          "contourcarpet": [
           {
            "colorbar": {
             "outlinewidth": 0,
             "ticks": ""
            },
            "type": "contourcarpet"
           }
          ],
          "heatmap": [
           {
            "colorbar": {
             "outlinewidth": 0,
             "ticks": ""
            },
            "colorscale": [
             [
              0,
              "#0d0887"
             ],
             [
              0.1111111111111111,
              "#46039f"
             ],
             [
              0.2222222222222222,
              "#7201a8"
             ],
             [
              0.3333333333333333,
              "#9c179e"
             ],
             [
              0.4444444444444444,
              "#bd3786"
             ],
             [
              0.5555555555555556,
              "#d8576b"
             ],
             [
              0.6666666666666666,
              "#ed7953"
             ],
             [
              0.7777777777777778,
              "#fb9f3a"
             ],
             [
              0.8888888888888888,
              "#fdca26"
             ],
             [
              1,
              "#f0f921"
             ]
            ],
            "type": "heatmap"
           }
          ],
          "heatmapgl": [
           {
            "colorbar": {
             "outlinewidth": 0,
             "ticks": ""
            },
            "colorscale": [
             [
              0,
              "#0d0887"
             ],
             [
              0.1111111111111111,
              "#46039f"
             ],
             [
              0.2222222222222222,
              "#7201a8"
             ],
             [
              0.3333333333333333,
              "#9c179e"
             ],
             [
              0.4444444444444444,
              "#bd3786"
             ],
             [
              0.5555555555555556,
              "#d8576b"
             ],
             [
              0.6666666666666666,
              "#ed7953"
             ],
             [
              0.7777777777777778,
              "#fb9f3a"
             ],
             [
              0.8888888888888888,
              "#fdca26"
             ],
             [
              1,
              "#f0f921"
             ]
            ],
            "type": "heatmapgl"
           }
          ],
          "histogram": [
           {
            "marker": {
             "pattern": {
              "fillmode": "overlay",
              "size": 10,
              "solidity": 0.2
             }
            },
            "type": "histogram"
           }
          ],
          "histogram2d": [
           {
            "colorbar": {
             "outlinewidth": 0,
             "ticks": ""
            },
            "colorscale": [
             [
              0,
              "#0d0887"
             ],
             [
              0.1111111111111111,
              "#46039f"
             ],
             [
              0.2222222222222222,
              "#7201a8"
             ],
             [
              0.3333333333333333,
              "#9c179e"
             ],
             [
              0.4444444444444444,
              "#bd3786"
             ],
             [
              0.5555555555555556,
              "#d8576b"
             ],
             [
              0.6666666666666666,
              "#ed7953"
             ],
             [
              0.7777777777777778,
              "#fb9f3a"
             ],
             [
              0.8888888888888888,
              "#fdca26"
             ],
             [
              1,
              "#f0f921"
             ]
            ],
            "type": "histogram2d"
           }
          ],
          "histogram2dcontour": [
           {
            "colorbar": {
             "outlinewidth": 0,
             "ticks": ""
            },
            "colorscale": [
             [
              0,
              "#0d0887"
             ],
             [
              0.1111111111111111,
              "#46039f"
             ],
             [
              0.2222222222222222,
              "#7201a8"
             ],
             [
              0.3333333333333333,
              "#9c179e"
             ],
             [
              0.4444444444444444,
              "#bd3786"
             ],
             [
              0.5555555555555556,
              "#d8576b"
             ],
             [
              0.6666666666666666,
              "#ed7953"
             ],
             [
              0.7777777777777778,
              "#fb9f3a"
             ],
             [
              0.8888888888888888,
              "#fdca26"
             ],
             [
              1,
              "#f0f921"
             ]
            ],
            "type": "histogram2dcontour"
           }
          ],
          "mesh3d": [
           {
            "colorbar": {
             "outlinewidth": 0,
             "ticks": ""
            },
            "type": "mesh3d"
           }
          ],
          "parcoords": [
           {
            "line": {
             "colorbar": {
              "outlinewidth": 0,
              "ticks": ""
             }
            },
            "type": "parcoords"
           }
          ],
          "pie": [
           {
            "automargin": true,
            "type": "pie"
           }
          ],
          "scatter": [
           {
            "fillpattern": {
             "fillmode": "overlay",
             "size": 10,
             "solidity": 0.2
            },
            "type": "scatter"
           }
          ],
          "scatter3d": [
           {
            "line": {
             "colorbar": {
              "outlinewidth": 0,
              "ticks": ""
             }
            },
            "marker": {
             "colorbar": {
              "outlinewidth": 0,
              "ticks": ""
             }
            },
            "type": "scatter3d"
           }
          ],
          "scattercarpet": [
           {
            "marker": {
             "colorbar": {
              "outlinewidth": 0,
              "ticks": ""
             }
            },
            "type": "scattercarpet"
           }
          ],
          "scattergeo": [
           {
            "marker": {
             "colorbar": {
              "outlinewidth": 0,
              "ticks": ""
             }
            },
            "type": "scattergeo"
           }
          ],
          "scattergl": [
           {
            "marker": {
             "colorbar": {
              "outlinewidth": 0,
              "ticks": ""
             }
            },
            "type": "scattergl"
           }
          ],
          "scattermapbox": [
           {
            "marker": {
             "colorbar": {
              "outlinewidth": 0,
              "ticks": ""
             }
            },
            "type": "scattermapbox"
           }
          ],
          "scatterpolar": [
           {
            "marker": {
             "colorbar": {
              "outlinewidth": 0,
              "ticks": ""
             }
            },
            "type": "scatterpolar"
           }
          ],
          "scatterpolargl": [
           {
            "marker": {
             "colorbar": {
              "outlinewidth": 0,
              "ticks": ""
             }
            },
            "type": "scatterpolargl"
           }
          ],
          "scatterternary": [
           {
            "marker": {
             "colorbar": {
              "outlinewidth": 0,
              "ticks": ""
             }
            },
            "type": "scatterternary"
           }
          ],
          "surface": [
           {
            "colorbar": {
             "outlinewidth": 0,
             "ticks": ""
            },
            "colorscale": [
             [
              0,
              "#0d0887"
             ],
             [
              0.1111111111111111,
              "#46039f"
             ],
             [
              0.2222222222222222,
              "#7201a8"
             ],
             [
              0.3333333333333333,
              "#9c179e"
             ],
             [
              0.4444444444444444,
              "#bd3786"
             ],
             [
              0.5555555555555556,
              "#d8576b"
             ],
             [
              0.6666666666666666,
              "#ed7953"
             ],
             [
              0.7777777777777778,
              "#fb9f3a"
             ],
             [
              0.8888888888888888,
              "#fdca26"
             ],
             [
              1,
              "#f0f921"
             ]
            ],
            "type": "surface"
           }
          ],
          "table": [
           {
            "cells": {
             "fill": {
              "color": "#EBF0F8"
             },
             "line": {
              "color": "white"
             }
            },
            "header": {
             "fill": {
              "color": "#C8D4E3"
             },
             "line": {
              "color": "white"
             }
            },
            "type": "table"
           }
          ]
         },
         "layout": {
          "annotationdefaults": {
           "arrowcolor": "#2a3f5f",
           "arrowhead": 0,
           "arrowwidth": 1
          },
          "autotypenumbers": "strict",
          "coloraxis": {
           "colorbar": {
            "outlinewidth": 0,
            "ticks": ""
           }
          },
          "colorscale": {
           "diverging": [
            [
             0,
             "#8e0152"
            ],
            [
             0.1,
             "#c51b7d"
            ],
            [
             0.2,
             "#de77ae"
            ],
            [
             0.3,
             "#f1b6da"
            ],
            [
             0.4,
             "#fde0ef"
            ],
            [
             0.5,
             "#f7f7f7"
            ],
            [
             0.6,
             "#e6f5d0"
            ],
            [
             0.7,
             "#b8e186"
            ],
            [
             0.8,
             "#7fbc41"
            ],
            [
             0.9,
             "#4d9221"
            ],
            [
             1,
             "#276419"
            ]
           ],
           "sequential": [
            [
             0,
             "#0d0887"
            ],
            [
             0.1111111111111111,
             "#46039f"
            ],
            [
             0.2222222222222222,
             "#7201a8"
            ],
            [
             0.3333333333333333,
             "#9c179e"
            ],
            [
             0.4444444444444444,
             "#bd3786"
            ],
            [
             0.5555555555555556,
             "#d8576b"
            ],
            [
             0.6666666666666666,
             "#ed7953"
            ],
            [
             0.7777777777777778,
             "#fb9f3a"
            ],
            [
             0.8888888888888888,
             "#fdca26"
            ],
            [
             1,
             "#f0f921"
            ]
           ],
           "sequentialminus": [
            [
             0,
             "#0d0887"
            ],
            [
             0.1111111111111111,
             "#46039f"
            ],
            [
             0.2222222222222222,
             "#7201a8"
            ],
            [
             0.3333333333333333,
             "#9c179e"
            ],
            [
             0.4444444444444444,
             "#bd3786"
            ],
            [
             0.5555555555555556,
             "#d8576b"
            ],
            [
             0.6666666666666666,
             "#ed7953"
            ],
            [
             0.7777777777777778,
             "#fb9f3a"
            ],
            [
             0.8888888888888888,
             "#fdca26"
            ],
            [
             1,
             "#f0f921"
            ]
           ]
          },
          "colorway": [
           "#636efa",
           "#EF553B",
           "#00cc96",
           "#ab63fa",
           "#FFA15A",
           "#19d3f3",
           "#FF6692",
           "#B6E880",
           "#FF97FF",
           "#FECB52"
          ],
          "font": {
           "color": "#2a3f5f"
          },
          "geo": {
           "bgcolor": "white",
           "lakecolor": "white",
           "landcolor": "#E5ECF6",
           "showlakes": true,
           "showland": true,
           "subunitcolor": "white"
          },
          "hoverlabel": {
           "align": "left"
          },
          "hovermode": "closest",
          "mapbox": {
           "style": "light"
          },
          "paper_bgcolor": "white",
          "plot_bgcolor": "#E5ECF6",
          "polar": {
           "angularaxis": {
            "gridcolor": "white",
            "linecolor": "white",
            "ticks": ""
           },
           "bgcolor": "#E5ECF6",
           "radialaxis": {
            "gridcolor": "white",
            "linecolor": "white",
            "ticks": ""
           }
          },
          "scene": {
           "xaxis": {
            "backgroundcolor": "#E5ECF6",
            "gridcolor": "white",
            "gridwidth": 2,
            "linecolor": "white",
            "showbackground": true,
            "ticks": "",
            "zerolinecolor": "white"
           },
           "yaxis": {
            "backgroundcolor": "#E5ECF6",
            "gridcolor": "white",
            "gridwidth": 2,
            "linecolor": "white",
            "showbackground": true,
            "ticks": "",
            "zerolinecolor": "white"
           },
           "zaxis": {
            "backgroundcolor": "#E5ECF6",
            "gridcolor": "white",
            "gridwidth": 2,
            "linecolor": "white",
            "showbackground": true,
            "ticks": "",
            "zerolinecolor": "white"
           }
          },
          "shapedefaults": {
           "line": {
            "color": "#2a3f5f"
           }
          },
          "ternary": {
           "aaxis": {
            "gridcolor": "white",
            "linecolor": "white",
            "ticks": ""
           },
           "baxis": {
            "gridcolor": "white",
            "linecolor": "white",
            "ticks": ""
           },
           "bgcolor": "#E5ECF6",
           "caxis": {
            "gridcolor": "white",
            "linecolor": "white",
            "ticks": ""
           }
          },
          "title": {
           "x": 0.05
          },
          "xaxis": {
           "automargin": true,
           "gridcolor": "white",
           "linecolor": "white",
           "ticks": "",
           "title": {
            "standoff": 15
           },
           "zerolinecolor": "white",
           "zerolinewidth": 2
          },
          "yaxis": {
           "automargin": true,
           "gridcolor": "white",
           "linecolor": "white",
           "ticks": "",
           "title": {
            "standoff": 15
           },
           "zerolinecolor": "white",
           "zerolinewidth": 2
          }
         }
        },
        "title": {
         "text": "Кластеры покупателей"
        }
       }
      }
     },
     "metadata": {},
     "output_type": "display_data"
    }
   ],
   "source": [
    "trace1 = go.Scatter3d(\n",
    "    x= df['Age'],\n",
    "    y= df['Spending Score (1-100)'],\n",
    "    z= df['Annual Income (k$)'],\n",
    "    mode='markers',\n",
    "     marker=dict(\n",
    "        color = df['cluster'], \n",
    "        size= 10,\n",
    "        line=dict(\n",
    "            color= df['cluster'],\n",
    "            width= 12\n",
    "        ),\n",
    "        opacity=0.8\n",
    "     )\n",
    ")\n",
    "data = [trace1]\n",
    "layout = go.Layout(\n",
    "    title= 'Кластеры покупателей',\n",
    "    scene = dict(\n",
    "            xaxis = dict(title  = 'Age'),\n",
    "            yaxis = dict(title  = 'Spending Score'),\n",
    "            zaxis = dict(title  = 'Annual Income')\n",
    "        )\n",
    ")\n",
    "fig = go.Figure(data=data, layout=layout)\n",
    "py.offline.iplot(fig)"
   ]
  },
  {
   "cell_type": "code",
   "execution_count": 19,
   "metadata": {
    "execution": {
     "iopub.execute_input": "2020-10-21T17:47:53.577626Z",
     "iopub.status.busy": "2020-10-21T17:47:53.576540Z",
     "iopub.status.idle": "2020-10-21T17:47:53.767562Z",
     "shell.execute_reply": "2020-10-21T17:47:53.766938Z"
    },
    "papermill": {
     "duration": 0.233056,
     "end_time": "2020-10-21T17:47:53.767683",
     "exception": false,
     "start_time": "2020-10-21T17:47:53.534627",
     "status": "completed"
    },
    "tags": []
   },
   "outputs": [
    {
     "data": {
      "image/png": "[encoded data removed]",
      "text/plain": [
       "<Figure size 432x288 with 1 Axes>"
      ]
     },
     "metadata": {
      "needs_background": "light"
     },
     "output_type": "display_data"
    }
   ],
   "source": [
    "X = df.iloc[:, [3,4]].values\n",
    "plt.scatter(X[y_hc==0, 0], X[y_hc==0, 1], s=100, c='red', label ='Cluster 1')\n",
    "plt.scatter(X[y_hc==1, 0], X[y_hc==1, 1], s=100, c='blue', label ='Cluster 2')\n",
    "plt.scatter(X[y_hc==2, 0], X[y_hc==2, 1], s=100, c='green', label ='Cluster 3')\n",
    "plt.scatter(X[y_hc==3, 0], X[y_hc==3, 1], s=100, c='purple', label ='Cluster 4')\n",
    "plt.scatter(X[y_hc==4, 0], X[y_hc==4, 1], s=100, c='orange', label ='Cluster 5')\n",
    "plt.title('Кластеры покупателей')\n",
    "plt.xlabel('Annual Income(k$)')\n",
    "plt.ylabel('Spending Score(1-100)')\n",
    "plt.show()"
   ]
  },
  {
   "cell_type": "markdown",
   "metadata": {
    "papermill": {
     "duration": 0.027296,
     "end_time": "2020-10-21T17:47:53.822724",
     "exception": false,
     "start_time": "2020-10-21T17:47:53.795428",
     "status": "completed"
    },
    "tags": []
   },
   "source": [
    "## Кластеры\n",
    "\n",
    "1. Green - низкий уровень дохода, низкий уровень трат\n",
    "2. Yellow - низкий уровень дохода,высокий кровень трат\n",
    "3. Red - средний уровень дохода, средний уровень трат\n",
    "4. Purple - высокий уровень дохода, низкий уровень трат\n",
    "5. Blue - высокий уровень дохода, высокий уровень трат"
   ]
  },
  {
   "cell_type": "code",
   "execution_count": 20,
   "metadata": {
    "execution": {
     "iopub.execute_input": "2020-10-21T17:47:53.890199Z",
     "iopub.status.busy": "2020-10-21T17:47:53.889367Z",
     "iopub.status.idle": "2020-10-21T17:47:53.894267Z",
     "shell.execute_reply": "2020-10-21T17:47:53.893642Z"
    },
    "papermill": {
     "duration": 0.043917,
     "end_time": "2020-10-21T17:47:53.894397",
     "exception": false,
     "start_time": "2020-10-21T17:47:53.850480",
     "status": "completed"
    },
    "tags": []
   },
   "outputs": [
    {
     "data": {
      "text/html": [
       "<div>\n",
       "<style scoped>\n",
       "    .dataframe tbody tr th:only-of-type {\n",
       "        vertical-align: middle;\n",
       "    }\n",
       "\n",
       "    .dataframe tbody tr th {\n",
       "        vertical-align: top;\n",
       "    }\n",
       "\n",
       "    .dataframe thead th {\n",
       "        text-align: right;\n",
       "    }\n",
       "</style>\n",
       "<table border=\"1\" class=\"dataframe\">\n",
       "  <thead>\n",
       "    <tr style=\"text-align: right;\">\n",
       "      <th></th>\n",
       "      <th>CustomerID</th>\n",
       "      <th>Gender</th>\n",
       "      <th>Age</th>\n",
       "      <th>Annual Income (k$)</th>\n",
       "      <th>Spending Score (1-100)</th>\n",
       "      <th>cluster</th>\n",
       "    </tr>\n",
       "  </thead>\n",
       "  <tbody>\n",
       "    <tr>\n",
       "      <th>0</th>\n",
       "      <td>1</td>\n",
       "      <td>1</td>\n",
       "      <td>19</td>\n",
       "      <td>15</td>\n",
       "      <td>39</td>\n",
       "      <td>3</td>\n",
       "    </tr>\n",
       "    <tr>\n",
       "      <th>1</th>\n",
       "      <td>2</td>\n",
       "      <td>1</td>\n",
       "      <td>21</td>\n",
       "      <td>15</td>\n",
       "      <td>81</td>\n",
       "      <td>4</td>\n",
       "    </tr>\n",
       "    <tr>\n",
       "      <th>2</th>\n",
       "      <td>3</td>\n",
       "      <td>0</td>\n",
       "      <td>20</td>\n",
       "      <td>16</td>\n",
       "      <td>6</td>\n",
       "      <td>3</td>\n",
       "    </tr>\n",
       "    <tr>\n",
       "      <th>3</th>\n",
       "      <td>4</td>\n",
       "      <td>0</td>\n",
       "      <td>23</td>\n",
       "      <td>16</td>\n",
       "      <td>77</td>\n",
       "      <td>4</td>\n",
       "    </tr>\n",
       "    <tr>\n",
       "      <th>4</th>\n",
       "      <td>5</td>\n",
       "      <td>0</td>\n",
       "      <td>31</td>\n",
       "      <td>17</td>\n",
       "      <td>40</td>\n",
       "      <td>3</td>\n",
       "    </tr>\n",
       "  </tbody>\n",
       "</table>\n",
       "</div>"
      ],
      "text/plain": [
       "   CustomerID  Gender  Age  Annual Income (k$)  Spending Score (1-100)  \\\n",
       "0           1       1   19                  15                      39   \n",
       "1           2       1   21                  15                      81   \n",
       "2           3       0   20                  16                       6   \n",
       "3           4       0   23                  16                      77   \n",
       "4           5       0   31                  17                      40   \n",
       "\n",
       "   cluster  \n",
       "0        3  \n",
       "1        4  \n",
       "2        3  \n",
       "3        4  \n",
       "4        3  "
      ]
     },
     "execution_count": 20,
     "metadata": {},
     "output_type": "execute_result"
    }
   ],
   "source": [
    "df.head()"
   ]
  },
  {
   "cell_type": "code",
   "execution_count": 21,
   "metadata": {},
   "outputs": [
    {
     "data": {
      "text/plain": [
       "2    80\n",
       "1    39\n",
       "0    37\n",
       "3    23\n",
       "4    21\n",
       "Name: cluster, dtype: int64"
      ]
     },
     "execution_count": 21,
     "metadata": {},
     "output_type": "execute_result"
    }
   ],
   "source": [
    "df.cluster.value_counts()"
   ]
  },
  {
   "cell_type": "markdown",
   "metadata": {},
   "source": [
    "Наиболее многочисленный класс - желтый. Это люди с низки уровнем дохода и высоким уровнем трат."
   ]
  },
  {
   "cell_type": "code",
   "execution_count": 22,
   "metadata": {
    "execution": {
     "iopub.execute_input": "2020-10-21T17:47:53.956822Z",
     "iopub.status.busy": "2020-10-21T17:47:53.956086Z",
     "iopub.status.idle": "2020-10-21T17:47:54.246570Z",
     "shell.execute_reply": "2020-10-21T17:47:54.245772Z"
    },
    "papermill": {
     "duration": 0.323718,
     "end_time": "2020-10-21T17:47:54.246700",
     "exception": false,
     "start_time": "2020-10-21T17:47:53.922982",
     "status": "completed"
    },
    "tags": []
   },
   "outputs": [],
   "source": [
    "df.to_csv(\"segmented_customers.csv\", index = False)"
   ]
  }
 ],
 "metadata": {
  "kernelspec": {
   "display_name": "Python 3",
   "language": "python",
   "name": "python3"
  },
  "language_info": {
   "codemirror_mode": {
    "name": "ipython",
    "version": 3
   },
   "file_extension": ".py",
   "mimetype": "text/x-python",
   "name": "python",
   "nbconvert_exporter": "python",
   "pygments_lexer": "ipython3",
   "version": "3.8.8"
  },
  "papermill": {
   "duration": 15.555597,
   "end_time": "2020-10-21T17:47:54.441122",
   "environment_variables": {},
   "exception": null,
   "input_path": "__notebook__.ipynb",
   "output_path": "__notebook__.ipynb",
   "parameters": {},
   "start_time": "2020-10-21T17:47:38.885525",
   "version": "2.1.0"
  }
 },
 "nbformat": 4,
 "nbformat_minor": 4
}
