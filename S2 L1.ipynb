{
 "cells": [
  {
   "cell_type": "code",
   "execution_count": 1,
   "id": "76844b3d",
   "metadata": {},
   "outputs": [],
   "source": [
    "import pandas as pd"
   ]
  },
  {
   "cell_type": "markdown",
   "id": "ce27e890",
   "metadata": {},
   "source": [
    "#### Задача 1-2 Связанные списки"
   ]
  },
  {
   "cell_type": "code",
   "execution_count": 17,
   "id": "8ce1e374",
   "metadata": {},
   "outputs": [
    {
     "name": "stdout",
     "output_type": "stream",
     "text": [
      "[Node with value 1]\n",
      "[Node with value 2]\n",
      "[Node with value 3]\n",
      "[Node with value 4]\n",
      "[Node with value 5]\n",
      "---\n",
      "[Node with value 5]\n",
      "[Node with value 4]\n",
      "[Node with value 3]\n",
      "[Node with value 2]\n",
      "[Node with value 1]\n",
      "---\n",
      "[Node with value 2]\n",
      "[Node with value 4]\n",
      "[Node with value 5]\n",
      "[Node with value 6]\n",
      "[Node with value 100]\n"
     ]
    }
   ],
   "source": [
    "class Node(object):\n",
    "    def __init__(self, value=None, next_node=None):\n",
    "        self.value = value\n",
    "        self.next = next_node\n",
    "\n",
    "    def __str__(self):\n",
    "        return f\"[Node with value {self.value}]\"\n",
    "\n",
    "\n",
    "def print_linked_list(head):\n",
    "    cur = head\n",
    "    while cur is not None:\n",
    "        print(cur)\n",
    "        cur = cur.next\n",
    "\n",
    "\n",
    "def reverse_linked_list(head):\n",
    "    cur= head\n",
    "    ex=None\n",
    "    \n",
    "    while cur:\n",
    "        next = cur.next\n",
    "        cur.next = ex\n",
    "        ex = cur\n",
    "        cur = next\n",
    "    return ex\n",
    "\n",
    "def Sort(head):\n",
    "    cur = head\n",
    "    while cur.next is not None:\n",
    "        cur_ = cur.next\n",
    "        while cur_ is not None:\n",
    "            if cur.value > cur_.value:\n",
    "                cur.value, cur_.value = cur_.value, cur.value\n",
    "            cur_ = cur_.next\n",
    "        cur = cur.next\n",
    "    return head\n",
    "\n",
    "\n",
    "h, a, b, c, d = Node(1), Node(2), Node(3), Node(4), Node(5)\n",
    "\n",
    "h.next = a\n",
    "a.next = b\n",
    "b.next = c\n",
    "c.next = d\n",
    "\n",
    "print_linked_list(h)\n",
    "rev_h = reverse_linked_list(h)\n",
    "print('---')\n",
    "print_linked_list(rev_h)\n",
    "\n",
    "h, a, b, c, d = Node(100), Node(2), Node(6), Node(4), Node(5)\n",
    "\n",
    "h.next = a\n",
    "a.next = b\n",
    "b.next = c\n",
    "c.next = d\n",
    "print('---')\n",
    "s = Sort(h)\n",
    "print_linked_list(s)"
   ]
  },
  {
   "cell_type": "markdown",
   "id": "f757dea8",
   "metadata": {},
   "source": [
    "#### Задача 3 \n"
   ]
  },
  {
   "cell_type": "code",
   "execution_count": null,
   "id": "59de30da",
   "metadata": {},
   "outputs": [],
   "source": [
    "tips = pd.read_csv(r'C:\\Users\\KhromovaOR\\TIPS.csv', sep=',', encoding='ansi')\n",
    "iris = pd.read_csv(r'C:\\Users\\KhromovaOR\\IRIS.csv', sep=',', encoding='ansi')\n",
    "\n",
    "#средний счет\n",
    "tips[(tips['sex']=='Male')\n",
    "&(tips['day']=='Fri')\n",
    "&(tips['smoker']=='Yes')]['total_bill'].mean()\n",
    "\n",
    "#разброс значений\n",
    "rng = iris.groupby('Name').agg(np.ptp)\n",
    "\n",
    "#плотность населения\n",
    "df = pd.DataFrame({\n",
    "     'country': ['Kazakhstan', 'Russia', 'Belarus', 'Ukraine'],\n",
    "     'population': [17.04, 143.5, 9.5, 45.5],\n",
    "     'square': [2724902, 17125191, 207600, 603628]\n",
    " })\n",
    "df['density'] = df['square']/df['population']"
   ]
  }
 ],
 "metadata": {
  "kernelspec": {
   "display_name": "Python 3",
   "language": "python",
   "name": "python3"
  },
  "language_info": {
   "codemirror_mode": {
    "name": "ipython",
    "version": 3
   },
   "file_extension": ".py",
   "mimetype": "text/x-python",
   "name": "python",
   "nbconvert_exporter": "python",
   "pygments_lexer": "ipython3",
   "version": "3.8.8"
  },
  "vscode": {
   "interpreter": {
    "hash": "b0fa6594d8f4cbf19f97940f81e996739fb7646882a419484c72d19e05852a7e"
   }
  }
 },
 "nbformat": 4,
 "nbformat_minor": 5
}
