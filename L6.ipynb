{
 "cells": [
  {
   "cell_type": "markdown",
   "metadata": {},
   "source": [
    "# Домашнее задание L6"
   ]
  },
  {
   "cell_type": "markdown",
   "metadata": {},
   "source": [
    "    Напишите программу с классом Student, в котором есть три атрибута: name, groupNumber и age. По умолчанию name = Ivan, age = 18, groupNumber = 10A. Необходимо создать пять методов: getName, getAge, getGroupNumber, setNameAge, setGroupNumber. Метод getName нужен для получения данных об имени конкретного студента, метод getAge нужен для получения данных о возрасте конкретного студента, vетод setGroupNumberнужен для получения данных о номере группы конкретного студента. Метод SetNameAge позволяет изменить данные атрибутов установленных по умолчанию, метод setGroupNumber позволяет изменить номер группы установленный по умолчанию. В программе необходимо создать пять экземпляров класса Student, установить им разные имена, возраст и номер группы."
   ]
  },
  {
   "cell_type": "code",
   "execution_count": 19,
   "metadata": {},
   "outputs": [
    {
     "name": "stdout",
     "output_type": "stream",
     "text": [
      "Olga dd1 22\n",
      "adddo2\n"
     ]
    }
   ],
   "source": [
    "class Student(object):\n",
    "    \n",
    "    def __init__(self, name = 'Ivan', groupNumber = '10A', age = 18):\n",
    "        self.name = name\n",
    "        self.groupNumber = groupNumber\n",
    "        self.age = age\n",
    "    \n",
    "    def getName(self):\n",
    "        return self.name\n",
    "    \n",
    "    def getAge(self):\n",
    "        return self.age\n",
    "    \n",
    "    def getGroupNumber(self):\n",
    "        return self.groupNumber\n",
    "    \n",
    "    def SetNameAge(self, name, age):\n",
    "        self.name = name\n",
    "        self.age = age\n",
    "    \n",
    "    def SetGroupNumber(self, number):\n",
    "        self.groupNumber = number\n",
    "\n",
    "a = Student(\"Olga\", 'dd1', 22)\n",
    "b = Student(\"Polina\", \"qw33\", 19)\n",
    "c = Student(\"Mikhail\", \"wi23\", 25)\n",
    "d = Student(\"Pavel\", \"qp77\", 20)\n",
    "e = Student(\"Alexamdr\", \"qu\", 28)\n",
    "\n",
    "print(a.getName(), a.getGroupNumber(), a.getAge())\n",
    "a.SetGroupNumber(\"adddo2\")\n",
    "print(a.getGroupNumber())"
   ]
  },
  {
   "cell_type": "markdown",
   "metadata": {},
   "source": [
    "    Напишите программу с классом Car. Создайте конструктор класса Car. Создайте атрибуты класса Car — color (цвет), type (тип), year (год). Напишите пять методов. Первый — запуск автомобиля, при его вызове выводится сообщение «Автомобиль заведен». Второй — отключение автомобиля — выводит сообщение «Автомобиль заглушен». Третий — присвоение автомобилю года выпуска. Четвертый метод — присвоение автомобилю типа. Пятый — присвоение автомобилю цвета."
   ]
  },
  {
   "cell_type": "code",
   "execution_count": 20,
   "metadata": {},
   "outputs": [
    {
     "name": "stdout",
     "output_type": "stream",
     "text": [
      "Автомобиль заведен\n",
      "Автомобиль заглушен\n",
      "Blue Mercedes 2005\n"
     ]
    }
   ],
   "source": [
    "class Car(object):\n",
    "    \n",
    "   def __init__(self, colour = None, type = None, year = None):\n",
    "       self.colour = colour\n",
    "       self.type = type\n",
    "       self.year = year\n",
    "\n",
    "   def start(self):\n",
    "      print(\"Автомобиль заведен\")\n",
    "   \n",
    "   def stop(self):\n",
    "      print(\"Автомобиль заглушен\")\n",
    "   \n",
    "   def set_year(self, y):\n",
    "      self.year = y\n",
    "   \n",
    "   def set_type(self, t):\n",
    "      self.type = t\n",
    "   \n",
    "   def set_colour(self, c):\n",
    "      self.colour = c\n",
    "\n",
    "m = Car()\n",
    "m.start()\n",
    "m.stop()\n",
    "m.set_colour('Blue')\n",
    "m.set_type('Mercedes')\n",
    "m.set_year(2005)\n",
    "\n",
    "print(m.colour, m.type, m.year)"
   ]
  },
  {
   "cell_type": "markdown",
   "metadata": {},
   "source": [
    "    Допишите функцию Nutrion"
   ]
  },
  {
   "cell_type": "code",
   "execution_count": 21,
   "metadata": {},
   "outputs": [
    {
     "name": "stdout",
     "output_type": "stream",
     "text": [
      "Nutrition p 2, c 4, f 6\n",
      "Nutrition p 18, c 28, f 9\n",
      "Nutrition p 1, c 27, f 3\n",
      "313\n",
      "144\n",
      "<bound method NutritionInfo.energy of <__main__.NutritionInfo object at 0x10a29e260>>\n"
     ]
    }
   ],
   "source": [
    "class NutritionInfo:\n",
    "    def __init__(self, proteins, carbs, fats):\n",
    "        self.proteins = proteins\n",
    "        self.carbs = carbs\n",
    "        self.fats = fats\n",
    "    \n",
    "    def __add__(self, other):\n",
    "        return NutritionInfo(self.proteins + other.proteins, self.carbs + other.carbs, self.fats + other.fats)\n",
    "    \n",
    "    def __str__(self):\n",
    "        return f\"Nutrition p {self.proteins}, c {self.carbs}, f {self.fats}\"\n",
    "        \n",
    "    def energy(self):\n",
    "        return int(self.fats * 9 + (self.carbs + self.proteins) * 4.2)\n",
    "\n",
    "egg = NutritionInfo(1, 2, 3)\n",
    "pastila = NutritionInfo(1, 2, 3)\n",
    "tvorog_9 = NutritionInfo(18, 3, 9)\n",
    "apple = NutritionInfo(0, 25, 0)\n",
    "\n",
    "print(egg + pastila)\n",
    "print(tvorog_9 + apple)\n",
    "print(pastila + apple)\n",
    "\n",
    "br = apple + tvorog_9 + pastila\n",
    "br1 = pastila + apple\n",
    "br2 = tvorog_9 + apple\n",
    "\n",
    "print(br.energy())\n",
    "print(br1.energy())\n",
    "print(br2.energy)"
   ]
  }
 ],
 "metadata": {
  "kernelspec": {
   "display_name": "Python 3.10.8 64-bit",
   "language": "python",
   "name": "python3"
  },
  "language_info": {
   "codemirror_mode": {
    "name": "ipython",
    "version": 3
   },
   "file_extension": ".py",
   "mimetype": "text/x-python",
   "name": "python",
   "nbconvert_exporter": "python",
   "pygments_lexer": "ipython3",
   "version": "3.10.8"
  },
  "orig_nbformat": 4,
  "vscode": {
   "interpreter": {
    "hash": "b0fa6594d8f4cbf19f97940f81e996739fb7646882a419484c72d19e05852a7e"
   }
  }
 },
 "nbformat": 4,
 "nbformat_minor": 2
}
