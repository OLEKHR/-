{
 "cells": [
  {
   "cell_type": "markdown",
   "metadata": {},
   "source": [
    "### Проект\n",
    "Используете ваш датасет по кластеризации, либо выбираете новый\n",
    "\n",
    "    0) Изучаете контекст датасета и придумываете бизнес-цель\n",
    "    1) Делаете постановку задач на исследование (минимум 2 задачи, 1 под классфификацию/регрессию, 1 под кластеризацию (в крайнем случае делаем допущение что у нас нет Y) , )\n",
    "    2) Оценка Датасета (pandas/np/statsmodel...)\n",
    "    3) Подготовка данных\n",
    "    4) Выполнение исследований ( в том числе с промежуточными итогами, визуализациями)\n",
    "    5) Итоговые визуализации и выводы\n",
    "    6) Предложения по развитию вашей работы"
   ]
  },
  {
   "cell_type": "markdown",
   "metadata": {},
   "source": [
    "Датасет:\n",
    " \n",
    "  - Данные о работе медицинских организаций Москвы с 2021 года по 2023.\n",
    "\n",
    "Цель:   \n",
    "    \n",
    " - Кластеризовать специальности по структуре успешности записи пациентов, в зависимости величины зон записи пациентов\n",
    " - Спрогонзировать спрос на услуги врача в поликлиниках.\n",
    "\n",
    "  Для анализа выбраны данные о записи к офтальмологу в детские, взрослые смешанные поликлиники и стационары Москвы."
   ]
  },
  {
   "cell_type": "code",
   "execution_count": 1,
   "metadata": {},
   "outputs": [],
   "source": [
    "import pandas as pd\n",
    "import numpy as np\n",
    "from datetime import datetime as dt\n",
    "import matplotlib as plt\n",
    "import seaborn as sns\n",
    "import plotly.express as px\n",
    "from plotly.subplots import make_subplots\n",
    "from statsmodels.tsa.stattools import acf, pacf\n",
    "import plotly.graph_objects as go\n",
    "from statsmodels.tsa.statespace.sarimax import SARIMAX\n",
    "from statsmodels.tsa.arima.model import ARIMA\n",
    "from statsmodels.tsa.seasonal import seasonal_decompose\n",
    "from statsmodels.tsa.stattools import arma_order_select_ic\n",
    "from statsmodels.tsa.seasonal import DecomposeResult, seasonal_decompose\n",
    "from sklearn.metrics import mean_absolute_percentage_error, mean_absolute_error, mean_squared_error, mean_absolute_error, r2_score"
   ]
  },
  {
   "cell_type": "code",
   "execution_count": 2,
   "metadata": {},
   "outputs": [],
   "source": [
    "data_ = pd.read_excel(r'/Users/olgahromova/Desktop/УчЕБА/МИСиС ДЗ по Python/dataset_2023-09-06.xlsx')"
   ]
  },
  {
   "cell_type": "markdown",
   "metadata": {},
   "source": [
    "Очистка данных"
   ]
  },
  {
   "cell_type": "code",
   "execution_count": 3,
   "metadata": {},
   "outputs": [],
   "source": [
    "data = data_[data_.spec == 'Офтальмология']\n",
    "data = data.replace({'Not Available': np.nan})"
   ]
  },
  {
   "cell_type": "code",
   "execution_count": 185,
   "metadata": {},
   "outputs": [
    {
     "data": {
      "text/plain": [
       "Index(['index', 'month', 'mo_id', 'dn_qty', 'attach_qty', 'male_attach_qty',\n",
       "       'femail_attach_qty', 'spec', 'date', 'slots_qty', 'adm_area', 'mo_name',\n",
       "       'green', 'yellow', 'red', 'ud', 'demand', 'age_group', 'mo_type'],\n",
       "      dtype='object')"
      ]
     },
     "execution_count": 185,
     "metadata": {},
     "output_type": "execute_result"
    }
   ],
   "source": [
    "data.columns"
   ]
  },
  {
   "cell_type": "code",
   "execution_count": 4,
   "metadata": {},
   "outputs": [
    {
     "name": "stdout",
     "output_type": "stream",
     "text": [
      "Your selected dataframe has 19 columns.\n",
      "There are 0 columns that have missing values.\n"
     ]
    },
    {
     "data": {
      "text/html": [
       "<div>\n",
       "<style scoped>\n",
       "    .dataframe tbody tr th:only-of-type {\n",
       "        vertical-align: middle;\n",
       "    }\n",
       "\n",
       "    .dataframe tbody tr th {\n",
       "        vertical-align: top;\n",
       "    }\n",
       "\n",
       "    .dataframe thead th {\n",
       "        text-align: right;\n",
       "    }\n",
       "</style>\n",
       "<table border=\"1\" class=\"dataframe\">\n",
       "  <thead>\n",
       "    <tr style=\"text-align: right;\">\n",
       "      <th></th>\n",
       "      <th>Missing Values</th>\n",
       "      <th>% of Total Values</th>\n",
       "    </tr>\n",
       "  </thead>\n",
       "  <tbody>\n",
       "  </tbody>\n",
       "</table>\n",
       "</div>"
      ],
      "text/plain": [
       "Empty DataFrame\n",
       "Columns: [Missing Values, % of Total Values]\n",
       "Index: []"
      ]
     },
     "execution_count": 4,
     "metadata": {},
     "output_type": "execute_result"
    }
   ],
   "source": [
    "def missing_values_table(df):\n",
    "        # Total missing values\n",
    "        mis_val = df.isnull().sum()\n",
    "        \n",
    "        # Percentage of missing values\n",
    "        mis_val_percent = 100 * df.isnull().sum() / len(df)\n",
    "        \n",
    "        # Make a table with the results\n",
    "        mis_val_table = pd.concat([mis_val, mis_val_percent], axis=1)\n",
    "        \n",
    "        # Rename the columns\n",
    "        mis_val_table_ren_columns = mis_val_table.rename(\n",
    "        columns = {0 : 'Missing Values', 1 : '% of Total Values'})\n",
    "        \n",
    "        # Sort the table by percentage of missing descending\n",
    "        mis_val_table_ren_columns = mis_val_table_ren_columns[\n",
    "            mis_val_table_ren_columns.iloc[:,1] != 0].sort_values(\n",
    "        '% of Total Values', ascending=False).round(1)\n",
    "        \n",
    "        # Print some summary information\n",
    "        print (\"Your selected dataframe has \" + str(df.shape[1]) + \" columns.\\n\"      \n",
    "            \"There are \" + str(mis_val_table_ren_columns.shape[0]) +\n",
    "              \" columns that have missing values.\")\n",
    "        \n",
    "        # Return the dataframe with missing information\n",
    "        return mis_val_table_ren_columns\n",
    "missing_values_table(data)"
   ]
  },
  {
   "cell_type": "code",
   "execution_count": 5,
   "metadata": {},
   "outputs": [
    {
     "data": {
      "text/html": [
       "<style  type=\"text/css\" >\n",
       "</style><table id=\"T_52fe1_\" ><thead>    <tr>        <th class=\"blank level0\" ></th>        <th class=\"col_heading level0 col0\" >index</th>        <th class=\"col_heading level0 col1\" >month</th>        <th class=\"col_heading level0 col2\" >mo_id</th>        <th class=\"col_heading level0 col3\" >dn_qty</th>        <th class=\"col_heading level0 col4\" >attach_qty</th>        <th class=\"col_heading level0 col5\" >male_attach_qty</th>        <th class=\"col_heading level0 col6\" >femail_attach_qty</th>        <th class=\"col_heading level0 col7\" >date</th>        <th class=\"col_heading level0 col8\" >slots_qty</th>        <th class=\"col_heading level0 col9\" >green</th>        <th class=\"col_heading level0 col10\" >yellow</th>        <th class=\"col_heading level0 col11\" >red</th>        <th class=\"col_heading level0 col12\" >ud</th>        <th class=\"col_heading level0 col13\" >demand</th>        <th class=\"col_heading level0 col14\" >age_group</th>    </tr></thead><tbody>\n",
       "                <tr>\n",
       "                        <th id=\"T_52fe1_level0_row0\" class=\"row_heading level0 row0\" >count</th>\n",
       "                        <td id=\"T_52fe1_row0_col0\" class=\"data row0 col0\" >43337.0</td>\n",
       "                        <td id=\"T_52fe1_row0_col1\" class=\"data row0 col1\" >43337.0</td>\n",
       "                        <td id=\"T_52fe1_row0_col2\" class=\"data row0 col2\" >43337.0</td>\n",
       "                        <td id=\"T_52fe1_row0_col3\" class=\"data row0 col3\" >43337.0</td>\n",
       "                        <td id=\"T_52fe1_row0_col4\" class=\"data row0 col4\" >43337.0</td>\n",
       "                        <td id=\"T_52fe1_row0_col5\" class=\"data row0 col5\" >43337.0</td>\n",
       "                        <td id=\"T_52fe1_row0_col6\" class=\"data row0 col6\" >43337.0</td>\n",
       "                        <td id=\"T_52fe1_row0_col7\" class=\"data row0 col7\" >43337.0</td>\n",
       "                        <td id=\"T_52fe1_row0_col8\" class=\"data row0 col8\" >43337.0</td>\n",
       "                        <td id=\"T_52fe1_row0_col9\" class=\"data row0 col9\" >43337.0</td>\n",
       "                        <td id=\"T_52fe1_row0_col10\" class=\"data row0 col10\" >43337.0</td>\n",
       "                        <td id=\"T_52fe1_row0_col11\" class=\"data row0 col11\" >43337.0</td>\n",
       "                        <td id=\"T_52fe1_row0_col12\" class=\"data row0 col12\" >43337.0</td>\n",
       "                        <td id=\"T_52fe1_row0_col13\" class=\"data row0 col13\" >43337.0</td>\n",
       "                        <td id=\"T_52fe1_row0_col14\" class=\"data row0 col14\" >43337.0</td>\n",
       "            </tr>\n",
       "            <tr>\n",
       "                        <th id=\"T_52fe1_level0_row1\" class=\"row_heading level0 row1\" >mean</th>\n",
       "                        <td id=\"T_52fe1_row1_col0\" class=\"data row1 col0\" >220985.9</td>\n",
       "                        <td id=\"T_52fe1_row1_col1\" class=\"data row1 col1\" >202242.0</td>\n",
       "                        <td id=\"T_52fe1_row1_col2\" class=\"data row1 col2\" >7206413.8</td>\n",
       "                        <td id=\"T_52fe1_row1_col3\" class=\"data row1 col3\" >27392.8</td>\n",
       "                        <td id=\"T_52fe1_row1_col4\" class=\"data row1 col4\" >134952.9</td>\n",
       "                        <td id=\"T_52fe1_row1_col5\" class=\"data row1 col5\" >67577.1</td>\n",
       "                        <td id=\"T_52fe1_row1_col6\" class=\"data row1 col6\" >67375.8</td>\n",
       "                        <td id=\"T_52fe1_row1_col7\" class=\"data row1 col7\" >20224220.9</td>\n",
       "                        <td id=\"T_52fe1_row1_col8\" class=\"data row1 col8\" >146.7</td>\n",
       "                        <td id=\"T_52fe1_row1_col9\" class=\"data row1 col9\" >140.9</td>\n",
       "                        <td id=\"T_52fe1_row1_col10\" class=\"data row1 col10\" >9.3</td>\n",
       "                        <td id=\"T_52fe1_row1_col11\" class=\"data row1 col11\" >14.9</td>\n",
       "                        <td id=\"T_52fe1_row1_col12\" class=\"data row1 col12\" >53.1</td>\n",
       "                        <td id=\"T_52fe1_row1_col13\" class=\"data row1 col13\" >218.2</td>\n",
       "                        <td id=\"T_52fe1_row1_col14\" class=\"data row1 col14\" >1.5</td>\n",
       "            </tr>\n",
       "            <tr>\n",
       "                        <th id=\"T_52fe1_level0_row2\" class=\"row_heading level0 row2\" >std</th>\n",
       "                        <td id=\"T_52fe1_row2_col0\" class=\"data row2 col0\" >127955.5</td>\n",
       "                        <td id=\"T_52fe1_row2_col1\" class=\"data row2 col1\" >47.5</td>\n",
       "                        <td id=\"T_52fe1_row2_col2\" class=\"data row2 col2\" >4507293.5</td>\n",
       "                        <td id=\"T_52fe1_row2_col3\" class=\"data row2 col3\" >25631.1</td>\n",
       "                        <td id=\"T_52fe1_row2_col4\" class=\"data row2 col4\" >85713.8</td>\n",
       "                        <td id=\"T_52fe1_row2_col5\" class=\"data row2 col5\" >41550.1</td>\n",
       "                        <td id=\"T_52fe1_row2_col6\" class=\"data row2 col6\" >45073.8</td>\n",
       "                        <td id=\"T_52fe1_row2_col7\" class=\"data row2 col7\" >4746.8</td>\n",
       "                        <td id=\"T_52fe1_row2_col8\" class=\"data row2 col8\" >84.1</td>\n",
       "                        <td id=\"T_52fe1_row2_col9\" class=\"data row2 col9\" >96.6</td>\n",
       "                        <td id=\"T_52fe1_row2_col10\" class=\"data row2 col10\" >19.9</td>\n",
       "                        <td id=\"T_52fe1_row2_col11\" class=\"data row2 col11\" >31.4</td>\n",
       "                        <td id=\"T_52fe1_row2_col12\" class=\"data row2 col12\" >238.2</td>\n",
       "                        <td id=\"T_52fe1_row2_col13\" class=\"data row2 col13\" >265.9</td>\n",
       "                        <td id=\"T_52fe1_row2_col14\" class=\"data row2 col14\" >0.5</td>\n",
       "            </tr>\n",
       "            <tr>\n",
       "                        <th id=\"T_52fe1_level0_row3\" class=\"row_heading level0 row3\" >min</th>\n",
       "                        <td id=\"T_52fe1_row3_col0\" class=\"data row3 col0\" >4.0</td>\n",
       "                        <td id=\"T_52fe1_row3_col1\" class=\"data row3 col1\" >202101.0</td>\n",
       "                        <td id=\"T_52fe1_row3_col2\" class=\"data row3 col2\" >103.0</td>\n",
       "                        <td id=\"T_52fe1_row3_col3\" class=\"data row3 col3\" >0.0</td>\n",
       "                        <td id=\"T_52fe1_row3_col4\" class=\"data row3 col4\" >27620.0</td>\n",
       "                        <td id=\"T_52fe1_row3_col5\" class=\"data row3 col5\" >14044.0</td>\n",
       "                        <td id=\"T_52fe1_row3_col6\" class=\"data row3 col6\" >12193.0</td>\n",
       "                        <td id=\"T_52fe1_row3_col7\" class=\"data row3 col7\" >20210101.0</td>\n",
       "                        <td id=\"T_52fe1_row3_col8\" class=\"data row3 col8\" >2.0</td>\n",
       "                        <td id=\"T_52fe1_row3_col9\" class=\"data row3 col9\" >0.0</td>\n",
       "                        <td id=\"T_52fe1_row3_col10\" class=\"data row3 col10\" >0.0</td>\n",
       "                        <td id=\"T_52fe1_row3_col11\" class=\"data row3 col11\" >0.0</td>\n",
       "                        <td id=\"T_52fe1_row3_col12\" class=\"data row3 col12\" >0.0</td>\n",
       "                        <td id=\"T_52fe1_row3_col13\" class=\"data row3 col13\" >1.0</td>\n",
       "                        <td id=\"T_52fe1_row3_col14\" class=\"data row3 col14\" >1.0</td>\n",
       "            </tr>\n",
       "            <tr>\n",
       "                        <th id=\"T_52fe1_level0_row4\" class=\"row_heading level0 row4\" >25%</th>\n",
       "                        <td id=\"T_52fe1_row4_col0\" class=\"data row4 col0\" >110261.0</td>\n",
       "                        <td id=\"T_52fe1_row4_col1\" class=\"data row4 col1\" >202206.0</td>\n",
       "                        <td id=\"T_52fe1_row4_col2\" class=\"data row4 col2\" >231.0</td>\n",
       "                        <td id=\"T_52fe1_row4_col3\" class=\"data row4 col3\" >7402.0</td>\n",
       "                        <td id=\"T_52fe1_row4_col4\" class=\"data row4 col4\" >50562.0</td>\n",
       "                        <td id=\"T_52fe1_row4_col5\" class=\"data row4 col5\" >27271.0</td>\n",
       "                        <td id=\"T_52fe1_row4_col6\" class=\"data row4 col6\" >23085.0</td>\n",
       "                        <td id=\"T_52fe1_row4_col7\" class=\"data row4 col7\" >20220601.0</td>\n",
       "                        <td id=\"T_52fe1_row4_col8\" class=\"data row4 col8\" >83.0</td>\n",
       "                        <td id=\"T_52fe1_row4_col9\" class=\"data row4 col9\" >69.0</td>\n",
       "                        <td id=\"T_52fe1_row4_col10\" class=\"data row4 col10\" >0.0</td>\n",
       "                        <td id=\"T_52fe1_row4_col11\" class=\"data row4 col11\" >0.0</td>\n",
       "                        <td id=\"T_52fe1_row4_col12\" class=\"data row4 col12\" >0.0</td>\n",
       "                        <td id=\"T_52fe1_row4_col13\" class=\"data row4 col13\" >96.0</td>\n",
       "                        <td id=\"T_52fe1_row4_col14\" class=\"data row4 col14\" >1.0</td>\n",
       "            </tr>\n",
       "            <tr>\n",
       "                        <th id=\"T_52fe1_level0_row5\" class=\"row_heading level0 row5\" >50%</th>\n",
       "                        <td id=\"T_52fe1_row5_col0\" class=\"data row5 col0\" >220758.0</td>\n",
       "                        <td id=\"T_52fe1_row5_col1\" class=\"data row5 col1\" >202210.0</td>\n",
       "                        <td id=\"T_52fe1_row5_col2\" class=\"data row5 col2\" >10000307.0</td>\n",
       "                        <td id=\"T_52fe1_row5_col3\" class=\"data row5 col3\" >15036.0</td>\n",
       "                        <td id=\"T_52fe1_row5_col4\" class=\"data row5 col4\" >128506.0</td>\n",
       "                        <td id=\"T_52fe1_row5_col5\" class=\"data row5 col5\" >64792.0</td>\n",
       "                        <td id=\"T_52fe1_row5_col6\" class=\"data row5 col6\" >65053.0</td>\n",
       "                        <td id=\"T_52fe1_row5_col7\" class=\"data row5 col7\" >20221019.0</td>\n",
       "                        <td id=\"T_52fe1_row5_col8\" class=\"data row5 col8\" >138.0</td>\n",
       "                        <td id=\"T_52fe1_row5_col9\" class=\"data row5 col9\" >123.0</td>\n",
       "                        <td id=\"T_52fe1_row5_col10\" class=\"data row5 col10\" >0.0</td>\n",
       "                        <td id=\"T_52fe1_row5_col11\" class=\"data row5 col11\" >0.0</td>\n",
       "                        <td id=\"T_52fe1_row5_col12\" class=\"data row5 col12\" >0.0</td>\n",
       "                        <td id=\"T_52fe1_row5_col13\" class=\"data row5 col13\" >158.0</td>\n",
       "                        <td id=\"T_52fe1_row5_col14\" class=\"data row5 col14\" >1.0</td>\n",
       "            </tr>\n",
       "            <tr>\n",
       "                        <th id=\"T_52fe1_level0_row6\" class=\"row_heading level0 row6\" >75%</th>\n",
       "                        <td id=\"T_52fe1_row6_col0\" class=\"data row6 col0\" >332075.0</td>\n",
       "                        <td id=\"T_52fe1_row6_col1\" class=\"data row6 col1\" >202303.0</td>\n",
       "                        <td id=\"T_52fe1_row6_col2\" class=\"data row6 col2\" >10000396.0</td>\n",
       "                        <td id=\"T_52fe1_row6_col3\" class=\"data row6 col3\" >47705.0</td>\n",
       "                        <td id=\"T_52fe1_row6_col4\" class=\"data row6 col4\" >206133.0</td>\n",
       "                        <td id=\"T_52fe1_row6_col5\" class=\"data row6 col5\" >102136.0</td>\n",
       "                        <td id=\"T_52fe1_row6_col6\" class=\"data row6 col6\" >105049.0</td>\n",
       "                        <td id=\"T_52fe1_row6_col7\" class=\"data row6 col7\" >20230313.0</td>\n",
       "                        <td id=\"T_52fe1_row6_col8\" class=\"data row6 col8\" >200.0</td>\n",
       "                        <td id=\"T_52fe1_row6_col9\" class=\"data row6 col9\" >194.0</td>\n",
       "                        <td id=\"T_52fe1_row6_col10\" class=\"data row6 col10\" >9.0</td>\n",
       "                        <td id=\"T_52fe1_row6_col11\" class=\"data row6 col11\" >14.0</td>\n",
       "                        <td id=\"T_52fe1_row6_col12\" class=\"data row6 col12\" >1.0</td>\n",
       "                        <td id=\"T_52fe1_row6_col13\" class=\"data row6 col13\" >250.0</td>\n",
       "                        <td id=\"T_52fe1_row6_col14\" class=\"data row6 col14\" >2.0</td>\n",
       "            </tr>\n",
       "            <tr>\n",
       "                        <th id=\"T_52fe1_level0_row7\" class=\"row_heading level0 row7\" >max</th>\n",
       "                        <td id=\"T_52fe1_row7_col0\" class=\"data row7 col0\" >443118.0</td>\n",
       "                        <td id=\"T_52fe1_row7_col1\" class=\"data row7 col1\" >202307.0</td>\n",
       "                        <td id=\"T_52fe1_row7_col2\" class=\"data row7 col2\" >10311831.0</td>\n",
       "                        <td id=\"T_52fe1_row7_col3\" class=\"data row7 col3\" >106092.0</td>\n",
       "                        <td id=\"T_52fe1_row7_col4\" class=\"data row7 col4\" >314830.0</td>\n",
       "                        <td id=\"T_52fe1_row7_col5\" class=\"data row7 col5\" >176510.0</td>\n",
       "                        <td id=\"T_52fe1_row7_col6\" class=\"data row7 col6\" >174902.0</td>\n",
       "                        <td id=\"T_52fe1_row7_col7\" class=\"data row7 col7\" >20230731.0</td>\n",
       "                        <td id=\"T_52fe1_row7_col8\" class=\"data row7 col8\" >507.0</td>\n",
       "                        <td id=\"T_52fe1_row7_col9\" class=\"data row7 col9\" >1056.0</td>\n",
       "                        <td id=\"T_52fe1_row7_col10\" class=\"data row7 col10\" >407.0</td>\n",
       "                        <td id=\"T_52fe1_row7_col11\" class=\"data row7 col11\" >323.0</td>\n",
       "                        <td id=\"T_52fe1_row7_col12\" class=\"data row7 col12\" >3565.0</td>\n",
       "                        <td id=\"T_52fe1_row7_col13\" class=\"data row7 col13\" >3791.0</td>\n",
       "                        <td id=\"T_52fe1_row7_col14\" class=\"data row7 col14\" >2.0</td>\n",
       "            </tr>\n",
       "    </tbody></table>"
      ],
      "text/plain": [
       "<pandas.io.formats.style.Styler at 0x7ff513788b20>"
      ]
     },
     "execution_count": 5,
     "metadata": {},
     "output_type": "execute_result"
    }
   ],
   "source": [
    "data.describe().style.format('{:.1f}')"
   ]
  },
  {
   "cell_type": "markdown",
   "metadata": {},
   "source": [
    "Разведочный анализ данных "
   ]
  },
  {
   "cell_type": "code",
   "execution_count": 6,
   "metadata": {},
   "outputs": [
    {
     "data": {
      "text/html": [
       "<div>\n",
       "<style scoped>\n",
       "    .dataframe tbody tr th:only-of-type {\n",
       "        vertical-align: middle;\n",
       "    }\n",
       "\n",
       "    .dataframe tbody tr th {\n",
       "        vertical-align: top;\n",
       "    }\n",
       "\n",
       "    .dataframe thead th {\n",
       "        text-align: right;\n",
       "    }\n",
       "</style>\n",
       "<table border=\"1\" class=\"dataframe\">\n",
       "  <thead>\n",
       "    <tr style=\"text-align: right;\">\n",
       "      <th></th>\n",
       "      <th>green</th>\n",
       "      <th>yellow</th>\n",
       "      <th>red</th>\n",
       "      <th>ud</th>\n",
       "      <th>demand</th>\n",
       "    </tr>\n",
       "    <tr>\n",
       "      <th>date</th>\n",
       "      <th></th>\n",
       "      <th></th>\n",
       "      <th></th>\n",
       "      <th></th>\n",
       "      <th></th>\n",
       "    </tr>\n",
       "  </thead>\n",
       "  <tbody>\n",
       "    <tr>\n",
       "      <th>2021-01-01</th>\n",
       "      <td>520</td>\n",
       "      <td>20</td>\n",
       "      <td>250</td>\n",
       "      <td>0</td>\n",
       "      <td>790</td>\n",
       "    </tr>\n",
       "    <tr>\n",
       "      <th>2021-02-01</th>\n",
       "      <td>13841</td>\n",
       "      <td>431</td>\n",
       "      <td>1702</td>\n",
       "      <td>502</td>\n",
       "      <td>16476</td>\n",
       "    </tr>\n",
       "    <tr>\n",
       "      <th>2022-01-01</th>\n",
       "      <td>533</td>\n",
       "      <td>167</td>\n",
       "      <td>121</td>\n",
       "      <td>440</td>\n",
       "      <td>1261</td>\n",
       "    </tr>\n",
       "    <tr>\n",
       "      <th>2022-01-02</th>\n",
       "      <td>123</td>\n",
       "      <td>68</td>\n",
       "      <td>226</td>\n",
       "      <td>0</td>\n",
       "      <td>417</td>\n",
       "    </tr>\n",
       "    <tr>\n",
       "      <th>2022-01-03</th>\n",
       "      <td>409</td>\n",
       "      <td>708</td>\n",
       "      <td>102</td>\n",
       "      <td>0</td>\n",
       "      <td>1219</td>\n",
       "    </tr>\n",
       "    <tr>\n",
       "      <th>...</th>\n",
       "      <td>...</td>\n",
       "      <td>...</td>\n",
       "      <td>...</td>\n",
       "      <td>...</td>\n",
       "      <td>...</td>\n",
       "    </tr>\n",
       "    <tr>\n",
       "      <th>2023-07-27</th>\n",
       "      <td>13661</td>\n",
       "      <td>644</td>\n",
       "      <td>732</td>\n",
       "      <td>2701</td>\n",
       "      <td>17738</td>\n",
       "    </tr>\n",
       "    <tr>\n",
       "      <th>2023-07-28</th>\n",
       "      <td>11780</td>\n",
       "      <td>541</td>\n",
       "      <td>608</td>\n",
       "      <td>2186</td>\n",
       "      <td>15115</td>\n",
       "    </tr>\n",
       "    <tr>\n",
       "      <th>2023-07-29</th>\n",
       "      <td>5361</td>\n",
       "      <td>174</td>\n",
       "      <td>264</td>\n",
       "      <td>378</td>\n",
       "      <td>6177</td>\n",
       "    </tr>\n",
       "    <tr>\n",
       "      <th>2023-07-30</th>\n",
       "      <td>2820</td>\n",
       "      <td>44</td>\n",
       "      <td>8</td>\n",
       "      <td>10</td>\n",
       "      <td>2882</td>\n",
       "    </tr>\n",
       "    <tr>\n",
       "      <th>2023-07-31</th>\n",
       "      <td>16696</td>\n",
       "      <td>451</td>\n",
       "      <td>1034</td>\n",
       "      <td>3579</td>\n",
       "      <td>21760</td>\n",
       "    </tr>\n",
       "  </tbody>\n",
       "</table>\n",
       "<p>579 rows × 5 columns</p>\n",
       "</div>"
      ],
      "text/plain": [
       "            green  yellow   red    ud  demand\n",
       "date                                         \n",
       "2021-01-01    520      20   250     0     790\n",
       "2021-02-01  13841     431  1702   502   16476\n",
       "2022-01-01    533     167   121   440    1261\n",
       "2022-01-02    123      68   226     0     417\n",
       "2022-01-03    409     708   102     0    1219\n",
       "...           ...     ...   ...   ...     ...\n",
       "2023-07-27  13661     644   732  2701   17738\n",
       "2023-07-28  11780     541   608  2186   15115\n",
       "2023-07-29   5361     174   264   378    6177\n",
       "2023-07-30   2820      44     8    10    2882\n",
       "2023-07-31  16696     451  1034  3579   21760\n",
       "\n",
       "[579 rows x 5 columns]"
      ]
     },
     "execution_count": 6,
     "metadata": {},
     "output_type": "execute_result"
    }
   ],
   "source": [
    "data.date = pd.to_datetime(data.date, format='%Y%m%d')\n",
    "# data = data.set_index('date')\n",
    "data_gr = data.groupby(['date'])[['green',\t'yellow',\t'red',\t'ud',\t'demand']].sum()\n",
    "data_gr"
   ]
  },
  {
   "cell_type": "code",
   "execution_count": 7,
   "metadata": {},
   "outputs": [
    {
     "data": {
      "text/html": [
       "<div>\n",
       "<style scoped>\n",
       "    .dataframe tbody tr th:only-of-type {\n",
       "        vertical-align: middle;\n",
       "    }\n",
       "\n",
       "    .dataframe tbody tr th {\n",
       "        vertical-align: top;\n",
       "    }\n",
       "\n",
       "    .dataframe thead th {\n",
       "        text-align: right;\n",
       "    }\n",
       "</style>\n",
       "<table border=\"1\" class=\"dataframe\">\n",
       "  <thead>\n",
       "    <tr style=\"text-align: right;\">\n",
       "      <th></th>\n",
       "      <th>date</th>\n",
       "      <th>green</th>\n",
       "      <th>yellow</th>\n",
       "      <th>red</th>\n",
       "      <th>ud</th>\n",
       "      <th>demand</th>\n",
       "    </tr>\n",
       "  </thead>\n",
       "  <tbody>\n",
       "    <tr>\n",
       "      <th>0</th>\n",
       "      <td>2021-01-01</td>\n",
       "      <td>520</td>\n",
       "      <td>20</td>\n",
       "      <td>250</td>\n",
       "      <td>0</td>\n",
       "      <td>790</td>\n",
       "    </tr>\n",
       "    <tr>\n",
       "      <th>1</th>\n",
       "      <td>2021-02-01</td>\n",
       "      <td>13841</td>\n",
       "      <td>431</td>\n",
       "      <td>1702</td>\n",
       "      <td>502</td>\n",
       "      <td>16476</td>\n",
       "    </tr>\n",
       "    <tr>\n",
       "      <th>2</th>\n",
       "      <td>2022-01-01</td>\n",
       "      <td>533</td>\n",
       "      <td>167</td>\n",
       "      <td>121</td>\n",
       "      <td>440</td>\n",
       "      <td>1261</td>\n",
       "    </tr>\n",
       "    <tr>\n",
       "      <th>3</th>\n",
       "      <td>2022-01-02</td>\n",
       "      <td>123</td>\n",
       "      <td>68</td>\n",
       "      <td>226</td>\n",
       "      <td>0</td>\n",
       "      <td>417</td>\n",
       "    </tr>\n",
       "    <tr>\n",
       "      <th>4</th>\n",
       "      <td>2022-01-03</td>\n",
       "      <td>409</td>\n",
       "      <td>708</td>\n",
       "      <td>102</td>\n",
       "      <td>0</td>\n",
       "      <td>1219</td>\n",
       "    </tr>\n",
       "    <tr>\n",
       "      <th>...</th>\n",
       "      <td>...</td>\n",
       "      <td>...</td>\n",
       "      <td>...</td>\n",
       "      <td>...</td>\n",
       "      <td>...</td>\n",
       "      <td>...</td>\n",
       "    </tr>\n",
       "    <tr>\n",
       "      <th>574</th>\n",
       "      <td>2023-07-27</td>\n",
       "      <td>13661</td>\n",
       "      <td>644</td>\n",
       "      <td>732</td>\n",
       "      <td>2701</td>\n",
       "      <td>17738</td>\n",
       "    </tr>\n",
       "    <tr>\n",
       "      <th>575</th>\n",
       "      <td>2023-07-28</td>\n",
       "      <td>11780</td>\n",
       "      <td>541</td>\n",
       "      <td>608</td>\n",
       "      <td>2186</td>\n",
       "      <td>15115</td>\n",
       "    </tr>\n",
       "    <tr>\n",
       "      <th>576</th>\n",
       "      <td>2023-07-29</td>\n",
       "      <td>5361</td>\n",
       "      <td>174</td>\n",
       "      <td>264</td>\n",
       "      <td>378</td>\n",
       "      <td>6177</td>\n",
       "    </tr>\n",
       "    <tr>\n",
       "      <th>577</th>\n",
       "      <td>2023-07-30</td>\n",
       "      <td>2820</td>\n",
       "      <td>44</td>\n",
       "      <td>8</td>\n",
       "      <td>10</td>\n",
       "      <td>2882</td>\n",
       "    </tr>\n",
       "    <tr>\n",
       "      <th>578</th>\n",
       "      <td>2023-07-31</td>\n",
       "      <td>16696</td>\n",
       "      <td>451</td>\n",
       "      <td>1034</td>\n",
       "      <td>3579</td>\n",
       "      <td>21760</td>\n",
       "    </tr>\n",
       "  </tbody>\n",
       "</table>\n",
       "<p>579 rows × 6 columns</p>\n",
       "</div>"
      ],
      "text/plain": [
       "          date  green  yellow   red    ud  demand\n",
       "0   2021-01-01    520      20   250     0     790\n",
       "1   2021-02-01  13841     431  1702   502   16476\n",
       "2   2022-01-01    533     167   121   440    1261\n",
       "3   2022-01-02    123      68   226     0     417\n",
       "4   2022-01-03    409     708   102     0    1219\n",
       "..         ...    ...     ...   ...   ...     ...\n",
       "574 2023-07-27  13661     644   732  2701   17738\n",
       "575 2023-07-28  11780     541   608  2186   15115\n",
       "576 2023-07-29   5361     174   264   378    6177\n",
       "577 2023-07-30   2820      44     8    10    2882\n",
       "578 2023-07-31  16696     451  1034  3579   21760\n",
       "\n",
       "[579 rows x 6 columns]"
      ]
     },
     "execution_count": 7,
     "metadata": {},
     "output_type": "execute_result"
    }
   ],
   "source": [
    "data_gr = data_gr.reset_index()\n",
    "data_gr"
   ]
  },
  {
   "cell_type": "code",
   "execution_count": 8,
   "metadata": {},
   "outputs": [],
   "source": [
    "def num_formater(df, cols_f):\n",
    "    # formatter = dict(zip(cols, format*len(cols)))\n",
    "    for c in cols_f.keys():\n",
    "        df[c] = df[c].map(cols_f[c])\n",
    "    return df\n",
    "\n",
    "def plot_graph(df, x_name='date', y_name='demand', title_n='Спрос на офтальмологов', colour_col=None):\n",
    "    fig = px.line(\n",
    "        data_frame = df.reset_index(),\n",
    "        x      = x_name,\n",
    "        y      = y_name,\n",
    "        color  = colour_col,\n",
    "        title  = title_n,\n",
    "        width  = 800,\n",
    "        height = 450\n",
    "    )\n",
    "    fig.update_layout(\n",
    "        width  = 1800,\n",
    "        height = 600,\n",
    "        margin=dict(l=20, r=20, t=35, b=20),\n",
    "        legend=dict(\n",
    "            orientation=\"h\",\n",
    "            yanchor=\"top\",\n",
    "            y=1,\n",
    "            xanchor=\"left\",\n",
    "            x=0.001\n",
    "        )\n",
    "    )\n",
    "    fig.update_xaxes(rangeslider_visible=True)\n",
    "    fig.show()\n",
    "    \n",
    "def create_corr_plot(series, plot_pacf=False):\n",
    "    corr_array = pacf(series.dropna(), alpha=0.05) if plot_pacf else acf(series.dropna(), alpha=0.05)\n",
    "    lower_y = corr_array[1][:,0] - corr_array[0]\n",
    "    upper_y = corr_array[1][:,1] - corr_array[0]\n",
    "\n",
    "    fig = go.Figure()\n",
    "    [fig.add_scatter(x=(x,x), y=(0,corr_array[0][x]), mode='lines',line_color='#3f3f3f') \n",
    "     for x in range(len(corr_array[0]))]\n",
    "    fig.add_scatter(x=np.arange(len(corr_array[0])), y=corr_array[0], mode='markers', marker_color='#1f77b4',\n",
    "                   marker_size=12)\n",
    "    fig.add_scatter(x=np.arange(len(corr_array[0])), y=upper_y, mode='lines', line_color='rgba(255,255,255,0)')\n",
    "    fig.add_scatter(x=np.arange(len(corr_array[0])), y=lower_y, mode='lines',fillcolor='rgba(32, 146, 230,0.3)',\n",
    "            fill='tonexty', line_color='rgba(255,255,255,0)')\n",
    "    fig.update_traces(showlegend=False)\n",
    "    fig.update_xaxes(range=[-1,42])\n",
    "    fig.update_yaxes(zerolinecolor='#000000')\n",
    "    \n",
    "    title='Partial Autocorrelation (PACF)' if plot_pacf else 'Autocorrelation (ACF)'\n",
    "    fig.update_layout(title=title)\n",
    "    fig.show()\n",
    "    \n",
    "def count_metrics(test, predictions):\n",
    "    metrics = {}\n",
    "    metrics['mape'] = mean_absolute_percentage_error(test, predictions)\n",
    "    metrics['mae'] = mean_absolute_error(test, predictions)\n",
    "    metrics['mse'] = mean_squared_error(test, predictions)\n",
    "    metrics['R^2'] =  r2_score(test, predictions)\n",
    "    metrics_= pd.DataFrame(data = metrics.values(), index=metrics.keys(), columns=['model_res'])\n",
    "    return num_formater(metrics_, {'model_res':r'{:.2f}'.format})\n",
    "\n",
    "def plot_seasonal_decompose(result:DecomposeResult, dates:pd.Series=None, title:str=\"Seasonal Decomposition\"):\n",
    "    x_values = dates if dates is not None else np.arange(len(result.observed))\n",
    "    return (\n",
    "        make_subplots(\n",
    "            rows=4,\n",
    "            cols=1,\n",
    "            subplot_titles=[\"Observed\", \"Trend\", \"Seasonal\", \"Residuals\"],\n",
    "        )\n",
    "        .add_trace(\n",
    "            go.Scatter(x=x_values, y=result.observed, mode=\"lines\", name='Observed'),\n",
    "            row=1,\n",
    "            col=1,\n",
    "        )\n",
    "        .add_trace(\n",
    "            go.Scatter(x=x_values, y=result.trend, mode=\"lines\", name='Trend'),\n",
    "            row=2,\n",
    "            col=1,\n",
    "        )\n",
    "        .add_trace(\n",
    "            go.Scatter(x=x_values, y=result.seasonal, mode=\"lines\", name='Seasonal'),\n",
    "            row=3,\n",
    "            col=1,\n",
    "        )\n",
    "        .add_trace(\n",
    "            go.Scatter(x=x_values, y=result.resid, mode=\"lines\", name='Residual'),\n",
    "            row=4,\n",
    "            col=1,\n",
    "        )\n",
    "        .update_layout(\n",
    "            height=900, title=f'<b>{title}</b>', margin={'t':100}, title_x=0.5, showlegend=False\n",
    "        )\n",
    "    )"
   ]
  },
  {
   "cell_type": "code",
   "execution_count": 9,
   "metadata": {},
   "outputs": [
    {
     "data": {
      "application/vnd.plotly.v1+json": {
       "config": {
        "plotlyServerURL": "https://plot.ly"
       },
       "data": [
        {
         "hovertemplate": "date=%{x}<br>demand=%{y}<extra></extra>",
         "legendgroup": "",
         "line": {
          "color": "#636efa",
          "dash": "solid"
         },
         "marker": {
          "symbol": "circle"
         },
         "mode": "lines",
         "name": "",
         "orientation": "v",
         "showlegend": false,
         "type": "scatter",
         "x": [
          "2021-01-01T00:00:00",
          "2021-02-01T00:00:00",
          "2022-01-01T00:00:00",
          "2022-01-02T00:00:00",
          "2022-01-03T00:00:00",
          "2022-01-04T00:00:00",
          "2022-01-05T00:00:00",
          "2022-01-06T00:00:00",
          "2022-01-07T00:00:00",
          "2022-01-08T00:00:00",
          "2022-01-09T00:00:00",
          "2022-01-10T00:00:00",
          "2022-01-11T00:00:00",
          "2022-01-12T00:00:00",
          "2022-01-13T00:00:00",
          "2022-01-14T00:00:00",
          "2022-01-15T00:00:00",
          "2022-01-16T00:00:00",
          "2022-01-17T00:00:00",
          "2022-01-18T00:00:00",
          "2022-01-19T00:00:00",
          "2022-01-20T00:00:00",
          "2022-01-21T00:00:00",
          "2022-01-22T00:00:00",
          "2022-01-23T00:00:00",
          "2022-01-24T00:00:00",
          "2022-01-25T00:00:00",
          "2022-01-26T00:00:00",
          "2022-01-27T00:00:00",
          "2022-01-28T00:00:00",
          "2022-01-29T00:00:00",
          "2022-01-30T00:00:00",
          "2022-01-31T00:00:00",
          "2022-02-01T00:00:00",
          "2022-02-02T00:00:00",
          "2022-02-03T00:00:00",
          "2022-02-04T00:00:00",
          "2022-02-05T00:00:00",
          "2022-02-06T00:00:00",
          "2022-02-07T00:00:00",
          "2022-02-08T00:00:00",
          "2022-02-09T00:00:00",
          "2022-02-10T00:00:00",
          "2022-02-11T00:00:00",
          "2022-02-12T00:00:00",
          "2022-02-13T00:00:00",
          "2022-02-14T00:00:00",
          "2022-02-15T00:00:00",
          "2022-02-16T00:00:00",
          "2022-02-17T00:00:00",
          "2022-02-18T00:00:00",
          "2022-02-19T00:00:00",
          "2022-02-20T00:00:00",
          "2022-02-21T00:00:00",
          "2022-02-22T00:00:00",
          "2022-02-23T00:00:00",
          "2022-02-24T00:00:00",
          "2022-02-25T00:00:00",
          "2022-02-26T00:00:00",
          "2022-02-27T00:00:00",
          "2022-02-28T00:00:00",
          "2022-03-01T00:00:00",
          "2022-03-02T00:00:00",
          "2022-03-03T00:00:00",
          "2022-03-04T00:00:00",
          "2022-03-05T00:00:00",
          "2022-03-06T00:00:00",
          "2022-03-07T00:00:00",
          "2022-03-08T00:00:00",
          "2022-03-09T00:00:00",
          "2022-03-10T00:00:00",
          "2022-03-11T00:00:00",
          "2022-03-12T00:00:00",
          "2022-03-13T00:00:00",
          "2022-03-14T00:00:00",
          "2022-03-15T00:00:00",
          "2022-03-16T00:00:00",
          "2022-03-17T00:00:00",
          "2022-03-18T00:00:00",
          "2022-03-19T00:00:00",
          "2022-03-20T00:00:00",
          "2022-03-21T00:00:00",
          "2022-03-22T00:00:00",
          "2022-03-23T00:00:00",
          "2022-03-24T00:00:00",
          "2022-03-25T00:00:00",
          "2022-03-26T00:00:00",
          "2022-03-27T00:00:00",
          "2022-03-28T00:00:00",
          "2022-03-29T00:00:00",
          "2022-03-30T00:00:00",
          "2022-03-31T00:00:00",
          "2022-04-01T00:00:00",
          "2022-04-02T00:00:00",
          "2022-04-03T00:00:00",
          "2022-04-04T00:00:00",
          "2022-04-05T00:00:00",
          "2022-04-06T00:00:00",
          "2022-04-07T00:00:00",
          "2022-04-08T00:00:00",
          "2022-04-09T00:00:00",
          "2022-04-10T00:00:00",
          "2022-04-11T00:00:00",
          "2022-04-12T00:00:00",
          "2022-04-13T00:00:00",
          "2022-04-14T00:00:00",
          "2022-04-15T00:00:00",
          "2022-04-16T00:00:00",
          "2022-04-17T00:00:00",
          "2022-04-18T00:00:00",
          "2022-04-19T00:00:00",
          "2022-04-20T00:00:00",
          "2022-04-21T00:00:00",
          "2022-04-22T00:00:00",
          "2022-04-23T00:00:00",
          "2022-04-24T00:00:00",
          "2022-04-25T00:00:00",
          "2022-04-26T00:00:00",
          "2022-04-27T00:00:00",
          "2022-04-28T00:00:00",
          "2022-04-29T00:00:00",
          "2022-04-30T00:00:00",
          "2022-05-01T00:00:00",
          "2022-05-02T00:00:00",
          "2022-05-03T00:00:00",
          "2022-05-04T00:00:00",
          "2022-05-05T00:00:00",
          "2022-05-06T00:00:00",
          "2022-05-07T00:00:00",
          "2022-05-08T00:00:00",
          "2022-05-09T00:00:00",
          "2022-05-10T00:00:00",
          "2022-05-11T00:00:00",
          "2022-05-12T00:00:00",
          "2022-05-13T00:00:00",
          "2022-05-14T00:00:00",
          "2022-05-15T00:00:00",
          "2022-05-16T00:00:00",
          "2022-05-17T00:00:00",
          "2022-05-18T00:00:00",
          "2022-05-19T00:00:00",
          "2022-05-20T00:00:00",
          "2022-05-21T00:00:00",
          "2022-05-22T00:00:00",
          "2022-05-23T00:00:00",
          "2022-05-24T00:00:00",
          "2022-05-25T00:00:00",
          "2022-05-26T00:00:00",
          "2022-05-27T00:00:00",
          "2022-05-28T00:00:00",
          "2022-05-29T00:00:00",
          "2022-05-30T00:00:00",
          "2022-05-31T00:00:00",
          "2022-06-01T00:00:00",
          "2022-06-02T00:00:00",
          "2022-06-03T00:00:00",
          "2022-06-04T00:00:00",
          "2022-06-05T00:00:00",
          "2022-06-06T00:00:00",
          "2022-06-07T00:00:00",
          "2022-06-08T00:00:00",
          "2022-06-09T00:00:00",
          "2022-06-10T00:00:00",
          "2022-06-11T00:00:00",
          "2022-06-12T00:00:00",
          "2022-06-13T00:00:00",
          "2022-06-14T00:00:00",
          "2022-06-15T00:00:00",
          "2022-06-16T00:00:00",
          "2022-06-17T00:00:00",
          "2022-06-18T00:00:00",
          "2022-06-19T00:00:00",
          "2022-06-20T00:00:00",
          "2022-06-21T00:00:00",
          "2022-06-22T00:00:00",
          "2022-06-23T00:00:00",
          "2022-06-24T00:00:00",
          "2022-06-25T00:00:00",
          "2022-06-26T00:00:00",
          "2022-06-27T00:00:00",
          "2022-06-28T00:00:00",
          "2022-06-29T00:00:00",
          "2022-06-30T00:00:00",
          "2022-07-01T00:00:00",
          "2022-07-02T00:00:00",
          "2022-07-03T00:00:00",
          "2022-07-04T00:00:00",
          "2022-07-05T00:00:00",
          "2022-07-06T00:00:00",
          "2022-07-07T00:00:00",
          "2022-07-08T00:00:00",
          "2022-07-09T00:00:00",
          "2022-07-10T00:00:00",
          "2022-07-11T00:00:00",
          "2022-07-12T00:00:00",
          "2022-07-13T00:00:00",
          "2022-07-14T00:00:00",
          "2022-07-15T00:00:00",
          "2022-07-16T00:00:00",
          "2022-07-17T00:00:00",
          "2022-07-18T00:00:00",
          "2022-07-19T00:00:00",
          "2022-07-20T00:00:00",
          "2022-07-21T00:00:00",
          "2022-07-22T00:00:00",
          "2022-07-23T00:00:00",
          "2022-07-24T00:00:00",
          "2022-07-25T00:00:00",
          "2022-07-26T00:00:00",
          "2022-07-27T00:00:00",
          "2022-07-28T00:00:00",
          "2022-07-29T00:00:00",
          "2022-07-30T00:00:00",
          "2022-07-31T00:00:00",
          "2022-08-01T00:00:00",
          "2022-08-02T00:00:00",
          "2022-08-03T00:00:00",
          "2022-08-04T00:00:00",
          "2022-08-05T00:00:00",
          "2022-08-06T00:00:00",
          "2022-08-07T00:00:00",
          "2022-08-08T00:00:00",
          "2022-08-09T00:00:00",
          "2022-08-10T00:00:00",
          "2022-08-11T00:00:00",
          "2022-08-12T00:00:00",
          "2022-08-13T00:00:00",
          "2022-08-14T00:00:00",
          "2022-08-15T00:00:00",
          "2022-08-16T00:00:00",
          "2022-08-17T00:00:00",
          "2022-08-18T00:00:00",
          "2022-08-19T00:00:00",
          "2022-08-20T00:00:00",
          "2022-08-21T00:00:00",
          "2022-08-22T00:00:00",
          "2022-08-23T00:00:00",
          "2022-08-24T00:00:00",
          "2022-08-25T00:00:00",
          "2022-08-26T00:00:00",
          "2022-08-27T00:00:00",
          "2022-08-28T00:00:00",
          "2022-08-29T00:00:00",
          "2022-08-30T00:00:00",
          "2022-08-31T00:00:00",
          "2022-09-01T00:00:00",
          "2022-09-02T00:00:00",
          "2022-09-03T00:00:00",
          "2022-09-04T00:00:00",
          "2022-09-05T00:00:00",
          "2022-09-06T00:00:00",
          "2022-09-07T00:00:00",
          "2022-09-08T00:00:00",
          "2022-09-09T00:00:00",
          "2022-09-10T00:00:00",
          "2022-09-11T00:00:00",
          "2022-09-12T00:00:00",
          "2022-09-13T00:00:00",
          "2022-09-14T00:00:00",
          "2022-09-15T00:00:00",
          "2022-09-16T00:00:00",
          "2022-09-17T00:00:00",
          "2022-09-18T00:00:00",
          "2022-09-19T00:00:00",
          "2022-09-20T00:00:00",
          "2022-09-21T00:00:00",
          "2022-09-22T00:00:00",
          "2022-09-23T00:00:00",
          "2022-09-24T00:00:00",
          "2022-09-25T00:00:00",
          "2022-09-26T00:00:00",
          "2022-09-27T00:00:00",
          "2022-09-28T00:00:00",
          "2022-09-29T00:00:00",
          "2022-09-30T00:00:00",
          "2022-10-01T00:00:00",
          "2022-10-02T00:00:00",
          "2022-10-03T00:00:00",
          "2022-10-04T00:00:00",
          "2022-10-05T00:00:00",
          "2022-10-06T00:00:00",
          "2022-10-07T00:00:00",
          "2022-10-08T00:00:00",
          "2022-10-09T00:00:00",
          "2022-10-10T00:00:00",
          "2022-10-11T00:00:00",
          "2022-10-12T00:00:00",
          "2022-10-13T00:00:00",
          "2022-10-14T00:00:00",
          "2022-10-15T00:00:00",
          "2022-10-16T00:00:00",
          "2022-10-17T00:00:00",
          "2022-10-18T00:00:00",
          "2022-10-19T00:00:00",
          "2022-10-20T00:00:00",
          "2022-10-21T00:00:00",
          "2022-10-22T00:00:00",
          "2022-10-23T00:00:00",
          "2022-10-24T00:00:00",
          "2022-10-25T00:00:00",
          "2022-10-26T00:00:00",
          "2022-10-27T00:00:00",
          "2022-10-28T00:00:00",
          "2022-10-29T00:00:00",
          "2022-10-30T00:00:00",
          "2022-10-31T00:00:00",
          "2022-11-01T00:00:00",
          "2022-11-02T00:00:00",
          "2022-11-03T00:00:00",
          "2022-11-04T00:00:00",
          "2022-11-05T00:00:00",
          "2022-11-06T00:00:00",
          "2022-11-07T00:00:00",
          "2022-11-08T00:00:00",
          "2022-11-09T00:00:00",
          "2022-11-10T00:00:00",
          "2022-11-11T00:00:00",
          "2022-11-12T00:00:00",
          "2022-11-13T00:00:00",
          "2022-11-14T00:00:00",
          "2022-11-15T00:00:00",
          "2022-11-16T00:00:00",
          "2022-11-17T00:00:00",
          "2022-11-18T00:00:00",
          "2022-11-19T00:00:00",
          "2022-11-20T00:00:00",
          "2022-11-21T00:00:00",
          "2022-11-22T00:00:00",
          "2022-11-23T00:00:00",
          "2022-11-24T00:00:00",
          "2022-11-25T00:00:00",
          "2022-11-26T00:00:00",
          "2022-11-27T00:00:00",
          "2022-11-28T00:00:00",
          "2022-11-29T00:00:00",
          "2022-11-30T00:00:00",
          "2022-12-01T00:00:00",
          "2022-12-02T00:00:00",
          "2022-12-03T00:00:00",
          "2022-12-04T00:00:00",
          "2022-12-05T00:00:00",
          "2022-12-06T00:00:00",
          "2022-12-07T00:00:00",
          "2022-12-08T00:00:00",
          "2022-12-09T00:00:00",
          "2022-12-10T00:00:00",
          "2022-12-11T00:00:00",
          "2022-12-12T00:00:00",
          "2022-12-13T00:00:00",
          "2022-12-14T00:00:00",
          "2022-12-15T00:00:00",
          "2022-12-16T00:00:00",
          "2022-12-17T00:00:00",
          "2022-12-18T00:00:00",
          "2022-12-19T00:00:00",
          "2022-12-20T00:00:00",
          "2022-12-21T00:00:00",
          "2022-12-22T00:00:00",
          "2022-12-23T00:00:00",
          "2022-12-24T00:00:00",
          "2022-12-25T00:00:00",
          "2022-12-26T00:00:00",
          "2022-12-27T00:00:00",
          "2022-12-28T00:00:00",
          "2022-12-29T00:00:00",
          "2022-12-30T00:00:00",
          "2022-12-31T00:00:00",
          "2023-01-01T00:00:00",
          "2023-01-02T00:00:00",
          "2023-01-03T00:00:00",
          "2023-01-04T00:00:00",
          "2023-01-05T00:00:00",
          "2023-01-06T00:00:00",
          "2023-01-07T00:00:00",
          "2023-01-08T00:00:00",
          "2023-01-09T00:00:00",
          "2023-01-10T00:00:00",
          "2023-01-11T00:00:00",
          "2023-01-12T00:00:00",
          "2023-01-13T00:00:00",
          "2023-01-14T00:00:00",
          "2023-01-15T00:00:00",
          "2023-01-16T00:00:00",
          "2023-01-17T00:00:00",
          "2023-01-18T00:00:00",
          "2023-01-19T00:00:00",
          "2023-01-20T00:00:00",
          "2023-01-21T00:00:00",
          "2023-01-22T00:00:00",
          "2023-01-23T00:00:00",
          "2023-01-24T00:00:00",
          "2023-01-25T00:00:00",
          "2023-01-26T00:00:00",
          "2023-01-27T00:00:00",
          "2023-01-28T00:00:00",
          "2023-01-29T00:00:00",
          "2023-01-30T00:00:00",
          "2023-01-31T00:00:00",
          "2023-02-01T00:00:00",
          "2023-02-02T00:00:00",
          "2023-02-03T00:00:00",
          "2023-02-04T00:00:00",
          "2023-02-05T00:00:00",
          "2023-02-06T00:00:00",
          "2023-02-07T00:00:00",
          "2023-02-08T00:00:00",
          "2023-02-09T00:00:00",
          "2023-02-10T00:00:00",
          "2023-02-11T00:00:00",
          "2023-02-12T00:00:00",
          "2023-02-13T00:00:00",
          "2023-02-14T00:00:00",
          "2023-02-15T00:00:00",
          "2023-02-16T00:00:00",
          "2023-02-17T00:00:00",
          "2023-02-18T00:00:00",
          "2023-02-19T00:00:00",
          "2023-02-20T00:00:00",
          "2023-02-21T00:00:00",
          "2023-02-22T00:00:00",
          "2023-02-23T00:00:00",
          "2023-02-24T00:00:00",
          "2023-02-25T00:00:00",
          "2023-02-26T00:00:00",
          "2023-02-27T00:00:00",
          "2023-02-28T00:00:00",
          "2023-03-01T00:00:00",
          "2023-03-02T00:00:00",
          "2023-03-03T00:00:00",
          "2023-03-04T00:00:00",
          "2023-03-05T00:00:00",
          "2023-03-06T00:00:00",
          "2023-03-07T00:00:00",
          "2023-03-08T00:00:00",
          "2023-03-09T00:00:00",
          "2023-03-10T00:00:00",
          "2023-03-11T00:00:00",
          "2023-03-12T00:00:00",
          "2023-03-13T00:00:00",
          "2023-03-14T00:00:00",
          "2023-03-15T00:00:00",
          "2023-03-16T00:00:00",
          "2023-03-17T00:00:00",
          "2023-03-18T00:00:00",
          "2023-03-19T00:00:00",
          "2023-03-20T00:00:00",
          "2023-03-21T00:00:00",
          "2023-03-22T00:00:00",
          "2023-03-23T00:00:00",
          "2023-03-24T00:00:00",
          "2023-03-25T00:00:00",
          "2023-03-26T00:00:00",
          "2023-03-27T00:00:00",
          "2023-03-28T00:00:00",
          "2023-03-29T00:00:00",
          "2023-03-30T00:00:00",
          "2023-03-31T00:00:00",
          "2023-04-01T00:00:00",
          "2023-04-02T00:00:00",
          "2023-04-03T00:00:00",
          "2023-04-04T00:00:00",
          "2023-04-05T00:00:00",
          "2023-04-06T00:00:00",
          "2023-04-07T00:00:00",
          "2023-04-08T00:00:00",
          "2023-04-09T00:00:00",
          "2023-04-10T00:00:00",
          "2023-04-11T00:00:00",
          "2023-04-12T00:00:00",
          "2023-04-13T00:00:00",
          "2023-04-14T00:00:00",
          "2023-04-15T00:00:00",
          "2023-04-16T00:00:00",
          "2023-04-17T00:00:00",
          "2023-04-18T00:00:00",
          "2023-04-19T00:00:00",
          "2023-04-20T00:00:00",
          "2023-04-21T00:00:00",
          "2023-04-22T00:00:00",
          "2023-04-23T00:00:00",
          "2023-04-24T00:00:00",
          "2023-04-25T00:00:00",
          "2023-04-26T00:00:00",
          "2023-04-27T00:00:00",
          "2023-04-28T00:00:00",
          "2023-04-29T00:00:00",
          "2023-04-30T00:00:00",
          "2023-05-01T00:00:00",
          "2023-05-02T00:00:00",
          "2023-05-03T00:00:00",
          "2023-05-04T00:00:00",
          "2023-05-05T00:00:00",
          "2023-05-06T00:00:00",
          "2023-05-07T00:00:00",
          "2023-05-08T00:00:00",
          "2023-05-09T00:00:00",
          "2023-05-10T00:00:00",
          "2023-05-11T00:00:00",
          "2023-05-12T00:00:00",
          "2023-05-13T00:00:00",
          "2023-05-14T00:00:00",
          "2023-05-15T00:00:00",
          "2023-05-16T00:00:00",
          "2023-05-17T00:00:00",
          "2023-05-18T00:00:00",
          "2023-05-19T00:00:00",
          "2023-05-20T00:00:00",
          "2023-05-21T00:00:00",
          "2023-05-22T00:00:00",
          "2023-05-23T00:00:00",
          "2023-05-24T00:00:00",
          "2023-05-25T00:00:00",
          "2023-05-26T00:00:00",
          "2023-05-27T00:00:00",
          "2023-05-28T00:00:00",
          "2023-05-29T00:00:00",
          "2023-05-30T00:00:00",
          "2023-05-31T00:00:00",
          "2023-06-01T00:00:00",
          "2023-06-02T00:00:00",
          "2023-06-03T00:00:00",
          "2023-06-04T00:00:00",
          "2023-06-05T00:00:00",
          "2023-06-06T00:00:00",
          "2023-06-07T00:00:00",
          "2023-06-08T00:00:00",
          "2023-06-09T00:00:00",
          "2023-06-10T00:00:00",
          "2023-06-11T00:00:00",
          "2023-06-12T00:00:00",
          "2023-06-13T00:00:00",
          "2023-06-14T00:00:00",
          "2023-06-15T00:00:00",
          "2023-06-16T00:00:00",
          "2023-06-17T00:00:00",
          "2023-06-18T00:00:00",
          "2023-06-19T00:00:00",
          "2023-06-20T00:00:00",
          "2023-06-21T00:00:00",
          "2023-06-22T00:00:00",
          "2023-06-23T00:00:00",
          "2023-06-24T00:00:00",
          "2023-06-25T00:00:00",
          "2023-06-26T00:00:00",
          "2023-06-27T00:00:00",
          "2023-06-28T00:00:00",
          "2023-06-29T00:00:00",
          "2023-06-30T00:00:00",
          "2023-07-01T00:00:00",
          "2023-07-02T00:00:00",
          "2023-07-03T00:00:00",
          "2023-07-04T00:00:00",
          "2023-07-05T00:00:00",
          "2023-07-06T00:00:00",
          "2023-07-07T00:00:00",
          "2023-07-08T00:00:00",
          "2023-07-09T00:00:00",
          "2023-07-10T00:00:00",
          "2023-07-11T00:00:00",
          "2023-07-12T00:00:00",
          "2023-07-13T00:00:00",
          "2023-07-14T00:00:00",
          "2023-07-15T00:00:00",
          "2023-07-16T00:00:00",
          "2023-07-17T00:00:00",
          "2023-07-18T00:00:00",
          "2023-07-19T00:00:00",
          "2023-07-20T00:00:00",
          "2023-07-21T00:00:00",
          "2023-07-22T00:00:00",
          "2023-07-23T00:00:00",
          "2023-07-24T00:00:00",
          "2023-07-25T00:00:00",
          "2023-07-26T00:00:00",
          "2023-07-27T00:00:00",
          "2023-07-28T00:00:00",
          "2023-07-29T00:00:00",
          "2023-07-30T00:00:00",
          "2023-07-31T00:00:00"
         ],
         "xaxis": "x",
         "y": [
          790,
          16476,
          1261,
          417,
          1219,
          2350,
          1775,
          1629,
          1845,
          1500,
          8424,
          4017,
          18828,
          17415,
          15584,
          13993,
          7099,
          6779,
          2951,
          15770,
          14306,
          14468,
          13108,
          6959,
          6813,
          2624,
          15547,
          15511,
          14733,
          14402,
          9414,
          4833,
          2418,
          18014,
          17875,
          17548,
          17892,
          11497,
          6052,
          1904,
          23646,
          25878,
          24913,
          22987,
          15595,
          10802,
          3326,
          26479,
          26109,
          23106,
          18567,
          9256,
          9061,
          4204,
          17519,
          10400,
          6841,
          16046,
          8796,
          7719,
          4269,
          19910,
          1332,
          1329,
          5876,
          5876,
          6399,
          2287,
          7611,
          6197,
          20531,
          18609,
          9378,
          9504,
          5174,
          22398,
          21700,
          20595,
          17835,
          9557,
          9977,
          5397,
          22294,
          20354,
          19477,
          19013,
          9836,
          9526,
          5999,
          23538,
          22676,
          22028,
          20285,
          10385,
          10781,
          7157,
          24001,
          23077,
          21560,
          19379,
          10965,
          11616,
          5726,
          24031,
          23103,
          20545,
          18375,
          7407,
          10679,
          6612,
          26731,
          25874,
          20953,
          18877,
          9087,
          9438,
          7264,
          25207,
          25392,
          24477,
          20069,
          9995,
          7242,
          3411,
          3245,
          21907,
          21598,
          17878,
          8299,
          7309,
          2345,
          4310,
          9158,
          23815,
          20370,
          10033,
          10508,
          6596,
          21832,
          21312,
          20089,
          17018,
          8928,
          9003,
          6783,
          20521,
          19641,
          18734,
          16721,
          8888,
          7637,
          4560,
          20788,
          2312,
          12599,
          16233,
          8605,
          8068,
          5472,
          19390,
          17918,
          16207,
          13906,
          7322,
          5471,
          4157,
          6739,
          18176,
          15168,
          8586,
          8418,
          7362,
          5876,
          18373,
          17980,
          15977,
          13983,
          7640,
          6940,
          5965,
          16721,
          16504,
          15907,
          14630,
          7819,
          6490,
          5390,
          15553,
          16264,
          14795,
          13498,
          7769,
          6012,
          5729,
          16704,
          15579,
          15373,
          14054,
          7571,
          6804,
          4862,
          16674,
          16261,
          15258,
          13579,
          7481,
          5822,
          393,
          15857,
          15430,
          15068,
          13730,
          7599,
          5821,
          6419,
          18397,
          17006,
          16182,
          14278,
          8399,
          7486,
          5932,
          20619,
          19736,
          19166,
          16699,
          10580,
          9582,
          4674,
          22622,
          21594,
          18458,
          16254,
          9636,
          10671,
          6144,
          21748,
          20731,
          19766,
          17641,
          11003,
          10453,
          5074,
          25185,
          19701,
          21830,
          19877,
          10219,
          4146,
          27817,
          24780,
          23421,
          22850,
          19264,
          10320,
          6241,
          27049,
          25105,
          23813,
          22369,
          19484,
          6300,
          2533,
          21601,
          24063,
          23769,
          22686,
          19800,
          11378,
          3813,
          28566,
          26612,
          26310,
          25833,
          23117,
          13160,
          4912,
          35013,
          32378,
          29050,
          28333,
          24050,
          12349,
          5008,
          31786,
          31019,
          29831,
          28729,
          24368,
          13198,
          7169,
          33339,
          30657,
          28158,
          27535,
          23329,
          12201,
          6152,
          31324,
          30632,
          28898,
          27268,
          24595,
          10621,
          4710,
          31076,
          29641,
          28771,
          24932,
          6315,
          11600,
          6239,
          33422,
          30500,
          28666,
          28299,
          24307,
          14427,
          5068,
          32022,
          29373,
          27497,
          27038,
          22212,
          12963,
          5351,
          29256,
          25970,
          24491,
          24264,
          20848,
          12029,
          5761,
          27326,
          25527,
          24412,
          23271,
          20546,
          11860,
          5427,
          27615,
          25103,
          22785,
          21824,
          19416,
          10677,
          3702,
          23377,
          21277,
          19672,
          19418,
          16258,
          8722,
          3628,
          18168,
          17737,
          17239,
          16409,
          15951,
          10795,
          5447,
          21024,
          17197,
          15456,
          13970,
          10402,
          3610,
          1310,
          3004,
          4341,
          3188,
          4245,
          3699,
          2474,
          6028,
          25125,
          23201,
          21851,
          21107,
          18101,
          10152,
          5018,
          24695,
          22174,
          20506,
          20077,
          18907,
          9656,
          4368,
          25659,
          23637,
          22295,
          21880,
          20082,
          11397,
          5578,
          27090,
          25224,
          25091,
          24597,
          22681,
          13127,
          5433,
          30287,
          29180,
          27891,
          25481,
          23614,
          14331,
          6298,
          32944,
          26886,
          27479,
          27205,
          24115,
          12919,
          6172,
          28508,
          24372,
          18329,
          6407,
          5920,
          11811,
          5895,
          30204,
          26983,
          27799,
          27546,
          24761,
          11570,
          5266,
          32814,
          25533,
          3165,
          31687,
          26189,
          10472,
          5813,
          32008,
          29731,
          29722,
          27029,
          25171,
          8039,
          5239,
          33046,
          30596,
          29730,
          29544,
          25767,
          7782,
          5693,
          33506,
          31750,
          30319,
          29301,
          27176,
          14900,
          4761,
          35724,
          32129,
          31351,
          30026,
          26565,
          12293,
          3447,
          33238,
          31569,
          28762,
          25495,
          23241,
          12010,
          4562,
          31997,
          31333,
          30258,
          28762,
          24202,
          11284,
          4411,
          34880,
          36818,
          34425,
          29862,
          24633,
          12217,
          4470,
          8502,
          28940,
          26086,
          24626,
          21294,
          9709,
          5298,
          4422,
          5790,
          27679,
          25702,
          22064,
          11856,
          5005,
          27923,
          25408,
          23704,
          21917,
          20060,
          10911,
          4658,
          25312,
          24088,
          22651,
          21665,
          16689,
          8736,
          4561,
          25059,
          24400,
          22618,
          22241,
          19555,
          11166,
          5260,
          25822,
          24248,
          20699,
          21797,
          18451,
          9614,
          3633,
          6713,
          24404,
          21893,
          20564,
          17599,
          9202,
          3177,
          22974,
          22049,
          20869,
          19322,
          16816,
          7180,
          3634,
          20625,
          20905,
          19574,
          19261,
          17558,
          9907,
          5274,
          23057,
          20579,
          19697,
          18279,
          16120,
          8200,
          3518,
          20525,
          18962,
          18603,
          17110,
          15801,
          9390,
          4518,
          20770,
          18377,
          17629,
          17717,
          15826,
          8491,
          3359,
          20388,
          19452,
          18057,
          17738,
          15115,
          6177,
          2882,
          21760
         ],
         "yaxis": "y"
        }
       ],
       "layout": {
        "height": 600,
        "legend": {
         "orientation": "h",
         "tracegroupgap": 0,
         "x": 0.001,
         "xanchor": "left",
         "y": 1,
         "yanchor": "top"
        },
        "margin": {
         "b": 20,
         "l": 20,
         "r": 20,
         "t": 35
        },
        "template": {
         "data": {
          "bar": [
           {
            "error_x": {
             "color": "#2a3f5f"
            },
            "error_y": {
             "color": "#2a3f5f"
            },
            "marker": {
             "line": {
              "color": "#E5ECF6",
              "width": 0.5
             },
             "pattern": {
              "fillmode": "overlay",
              "size": 10,
              "solidity": 0.2
             }
            },
            "type": "bar"
           }
          ],
          "barpolar": [
           {
            "marker": {
             "line": {
              "color": "#E5ECF6",
              "width": 0.5
             },
             "pattern": {
              "fillmode": "overlay",
              "size": 10,
              "solidity": 0.2
             }
            },
            "type": "barpolar"
           }
          ],
          "carpet": [
           {
            "aaxis": {
             "endlinecolor": "#2a3f5f",
             "gridcolor": "white",
             "linecolor": "white",
             "minorgridcolor": "white",
             "startlinecolor": "#2a3f5f"
            },
            "baxis": {
             "endlinecolor": "#2a3f5f",
             "gridcolor": "white",
             "linecolor": "white",
             "minorgridcolor": "white",
             "startlinecolor": "#2a3f5f"
            },
            "type": "carpet"
           }
          ],
          "choropleth": [
           {
            "colorbar": {
             "outlinewidth": 0,
             "ticks": ""
            },
            "type": "choropleth"
           }
          ],
          "contour": [
           {
            "colorbar": {
             "outlinewidth": 0,
             "ticks": ""
            },
            "colorscale": [
             [
              0,
              "#0d0887"
             ],
             [
              0.1111111111111111,
              "#46039f"
             ],
             [
              0.2222222222222222,
              "#7201a8"
             ],
             [
              0.3333333333333333,
              "#9c179e"
             ],
             [
              0.4444444444444444,
              "#bd3786"
             ],
             [
              0.5555555555555556,
              "#d8576b"
             ],
             [
              0.6666666666666666,
              "#ed7953"
             ],
             [
              0.7777777777777778,
              "#fb9f3a"
             ],
             [
              0.8888888888888888,
              "#fdca26"
             ],
             [
              1,
              "#f0f921"
             ]
            ],
            "type": "contour"
           }
          ],
          "contourcarpet": [
           {
            "colorbar": {
             "outlinewidth": 0,
             "ticks": ""
            },
            "type": "contourcarpet"
           }
          ],
          "heatmap": [
           {
            "colorbar": {
             "outlinewidth": 0,
             "ticks": ""
            },
            "colorscale": [
             [
              0,
              "#0d0887"
             ],
             [
              0.1111111111111111,
              "#46039f"
             ],
             [
              0.2222222222222222,
              "#7201a8"
             ],
             [
              0.3333333333333333,
              "#9c179e"
             ],
             [
              0.4444444444444444,
              "#bd3786"
             ],
             [
              0.5555555555555556,
              "#d8576b"
             ],
             [
              0.6666666666666666,
              "#ed7953"
             ],
             [
              0.7777777777777778,
              "#fb9f3a"
             ],
             [
              0.8888888888888888,
              "#fdca26"
             ],
             [
              1,
              "#f0f921"
             ]
            ],
            "type": "heatmap"
           }
          ],
          "heatmapgl": [
           {
            "colorbar": {
             "outlinewidth": 0,
             "ticks": ""
            },
            "colorscale": [
             [
              0,
              "#0d0887"
             ],
             [
              0.1111111111111111,
              "#46039f"
             ],
             [
              0.2222222222222222,
              "#7201a8"
             ],
             [
              0.3333333333333333,
              "#9c179e"
             ],
             [
              0.4444444444444444,
              "#bd3786"
             ],
             [
              0.5555555555555556,
              "#d8576b"
             ],
             [
              0.6666666666666666,
              "#ed7953"
             ],
             [
              0.7777777777777778,
              "#fb9f3a"
             ],
             [
              0.8888888888888888,
              "#fdca26"
             ],
             [
              1,
              "#f0f921"
             ]
            ],
            "type": "heatmapgl"
           }
          ],
          "histogram": [
           {
            "marker": {
             "pattern": {
              "fillmode": "overlay",
              "size": 10,
              "solidity": 0.2
             }
            },
            "type": "histogram"
           }
          ],
          "histogram2d": [
           {
            "colorbar": {
             "outlinewidth": 0,
             "ticks": ""
            },
            "colorscale": [
             [
              0,
              "#0d0887"
             ],
             [
              0.1111111111111111,
              "#46039f"
             ],
             [
              0.2222222222222222,
              "#7201a8"
             ],
             [
              0.3333333333333333,
              "#9c179e"
             ],
             [
              0.4444444444444444,
              "#bd3786"
             ],
             [
              0.5555555555555556,
              "#d8576b"
             ],
             [
              0.6666666666666666,
              "#ed7953"
             ],
             [
              0.7777777777777778,
              "#fb9f3a"
             ],
             [
              0.8888888888888888,
              "#fdca26"
             ],
             [
              1,
              "#f0f921"
             ]
            ],
            "type": "histogram2d"
           }
          ],
          "histogram2dcontour": [
           {
            "colorbar": {
             "outlinewidth": 0,
             "ticks": ""
            },
            "colorscale": [
             [
              0,
              "#0d0887"
             ],
             [
              0.1111111111111111,
              "#46039f"
             ],
             [
              0.2222222222222222,
              "#7201a8"
             ],
             [
              0.3333333333333333,
              "#9c179e"
             ],
             [
              0.4444444444444444,
              "#bd3786"
             ],
             [
              0.5555555555555556,
              "#d8576b"
             ],
             [
              0.6666666666666666,
              "#ed7953"
             ],
             [
              0.7777777777777778,
              "#fb9f3a"
             ],
             [
              0.8888888888888888,
              "#fdca26"
             ],
             [
              1,
              "#f0f921"
             ]
            ],
            "type": "histogram2dcontour"
           }
          ],
          "mesh3d": [
           {
            "colorbar": {
             "outlinewidth": 0,
             "ticks": ""
            },
            "type": "mesh3d"
           }
          ],
          "parcoords": [
           {
            "line": {
             "colorbar": {
              "outlinewidth": 0,
              "ticks": ""
             }
            },
            "type": "parcoords"
           }
          ],
          "pie": [
           {
            "automargin": true,
            "type": "pie"
           }
          ],
          "scatter": [
           {
            "fillpattern": {
             "fillmode": "overlay",
             "size": 10,
             "solidity": 0.2
            },
            "type": "scatter"
           }
          ],
          "scatter3d": [
           {
            "line": {
             "colorbar": {
              "outlinewidth": 0,
              "ticks": ""
             }
            },
            "marker": {
             "colorbar": {
              "outlinewidth": 0,
              "ticks": ""
             }
            },
            "type": "scatter3d"
           }
          ],
          "scattercarpet": [
           {
            "marker": {
             "colorbar": {
              "outlinewidth": 0,
              "ticks": ""
             }
            },
            "type": "scattercarpet"
           }
          ],
          "scattergeo": [
           {
            "marker": {
             "colorbar": {
              "outlinewidth": 0,
              "ticks": ""
             }
            },
            "type": "scattergeo"
           }
          ],
          "scattergl": [
           {
            "marker": {
             "colorbar": {
              "outlinewidth": 0,
              "ticks": ""
             }
            },
            "type": "scattergl"
           }
          ],
          "scattermapbox": [
           {
            "marker": {
             "colorbar": {
              "outlinewidth": 0,
              "ticks": ""
             }
            },
            "type": "scattermapbox"
           }
          ],
          "scatterpolar": [
           {
            "marker": {
             "colorbar": {
              "outlinewidth": 0,
              "ticks": ""
             }
            },
            "type": "scatterpolar"
           }
          ],
          "scatterpolargl": [
           {
            "marker": {
             "colorbar": {
              "outlinewidth": 0,
              "ticks": ""
             }
            },
            "type": "scatterpolargl"
           }
          ],
          "scatterternary": [
           {
            "marker": {
             "colorbar": {
              "outlinewidth": 0,
              "ticks": ""
             }
            },
            "type": "scatterternary"
           }
          ],
          "surface": [
           {
            "colorbar": {
             "outlinewidth": 0,
             "ticks": ""
            },
            "colorscale": [
             [
              0,
              "#0d0887"
             ],
             [
              0.1111111111111111,
              "#46039f"
             ],
             [
              0.2222222222222222,
              "#7201a8"
             ],
             [
              0.3333333333333333,
              "#9c179e"
             ],
             [
              0.4444444444444444,
              "#bd3786"
             ],
             [
              0.5555555555555556,
              "#d8576b"
             ],
             [
              0.6666666666666666,
              "#ed7953"
             ],
             [
              0.7777777777777778,
              "#fb9f3a"
             ],
             [
              0.8888888888888888,
              "#fdca26"
             ],
             [
              1,
              "#f0f921"
             ]
            ],
            "type": "surface"
           }
          ],
          "table": [
           {
            "cells": {
             "fill": {
              "color": "#EBF0F8"
             },
             "line": {
              "color": "white"
             }
            },
            "header": {
             "fill": {
              "color": "#C8D4E3"
             },
             "line": {
              "color": "white"
             }
            },
            "type": "table"
           }
          ]
         },
         "layout": {
          "annotationdefaults": {
           "arrowcolor": "#2a3f5f",
           "arrowhead": 0,
           "arrowwidth": 1
          },
          "autotypenumbers": "strict",
          "coloraxis": {
           "colorbar": {
            "outlinewidth": 0,
            "ticks": ""
           }
          },
          "colorscale": {
           "diverging": [
            [
             0,
             "#8e0152"
            ],
            [
             0.1,
             "#c51b7d"
            ],
            [
             0.2,
             "#de77ae"
            ],
            [
             0.3,
             "#f1b6da"
            ],
            [
             0.4,
             "#fde0ef"
            ],
            [
             0.5,
             "#f7f7f7"
            ],
            [
             0.6,
             "#e6f5d0"
            ],
            [
             0.7,
             "#b8e186"
            ],
            [
             0.8,
             "#7fbc41"
            ],
            [
             0.9,
             "#4d9221"
            ],
            [
             1,
             "#276419"
            ]
           ],
           "sequential": [
            [
             0,
             "#0d0887"
            ],
            [
             0.1111111111111111,
             "#46039f"
            ],
            [
             0.2222222222222222,
             "#7201a8"
            ],
            [
             0.3333333333333333,
             "#9c179e"
            ],
            [
             0.4444444444444444,
             "#bd3786"
            ],
            [
             0.5555555555555556,
             "#d8576b"
            ],
            [
             0.6666666666666666,
             "#ed7953"
            ],
            [
             0.7777777777777778,
             "#fb9f3a"
            ],
            [
             0.8888888888888888,
             "#fdca26"
            ],
            [
             1,
             "#f0f921"
            ]
           ],
           "sequentialminus": [
            [
             0,
             "#0d0887"
            ],
            [
             0.1111111111111111,
             "#46039f"
            ],
            [
             0.2222222222222222,
             "#7201a8"
            ],
            [
             0.3333333333333333,
             "#9c179e"
            ],
            [
             0.4444444444444444,
             "#bd3786"
            ],
            [
             0.5555555555555556,
             "#d8576b"
            ],
            [
             0.6666666666666666,
             "#ed7953"
            ],
            [
             0.7777777777777778,
             "#fb9f3a"
            ],
            [
             0.8888888888888888,
             "#fdca26"
            ],
            [
             1,
             "#f0f921"
            ]
           ]
          },
          "colorway": [
           "#636efa",
           "#EF553B",
           "#00cc96",
           "#ab63fa",
           "#FFA15A",
           "#19d3f3",
           "#FF6692",
           "#B6E880",
           "#FF97FF",
           "#FECB52"
          ],
          "font": {
           "color": "#2a3f5f"
          },
          "geo": {
           "bgcolor": "white",
           "lakecolor": "white",
           "landcolor": "#E5ECF6",
           "showlakes": true,
           "showland": true,
           "subunitcolor": "white"
          },
          "hoverlabel": {
           "align": "left"
          },
          "hovermode": "closest",
          "mapbox": {
           "style": "light"
          },
          "paper_bgcolor": "white",
          "plot_bgcolor": "#E5ECF6",
          "polar": {
           "angularaxis": {
            "gridcolor": "white",
            "linecolor": "white",
            "ticks": ""
           },
           "bgcolor": "#E5ECF6",
           "radialaxis": {
            "gridcolor": "white",
            "linecolor": "white",
            "ticks": ""
           }
          },
          "scene": {
           "xaxis": {
            "backgroundcolor": "#E5ECF6",
            "gridcolor": "white",
            "gridwidth": 2,
            "linecolor": "white",
            "showbackground": true,
            "ticks": "",
            "zerolinecolor": "white"
           },
           "yaxis": {
            "backgroundcolor": "#E5ECF6",
            "gridcolor": "white",
            "gridwidth": 2,
            "linecolor": "white",
            "showbackground": true,
            "ticks": "",
            "zerolinecolor": "white"
           },
           "zaxis": {
            "backgroundcolor": "#E5ECF6",
            "gridcolor": "white",
            "gridwidth": 2,
            "linecolor": "white",
            "showbackground": true,
            "ticks": "",
            "zerolinecolor": "white"
           }
          },
          "shapedefaults": {
           "line": {
            "color": "#2a3f5f"
           }
          },
          "ternary": {
           "aaxis": {
            "gridcolor": "white",
            "linecolor": "white",
            "ticks": ""
           },
           "baxis": {
            "gridcolor": "white",
            "linecolor": "white",
            "ticks": ""
           },
           "bgcolor": "#E5ECF6",
           "caxis": {
            "gridcolor": "white",
            "linecolor": "white",
            "ticks": ""
           }
          },
          "title": {
           "x": 0.05
          },
          "xaxis": {
           "automargin": true,
           "gridcolor": "white",
           "linecolor": "white",
           "ticks": "",
           "title": {
            "standoff": 15
           },
           "zerolinecolor": "white",
           "zerolinewidth": 2
          },
          "yaxis": {
           "automargin": true,
           "gridcolor": "white",
           "linecolor": "white",
           "ticks": "",
           "title": {
            "standoff": 15
           },
           "zerolinecolor": "white",
           "zerolinewidth": 2
          }
         }
        },
        "title": {
         "text": "Спрос на офтальмологов"
        },
        "width": 1800,
        "xaxis": {
         "anchor": "y",
         "domain": [
          0,
          1
         ],
         "rangeslider": {
          "visible": true
         },
         "title": {
          "text": "date"
         }
        },
        "yaxis": {
         "anchor": "x",
         "domain": [
          0,
          1
         ],
         "title": {
          "text": "demand"
         }
        }
       }
      }
     },
     "metadata": {},
     "output_type": "display_data"
    }
   ],
   "source": [
    "plot_graph(data_gr.sort_values('date'), x_name='date', y_name='demand', title_n='Спрос на офтальмологов')"
   ]
  },
  {
   "cell_type": "code",
   "execution_count": 10,
   "metadata": {},
   "outputs": [],
   "source": [
    "clean_data = data_gr[data_gr.date>'2022-01-08'].dropna()"
   ]
  },
  {
   "cell_type": "markdown",
   "metadata": {},
   "source": [
    "Данные на вид имеют полугодовую цикличность."
   ]
  },
  {
   "cell_type": "code",
   "execution_count": 11,
   "metadata": {},
   "outputs": [
    {
     "data": {
      "application/vnd.plotly.v1+json": {
       "config": {
        "plotlyServerURL": "https://plot.ly"
       },
       "data": [
        {
         "mode": "lines",
         "name": "Observed",
         "type": "scatter",
         "x": [
          10,
          11,
          12,
          13,
          14,
          15,
          16,
          17,
          18,
          19,
          20,
          21,
          22,
          23,
          24,
          25,
          26,
          27,
          28,
          29,
          30,
          31,
          32,
          33,
          34,
          35,
          36,
          37,
          38,
          39,
          40,
          41,
          42,
          43,
          44,
          45,
          46,
          47,
          48,
          49,
          50,
          51,
          52,
          53,
          54,
          55,
          56,
          57,
          58,
          59,
          60,
          61,
          62,
          63,
          64,
          65,
          66,
          67,
          68,
          69,
          70,
          71,
          72,
          73,
          74,
          75,
          76,
          77,
          78,
          79,
          80,
          81,
          82,
          83,
          84,
          85,
          86,
          87,
          88,
          89,
          90,
          91,
          92,
          93,
          94,
          95,
          96,
          97,
          98,
          99,
          100,
          101,
          102,
          103,
          104,
          105,
          106,
          107,
          108,
          109,
          110,
          111,
          112,
          113,
          114,
          115,
          116,
          117,
          118,
          119,
          120,
          121,
          122,
          123,
          124,
          125,
          126,
          127,
          128,
          129,
          130,
          131,
          132,
          133,
          134,
          135,
          136,
          137,
          138,
          139,
          140,
          141,
          142,
          143,
          144,
          145,
          146,
          147,
          148,
          149,
          150,
          151,
          152,
          153,
          154,
          155,
          156,
          157,
          158,
          159,
          160,
          161,
          162,
          163,
          164,
          165,
          166,
          167,
          168,
          169,
          170,
          171,
          172,
          173,
          174,
          175,
          176,
          177,
          178,
          179,
          180,
          181,
          182,
          183,
          184,
          185,
          186,
          187,
          188,
          189,
          190,
          191,
          192,
          193,
          194,
          195,
          196,
          197,
          198,
          199,
          200,
          201,
          202,
          203,
          204,
          205,
          206,
          207,
          208,
          209,
          210,
          211,
          212,
          213,
          214,
          215,
          216,
          217,
          218,
          219,
          220,
          221,
          222,
          223,
          224,
          225,
          226,
          227,
          228,
          229,
          230,
          231,
          232,
          233,
          234,
          235,
          236,
          237,
          238,
          239,
          240,
          241,
          242,
          243,
          244,
          245,
          246,
          247,
          248,
          249,
          250,
          251,
          252,
          253,
          254,
          255,
          256,
          257,
          258,
          259,
          260,
          261,
          262,
          263,
          264,
          265,
          266,
          267,
          268,
          269,
          270,
          271,
          272,
          273,
          274,
          275,
          276,
          277,
          278,
          279,
          280,
          281,
          282,
          283,
          284,
          285,
          286,
          287,
          288,
          289,
          290,
          291,
          292,
          293,
          294,
          295,
          296,
          297,
          298,
          299,
          300,
          301,
          302,
          303,
          304,
          305,
          306,
          307,
          308,
          309,
          310,
          311,
          312,
          313,
          314,
          315,
          316,
          317,
          318,
          319,
          320,
          321,
          322,
          323,
          324,
          325,
          326,
          327,
          328,
          329,
          330,
          331,
          332,
          333,
          334,
          335,
          336,
          337,
          338,
          339,
          340,
          341,
          342,
          343,
          344,
          345,
          346,
          347,
          348,
          349,
          350,
          351,
          352,
          353,
          354,
          355,
          356,
          357,
          358,
          359,
          360,
          361,
          362,
          363,
          364,
          365,
          366,
          367,
          368,
          369,
          370,
          371,
          372,
          373,
          374,
          375,
          376,
          377,
          378,
          379,
          380,
          381,
          382,
          383,
          384,
          385,
          386,
          387,
          388,
          389,
          390,
          391,
          392,
          393,
          394,
          395,
          396,
          397,
          398,
          399,
          400,
          401,
          402,
          403,
          404,
          405,
          406,
          407,
          408,
          409,
          410,
          411,
          412,
          413,
          414,
          415,
          416,
          417,
          418,
          419,
          420,
          421,
          422,
          423,
          424,
          425,
          426,
          427,
          428,
          429,
          430,
          431,
          432,
          433,
          434,
          435,
          436,
          437,
          438,
          439,
          440,
          441,
          442,
          443,
          444,
          445,
          446,
          447,
          448,
          449,
          450,
          451,
          452,
          453,
          454,
          455,
          456,
          457,
          458,
          459,
          460,
          461,
          462,
          463,
          464,
          465,
          466,
          467,
          468,
          469,
          470,
          471,
          472,
          473,
          474,
          475,
          476,
          477,
          478,
          479,
          480,
          481,
          482,
          483,
          484,
          485,
          486,
          487,
          488,
          489,
          490,
          491,
          492,
          493,
          494,
          495,
          496,
          497,
          498,
          499,
          500,
          501,
          502,
          503,
          504,
          505,
          506,
          507,
          508,
          509,
          510,
          511,
          512,
          513,
          514,
          515,
          516,
          517,
          518,
          519,
          520,
          521,
          522,
          523,
          524,
          525,
          526,
          527,
          528,
          529,
          530,
          531,
          532,
          533,
          534,
          535,
          536,
          537,
          538,
          539,
          540,
          541,
          542,
          543,
          544,
          545,
          546,
          547,
          548,
          549,
          550,
          551,
          552,
          553,
          554,
          555,
          556,
          557,
          558,
          559,
          560,
          561,
          562,
          563,
          564,
          565,
          566,
          567,
          568,
          569,
          570,
          571,
          572,
          573,
          574,
          575,
          576,
          577,
          578
         ],
         "xaxis": "x",
         "y": [
          8424,
          4017,
          18828,
          17415,
          15584,
          13993,
          7099,
          6779,
          2951,
          15770,
          14306,
          14468,
          13108,
          6959,
          6813,
          2624,
          15547,
          15511,
          14733,
          14402,
          9414,
          4833,
          2418,
          18014,
          17875,
          17548,
          17892,
          11497,
          6052,
          1904,
          23646,
          25878,
          24913,
          22987,
          15595,
          10802,
          3326,
          26479,
          26109,
          23106,
          18567,
          9256,
          9061,
          4204,
          17519,
          10400,
          6841,
          16046,
          8796,
          7719,
          4269,
          19910,
          1332,
          1329,
          5876,
          5876,
          6399,
          2287,
          7611,
          6197,
          20531,
          18609,
          9378,
          9504,
          5174,
          22398,
          21700,
          20595,
          17835,
          9557,
          9977,
          5397,
          22294,
          20354,
          19477,
          19013,
          9836,
          9526,
          5999,
          23538,
          22676,
          22028,
          20285,
          10385,
          10781,
          7157,
          24001,
          23077,
          21560,
          19379,
          10965,
          11616,
          5726,
          24031,
          23103,
          20545,
          18375,
          7407,
          10679,
          6612,
          26731,
          25874,
          20953,
          18877,
          9087,
          9438,
          7264,
          25207,
          25392,
          24477,
          20069,
          9995,
          7242,
          3411,
          3245,
          21907,
          21598,
          17878,
          8299,
          7309,
          2345,
          4310,
          9158,
          23815,
          20370,
          10033,
          10508,
          6596,
          21832,
          21312,
          20089,
          17018,
          8928,
          9003,
          6783,
          20521,
          19641,
          18734,
          16721,
          8888,
          7637,
          4560,
          20788,
          2312,
          12599,
          16233,
          8605,
          8068,
          5472,
          19390,
          17918,
          16207,
          13906,
          7322,
          5471,
          4157,
          6739,
          18176,
          15168,
          8586,
          8418,
          7362,
          5876,
          18373,
          17980,
          15977,
          13983,
          7640,
          6940,
          5965,
          16721,
          16504,
          15907,
          14630,
          7819,
          6490,
          5390,
          15553,
          16264,
          14795,
          13498,
          7769,
          6012,
          5729,
          16704,
          15579,
          15373,
          14054,
          7571,
          6804,
          4862,
          16674,
          16261,
          15258,
          13579,
          7481,
          5822,
          393,
          15857,
          15430,
          15068,
          13730,
          7599,
          5821,
          6419,
          18397,
          17006,
          16182,
          14278,
          8399,
          7486,
          5932,
          20619,
          19736,
          19166,
          16699,
          10580,
          9582,
          4674,
          22622,
          21594,
          18458,
          16254,
          9636,
          10671,
          6144,
          21748,
          20731,
          19766,
          17641,
          11003,
          10453,
          5074,
          25185,
          19701,
          21830,
          19877,
          10219,
          4146,
          27817,
          24780,
          23421,
          22850,
          19264,
          10320,
          6241,
          27049,
          25105,
          23813,
          22369,
          19484,
          6300,
          2533,
          21601,
          24063,
          23769,
          22686,
          19800,
          11378,
          3813,
          28566,
          26612,
          26310,
          25833,
          23117,
          13160,
          4912,
          35013,
          32378,
          29050,
          28333,
          24050,
          12349,
          5008,
          31786,
          31019,
          29831,
          28729,
          24368,
          13198,
          7169,
          33339,
          30657,
          28158,
          27535,
          23329,
          12201,
          6152,
          31324,
          30632,
          28898,
          27268,
          24595,
          10621,
          4710,
          31076,
          29641,
          28771,
          24932,
          6315,
          11600,
          6239,
          33422,
          30500,
          28666,
          28299,
          24307,
          14427,
          5068,
          32022,
          29373,
          27497,
          27038,
          22212,
          12963,
          5351,
          29256,
          25970,
          24491,
          24264,
          20848,
          12029,
          5761,
          27326,
          25527,
          24412,
          23271,
          20546,
          11860,
          5427,
          27615,
          25103,
          22785,
          21824,
          19416,
          10677,
          3702,
          23377,
          21277,
          19672,
          19418,
          16258,
          8722,
          3628,
          18168,
          17737,
          17239,
          16409,
          15951,
          10795,
          5447,
          21024,
          17197,
          15456,
          13970,
          10402,
          3610,
          1310,
          3004,
          4341,
          3188,
          4245,
          3699,
          2474,
          6028,
          25125,
          23201,
          21851,
          21107,
          18101,
          10152,
          5018,
          24695,
          22174,
          20506,
          20077,
          18907,
          9656,
          4368,
          25659,
          23637,
          22295,
          21880,
          20082,
          11397,
          5578,
          27090,
          25224,
          25091,
          24597,
          22681,
          13127,
          5433,
          30287,
          29180,
          27891,
          25481,
          23614,
          14331,
          6298,
          32944,
          26886,
          27479,
          27205,
          24115,
          12919,
          6172,
          28508,
          24372,
          18329,
          6407,
          5920,
          11811,
          5895,
          30204,
          26983,
          27799,
          27546,
          24761,
          11570,
          5266,
          32814,
          25533,
          3165,
          31687,
          26189,
          10472,
          5813,
          32008,
          29731,
          29722,
          27029,
          25171,
          8039,
          5239,
          33046,
          30596,
          29730,
          29544,
          25767,
          7782,
          5693,
          33506,
          31750,
          30319,
          29301,
          27176,
          14900,
          4761,
          35724,
          32129,
          31351,
          30026,
          26565,
          12293,
          3447,
          33238,
          31569,
          28762,
          25495,
          23241,
          12010,
          4562,
          31997,
          31333,
          30258,
          28762,
          24202,
          11284,
          4411,
          34880,
          36818,
          34425,
          29862,
          24633,
          12217,
          4470,
          8502,
          28940,
          26086,
          24626,
          21294,
          9709,
          5298,
          4422,
          5790,
          27679,
          25702,
          22064,
          11856,
          5005,
          27923,
          25408,
          23704,
          21917,
          20060,
          10911,
          4658,
          25312,
          24088,
          22651,
          21665,
          16689,
          8736,
          4561,
          25059,
          24400,
          22618,
          22241,
          19555,
          11166,
          5260,
          25822,
          24248,
          20699,
          21797,
          18451,
          9614,
          3633,
          6713,
          24404,
          21893,
          20564,
          17599,
          9202,
          3177,
          22974,
          22049,
          20869,
          19322,
          16816,
          7180,
          3634,
          20625,
          20905,
          19574,
          19261,
          17558,
          9907,
          5274,
          23057,
          20579,
          19697,
          18279,
          16120,
          8200,
          3518,
          20525,
          18962,
          18603,
          17110,
          15801,
          9390,
          4518,
          20770,
          18377,
          17629,
          17717,
          15826,
          8491,
          3359,
          20388,
          19452,
          18057,
          17738,
          15115,
          6177,
          2882,
          21760
         ],
         "yaxis": "y"
        },
        {
         "mode": "lines",
         "name": "Trend",
         "type": "scatter",
         "x": [
          10,
          11,
          12,
          13,
          14,
          15,
          16,
          17,
          18,
          19,
          20,
          21,
          22,
          23,
          24,
          25,
          26,
          27,
          28,
          29,
          30,
          31,
          32,
          33,
          34,
          35,
          36,
          37,
          38,
          39,
          40,
          41,
          42,
          43,
          44,
          45,
          46,
          47,
          48,
          49,
          50,
          51,
          52,
          53,
          54,
          55,
          56,
          57,
          58,
          59,
          60,
          61,
          62,
          63,
          64,
          65,
          66,
          67,
          68,
          69,
          70,
          71,
          72,
          73,
          74,
          75,
          76,
          77,
          78,
          79,
          80,
          81,
          82,
          83,
          84,
          85,
          86,
          87,
          88,
          89,
          90,
          91,
          92,
          93,
          94,
          95,
          96,
          97,
          98,
          99,
          100,
          101,
          102,
          103,
          104,
          105,
          106,
          107,
          108,
          109,
          110,
          111,
          112,
          113,
          114,
          115,
          116,
          117,
          118,
          119,
          120,
          121,
          122,
          123,
          124,
          125,
          126,
          127,
          128,
          129,
          130,
          131,
          132,
          133,
          134,
          135,
          136,
          137,
          138,
          139,
          140,
          141,
          142,
          143,
          144,
          145,
          146,
          147,
          148,
          149,
          150,
          151,
          152,
          153,
          154,
          155,
          156,
          157,
          158,
          159,
          160,
          161,
          162,
          163,
          164,
          165,
          166,
          167,
          168,
          169,
          170,
          171,
          172,
          173,
          174,
          175,
          176,
          177,
          178,
          179,
          180,
          181,
          182,
          183,
          184,
          185,
          186,
          187,
          188,
          189,
          190,
          191,
          192,
          193,
          194,
          195,
          196,
          197,
          198,
          199,
          200,
          201,
          202,
          203,
          204,
          205,
          206,
          207,
          208,
          209,
          210,
          211,
          212,
          213,
          214,
          215,
          216,
          217,
          218,
          219,
          220,
          221,
          222,
          223,
          224,
          225,
          226,
          227,
          228,
          229,
          230,
          231,
          232,
          233,
          234,
          235,
          236,
          237,
          238,
          239,
          240,
          241,
          242,
          243,
          244,
          245,
          246,
          247,
          248,
          249,
          250,
          251,
          252,
          253,
          254,
          255,
          256,
          257,
          258,
          259,
          260,
          261,
          262,
          263,
          264,
          265,
          266,
          267,
          268,
          269,
          270,
          271,
          272,
          273,
          274,
          275,
          276,
          277,
          278,
          279,
          280,
          281,
          282,
          283,
          284,
          285,
          286,
          287,
          288,
          289,
          290,
          291,
          292,
          293,
          294,
          295,
          296,
          297,
          298,
          299,
          300,
          301,
          302,
          303,
          304,
          305,
          306,
          307,
          308,
          309,
          310,
          311,
          312,
          313,
          314,
          315,
          316,
          317,
          318,
          319,
          320,
          321,
          322,
          323,
          324,
          325,
          326,
          327,
          328,
          329,
          330,
          331,
          332,
          333,
          334,
          335,
          336,
          337,
          338,
          339,
          340,
          341,
          342,
          343,
          344,
          345,
          346,
          347,
          348,
          349,
          350,
          351,
          352,
          353,
          354,
          355,
          356,
          357,
          358,
          359,
          360,
          361,
          362,
          363,
          364,
          365,
          366,
          367,
          368,
          369,
          370,
          371,
          372,
          373,
          374,
          375,
          376,
          377,
          378,
          379,
          380,
          381,
          382,
          383,
          384,
          385,
          386,
          387,
          388,
          389,
          390,
          391,
          392,
          393,
          394,
          395,
          396,
          397,
          398,
          399,
          400,
          401,
          402,
          403,
          404,
          405,
          406,
          407,
          408,
          409,
          410,
          411,
          412,
          413,
          414,
          415,
          416,
          417,
          418,
          419,
          420,
          421,
          422,
          423,
          424,
          425,
          426,
          427,
          428,
          429,
          430,
          431,
          432,
          433,
          434,
          435,
          436,
          437,
          438,
          439,
          440,
          441,
          442,
          443,
          444,
          445,
          446,
          447,
          448,
          449,
          450,
          451,
          452,
          453,
          454,
          455,
          456,
          457,
          458,
          459,
          460,
          461,
          462,
          463,
          464,
          465,
          466,
          467,
          468,
          469,
          470,
          471,
          472,
          473,
          474,
          475,
          476,
          477,
          478,
          479,
          480,
          481,
          482,
          483,
          484,
          485,
          486,
          487,
          488,
          489,
          490,
          491,
          492,
          493,
          494,
          495,
          496,
          497,
          498,
          499,
          500,
          501,
          502,
          503,
          504,
          505,
          506,
          507,
          508,
          509,
          510,
          511,
          512,
          513,
          514,
          515,
          516,
          517,
          518,
          519,
          520,
          521,
          522,
          523,
          524,
          525,
          526,
          527,
          528,
          529,
          530,
          531,
          532,
          533,
          534,
          535,
          536,
          537,
          538,
          539,
          540,
          541,
          542,
          543,
          544,
          545,
          546,
          547,
          548,
          549,
          550,
          551,
          552,
          553,
          554,
          555,
          556,
          557,
          558,
          559,
          560,
          561,
          562,
          563,
          564,
          565,
          566,
          567,
          568,
          569,
          570,
          571,
          572,
          573,
          574,
          575,
          576,
          577,
          578
         ],
         "xaxis": "x2",
         "y": [
          9541.523733295948,
          9571.131836973038,
          9600.739940650126,
          9630.348044327216,
          9659.956148004305,
          9689.564251681395,
          9719.172355358483,
          9748.780459035574,
          9778.388562712662,
          9807.996666389752,
          9837.60477006684,
          9867.21287374393,
          9896.820977421019,
          9926.42908109811,
          9956.037184775198,
          9985.645288452288,
          10015.253392129376,
          10044.861495806466,
          10074.469599483555,
          10104.077703160645,
          10133.685806837733,
          10163.293910514823,
          10192.902014191912,
          10222.510117869002,
          10252.11822154609,
          10281.72632522318,
          10311.334428900269,
          10340.942532577359,
          10370.550636254447,
          10400.158739931538,
          10429.766843608626,
          10459.374947285716,
          10488.983050962805,
          10518.591154639895,
          10548.199258316983,
          10577.807361994073,
          10607.415465671162,
          10637.023569348252,
          10666.631673025342,
          10696.23977670243,
          10725.847880379519,
          10755.455984056609,
          10785.0640877337,
          10814.672191410787,
          10844.280295087878,
          10873.888398764966,
          10903.496502442056,
          10933.104606119145,
          10962.712709796235,
          10992.320813473323,
          11021.928917150413,
          11051.537020827502,
          11081.145124504592,
          11110.75322818168,
          11140.36133185877,
          11169.969435535859,
          11199.577539212949,
          11229.185642890037,
          11258.793746567128,
          11288.401850244216,
          11318.009953921306,
          11347.618057598394,
          11377.226161275485,
          11406.834264952573,
          11436.442368629663,
          11466.050472306752,
          11495.658575983842,
          11525.26667966093,
          11554.87478333802,
          11584.48288701511,
          11614.090990692199,
          11643.699094369287,
          11673.307198046377,
          11702.915301723468,
          11732.523405400556,
          11762.131509077644,
          11791.739612754734,
          11821.347716431825,
          11850.955820108913,
          11880.563923786001,
          11910.172027463092,
          11939.780131140182,
          11969.38823481727,
          11998.99633849436,
          12028.604442171449,
          12058.212545848539,
          12087.820649525627,
          12117.428753202717,
          12147.036856879806,
          12176.644960556896,
          12206.253064233984,
          13148.808743169398,
          13134.081967213115,
          13203.409836065573,
          13185.655737704918,
          13174.497267759563,
          13166.136612021857,
          13131.043715846996,
          13129.43169398907,
          13118.956284153004,
          13193.945355191257,
          13196.628415300547,
          13201.830601092895,
          13196.972677595628,
          13166.224043715847,
          13160.01092896175,
          13124.928961748632,
          13197.240437158469,
          13196.601092896177,
          13194.180327868853,
          13188.699453551913,
          13151.524590163935,
          13131.890710382513,
          13140.55737704918,
          13227.87431693989,
          13222.36612021858,
          13213.11475409836,
          13195.245901639344,
          13143.371584699455,
          13121.45355191257,
          13120.797814207652,
          13223.065573770493,
          13201.699453551913,
          13165.021857923499,
          13120.13661202186,
          13052.33879781421,
          13019.480874316941,
          12985.994535519127,
          13091.437158469947,
          13064.74316939891,
          13022.93442622951,
          12985.49180327869,
          12936.688524590165,
          12944.420765027324,
          12928.48087431694,
          13024.349726775956,
          13041.901639344262,
          13093.081967213115,
          13152.098360655737,
          13124.540983606557,
          13133.5956284153,
          13119.14207650273,
          13233.437158469946,
          13232.295081967211,
          13344.30601092896,
          13445.661202185793,
          13469.393442622952,
          13459.93989071038,
          13576.978142076503,
          13699.890710382513,
          13786.284153005465,
          13877.284153005467,
          13870.360655737706,
          13825.065573770493,
          13807.92349726776,
          13903.79781420765,
          14012.71038251366,
          14020.442622950819,
          14024.098360655737,
          14018.02732240437,
          13954.994535519125,
          13916.612021857922,
          13980.131147540982,
          14082.131147540982,
          14090.191256830602,
          14102.934426229509,
          14104.699453551913,
          14062.978142076503,
          14030.065573770493,
          14134.109289617489,
          14246.748633879783,
          14261.896174863388,
          14279.147540983608,
          14285.09836065574,
          14246.163934426231,
          14216.256830601093,
          14348.67213114754,
          14486.491803278688,
          14514.081967213113,
          14542.803278688523,
          14556.409836065572,
          14517.994535519125,
          14485.442622950819,
          14595.661202185793,
          14733.87431693989,
          14765.568306010928,
          14796.311475409835,
          14817.20218579235,
          14788.912568306014,
          14787.612021857924,
          14911.437158469947,
          15042.830601092897,
          15050.628415300547,
          15059.704918032789,
          15072.688524590165,
          15036.207650273223,
          15020.169398907106,
          15139.765027322404,
          15267.459016393444,
          15287.628415300547,
          15297.879781420766,
          15298.524590163935,
          15246.89617486339,
          15218.016393442624,
          15348.256830601093,
          15491.590163934425,
          15631.07650273224,
          15647.606557377048,
          15564.092896174863,
          15529.7868852459,
          15518.530054644807,
          15661.224043715845,
          15815.07650273224,
          15948.169398907101,
          16052.765027322403,
          16055.453551912566,
          16022.978142076501,
          15995.846994535517,
          16113.409836065572,
          16237.87431693989,
          16268.830601092895,
          16300.120218579234,
          16311.721311475407,
          16289.56284153005,
          16270.01639344262,
          16380.688524590163,
          16485.535519125682,
          16507.22950819672,
          16532.491803278688,
          16544.04371584699,
          16518.4043715847,
          16501.316939890712,
          16608.90710382514,
          16723.48087431694,
          16743.284153005465,
          16857.814207650274,
          16901.240437158467,
          16877.344262295086,
          16859.978142076503,
          16966.792349726773,
          17074.06557377049,
          17092.617486338797,
          17113.961748633883,
          17131.497267759565,
          17113.852459016394,
          17094.071038251368,
          17191.918032786885,
          17285.469945355188,
          17356.142076502725,
          17362.92896174863,
          17368.88524590163,
          17369.628415300536,
          17343.453551912557,
          17402.502732240428,
          17467.316939890705,
          17461.120218579228,
          17452.53551912568,
          17452.393442622946,
          17434.972677595626,
          17422.98907103825,
          17499.950819672125,
          17561.327868852455,
          17554.415300546443,
          17540.568306010926,
          17510.486338797808,
          17450.267759562837,
          17414.69945355191,
          17395.65027322404,
          17389.918032786885,
          17322.349726775956,
          17256.67213114754,
          17196.038251366117,
          17135.797814207646,
          17126.28415300546,
          17230.72677595628,
          17326.202185792343,
          17354.32786885245,
          17384.53551912568,
          17399.442622950817,
          17378.120218579235,
          17364.169398907106,
          17461.93442622951,
          17556.535519125682,
          17577.475409836065,
          17598.32786885246,
          17618.267759562845,
          17596.830601092897,
          17579.819672131147,
          17688.218579234974,
          17815.234972677594,
          17850.415300546447,
          17885.661202185795,
          17913.060109289614,
          17900.31147540984,
          17889.267759562845,
          18005.491803278695,
          18108.251366120225,
          18144.830601092897,
          18186.311475409835,
          18221.825136612024,
          18215.535519125682,
          18199.32786885246,
          18323.923497267762,
          18450.96174863388,
          18490.699453551915,
          18522.09289617487,
          18546.39890710383,
          18533.459016393444,
          18510.060109289618,
          18637.72131147541,
          18759.098360655735,
          18785.639344262294,
          18816.300546448085,
          18847.213114754093,
          18828.989071038246,
          18810.060109289618,
          18907.53005464481,
          19007.13661202186,
          18988.453551912564,
          18910.180327868853,
          18834.519125683062,
          18802.661202185798,
          18774.748633879783,
          18882.677595628415,
          19002.398907103827,
          19016.683060109288,
          19059.551912568302,
          19075.568306010926,
          19030.174863387972,
          19003.109289617485,
          19159.765027322403,
          19147.28415300546,
          19029.169398907103,
          19074.338797814205,
          19092.58469945355,
          19044.540983606556,
          19019.912568306005,
          19160.715846994535,
          19175.371584699453,
          19200.60109289617,
          19218.174863387972,
          19233.48633879781,
          19170.945355191256,
          19165.14754098361,
          19331.88524590164,
          19381.03825136612,
          19412.005464480873,
          19443.562841530056,
          19460.398907103827,
          19394.726775956282,
          19363.661202185787,
          19525.91803278688,
          19543.31693989071,
          19563.573770491806,
          19579.918032786885,
          19587.256830601094,
          19542.355191256833,
          19496.459016393448,
          19664.830601092897,
          19649.07103825137,
          19643.45901639345,
          19648.792349726784,
          19639.131147540986,
          19574.88524590164,
          19526.240437158474,
          19680.502732240446,
          19679.316939890716,
          19666.98360655738,
          19643.28961748634,
          19613.300546448092,
          19545.770491803283,
          19498.579234972683,
          19634.251366120225,
          19623.289617486345,
          19621.109289617492,
          19624.409836065577,
          19606.196721311477,
          19540.377049180326,
          19497.808743169397,
          19654.79234972677,
          19684.814207650266,
          19705.540983606552,
          19710.808743169393,
          19696.40983606557,
          19628.770491803276,
          19595.158469945352,
          19615.879781420765,
          19604.207650273223,
          19584.781420765026,
          19562.131147540982,
          19542.25136612022,
          19560.797814207654,
          19526.360655737706,
          19516.431693989078,
          19365.43715846995,
          19350.0218579235,
          19333.825136612024,
          19299.75409836066,
          19231.71584699454,
          19180.229508196724,
          19305.120218579235,
          19268.978142076503,
          19238.000000000004,
          19207.508196721312,
          19169.377049180326,
          19107.62295081967,
          19062.240437158467,
          19171.31693989071,
          19143.07650273224,
          19124.939890710382,
          19109.497267759565,
          19068.103825136615,
          19001.91803278689,
          18961.10928961749,
          19066.562841530056,
          19050.573770491803,
          19034.677595628415,
          19022.81420765027,
          19002.508196721305,
          18951.251366120214,
          18915.185792349723,
          19026.633879781417,
          19008.234972677594,
          18984.1693989071,
          18978.770491803276,
          18960.338797814202,
          18906.775956284146,
          18868.284153005457,
          18884.73770491803,
          18890.34972677595,
          18893.715846994528,
          18898.59016393442,
          18888.650273224037,
          18850.092896174858,
          18819.79234972677,
          18925.50819672131,
          18946.715846994535,
          18963.830601092897,
          18975.2131147541,
          18977.43715846995,
          18929.50819672132,
          18890.377049180333,
          18973.316939890716,
          18972.666666666675,
          18985.65573770492,
          19006.448087431698,
          19026.054644808744,
          19023.349726775956,
          19032.44262295082,
          19151.278688524588,
          19247.316939890705,
          19331.229508196717,
          19413.69398907103,
          19478.584699453546,
          19503.180327868846,
          19508.885245901634,
          19588.103825136608,
          19554.426229508194,
          19529.300546448085,
          19503.39344262295,
          19474.398907103827,
          19426.79781420765,
          19396.010928961747,
          19482.087431693984,
          19447.562841530053,
          19422.726775956282,
          19407.486338797815,
          19384.25683060109,
          19327.338797814213,
          19292.928961748636,
          19380.469945355195,
          19346.551912568306,
          19316.060109289618,
          19291.158469945356,
          19254.1912568306,
          19178.207650273223,
          19131.677595628415,
          19220.103825136608,
          19412.333172584982,
          19414.965462249253,
          19417.59775191352,
          19420.230041577786,
          19422.862331242053,
          19425.49462090632,
          19428.126910570587,
          19430.759200234854,
          19433.39148989912,
          19436.02377956339,
          19438.656069227658,
          19441.288358891925,
          19443.92064855619,
          19446.55293822046,
          19449.185227884725,
          19451.817517548992,
          19454.449807213263,
          19457.08209687753,
          19459.714386541797,
          19462.346676206063,
          19464.97896587033,
          19467.611255534597,
          19470.243545198864,
          19472.87583486313,
          19475.5081245274,
          19478.14041419167,
          19480.772703855935,
          19483.404993520202,
          19486.03728318447,
          19488.669572848736,
          19491.301862513003,
          19493.934152177273,
          19496.56644184154,
          19499.198731505807,
          19501.831021170074,
          19504.46331083434,
          19507.095600498607,
          19509.727890162874,
          19512.360179827145,
          19514.99246949141,
          19517.62475915568,
          19520.257048819945,
          19522.889338484212,
          19525.52162814848,
          19528.153917812746,
          19530.786207477016,
          19533.418497141283,
          19536.05078680555,
          19538.683076469817,
          19541.315366134084,
          19543.94765579835,
          19546.579945462618,
          19549.212235126884,
          19551.844524791155,
          19554.476814455422,
          19557.10910411969,
          19559.741393783956,
          19562.373683448222,
          19565.00597311249,
          19567.638262776756,
          19570.270552441027,
          19572.902842105294,
          19575.53513176956,
          19578.167421433827,
          19580.799711098094,
          19583.43200076236,
          19586.064290426628,
          19588.696580090895,
          19591.328869755165,
          19593.961159419432,
          19596.5934490837,
          19599.225738747966,
          19601.858028412233,
          19604.4903180765,
          19607.12260774077,
          19609.754897405037,
          19612.387187069304,
          19615.01947673357,
          19617.651766397837,
          19620.284056062104,
          19622.91634572637,
          19625.548635390638,
          19628.18092505491,
          19630.813214719175,
          19633.445504383442,
          19636.07779404771,
          19638.710083711976,
          19641.342373376243,
          19643.97466304051,
          19646.60695270478,
          19649.239242369047
         ],
         "yaxis": "y2"
        },
        {
         "mode": "lines",
         "name": "Seasonal",
         "type": "scatter",
         "x": [
          10,
          11,
          12,
          13,
          14,
          15,
          16,
          17,
          18,
          19,
          20,
          21,
          22,
          23,
          24,
          25,
          26,
          27,
          28,
          29,
          30,
          31,
          32,
          33,
          34,
          35,
          36,
          37,
          38,
          39,
          40,
          41,
          42,
          43,
          44,
          45,
          46,
          47,
          48,
          49,
          50,
          51,
          52,
          53,
          54,
          55,
          56,
          57,
          58,
          59,
          60,
          61,
          62,
          63,
          64,
          65,
          66,
          67,
          68,
          69,
          70,
          71,
          72,
          73,
          74,
          75,
          76,
          77,
          78,
          79,
          80,
          81,
          82,
          83,
          84,
          85,
          86,
          87,
          88,
          89,
          90,
          91,
          92,
          93,
          94,
          95,
          96,
          97,
          98,
          99,
          100,
          101,
          102,
          103,
          104,
          105,
          106,
          107,
          108,
          109,
          110,
          111,
          112,
          113,
          114,
          115,
          116,
          117,
          118,
          119,
          120,
          121,
          122,
          123,
          124,
          125,
          126,
          127,
          128,
          129,
          130,
          131,
          132,
          133,
          134,
          135,
          136,
          137,
          138,
          139,
          140,
          141,
          142,
          143,
          144,
          145,
          146,
          147,
          148,
          149,
          150,
          151,
          152,
          153,
          154,
          155,
          156,
          157,
          158,
          159,
          160,
          161,
          162,
          163,
          164,
          165,
          166,
          167,
          168,
          169,
          170,
          171,
          172,
          173,
          174,
          175,
          176,
          177,
          178,
          179,
          180,
          181,
          182,
          183,
          184,
          185,
          186,
          187,
          188,
          189,
          190,
          191,
          192,
          193,
          194,
          195,
          196,
          197,
          198,
          199,
          200,
          201,
          202,
          203,
          204,
          205,
          206,
          207,
          208,
          209,
          210,
          211,
          212,
          213,
          214,
          215,
          216,
          217,
          218,
          219,
          220,
          221,
          222,
          223,
          224,
          225,
          226,
          227,
          228,
          229,
          230,
          231,
          232,
          233,
          234,
          235,
          236,
          237,
          238,
          239,
          240,
          241,
          242,
          243,
          244,
          245,
          246,
          247,
          248,
          249,
          250,
          251,
          252,
          253,
          254,
          255,
          256,
          257,
          258,
          259,
          260,
          261,
          262,
          263,
          264,
          265,
          266,
          267,
          268,
          269,
          270,
          271,
          272,
          273,
          274,
          275,
          276,
          277,
          278,
          279,
          280,
          281,
          282,
          283,
          284,
          285,
          286,
          287,
          288,
          289,
          290,
          291,
          292,
          293,
          294,
          295,
          296,
          297,
          298,
          299,
          300,
          301,
          302,
          303,
          304,
          305,
          306,
          307,
          308,
          309,
          310,
          311,
          312,
          313,
          314,
          315,
          316,
          317,
          318,
          319,
          320,
          321,
          322,
          323,
          324,
          325,
          326,
          327,
          328,
          329,
          330,
          331,
          332,
          333,
          334,
          335,
          336,
          337,
          338,
          339,
          340,
          341,
          342,
          343,
          344,
          345,
          346,
          347,
          348,
          349,
          350,
          351,
          352,
          353,
          354,
          355,
          356,
          357,
          358,
          359,
          360,
          361,
          362,
          363,
          364,
          365,
          366,
          367,
          368,
          369,
          370,
          371,
          372,
          373,
          374,
          375,
          376,
          377,
          378,
          379,
          380,
          381,
          382,
          383,
          384,
          385,
          386,
          387,
          388,
          389,
          390,
          391,
          392,
          393,
          394,
          395,
          396,
          397,
          398,
          399,
          400,
          401,
          402,
          403,
          404,
          405,
          406,
          407,
          408,
          409,
          410,
          411,
          412,
          413,
          414,
          415,
          416,
          417,
          418,
          419,
          420,
          421,
          422,
          423,
          424,
          425,
          426,
          427,
          428,
          429,
          430,
          431,
          432,
          433,
          434,
          435,
          436,
          437,
          438,
          439,
          440,
          441,
          442,
          443,
          444,
          445,
          446,
          447,
          448,
          449,
          450,
          451,
          452,
          453,
          454,
          455,
          456,
          457,
          458,
          459,
          460,
          461,
          462,
          463,
          464,
          465,
          466,
          467,
          468,
          469,
          470,
          471,
          472,
          473,
          474,
          475,
          476,
          477,
          478,
          479,
          480,
          481,
          482,
          483,
          484,
          485,
          486,
          487,
          488,
          489,
          490,
          491,
          492,
          493,
          494,
          495,
          496,
          497,
          498,
          499,
          500,
          501,
          502,
          503,
          504,
          505,
          506,
          507,
          508,
          509,
          510,
          511,
          512,
          513,
          514,
          515,
          516,
          517,
          518,
          519,
          520,
          521,
          522,
          523,
          524,
          525,
          526,
          527,
          528,
          529,
          530,
          531,
          532,
          533,
          534,
          535,
          536,
          537,
          538,
          539,
          540,
          541,
          542,
          543,
          544,
          545,
          546,
          547,
          548,
          549,
          550,
          551,
          552,
          553,
          554,
          555,
          556,
          557,
          558,
          559,
          560,
          561,
          562,
          563,
          564,
          565,
          566,
          567,
          568,
          569,
          570,
          571,
          572,
          573,
          574,
          575,
          576,
          577,
          578
         ],
         "xaxis": "x3",
         "y": [
          -2038.3752796465642,
          -1146.6553233370937,
          1751.5345783275675,
          -1015.7140445979371,
          -5004.864306867703,
          -4233.054186623808,
          -1868.9571811340093,
          -3287.9831264638847,
          -1727.3465034877477,
          783.3188080129794,
          -1965.4571373168947,
          -5935.308219258792,
          -4852.856022512163,
          -1759.4024596453155,
          -4052.866929565353,
          -1694.5322191575237,
          655.5483928896515,
          -2134.974820199787,
          -5650.286284655346,
          -3987.786273701068,
          -1054.5540366834994,
          -3053.6128399128384,
          38.54875758642035,
          4560.067367836133,
          3591.647908869088,
          -324.89905465169113,
          -4721.520699411084,
          1124.33853014646,
          -1584.7639889298732,
          1442.5542570211153,
          7543.386164174291,
          7441.675266227281,
          3215.2558072602383,
          -2125.9596444208323,
          3916.9178000729626,
          -1373.091822828508,
          2274.2100296798562,
          9547.852501496056,
          7341.596976955241,
          1880.778610884372,
          -4074.577095805804,
          572.3768514202288,
          -2417.636414468493,
          -888.4092431987427,
          -775.0290664645131,
          -3636.5213851765484,
          -3559.179459808437,
          -4663.232798556904,
          800.4424601445403,
          -2465.6272720465468,
          3317.277494851618,
          6606.094830055796,
          153.48411425815127,
          -4902.775053269913,
          -8697.657171617651,
          -1580.553861914385,
          4017.7716700111027,
          -5858.833581305669,
          4955.91271564714,
          2450.7391583194412,
          796.545564561869,
          -4369.611599323208,
          -83.37167759808581,
          6091.272615711739,
          3954.7639035570814,
          8332.712386302243,
          6990.5606868980385,
          -49.10831669559823,
          -6297.125225571568,
          -1079.5082546661172,
          4563.20343390782,
          3531.357745432578,
          8992.09311342364,
          6717.677297443842,
          -525.5017243647325,
          -4174.85378806766,
          -518.0419173443587,
          7008.984889626666,
          4670.326814994778,
          10062.164186628828,
          8895.708297789288,
          3683.4345583122263,
          -3589.059581893435,
          644.9817970265881,
          9576.782738788144,
          7195.186594939494,
          11244.01850209267,
          9533.744762615608,
          2845.221478511952,
          -4722.469383005185,
          -76.90705690847656,
          8171.986041005585,
          4998.77839073236,
          9591.596241369884,
          8169.109902572066,
          2133.7273889108646,
          -4775.449295970739,
          -1308.4602249324876,
          8263.663636633997,
          5635.900430805217,
          10983.670922608495,
          8970.235585632176,
          1632.4942377268903,
          -5039.604122928846,
          -176.19792985052166,
          8954.712816961865,
          7181.231942644927,
          11035.701888000118,
          8811.822106579351,
          3494.157261406311,
          -5193.922884313181,
          -9191.658767737588,
          5395.734728468144,
          2651.048555410656,
          1776.8724005681058,
          5594.337411481474,
          -4585.627450100605,
          -5527.118723340242,
          -10777.30216415729,
          -1625.405459254854,
          2999.2562729699907,
          2335.710354921608,
          2612.490484232061,
          2768.0702492437895,
          -3938.865468440291,
          -2835.343991224554,
          5436.844152657849,
          2651.6698193089233,
          6464.464520568373,
          5516.931352975366,
          453.68598137507445,
          -5719.635892957458,
          -4047.2692426998296,
          3502.119265481298,
          1159.0196133709871,
          4890.080252699658,
          2881.7765933033693,
          -1202.9405451457403,
          -6215.2041316822815,
          -4065.2582464519733,
          2446.5364548074804,
          191.2364383984436,
          5059.499263519462,
          -2389.620425020721,
          -2708.840295710267,
          -6381.038308476316,
          -4213.804627253295,
          2428.5838809278334,
          -492.81267464331586,
          3737.377290732711,
          1766.3122470012697,
          -2589.6471500999346,
          -8245.868842283106,
          -11716.438439748608,
          79.79706296803863,
          -1932.9237184683193,
          -2095.8485071906507,
          634.1720592782721,
          -4228.027774981402,
          -10920.367864250184,
          -6053.301760440643,
          -1910.6309207476745,
          -2981.3990610182764,
          457.40110472205026,
          -799.6821539456395,
          -4842.752662157956,
          -8387.661057437665,
          -6597.609525577119,
          -1589.2683762302354,
          -3674.9600137685984,
          -819.4695019444848,
          -1966.1775329254685,
          -5913.918350791701,
          -10135.812174122413,
          -7217.746070312872,
          -7969.111660492397,
          -8223.874336282128,
          -5738.1543162612925,
          -5880.339578571967,
          -9199.237044889926,
          -11584.568026690582,
          -6612.425420148804,
          -1394.8729775414465,
          -2038.3752796465642,
          -1146.6553233370937,
          1751.5345783275675,
          -1015.7140445979371,
          -5004.864306867703,
          -4233.054186623808,
          -1868.9571811340093,
          -3287.9831264638847,
          -1727.3465034877477,
          783.3188080129794,
          -1965.4571373168947,
          -5935.308219258792,
          -4852.856022512163,
          -1759.4024596453155,
          -4052.866929565353,
          -1694.5322191575237,
          655.5483928896515,
          -2134.974820199787,
          -5650.286284655346,
          -3987.786273701068,
          -1054.5540366834994,
          -3053.6128399128384,
          38.54875758642035,
          4560.067367836133,
          3591.647908869088,
          -324.89905465169113,
          -4721.520699411084,
          1124.33853014646,
          -1584.7639889298732,
          1442.5542570211153,
          7543.386164174291,
          7441.675266227281,
          3215.2558072602383,
          -2125.9596444208323,
          3916.9178000729626,
          -1373.091822828508,
          2274.2100296798562,
          9547.852501496056,
          7341.596976955241,
          1880.778610884372,
          -4074.577095805804,
          572.3768514202288,
          -2417.636414468493,
          -888.4092431987427,
          -775.0290664645131,
          -3636.5213851765484,
          -3559.179459808437,
          -4663.232798556904,
          800.4424601445403,
          -2465.6272720465468,
          3317.277494851618,
          6606.094830055796,
          153.48411425815127,
          -4902.775053269913,
          -8697.657171617651,
          -1580.553861914385,
          4017.7716700111027,
          -5858.833581305669,
          4955.91271564714,
          2450.7391583194412,
          796.545564561869,
          -4369.611599323208,
          -83.37167759808581,
          6091.272615711739,
          3954.7639035570814,
          8332.712386302243,
          6990.5606868980385,
          -49.10831669559823,
          -6297.125225571568,
          -1079.5082546661172,
          4563.20343390782,
          3531.357745432578,
          8992.09311342364,
          6717.677297443842,
          -525.5017243647325,
          -4174.85378806766,
          -518.0419173443587,
          7008.984889626666,
          4670.326814994778,
          10062.164186628828,
          8895.708297789288,
          3683.4345583122263,
          -3589.059581893435,
          644.9817970265881,
          9576.782738788144,
          7195.186594939494,
          11244.01850209267,
          9533.744762615608,
          2845.221478511952,
          -4722.469383005185,
          -76.90705690847656,
          8171.986041005585,
          4998.77839073236,
          9591.596241369884,
          8169.109902572066,
          2133.7273889108646,
          -4775.449295970739,
          -1308.4602249324876,
          8263.663636633997,
          5635.900430805217,
          10983.670922608495,
          8970.235585632176,
          1632.4942377268903,
          -5039.604122928846,
          -176.19792985052166,
          8954.712816961865,
          7181.231942644927,
          11035.701888000118,
          8811.822106579351,
          3494.157261406311,
          -5193.922884313181,
          -9191.658767737588,
          5395.734728468144,
          2651.048555410656,
          1776.8724005681058,
          5594.337411481474,
          -4585.627450100605,
          -5527.118723340242,
          -10777.30216415729,
          -1625.405459254854,
          2999.2562729699907,
          2335.710354921608,
          2612.490484232061,
          2768.0702492437895,
          -3938.865468440291,
          -2835.343991224554,
          5436.844152657849,
          2651.6698193089233,
          6464.464520568373,
          5516.931352975366,
          453.68598137507445,
          -5719.635892957458,
          -4047.2692426998296,
          3502.119265481298,
          1159.0196133709871,
          4890.080252699658,
          2881.7765933033693,
          -1202.9405451457403,
          -6215.2041316822815,
          -4065.2582464519733,
          2446.5364548074804,
          191.2364383984436,
          5059.499263519462,
          -2389.620425020721,
          -2708.840295710267,
          -6381.038308476316,
          -4213.804627253295,
          2428.5838809278334,
          -492.81267464331586,
          3737.377290732711,
          1766.3122470012697,
          -2589.6471500999346,
          -8245.868842283106,
          -11716.438439748608,
          79.79706296803863,
          -1932.9237184683193,
          -2095.8485071906507,
          634.1720592782721,
          -4228.027774981402,
          -10920.367864250184,
          -6053.301760440643,
          -1910.6309207476745,
          -2981.3990610182764,
          457.40110472205026,
          -799.6821539456395,
          -4842.752662157956,
          -8387.661057437665,
          -6597.609525577119,
          -1589.2683762302354,
          -3674.9600137685984,
          -819.4695019444848,
          -1966.1775329254685,
          -5913.918350791701,
          -10135.812174122413,
          -7217.746070312872,
          -7969.111660492397,
          -8223.874336282128,
          -5738.1543162612925,
          -5880.339578571967,
          -9199.237044889926,
          -11584.568026690582,
          -6612.425420148804,
          -1394.8729775414465,
          -2038.3752796465642,
          -1146.6553233370937,
          1751.5345783275675,
          -1015.7140445979371,
          -5004.864306867703,
          -4233.054186623808,
          -1868.9571811340093,
          -3287.9831264638847,
          -1727.3465034877477,
          783.3188080129794,
          -1965.4571373168947,
          -5935.308219258792,
          -4852.856022512163,
          -1759.4024596453155,
          -4052.866929565353,
          -1694.5322191575237,
          655.5483928896515,
          -2134.974820199787,
          -5650.286284655346,
          -3987.786273701068,
          -1054.5540366834994,
          -3053.6128399128384,
          38.54875758642035,
          4560.067367836133,
          3591.647908869088,
          -324.89905465169113,
          -4721.520699411084,
          1124.33853014646,
          -1584.7639889298732,
          1442.5542570211153,
          7543.386164174291,
          7441.675266227281,
          3215.2558072602383,
          -2125.9596444208323,
          3916.9178000729626,
          -1373.091822828508,
          2274.2100296798562,
          9547.852501496056,
          7341.596976955241,
          1880.778610884372,
          -4074.577095805804,
          572.3768514202288,
          -2417.636414468493,
          -888.4092431987427,
          -775.0290664645131,
          -3636.5213851765484,
          -3559.179459808437,
          -4663.232798556904,
          800.4424601445403,
          -2465.6272720465468,
          3317.277494851618,
          6606.094830055796,
          153.48411425815127,
          -4902.775053269913,
          -8697.657171617651,
          -1580.553861914385,
          4017.7716700111027,
          -5858.833581305669,
          4955.91271564714,
          2450.7391583194412,
          796.545564561869,
          -4369.611599323208,
          -83.37167759808581,
          6091.272615711739,
          3954.7639035570814,
          8332.712386302243,
          6990.5606868980385,
          -49.10831669559823,
          -6297.125225571568,
          -1079.5082546661172,
          4563.20343390782,
          3531.357745432578,
          8992.09311342364,
          6717.677297443842,
          -525.5017243647325,
          -4174.85378806766,
          -518.0419173443587,
          7008.984889626666,
          4670.326814994778,
          10062.164186628828,
          8895.708297789288,
          3683.4345583122263,
          -3589.059581893435,
          644.9817970265881,
          9576.782738788144,
          7195.186594939494,
          11244.01850209267,
          9533.744762615608,
          2845.221478511952,
          -4722.469383005185,
          -76.90705690847656,
          8171.986041005585,
          4998.77839073236,
          9591.596241369884,
          8169.109902572066,
          2133.7273889108646,
          -4775.449295970739,
          -1308.4602249324876,
          8263.663636633997,
          5635.900430805217,
          10983.670922608495,
          8970.235585632176,
          1632.4942377268903,
          -5039.604122928846,
          -176.19792985052166,
          8954.712816961865,
          7181.231942644927,
          11035.701888000118,
          8811.822106579351,
          3494.157261406311,
          -5193.922884313181,
          -9191.658767737588,
          5395.734728468144,
          2651.048555410656,
          1776.8724005681058,
          5594.337411481474,
          -4585.627450100605,
          -5527.118723340242,
          -10777.30216415729,
          -1625.405459254854,
          2999.2562729699907,
          2335.710354921608,
          2612.490484232061,
          2768.0702492437895,
          -3938.865468440291,
          -2835.343991224554,
          5436.844152657849,
          2651.6698193089233,
          6464.464520568373,
          5516.931352975366,
          453.68598137507445,
          -5719.635892957458,
          -4047.2692426998296,
          3502.119265481298,
          1159.0196133709871,
          4890.080252699658,
          2881.7765933033693,
          -1202.9405451457403,
          -6215.2041316822815,
          -4065.2582464519733,
          2446.5364548074804,
          191.2364383984436,
          5059.499263519462,
          -2389.620425020721,
          -2708.840295710267,
          -6381.038308476316,
          -4213.804627253295,
          2428.5838809278334,
          -492.81267464331586,
          3737.377290732711,
          1766.3122470012697,
          -2589.6471500999346,
          -8245.868842283106,
          -11716.438439748608,
          79.79706296803863,
          -1932.9237184683193,
          -2095.8485071906507,
          634.1720592782721,
          -4228.027774981402,
          -10920.367864250184,
          -6053.301760440643,
          -1910.6309207476745,
          -2981.3990610182764,
          457.40110472205026,
          -799.6821539456395,
          -4842.752662157956,
          -8387.661057437665,
          -6597.609525577119,
          -1589.2683762302354,
          -3674.9600137685984,
          -819.4695019444848,
          -1966.1775329254685,
          -5913.918350791701,
          -10135.812174122413,
          -7217.746070312872,
          -7969.111660492397,
          -8223.874336282128,
          -5738.1543162612925,
          -5880.339578571967,
          -9199.237044889926,
          -11584.568026690582,
          -6612.425420148804,
          -1394.8729775414465,
          -2038.3752796465642,
          -1146.6553233370937,
          1751.5345783275675,
          -1015.7140445979371,
          -5004.864306867703,
          -4233.054186623808,
          -1868.9571811340093,
          -3287.9831264638847,
          -1727.3465034877477,
          783.3188080129794,
          -1965.4571373168947,
          -5935.308219258792,
          -4852.856022512163,
          -1759.4024596453155,
          -4052.866929565353,
          -1694.5322191575237,
          655.5483928896515,
          -2134.974820199787,
          -5650.286284655346,
          -3987.786273701068
         ],
         "yaxis": "y3"
        },
        {
         "mode": "lines",
         "name": "Residual",
         "type": "scatter",
         "x": [
          10,
          11,
          12,
          13,
          14,
          15,
          16,
          17,
          18,
          19,
          20,
          21,
          22,
          23,
          24,
          25,
          26,
          27,
          28,
          29,
          30,
          31,
          32,
          33,
          34,
          35,
          36,
          37,
          38,
          39,
          40,
          41,
          42,
          43,
          44,
          45,
          46,
          47,
          48,
          49,
          50,
          51,
          52,
          53,
          54,
          55,
          56,
          57,
          58,
          59,
          60,
          61,
          62,
          63,
          64,
          65,
          66,
          67,
          68,
          69,
          70,
          71,
          72,
          73,
          74,
          75,
          76,
          77,
          78,
          79,
          80,
          81,
          82,
          83,
          84,
          85,
          86,
          87,
          88,
          89,
          90,
          91,
          92,
          93,
          94,
          95,
          96,
          97,
          98,
          99,
          100,
          101,
          102,
          103,
          104,
          105,
          106,
          107,
          108,
          109,
          110,
          111,
          112,
          113,
          114,
          115,
          116,
          117,
          118,
          119,
          120,
          121,
          122,
          123,
          124,
          125,
          126,
          127,
          128,
          129,
          130,
          131,
          132,
          133,
          134,
          135,
          136,
          137,
          138,
          139,
          140,
          141,
          142,
          143,
          144,
          145,
          146,
          147,
          148,
          149,
          150,
          151,
          152,
          153,
          154,
          155,
          156,
          157,
          158,
          159,
          160,
          161,
          162,
          163,
          164,
          165,
          166,
          167,
          168,
          169,
          170,
          171,
          172,
          173,
          174,
          175,
          176,
          177,
          178,
          179,
          180,
          181,
          182,
          183,
          184,
          185,
          186,
          187,
          188,
          189,
          190,
          191,
          192,
          193,
          194,
          195,
          196,
          197,
          198,
          199,
          200,
          201,
          202,
          203,
          204,
          205,
          206,
          207,
          208,
          209,
          210,
          211,
          212,
          213,
          214,
          215,
          216,
          217,
          218,
          219,
          220,
          221,
          222,
          223,
          224,
          225,
          226,
          227,
          228,
          229,
          230,
          231,
          232,
          233,
          234,
          235,
          236,
          237,
          238,
          239,
          240,
          241,
          242,
          243,
          244,
          245,
          246,
          247,
          248,
          249,
          250,
          251,
          252,
          253,
          254,
          255,
          256,
          257,
          258,
          259,
          260,
          261,
          262,
          263,
          264,
          265,
          266,
          267,
          268,
          269,
          270,
          271,
          272,
          273,
          274,
          275,
          276,
          277,
          278,
          279,
          280,
          281,
          282,
          283,
          284,
          285,
          286,
          287,
          288,
          289,
          290,
          291,
          292,
          293,
          294,
          295,
          296,
          297,
          298,
          299,
          300,
          301,
          302,
          303,
          304,
          305,
          306,
          307,
          308,
          309,
          310,
          311,
          312,
          313,
          314,
          315,
          316,
          317,
          318,
          319,
          320,
          321,
          322,
          323,
          324,
          325,
          326,
          327,
          328,
          329,
          330,
          331,
          332,
          333,
          334,
          335,
          336,
          337,
          338,
          339,
          340,
          341,
          342,
          343,
          344,
          345,
          346,
          347,
          348,
          349,
          350,
          351,
          352,
          353,
          354,
          355,
          356,
          357,
          358,
          359,
          360,
          361,
          362,
          363,
          364,
          365,
          366,
          367,
          368,
          369,
          370,
          371,
          372,
          373,
          374,
          375,
          376,
          377,
          378,
          379,
          380,
          381,
          382,
          383,
          384,
          385,
          386,
          387,
          388,
          389,
          390,
          391,
          392,
          393,
          394,
          395,
          396,
          397,
          398,
          399,
          400,
          401,
          402,
          403,
          404,
          405,
          406,
          407,
          408,
          409,
          410,
          411,
          412,
          413,
          414,
          415,
          416,
          417,
          418,
          419,
          420,
          421,
          422,
          423,
          424,
          425,
          426,
          427,
          428,
          429,
          430,
          431,
          432,
          433,
          434,
          435,
          436,
          437,
          438,
          439,
          440,
          441,
          442,
          443,
          444,
          445,
          446,
          447,
          448,
          449,
          450,
          451,
          452,
          453,
          454,
          455,
          456,
          457,
          458,
          459,
          460,
          461,
          462,
          463,
          464,
          465,
          466,
          467,
          468,
          469,
          470,
          471,
          472,
          473,
          474,
          475,
          476,
          477,
          478,
          479,
          480,
          481,
          482,
          483,
          484,
          485,
          486,
          487,
          488,
          489,
          490,
          491,
          492,
          493,
          494,
          495,
          496,
          497,
          498,
          499,
          500,
          501,
          502,
          503,
          504,
          505,
          506,
          507,
          508,
          509,
          510,
          511,
          512,
          513,
          514,
          515,
          516,
          517,
          518,
          519,
          520,
          521,
          522,
          523,
          524,
          525,
          526,
          527,
          528,
          529,
          530,
          531,
          532,
          533,
          534,
          535,
          536,
          537,
          538,
          539,
          540,
          541,
          542,
          543,
          544,
          545,
          546,
          547,
          548,
          549,
          550,
          551,
          552,
          553,
          554,
          555,
          556,
          557,
          558,
          559,
          560,
          561,
          562,
          563,
          564,
          565,
          566,
          567,
          568,
          569,
          570,
          571,
          572,
          573,
          574,
          575,
          576,
          577,
          578
         ],
         "xaxis": "x4",
         "y": [
          920.8515463506164,
          -4407.476513635944,
          7475.725481022306,
          8800.36600027072,
          10928.908158863398,
          8536.489934942412,
          -751.2151742244741,
          318.2026674283111,
          -5100.042059224914,
          5178.6845255972685,
          6433.852367250054,
          10536.095345514861,
          8064.035045091144,
          -1208.0266214527937,
          909.8297447901555,
          -5667.1130692947645,
          4876.198214980972,
          7601.11332439332,
          10308.81668517179,
          8285.708570540422,
          334.8682298457661,
          -2276.681070601985,
          -7813.450771778332,
          3231.4225142948653,
          4031.2338695848216,
          7591.17272942851,
          12302.186270510814,
          31.718937276180895,
          -2733.786647324574,
          -9938.712996952652,
          5672.846992217083,
          7976.949786487003,
          11208.761141776957,
          14594.368489780938,
          1129.8829416100543,
          1597.2844608344346,
          -9555.625495351018,
          6294.123929155692,
          8100.771350019417,
          10528.981612413198,
          11915.729215426285,
          -2071.8328354768378,
          693.5723267347939,
          -5722.262948212045,
          7449.748771376635,
          3162.6329864115824,
          -503.31704263361917,
          9776.128192437758,
          -2967.155169940775,
          -807.6935414267764,
          -10070.206412002031,
          2252.3681491167026,
          -9902.629238762744,
          -4878.978174911767,
          3433.295839758881,
          -3713.415573621474,
          -8818.349209224052,
          -3083.352061584368,
          -8603.706462214268,
          -7542.141008563657,
          8416.444481516824,
          11630.993541724813,
          -1915.8544836773988,
          -7994.106880664312,
          -10217.206272186744,
          2599.237141391006,
          3213.7807371181198,
          9118.841637034668,
          12577.250442233548,
          -947.9746323489933,
          -6200.294424600019,
          -9778.056839801866,
          1628.5996885299828,
          1933.4074008326907,
          8269.978318964177,
          11425.722278990015,
          -1437.6976954103757,
          -9304.332606058491,
          -10522.282635103691,
          1595.2718895851704,
          1870.1196747476206,
          6404.7853105475915,
          11904.671347076164,
          -2258.9781355209484,
          -10824.387180959593,
          -12096.399140788033,
          669.1608483817035,
          1425.8264841816745,
          6567.741664608242,
          11924.824422448288,
          -1164.3460073255078,
          -9704.794784174985,
          -12406.860357945476,
          1235.993922564543,
          1748.2343597230165,
          5236.775343329572,
          9984.312683948881,
          -4415.583490914509,
          -10714.095330623068,
          -12142.856714958221,
          2553.3837222002476,
          3707.135999067277,
          6118.675161180214,
          10719.631445333218,
          -3903.0261138653254,
          -12676.723745923615,
          -13042.160904393559,
          974.0576748414132,
          3383.5768005244718,
          7788.662410724835,
          12074.223430761267,
          6035.134177573653,
          -11285.625438850657,
          -12380.605932459835,
          -11759.746717507995,
          3090.2964682999464,
          12970.512696002244,
          10209.872821700897,
          5932.930579457836,
          -4187.048092657716,
          -13775.054087177643,
          -11248.775928692101,
          -6656.1899377839745,
          7881.907892832712,
          11188.728856418431,
          -183.99480658965513,
          -7948.3250269747905,
          -9041.66435482805,
          2276.0983209616797,
          2730.3254776257245,
          6612.379592395415,
          9752.144089678768,
          38.58071810966476,
          -7443.540030508622,
          -7304.500487687927,
          2606.5700205243866,
          3717.321767352369,
          6843.858577932626,
          9784.105771026545,
          -171.28273715458408,
          -7943.13208322278,
          -8750.378514901175,
          2495.063578010592,
          -8530.67465694649,
          1963.5342847813072,
          9168.377106290523,
          -650.5888153696569,
          -7820.523771638214,
          -7612.165467433188,
          1952.7319988847757,
          2365.4035999932657,
          4919.362997094468,
          8281.5081865454,
          5213.372865978115,
          -8416.720560235799,
          -7813.874095739331,
          -5177.861875323009,
          3521.385317770909,
          5371.929414325666,
          5488.340541845813,
          516.3072249215184,
          -4643.981101110247,
          -5122.732086522706,
          3833.467747736968,
          4689.490897115038,
          6716.818235928447,
          8265.961603885751,
          174.6313835006158,
          -5500.797197540258,
          -4494.14927584889,
          3293.7208680647022,
          4208.2813580620805,
          7541.770809808094,
          10480.713813466673,
          790.5821358866406,
          242.8548298913047,
          -734.7977948654116,
          6804.662512982604,
          7630.257611358854,
          9451.433766201402,
          10526.15819062501,
          -136.56911537032101,
          -7078.569645409372,
          -6828.2859225392285,
          3116.7810063972042,
          -938.1028843384952,
          1592.402569188102,
          4241.662121075353,
          -2984.8583816822056,
          -6114.654840723914,
          -6761.454032006062,
          3358.5159023948504,
          427.0527766864734,
          2163.752219284106,
          4441.619694668627,
          -2702.3516277610606,
          -7438.766939261791,
          -10693.898097757052,
          2284.0732027640793,
          -513.1768081901987,
          1905.0950387790203,
          4081.7616944914107,
          -3660.1099011623223,
          -8342.462356759124,
          -5875.643990688254,
          2866.861078479155,
          -3185.143870568372,
          -3057.2544662461364,
          -961.1938415231721,
          -2409.2661858348156,
          -9156.868584791267,
          -8144.460054785972,
          3361.369240246645,
          -3755.5555630813915,
          -4328.440293549684,
          -2571.709359172804,
          -3317.018497655669,
          -10330.76479460848,
          -10066.318013237063,
          4109.915653380254,
          -4222.683102588951,
          -5183.717195534475,
          -1938.4999223597788,
          -2578.9857457242465,
          -6171.393244862849,
          -7819.05211012167,
          6150.873724073061,
          4998.799558267792,
          6870.02958189786,
          4656.135743961447,
          -852.1715730277965,
          -6848.759400035253,
          -9069.279831778593,
          5144.2416308314405,
          -3648.3789830612604,
          4818.701678091576,
          7878.534616111446,
          2039.3129093225652,
          -11133.424280162119,
          6832.435980262124,
          13564.768007535178,
          1372.4697980140627,
          3285.299093046676,
          1335.9571676785658,
          -2424.2408596931864,
          -10769.699360653281,
          3765.809351501376,
          3864.766151087731,
          -1875.8544628049676,
          -1984.4896486466669,
          2164.2230707939675,
          -4772.503189728968,
          -13730.945297246439,
          -364.7061661482476,
          3064.325314676717,
          -2684.213332002868,
          -1484.2128165695203,
          2873.1082817417864,
          -1882.1188895279656,
          -13091.94715369389,
          4057.064290701209,
          4380.345316152767,
          -1306.5794871752714,
          -603.2766038002137,
          1923.0791028899662,
          -701.2081776694026,
          -13147.6812505785,
          8040.566987987815,
          7792.8953722736205,
          483.631771131375,
          1542.5831062368507,
          4008.740270121931,
          -64.32843120246162,
          -12041.377096096985,
          6383.287183038136,
          8694.019423475296,
          2885.075889777665,
          3175.3545783022555,
          4834.829988138318,
          595.3290773915032,
          -8886.70917397462,
          7613.401937136494,
          7464.564050069101,
          -403.14633244455945,
          966.4365455153657,
          4078.238002710265,
          -356.2264781640515,
          -11251.621742280626,
          4681.068603803162,
          5635.53308467748,
          11.882811453435352,
          570.5166912348541,
          3187.782629304075,
          -2085.3885910966574,
          -3987.6089918252565,
          7674.773468253161,
          8881.700078469119,
          8849.296998338998,
          1151.3511131086907,
          -7321.197686511419,
          -1088.4167957854406,
          -1183.0257046951683,
          16723.48196198709,
          9049.78197839613,
          7839.590191526477,
          7164.41661959307,
          2992.53084365238,
          -167.59354795315357,
          -10606.716118065064,
          7947.434535866742,
          7962.231820035342,
          2246.8961351693333,
          2704.768100576549,
          2911.1009038708326,
          -146.35317808078798,
          -9411.790866589788,
          6846.350679873893,
          5803.843774607154,
          612.4661953877785,
          2472.0430788277777,
          3216.4214194626784,
          -558.4570705035167,
          -8948.49038742781,
          5996.785949564105,
          6333.36465449773,
          335.81767637124995,
          6601.068512452419,
          4179.271989699341,
          -789.1365549116563,
          -9362.30466236419,
          6026.6510917497635,
          6448.528521637854,
          18.45331036018615,
          983.3489551845248,
          2913.062450646385,
          -121.67214132344998,
          -3601.4741285573964,
          4136.487090037426,
          4034.5521337688665,
          2567.247414294481,
          -434.3469226662445,
          1252.541436183591,
          471.422509058928,
          -9483.845780542966,
          746.7456748460329,
          1337.3608096521557,
          -2630.4065692029235,
          -2234.8806875844166,
          1333.3537550541296,
          -212.06571851861736,
          -7319.0516766086685,
          3087.3503434433537,
          1328.64307387789,
          -3288.1042685473217,
          -3643.7404998614165,
          -3271.338479809393,
          -5796.54301713442,
          -10968.712946080577,
          -8691.7189406005,
          -7084.196701969244,
          -10717.30470013216,
          -9523.452771154818,
          -6740.89410265106,
          -5516.31721921106,
          -6885.815017009671,
          6839.370245301001,
          5560.0583397558485,
          3330.6717167797137,
          -287.8241958139092,
          -496.58650185015495,
          -4388.90618493558,
          -10247.525048348874,
          6929.705815013785,
          5838.69350897754,
          2612.2372138702553,
          -330.7286440785565,
          1266.260416005418,
          -3949.0688299215344,
          -10276.952720657235,
          7763.610109918546,
          8005.052721915086,
          4283.991235550971,
          1513.6428639409555,
          2520.564984134217,
          -2581.4842071479297,
          -10029.372196244285,
          8528.674255262735,
          8673.405189639616,
          5467.669821648554,
          474.80148462288525,
          -452.8992749893091,
          -6108.898759555963,
          -9371.839956326621,
          9646.229775864462,
          11399.326830459922,
          7098.423885055384,
          -1396.2113007863145,
          -3127.4293645879407,
          -8115.971654254778,
          -10756.269863775891,
          9721.961981347802,
          8990.113680752005,
          5966.78997032014,
          -1550.3606982173678,
          -2395.9740261355673,
          -8069.401561704042,
          -8815.663341352663,
          8764.306208689062,
          7646.559911736252,
          92.46935248836041,
          -11927.468201295052,
          -9511.582439960068,
          -3631.738572978452,
          -8402.876491060586,
          10336.994698325403,
          10398.053501554743,
          5447.044909519967,
          1917.0909622939344,
          5605.007689020545,
          -2478.476312850301,
          -4951.528620732071,
          15367.919982132968,
          2506.9933573113035,
          -9960.33581760143,
          7752.316792549584,
          4777.922043866357,
          -9231.321520846015,
          -8685.672553682249,
          13206.633972680058,
          4749.377657512313,
          6873.520249448391,
          -202.30255023666177,
          -708.2109601220754,
          -10761.98457947926,
          -7283.667124155201,
          15200.00005794481,
          7086.080719097645,
          7234.811653474524,
          1576.6937718222598,
          71.88554408620712,
          -10622.006472356587,
          -9022.523261112674,
          15050.724977453643,
          5768.348443706659,
          6663.017447300301,
          232.38772593947397,
          -745.7629425980322,
          -7806.7842850881825,
          -10682.383041057386,
          15927.739514448824,
          3304.900321321151,
          4824.583896863789,
          -631.7124911637002,
          -2447.329462069154,
          -10055.401806380798,
          -11339.41586289645,
          13726.803231771868,
          3842.587729486221,
          4233.921062819555,
          -3599.9896839928333,
          -4402.508809675893,
          -9550.525203118515,
          -10058.561632991008,
          13823.372793238503,
          3621.7735218359503,
          5199.372793238501,
          -1629.1572614063098,
          -4152.492416233266,
          -9675.833035541104,
          -9842.32483881979,
          15675.727984495326,
          8516.73527046983,
          7927.707948065456,
          -464.8603579454739,
          -3433.013363409951,
          -10455.364911679535,
          -9467.754711315232,
          -1526.4450573990198,
          4131.932098946874,
          4019.9859823400916,
          3431.5298475183745,
          -3720.5674530592605,
          -5128.234881141449,
          -8600.375897566078,
          -4228.824746413296,
          -12015.35374098,
          5246.352237130888,
          3930.2658655150008,
          12.853446540280856,
          -10353.358608135713,
          -10500.055180115902,
          11311.791053004095,
          521.9706194574255,
          1600.5126631420844,
          -4001.9143277816356,
          -4914.013449852896,
          -9002.40036791687,
          -9084.710783248605,
          9894.290276829499,
          1118.2694789841048,
          2021.7368414301488,
          -2697.9560875627885,
          -5668.284717830771,
          -9539.199869045928,
          -8704.568572173654,
          9640.85325293177,
          2467.426262008051,
          2938.0939887528207,
          -2309.8011260324647,
          2450.686272843448,
          -5621.726146131273,
          -7858.160423029491,
          10533.973606083222,
          2314.952808237826,
          1684.7170741447085,
          -1450.1051808955854,
          -2827.6724268284142,
          -7311.3453193914775,
          -7638.755916872573,
          -1090.818609071337,
          4801.313598547749,
          4300.40209031984,
          3131.694589377905,
          -2565.9582667552886,
          -6103.390722159881,
          -5438.6829225553665,
          9488.618683970826,
          4418.31555461359,
          4306.451405219926,
          -681.9810501846679,
          -1933.530081181245,
          -7529.091862633199,
          -7532.815757017757,
          7665.50042145743,
          2934.52698244628,
          3686.586330320376,
          515.4635288319955,
          -43.460729851287624,
          -3749.3522016493253,
          -4163.09066798288,
          10699.21093854331,
          8969.94423905857,
          8340.074625184034,
          4433.7223154989315,
          2414.275288145339,
          -2189.459535200969,
          -4488.760843064583,
          7543.464260729372,
          760.2795284577476,
          1042.1495408985984,
          -1345.202705075139,
          -5555.0248964040675,
          -9201.408563142833,
          -10086.890590537334,
          5390.666999554504,
          630.9377044004386,
          1299.3313600660472,
          -175.9375525743567,
          -4580.235153739351,
          -9169.091498073743,
          -10333.872705796117,
          5610.042807792987,
          1577.9569552618732,
          2473.789135517644,
          -206.1778645544523,
          -5181.890766265895,
          -11331.999842840723,
          -11114.320668049433,
          6098.54703133202
         ],
         "yaxis": "y4"
        }
       ],
       "layout": {
        "annotations": [
         {
          "font": {
           "size": 16
          },
          "showarrow": false,
          "text": "Observed",
          "x": 0.5,
          "xanchor": "center",
          "xref": "paper",
          "y": 1,
          "yanchor": "bottom",
          "yref": "paper"
         },
         {
          "font": {
           "size": 16
          },
          "showarrow": false,
          "text": "Trend",
          "x": 0.5,
          "xanchor": "center",
          "xref": "paper",
          "y": 0.71875,
          "yanchor": "bottom",
          "yref": "paper"
         },
         {
          "font": {
           "size": 16
          },
          "showarrow": false,
          "text": "Seasonal",
          "x": 0.5,
          "xanchor": "center",
          "xref": "paper",
          "y": 0.4375,
          "yanchor": "bottom",
          "yref": "paper"
         },
         {
          "font": {
           "size": 16
          },
          "showarrow": false,
          "text": "Residuals",
          "x": 0.5,
          "xanchor": "center",
          "xref": "paper",
          "y": 0.15625,
          "yanchor": "bottom",
          "yref": "paper"
         }
        ],
        "height": 900,
        "margin": {
         "t": 100
        },
        "showlegend": false,
        "template": {
         "data": {
          "bar": [
           {
            "error_x": {
             "color": "#2a3f5f"
            },
            "error_y": {
             "color": "#2a3f5f"
            },
            "marker": {
             "line": {
              "color": "#E5ECF6",
              "width": 0.5
             },
             "pattern": {
              "fillmode": "overlay",
              "size": 10,
              "solidity": 0.2
             }
            },
            "type": "bar"
           }
          ],
          "barpolar": [
           {
            "marker": {
             "line": {
              "color": "#E5ECF6",
              "width": 0.5
             },
             "pattern": {
              "fillmode": "overlay",
              "size": 10,
              "solidity": 0.2
             }
            },
            "type": "barpolar"
           }
          ],
          "carpet": [
           {
            "aaxis": {
             "endlinecolor": "#2a3f5f",
             "gridcolor": "white",
             "linecolor": "white",
             "minorgridcolor": "white",
             "startlinecolor": "#2a3f5f"
            },
            "baxis": {
             "endlinecolor": "#2a3f5f",
             "gridcolor": "white",
             "linecolor": "white",
             "minorgridcolor": "white",
             "startlinecolor": "#2a3f5f"
            },
            "type": "carpet"
           }
          ],
          "choropleth": [
           {
            "colorbar": {
             "outlinewidth": 0,
             "ticks": ""
            },
            "type": "choropleth"
           }
          ],
          "contour": [
           {
            "colorbar": {
             "outlinewidth": 0,
             "ticks": ""
            },
            "colorscale": [
             [
              0,
              "#0d0887"
             ],
             [
              0.1111111111111111,
              "#46039f"
             ],
             [
              0.2222222222222222,
              "#7201a8"
             ],
             [
              0.3333333333333333,
              "#9c179e"
             ],
             [
              0.4444444444444444,
              "#bd3786"
             ],
             [
              0.5555555555555556,
              "#d8576b"
             ],
             [
              0.6666666666666666,
              "#ed7953"
             ],
             [
              0.7777777777777778,
              "#fb9f3a"
             ],
             [
              0.8888888888888888,
              "#fdca26"
             ],
             [
              1,
              "#f0f921"
             ]
            ],
            "type": "contour"
           }
          ],
          "contourcarpet": [
           {
            "colorbar": {
             "outlinewidth": 0,
             "ticks": ""
            },
            "type": "contourcarpet"
           }
          ],
          "heatmap": [
           {
            "colorbar": {
             "outlinewidth": 0,
             "ticks": ""
            },
            "colorscale": [
             [
              0,
              "#0d0887"
             ],
             [
              0.1111111111111111,
              "#46039f"
             ],
             [
              0.2222222222222222,
              "#7201a8"
             ],
             [
              0.3333333333333333,
              "#9c179e"
             ],
             [
              0.4444444444444444,
              "#bd3786"
             ],
             [
              0.5555555555555556,
              "#d8576b"
             ],
             [
              0.6666666666666666,
              "#ed7953"
             ],
             [
              0.7777777777777778,
              "#fb9f3a"
             ],
             [
              0.8888888888888888,
              "#fdca26"
             ],
             [
              1,
              "#f0f921"
             ]
            ],
            "type": "heatmap"
           }
          ],
          "heatmapgl": [
           {
            "colorbar": {
             "outlinewidth": 0,
             "ticks": ""
            },
            "colorscale": [
             [
              0,
              "#0d0887"
             ],
             [
              0.1111111111111111,
              "#46039f"
             ],
             [
              0.2222222222222222,
              "#7201a8"
             ],
             [
              0.3333333333333333,
              "#9c179e"
             ],
             [
              0.4444444444444444,
              "#bd3786"
             ],
             [
              0.5555555555555556,
              "#d8576b"
             ],
             [
              0.6666666666666666,
              "#ed7953"
             ],
             [
              0.7777777777777778,
              "#fb9f3a"
             ],
             [
              0.8888888888888888,
              "#fdca26"
             ],
             [
              1,
              "#f0f921"
             ]
            ],
            "type": "heatmapgl"
           }
          ],
          "histogram": [
           {
            "marker": {
             "pattern": {
              "fillmode": "overlay",
              "size": 10,
              "solidity": 0.2
             }
            },
            "type": "histogram"
           }
          ],
          "histogram2d": [
           {
            "colorbar": {
             "outlinewidth": 0,
             "ticks": ""
            },
            "colorscale": [
             [
              0,
              "#0d0887"
             ],
             [
              0.1111111111111111,
              "#46039f"
             ],
             [
              0.2222222222222222,
              "#7201a8"
             ],
             [
              0.3333333333333333,
              "#9c179e"
             ],
             [
              0.4444444444444444,
              "#bd3786"
             ],
             [
              0.5555555555555556,
              "#d8576b"
             ],
             [
              0.6666666666666666,
              "#ed7953"
             ],
             [
              0.7777777777777778,
              "#fb9f3a"
             ],
             [
              0.8888888888888888,
              "#fdca26"
             ],
             [
              1,
              "#f0f921"
             ]
            ],
            "type": "histogram2d"
           }
          ],
          "histogram2dcontour": [
           {
            "colorbar": {
             "outlinewidth": 0,
             "ticks": ""
            },
            "colorscale": [
             [
              0,
              "#0d0887"
             ],
             [
              0.1111111111111111,
              "#46039f"
             ],
             [
              0.2222222222222222,
              "#7201a8"
             ],
             [
              0.3333333333333333,
              "#9c179e"
             ],
             [
              0.4444444444444444,
              "#bd3786"
             ],
             [
              0.5555555555555556,
              "#d8576b"
             ],
             [
              0.6666666666666666,
              "#ed7953"
             ],
             [
              0.7777777777777778,
              "#fb9f3a"
             ],
             [
              0.8888888888888888,
              "#fdca26"
             ],
             [
              1,
              "#f0f921"
             ]
            ],
            "type": "histogram2dcontour"
           }
          ],
          "mesh3d": [
           {
            "colorbar": {
             "outlinewidth": 0,
             "ticks": ""
            },
            "type": "mesh3d"
           }
          ],
          "parcoords": [
           {
            "line": {
             "colorbar": {
              "outlinewidth": 0,
              "ticks": ""
             }
            },
            "type": "parcoords"
           }
          ],
          "pie": [
           {
            "automargin": true,
            "type": "pie"
           }
          ],
          "scatter": [
           {
            "fillpattern": {
             "fillmode": "overlay",
             "size": 10,
             "solidity": 0.2
            },
            "type": "scatter"
           }
          ],
          "scatter3d": [
           {
            "line": {
             "colorbar": {
              "outlinewidth": 0,
              "ticks": ""
             }
            },
            "marker": {
             "colorbar": {
              "outlinewidth": 0,
              "ticks": ""
             }
            },
            "type": "scatter3d"
           }
          ],
          "scattercarpet": [
           {
            "marker": {
             "colorbar": {
              "outlinewidth": 0,
              "ticks": ""
             }
            },
            "type": "scattercarpet"
           }
          ],
          "scattergeo": [
           {
            "marker": {
             "colorbar": {
              "outlinewidth": 0,
              "ticks": ""
             }
            },
            "type": "scattergeo"
           }
          ],
          "scattergl": [
           {
            "marker": {
             "colorbar": {
              "outlinewidth": 0,
              "ticks": ""
             }
            },
            "type": "scattergl"
           }
          ],
          "scattermapbox": [
           {
            "marker": {
             "colorbar": {
              "outlinewidth": 0,
              "ticks": ""
             }
            },
            "type": "scattermapbox"
           }
          ],
          "scatterpolar": [
           {
            "marker": {
             "colorbar": {
              "outlinewidth": 0,
              "ticks": ""
             }
            },
            "type": "scatterpolar"
           }
          ],
          "scatterpolargl": [
           {
            "marker": {
             "colorbar": {
              "outlinewidth": 0,
              "ticks": ""
             }
            },
            "type": "scatterpolargl"
           }
          ],
          "scatterternary": [
           {
            "marker": {
             "colorbar": {
              "outlinewidth": 0,
              "ticks": ""
             }
            },
            "type": "scatterternary"
           }
          ],
          "surface": [
           {
            "colorbar": {
             "outlinewidth": 0,
             "ticks": ""
            },
            "colorscale": [
             [
              0,
              "#0d0887"
             ],
             [
              0.1111111111111111,
              "#46039f"
             ],
             [
              0.2222222222222222,
              "#7201a8"
             ],
             [
              0.3333333333333333,
              "#9c179e"
             ],
             [
              0.4444444444444444,
              "#bd3786"
             ],
             [
              0.5555555555555556,
              "#d8576b"
             ],
             [
              0.6666666666666666,
              "#ed7953"
             ],
             [
              0.7777777777777778,
              "#fb9f3a"
             ],
             [
              0.8888888888888888,
              "#fdca26"
             ],
             [
              1,
              "#f0f921"
             ]
            ],
            "type": "surface"
           }
          ],
          "table": [
           {
            "cells": {
             "fill": {
              "color": "#EBF0F8"
             },
             "line": {
              "color": "white"
             }
            },
            "header": {
             "fill": {
              "color": "#C8D4E3"
             },
             "line": {
              "color": "white"
             }
            },
            "type": "table"
           }
          ]
         },
         "layout": {
          "annotationdefaults": {
           "arrowcolor": "#2a3f5f",
           "arrowhead": 0,
           "arrowwidth": 1
          },
          "autotypenumbers": "strict",
          "coloraxis": {
           "colorbar": {
            "outlinewidth": 0,
            "ticks": ""
           }
          },
          "colorscale": {
           "diverging": [
            [
             0,
             "#8e0152"
            ],
            [
             0.1,
             "#c51b7d"
            ],
            [
             0.2,
             "#de77ae"
            ],
            [
             0.3,
             "#f1b6da"
            ],
            [
             0.4,
             "#fde0ef"
            ],
            [
             0.5,
             "#f7f7f7"
            ],
            [
             0.6,
             "#e6f5d0"
            ],
            [
             0.7,
             "#b8e186"
            ],
            [
             0.8,
             "#7fbc41"
            ],
            [
             0.9,
             "#4d9221"
            ],
            [
             1,
             "#276419"
            ]
           ],
           "sequential": [
            [
             0,
             "#0d0887"
            ],
            [
             0.1111111111111111,
             "#46039f"
            ],
            [
             0.2222222222222222,
             "#7201a8"
            ],
            [
             0.3333333333333333,
             "#9c179e"
            ],
            [
             0.4444444444444444,
             "#bd3786"
            ],
            [
             0.5555555555555556,
             "#d8576b"
            ],
            [
             0.6666666666666666,
             "#ed7953"
            ],
            [
             0.7777777777777778,
             "#fb9f3a"
            ],
            [
             0.8888888888888888,
             "#fdca26"
            ],
            [
             1,
             "#f0f921"
            ]
           ],
           "sequentialminus": [
            [
             0,
             "#0d0887"
            ],
            [
             0.1111111111111111,
             "#46039f"
            ],
            [
             0.2222222222222222,
             "#7201a8"
            ],
            [
             0.3333333333333333,
             "#9c179e"
            ],
            [
             0.4444444444444444,
             "#bd3786"
            ],
            [
             0.5555555555555556,
             "#d8576b"
            ],
            [
             0.6666666666666666,
             "#ed7953"
            ],
            [
             0.7777777777777778,
             "#fb9f3a"
            ],
            [
             0.8888888888888888,
             "#fdca26"
            ],
            [
             1,
             "#f0f921"
            ]
           ]
          },
          "colorway": [
           "#636efa",
           "#EF553B",
           "#00cc96",
           "#ab63fa",
           "#FFA15A",
           "#19d3f3",
           "#FF6692",
           "#B6E880",
           "#FF97FF",
           "#FECB52"
          ],
          "font": {
           "color": "#2a3f5f"
          },
          "geo": {
           "bgcolor": "white",
           "lakecolor": "white",
           "landcolor": "#E5ECF6",
           "showlakes": true,
           "showland": true,
           "subunitcolor": "white"
          },
          "hoverlabel": {
           "align": "left"
          },
          "hovermode": "closest",
          "mapbox": {
           "style": "light"
          },
          "paper_bgcolor": "white",
          "plot_bgcolor": "#E5ECF6",
          "polar": {
           "angularaxis": {
            "gridcolor": "white",
            "linecolor": "white",
            "ticks": ""
           },
           "bgcolor": "#E5ECF6",
           "radialaxis": {
            "gridcolor": "white",
            "linecolor": "white",
            "ticks": ""
           }
          },
          "scene": {
           "xaxis": {
            "backgroundcolor": "#E5ECF6",
            "gridcolor": "white",
            "gridwidth": 2,
            "linecolor": "white",
            "showbackground": true,
            "ticks": "",
            "zerolinecolor": "white"
           },
           "yaxis": {
            "backgroundcolor": "#E5ECF6",
            "gridcolor": "white",
            "gridwidth": 2,
            "linecolor": "white",
            "showbackground": true,
            "ticks": "",
            "zerolinecolor": "white"
           },
           "zaxis": {
            "backgroundcolor": "#E5ECF6",
            "gridcolor": "white",
            "gridwidth": 2,
            "linecolor": "white",
            "showbackground": true,
            "ticks": "",
            "zerolinecolor": "white"
           }
          },
          "shapedefaults": {
           "line": {
            "color": "#2a3f5f"
           }
          },
          "ternary": {
           "aaxis": {
            "gridcolor": "white",
            "linecolor": "white",
            "ticks": ""
           },
           "baxis": {
            "gridcolor": "white",
            "linecolor": "white",
            "ticks": ""
           },
           "bgcolor": "#E5ECF6",
           "caxis": {
            "gridcolor": "white",
            "linecolor": "white",
            "ticks": ""
           }
          },
          "title": {
           "x": 0.05
          },
          "xaxis": {
           "automargin": true,
           "gridcolor": "white",
           "linecolor": "white",
           "ticks": "",
           "title": {
            "standoff": 15
           },
           "zerolinecolor": "white",
           "zerolinewidth": 2
          },
          "yaxis": {
           "automargin": true,
           "gridcolor": "white",
           "linecolor": "white",
           "ticks": "",
           "title": {
            "standoff": 15
           },
           "zerolinecolor": "white",
           "zerolinewidth": 2
          }
         }
        },
        "title": {
         "text": "<b>Seasonal Decomposition</b>",
         "x": 0.5
        },
        "xaxis": {
         "anchor": "y",
         "domain": [
          0,
          1
         ]
        },
        "xaxis2": {
         "anchor": "y2",
         "domain": [
          0,
          1
         ]
        },
        "xaxis3": {
         "anchor": "y3",
         "domain": [
          0,
          1
         ]
        },
        "xaxis4": {
         "anchor": "y4",
         "domain": [
          0,
          1
         ]
        },
        "yaxis": {
         "anchor": "x",
         "domain": [
          0.84375,
          1
         ]
        },
        "yaxis2": {
         "anchor": "x2",
         "domain": [
          0.5625,
          0.71875
         ]
        },
        "yaxis3": {
         "anchor": "x3",
         "domain": [
          0.28125,
          0.4375
         ]
        },
        "yaxis4": {
         "anchor": "x4",
         "domain": [
          0,
          0.15625
         ]
        }
       }
      }
     },
     "metadata": {},
     "output_type": "display_data"
    }
   ],
   "source": [
    "season_dec = seasonal_decompose(clean_data.demand, model='additive',extrapolate_trend='freq', period=183)\n",
    "plot_seasonal_decompose(season_dec, season_dec.seasonal.index)"
   ]
  },
  {
   "cell_type": "markdown",
   "metadata": {},
   "source": [
    "Временной ряд называется «стационарным», если он не имеет тренда, демонстрирует постоянную дисперсию во времени и имеет постоянную структуру автокорреляции во времени.\n",
    "\n",
    "Один из способов проверить, является ли временной ряд стационарным, — это выполнить расширенный тест Дики-Фуллера , в котором используются следующие нулевая и альтернативная гипотезы:\n",
    "\n",
    "H 0 : Временной ряд является нестационарным. Другими словами, он имеет некоторую структуру, зависящую от времени, и не имеет постоянной дисперсии во времени.\n",
    "\n",
    "H A : временной ряд является стационарным.\n",
    "\n",
    "Если p-значение из теста меньше некоторого уровня значимости (например, α = 0,05), то мы можем отвергнуть нулевую гипотезу и сделать вывод, что временной ряд является стационарным."
   ]
  },
  {
   "cell_type": "code",
   "execution_count": 12,
   "metadata": {},
   "outputs": [
    {
     "data": {
      "text/plain": [
       "(-3.124813888008772,\n",
       " 0.10045051535658067,\n",
       " 14,\n",
       " 554,\n",
       " {'1%': -3.975204749433199,\n",
       "  '5%': -3.4184446178841346,\n",
       "  '10%': -3.131730068152563},\n",
       " 10790.938966392205)"
      ]
     },
     "execution_count": 12,
     "metadata": {},
     "output_type": "execute_result"
    }
   ],
   "source": [
    "from statsmodels. tsa.stattools import adfuller\n",
    "adfuller(clean_data.demand, regression='ct')"
   ]
  },
  {
   "cell_type": "markdown",
   "metadata": {},
   "source": [
    "    Статистика теста: -3.124813888008779\n",
    "    P-значение:  0.10045051535657906\n",
    "\n",
    "Так как Р > 0,05, ряд не стационарен, необходимо дифференцирование"
   ]
  },
  {
   "cell_type": "code",
   "execution_count": 13,
   "metadata": {},
   "outputs": [
    {
     "data": {
      "application/vnd.plotly.v1+json": {
       "config": {
        "plotlyServerURL": "https://plot.ly"
       },
       "data": [
        {
         "line": {
          "color": "#3f3f3f"
         },
         "mode": "lines",
         "showlegend": false,
         "type": "scatter",
         "x": [
          0,
          0
         ],
         "y": [
          0,
          1
         ]
        },
        {
         "line": {
          "color": "#3f3f3f"
         },
         "mode": "lines",
         "showlegend": false,
         "type": "scatter",
         "x": [
          1,
          1
         ],
         "y": [
          0,
          0.45744583233027025
         ]
        },
        {
         "line": {
          "color": "#3f3f3f"
         },
         "mode": "lines",
         "showlegend": false,
         "type": "scatter",
         "x": [
          2,
          2
         ],
         "y": [
          0,
          0.06600734733234505
         ]
        },
        {
         "line": {
          "color": "#3f3f3f"
         },
         "mode": "lines",
         "showlegend": false,
         "type": "scatter",
         "x": [
          3,
          3
         ],
         "y": [
          0,
          -0.07695269430344105
         ]
        },
        {
         "line": {
          "color": "#3f3f3f"
         },
         "mode": "lines",
         "showlegend": false,
         "type": "scatter",
         "x": [
          4,
          4
         ],
         "y": [
          0,
          -0.08781682153435616
         ]
        },
        {
         "line": {
          "color": "#3f3f3f"
         },
         "mode": "lines",
         "showlegend": false,
         "type": "scatter",
         "x": [
          5,
          5
         ],
         "y": [
          0,
          0.038588977920481916
         ]
        },
        {
         "line": {
          "color": "#3f3f3f"
         },
         "mode": "lines",
         "showlegend": false,
         "type": "scatter",
         "x": [
          6,
          6
         ],
         "y": [
          0,
          0.37611619495289894
         ]
        },
        {
         "line": {
          "color": "#3f3f3f"
         },
         "mode": "lines",
         "showlegend": false,
         "type": "scatter",
         "x": [
          7,
          7
         ],
         "y": [
          0,
          0.8098549899586948
         ]
        },
        {
         "line": {
          "color": "#3f3f3f"
         },
         "mode": "lines",
         "showlegend": false,
         "type": "scatter",
         "x": [
          8,
          8
         ],
         "y": [
          0,
          0.37410831539841455
         ]
        },
        {
         "line": {
          "color": "#3f3f3f"
         },
         "mode": "lines",
         "showlegend": false,
         "type": "scatter",
         "x": [
          9,
          9
         ],
         "y": [
          0,
          0.013007328391540639
         ]
        },
        {
         "line": {
          "color": "#3f3f3f"
         },
         "mode": "lines",
         "showlegend": false,
         "type": "scatter",
         "x": [
          10,
          10
         ],
         "y": [
          0,
          -0.12354058186220944
         ]
        },
        {
         "line": {
          "color": "#3f3f3f"
         },
         "mode": "lines",
         "showlegend": false,
         "type": "scatter",
         "x": [
          11,
          11
         ],
         "y": [
          0,
          -0.13165986838383817
         ]
        },
        {
         "line": {
          "color": "#3f3f3f"
         },
         "mode": "lines",
         "showlegend": false,
         "type": "scatter",
         "x": [
          12,
          12
         ],
         "y": [
          0,
          0.006352841041287385
         ]
        },
        {
         "line": {
          "color": "#3f3f3f"
         },
         "mode": "lines",
         "showlegend": false,
         "type": "scatter",
         "x": [
          13,
          13
         ],
         "y": [
          0,
          0.3403650423589897
         ]
        },
        {
         "line": {
          "color": "#3f3f3f"
         },
         "mode": "lines",
         "showlegend": false,
         "type": "scatter",
         "x": [
          14,
          14
         ],
         "y": [
          0,
          0.7366358102518585
         ]
        },
        {
         "line": {
          "color": "#3f3f3f"
         },
         "mode": "lines",
         "showlegend": false,
         "type": "scatter",
         "x": [
          15,
          15
         ],
         "y": [
          0,
          0.322575439550571
         ]
        },
        {
         "line": {
          "color": "#3f3f3f"
         },
         "mode": "lines",
         "showlegend": false,
         "type": "scatter",
         "x": [
          16,
          16
         ],
         "y": [
          0,
          -0.007191068798276568
         ]
        },
        {
         "line": {
          "color": "#3f3f3f"
         },
         "mode": "lines",
         "showlegend": false,
         "type": "scatter",
         "x": [
          17,
          17
         ],
         "y": [
          0,
          -0.1337698130556254
         ]
        },
        {
         "line": {
          "color": "#3f3f3f"
         },
         "mode": "lines",
         "showlegend": false,
         "type": "scatter",
         "x": [
          18,
          18
         ],
         "y": [
          0,
          -0.14224290016300914
         ]
        },
        {
         "line": {
          "color": "#3f3f3f"
         },
         "mode": "lines",
         "showlegend": false,
         "type": "scatter",
         "x": [
          19,
          19
         ],
         "y": [
          0,
          -0.01953739358677775
         ]
        },
        {
         "line": {
          "color": "#3f3f3f"
         },
         "mode": "lines",
         "showlegend": false,
         "type": "scatter",
         "x": [
          20,
          20
         ],
         "y": [
          0,
          0.30315765327024297
         ]
        },
        {
         "line": {
          "color": "#3f3f3f"
         },
         "mode": "lines",
         "showlegend": false,
         "type": "scatter",
         "x": [
          21,
          21
         ],
         "y": [
          0,
          0.7026758081165673
         ]
        },
        {
         "line": {
          "color": "#3f3f3f"
         },
         "mode": "lines",
         "showlegend": false,
         "type": "scatter",
         "x": [
          22,
          22
         ],
         "y": [
          0,
          0.30485606000699006
         ]
        },
        {
         "line": {
          "color": "#3f3f3f"
         },
         "mode": "lines",
         "showlegend": false,
         "type": "scatter",
         "x": [
          23,
          23
         ],
         "y": [
          0,
          -0.029368855637763508
         ]
        },
        {
         "line": {
          "color": "#3f3f3f"
         },
         "mode": "lines",
         "showlegend": false,
         "type": "scatter",
         "x": [
          24,
          24
         ],
         "y": [
          0,
          -0.15861477632796642
         ]
        },
        {
         "line": {
          "color": "#3f3f3f"
         },
         "mode": "lines",
         "showlegend": false,
         "type": "scatter",
         "x": [
          25,
          25
         ],
         "y": [
          0,
          -0.16029156685932555
         ]
        },
        {
         "line": {
          "color": "#3f3f3f"
         },
         "mode": "lines",
         "showlegend": false,
         "type": "scatter",
         "x": [
          26,
          26
         ],
         "y": [
          0,
          -0.03619030020256789
         ]
        },
        {
         "line": {
          "color": "#3f3f3f"
         },
         "mode": "lines",
         "showlegend": false,
         "type": "scatter",
         "x": [
          27,
          27
         ],
         "y": [
          0,
          0.28884705180388887
         ]
        },
        {
         "marker": {
          "color": "#1f77b4",
          "size": 12
         },
         "mode": "markers",
         "showlegend": false,
         "type": "scatter",
         "x": [
          0,
          1,
          2,
          3,
          4,
          5,
          6,
          7,
          8,
          9,
          10,
          11,
          12,
          13,
          14,
          15,
          16,
          17,
          18,
          19,
          20,
          21,
          22,
          23,
          24,
          25,
          26,
          27
         ],
         "y": [
          1,
          0.45744583233027025,
          0.06600734733234505,
          -0.07695269430344105,
          -0.08781682153435616,
          0.038588977920481916,
          0.37611619495289894,
          0.8098549899586948,
          0.37410831539841455,
          0.013007328391540639,
          -0.12354058186220944,
          -0.13165986838383817,
          0.006352841041287385,
          0.3403650423589897,
          0.7366358102518585,
          0.322575439550571,
          -0.007191068798276568,
          -0.1337698130556254,
          -0.14224290016300914,
          -0.01953739358677775,
          0.30315765327024297,
          0.7026758081165673,
          0.30485606000699006,
          -0.029368855637763508,
          -0.15861477632796642,
          -0.16029156685932555,
          -0.03619030020256789,
          0.28884705180388887
         ]
        },
        {
         "line": {
          "color": "rgba(255,255,255,0)"
         },
         "mode": "lines",
         "showlegend": false,
         "type": "scatter",
         "x": [
          0,
          1,
          2,
          3,
          4,
          5,
          6,
          7,
          8,
          9,
          10,
          11,
          12,
          13,
          14,
          15,
          16,
          17,
          18,
          19,
          20,
          21,
          22,
          23,
          24,
          25,
          26,
          27
         ],
         "y": [
          0,
          0.08216596455083847,
          0.09786078067310831,
          0.09816090027524411,
          0.09856733880065012,
          0.09909414065840083,
          0.09919554121689877,
          0.1083967879657256,
          0.14354677501769603,
          0.14998481670744146,
          0.14999243226672157,
          0.15067783008825666,
          0.15145251731358253,
          0.15145431635357365,
          0.15653322797933666,
          0.17840835094727103,
          0.18230342914552242,
          0.18230534416715508,
          0.18296681937980247,
          0.18371187626153165,
          0.18372590321494559,
          0.18707257438153369,
          0.204115280382405,
          0.20716643470628507,
          0.2071945413580496,
          0.20801269766171418,
          0.2088449355839433,
          0.20888727065790885
         ]
        },
        {
         "fill": "tonexty",
         "fillcolor": "rgba(32, 146, 230,0.3)",
         "line": {
          "color": "rgba(255,255,255,0)"
         },
         "mode": "lines",
         "showlegend": false,
         "type": "scatter",
         "x": [
          0,
          1,
          2,
          3,
          4,
          5,
          6,
          7,
          8,
          9,
          10,
          11,
          12,
          13,
          14,
          15,
          16,
          17,
          18,
          19,
          20,
          21,
          22,
          23,
          24,
          25,
          26,
          27
         ],
         "y": [
          0,
          -0.08216596455083847,
          -0.09786078067310831,
          -0.09816090027524411,
          -0.0985673388006501,
          -0.09909414065840083,
          -0.09919554121689877,
          -0.1083967879657256,
          -0.14354677501769608,
          -0.14998481670744146,
          -0.14999243226672154,
          -0.15067783008825666,
          -0.15145251731358253,
          -0.15145431635357365,
          -0.15653322797933666,
          -0.1784083509472711,
          -0.18230342914552242,
          -0.18230534416715505,
          -0.1829668193798025,
          -0.18371187626153165,
          -0.18372590321494556,
          -0.18707257438153369,
          -0.20411528038240503,
          -0.20716643470628507,
          -0.20719454135804957,
          -0.20801269766171415,
          -0.2088449355839433,
          -0.20888727065790885
         ]
        }
       ],
       "layout": {
        "template": {
         "data": {
          "bar": [
           {
            "error_x": {
             "color": "#2a3f5f"
            },
            "error_y": {
             "color": "#2a3f5f"
            },
            "marker": {
             "line": {
              "color": "#E5ECF6",
              "width": 0.5
             },
             "pattern": {
              "fillmode": "overlay",
              "size": 10,
              "solidity": 0.2
             }
            },
            "type": "bar"
           }
          ],
          "barpolar": [
           {
            "marker": {
             "line": {
              "color": "#E5ECF6",
              "width": 0.5
             },
             "pattern": {
              "fillmode": "overlay",
              "size": 10,
              "solidity": 0.2
             }
            },
            "type": "barpolar"
           }
          ],
          "carpet": [
           {
            "aaxis": {
             "endlinecolor": "#2a3f5f",
             "gridcolor": "white",
             "linecolor": "white",
             "minorgridcolor": "white",
             "startlinecolor": "#2a3f5f"
            },
            "baxis": {
             "endlinecolor": "#2a3f5f",
             "gridcolor": "white",
             "linecolor": "white",
             "minorgridcolor": "white",
             "startlinecolor": "#2a3f5f"
            },
            "type": "carpet"
           }
          ],
          "choropleth": [
           {
            "colorbar": {
             "outlinewidth": 0,
             "ticks": ""
            },
            "type": "choropleth"
           }
          ],
          "contour": [
           {
            "colorbar": {
             "outlinewidth": 0,
             "ticks": ""
            },
            "colorscale": [
             [
              0,
              "#0d0887"
             ],
             [
              0.1111111111111111,
              "#46039f"
             ],
             [
              0.2222222222222222,
              "#7201a8"
             ],
             [
              0.3333333333333333,
              "#9c179e"
             ],
             [
              0.4444444444444444,
              "#bd3786"
             ],
             [
              0.5555555555555556,
              "#d8576b"
             ],
             [
              0.6666666666666666,
              "#ed7953"
             ],
             [
              0.7777777777777778,
              "#fb9f3a"
             ],
             [
              0.8888888888888888,
              "#fdca26"
             ],
             [
              1,
              "#f0f921"
             ]
            ],
            "type": "contour"
           }
          ],
          "contourcarpet": [
           {
            "colorbar": {
             "outlinewidth": 0,
             "ticks": ""
            },
            "type": "contourcarpet"
           }
          ],
          "heatmap": [
           {
            "colorbar": {
             "outlinewidth": 0,
             "ticks": ""
            },
            "colorscale": [
             [
              0,
              "#0d0887"
             ],
             [
              0.1111111111111111,
              "#46039f"
             ],
             [
              0.2222222222222222,
              "#7201a8"
             ],
             [
              0.3333333333333333,
              "#9c179e"
             ],
             [
              0.4444444444444444,
              "#bd3786"
             ],
             [
              0.5555555555555556,
              "#d8576b"
             ],
             [
              0.6666666666666666,
              "#ed7953"
             ],
             [
              0.7777777777777778,
              "#fb9f3a"
             ],
             [
              0.8888888888888888,
              "#fdca26"
             ],
             [
              1,
              "#f0f921"
             ]
            ],
            "type": "heatmap"
           }
          ],
          "heatmapgl": [
           {
            "colorbar": {
             "outlinewidth": 0,
             "ticks": ""
            },
            "colorscale": [
             [
              0,
              "#0d0887"
             ],
             [
              0.1111111111111111,
              "#46039f"
             ],
             [
              0.2222222222222222,
              "#7201a8"
             ],
             [
              0.3333333333333333,
              "#9c179e"
             ],
             [
              0.4444444444444444,
              "#bd3786"
             ],
             [
              0.5555555555555556,
              "#d8576b"
             ],
             [
              0.6666666666666666,
              "#ed7953"
             ],
             [
              0.7777777777777778,
              "#fb9f3a"
             ],
             [
              0.8888888888888888,
              "#fdca26"
             ],
             [
              1,
              "#f0f921"
             ]
            ],
            "type": "heatmapgl"
           }
          ],
          "histogram": [
           {
            "marker": {
             "pattern": {
              "fillmode": "overlay",
              "size": 10,
              "solidity": 0.2
             }
            },
            "type": "histogram"
           }
          ],
          "histogram2d": [
           {
            "colorbar": {
             "outlinewidth": 0,
             "ticks": ""
            },
            "colorscale": [
             [
              0,
              "#0d0887"
             ],
             [
              0.1111111111111111,
              "#46039f"
             ],
             [
              0.2222222222222222,
              "#7201a8"
             ],
             [
              0.3333333333333333,
              "#9c179e"
             ],
             [
              0.4444444444444444,
              "#bd3786"
             ],
             [
              0.5555555555555556,
              "#d8576b"
             ],
             [
              0.6666666666666666,
              "#ed7953"
             ],
             [
              0.7777777777777778,
              "#fb9f3a"
             ],
             [
              0.8888888888888888,
              "#fdca26"
             ],
             [
              1,
              "#f0f921"
             ]
            ],
            "type": "histogram2d"
           }
          ],
          "histogram2dcontour": [
           {
            "colorbar": {
             "outlinewidth": 0,
             "ticks": ""
            },
            "colorscale": [
             [
              0,
              "#0d0887"
             ],
             [
              0.1111111111111111,
              "#46039f"
             ],
             [
              0.2222222222222222,
              "#7201a8"
             ],
             [
              0.3333333333333333,
              "#9c179e"
             ],
             [
              0.4444444444444444,
              "#bd3786"
             ],
             [
              0.5555555555555556,
              "#d8576b"
             ],
             [
              0.6666666666666666,
              "#ed7953"
             ],
             [
              0.7777777777777778,
              "#fb9f3a"
             ],
             [
              0.8888888888888888,
              "#fdca26"
             ],
             [
              1,
              "#f0f921"
             ]
            ],
            "type": "histogram2dcontour"
           }
          ],
          "mesh3d": [
           {
            "colorbar": {
             "outlinewidth": 0,
             "ticks": ""
            },
            "type": "mesh3d"
           }
          ],
          "parcoords": [
           {
            "line": {
             "colorbar": {
              "outlinewidth": 0,
              "ticks": ""
             }
            },
            "type": "parcoords"
           }
          ],
          "pie": [
           {
            "automargin": true,
            "type": "pie"
           }
          ],
          "scatter": [
           {
            "fillpattern": {
             "fillmode": "overlay",
             "size": 10,
             "solidity": 0.2
            },
            "type": "scatter"
           }
          ],
          "scatter3d": [
           {
            "line": {
             "colorbar": {
              "outlinewidth": 0,
              "ticks": ""
             }
            },
            "marker": {
             "colorbar": {
              "outlinewidth": 0,
              "ticks": ""
             }
            },
            "type": "scatter3d"
           }
          ],
          "scattercarpet": [
           {
            "marker": {
             "colorbar": {
              "outlinewidth": 0,
              "ticks": ""
             }
            },
            "type": "scattercarpet"
           }
          ],
          "scattergeo": [
           {
            "marker": {
             "colorbar": {
              "outlinewidth": 0,
              "ticks": ""
             }
            },
            "type": "scattergeo"
           }
          ],
          "scattergl": [
           {
            "marker": {
             "colorbar": {
              "outlinewidth": 0,
              "ticks": ""
             }
            },
            "type": "scattergl"
           }
          ],
          "scattermapbox": [
           {
            "marker": {
             "colorbar": {
              "outlinewidth": 0,
              "ticks": ""
             }
            },
            "type": "scattermapbox"
           }
          ],
          "scatterpolar": [
           {
            "marker": {
             "colorbar": {
              "outlinewidth": 0,
              "ticks": ""
             }
            },
            "type": "scatterpolar"
           }
          ],
          "scatterpolargl": [
           {
            "marker": {
             "colorbar": {
              "outlinewidth": 0,
              "ticks": ""
             }
            },
            "type": "scatterpolargl"
           }
          ],
          "scatterternary": [
           {
            "marker": {
             "colorbar": {
              "outlinewidth": 0,
              "ticks": ""
             }
            },
            "type": "scatterternary"
           }
          ],
          "surface": [
           {
            "colorbar": {
             "outlinewidth": 0,
             "ticks": ""
            },
            "colorscale": [
             [
              0,
              "#0d0887"
             ],
             [
              0.1111111111111111,
              "#46039f"
             ],
             [
              0.2222222222222222,
              "#7201a8"
             ],
             [
              0.3333333333333333,
              "#9c179e"
             ],
             [
              0.4444444444444444,
              "#bd3786"
             ],
             [
              0.5555555555555556,
              "#d8576b"
             ],
             [
              0.6666666666666666,
              "#ed7953"
             ],
             [
              0.7777777777777778,
              "#fb9f3a"
             ],
             [
              0.8888888888888888,
              "#fdca26"
             ],
             [
              1,
              "#f0f921"
             ]
            ],
            "type": "surface"
           }
          ],
          "table": [
           {
            "cells": {
             "fill": {
              "color": "#EBF0F8"
             },
             "line": {
              "color": "white"
             }
            },
            "header": {
             "fill": {
              "color": "#C8D4E3"
             },
             "line": {
              "color": "white"
             }
            },
            "type": "table"
           }
          ]
         },
         "layout": {
          "annotationdefaults": {
           "arrowcolor": "#2a3f5f",
           "arrowhead": 0,
           "arrowwidth": 1
          },
          "autotypenumbers": "strict",
          "coloraxis": {
           "colorbar": {
            "outlinewidth": 0,
            "ticks": ""
           }
          },
          "colorscale": {
           "diverging": [
            [
             0,
             "#8e0152"
            ],
            [
             0.1,
             "#c51b7d"
            ],
            [
             0.2,
             "#de77ae"
            ],
            [
             0.3,
             "#f1b6da"
            ],
            [
             0.4,
             "#fde0ef"
            ],
            [
             0.5,
             "#f7f7f7"
            ],
            [
             0.6,
             "#e6f5d0"
            ],
            [
             0.7,
             "#b8e186"
            ],
            [
             0.8,
             "#7fbc41"
            ],
            [
             0.9,
             "#4d9221"
            ],
            [
             1,
             "#276419"
            ]
           ],
           "sequential": [
            [
             0,
             "#0d0887"
            ],
            [
             0.1111111111111111,
             "#46039f"
            ],
            [
             0.2222222222222222,
             "#7201a8"
            ],
            [
             0.3333333333333333,
             "#9c179e"
            ],
            [
             0.4444444444444444,
             "#bd3786"
            ],
            [
             0.5555555555555556,
             "#d8576b"
            ],
            [
             0.6666666666666666,
             "#ed7953"
            ],
            [
             0.7777777777777778,
             "#fb9f3a"
            ],
            [
             0.8888888888888888,
             "#fdca26"
            ],
            [
             1,
             "#f0f921"
            ]
           ],
           "sequentialminus": [
            [
             0,
             "#0d0887"
            ],
            [
             0.1111111111111111,
             "#46039f"
            ],
            [
             0.2222222222222222,
             "#7201a8"
            ],
            [
             0.3333333333333333,
             "#9c179e"
            ],
            [
             0.4444444444444444,
             "#bd3786"
            ],
            [
             0.5555555555555556,
             "#d8576b"
            ],
            [
             0.6666666666666666,
             "#ed7953"
            ],
            [
             0.7777777777777778,
             "#fb9f3a"
            ],
            [
             0.8888888888888888,
             "#fdca26"
            ],
            [
             1,
             "#f0f921"
            ]
           ]
          },
          "colorway": [
           "#636efa",
           "#EF553B",
           "#00cc96",
           "#ab63fa",
           "#FFA15A",
           "#19d3f3",
           "#FF6692",
           "#B6E880",
           "#FF97FF",
           "#FECB52"
          ],
          "font": {
           "color": "#2a3f5f"
          },
          "geo": {
           "bgcolor": "white",
           "lakecolor": "white",
           "landcolor": "#E5ECF6",
           "showlakes": true,
           "showland": true,
           "subunitcolor": "white"
          },
          "hoverlabel": {
           "align": "left"
          },
          "hovermode": "closest",
          "mapbox": {
           "style": "light"
          },
          "paper_bgcolor": "white",
          "plot_bgcolor": "#E5ECF6",
          "polar": {
           "angularaxis": {
            "gridcolor": "white",
            "linecolor": "white",
            "ticks": ""
           },
           "bgcolor": "#E5ECF6",
           "radialaxis": {
            "gridcolor": "white",
            "linecolor": "white",
            "ticks": ""
           }
          },
          "scene": {
           "xaxis": {
            "backgroundcolor": "#E5ECF6",
            "gridcolor": "white",
            "gridwidth": 2,
            "linecolor": "white",
            "showbackground": true,
            "ticks": "",
            "zerolinecolor": "white"
           },
           "yaxis": {
            "backgroundcolor": "#E5ECF6",
            "gridcolor": "white",
            "gridwidth": 2,
            "linecolor": "white",
            "showbackground": true,
            "ticks": "",
            "zerolinecolor": "white"
           },
           "zaxis": {
            "backgroundcolor": "#E5ECF6",
            "gridcolor": "white",
            "gridwidth": 2,
            "linecolor": "white",
            "showbackground": true,
            "ticks": "",
            "zerolinecolor": "white"
           }
          },
          "shapedefaults": {
           "line": {
            "color": "#2a3f5f"
           }
          },
          "ternary": {
           "aaxis": {
            "gridcolor": "white",
            "linecolor": "white",
            "ticks": ""
           },
           "baxis": {
            "gridcolor": "white",
            "linecolor": "white",
            "ticks": ""
           },
           "bgcolor": "#E5ECF6",
           "caxis": {
            "gridcolor": "white",
            "linecolor": "white",
            "ticks": ""
           }
          },
          "title": {
           "x": 0.05
          },
          "xaxis": {
           "automargin": true,
           "gridcolor": "white",
           "linecolor": "white",
           "ticks": "",
           "title": {
            "standoff": 15
           },
           "zerolinecolor": "white",
           "zerolinewidth": 2
          },
          "yaxis": {
           "automargin": true,
           "gridcolor": "white",
           "linecolor": "white",
           "ticks": "",
           "title": {
            "standoff": 15
           },
           "zerolinecolor": "white",
           "zerolinewidth": 2
          }
         }
        },
        "title": {
         "text": "Autocorrelation (ACF)"
        },
        "xaxis": {
         "range": [
          -1,
          42
         ]
        },
        "yaxis": {
         "zerolinecolor": "#000000"
        }
       }
      }
     },
     "metadata": {},
     "output_type": "display_data"
    },
    {
     "data": {
      "application/vnd.plotly.v1+json": {
       "config": {
        "plotlyServerURL": "https://plot.ly"
       },
       "data": [
        {
         "line": {
          "color": "#3f3f3f"
         },
         "mode": "lines",
         "showlegend": false,
         "type": "scatter",
         "x": [
          0,
          0
         ],
         "y": [
          0,
          1
         ]
        },
        {
         "line": {
          "color": "#3f3f3f"
         },
         "mode": "lines",
         "showlegend": false,
         "type": "scatter",
         "x": [
          1,
          1
         ],
         "y": [
          0,
          0.4582511947111335
         ]
        },
        {
         "line": {
          "color": "#3f3f3f"
         },
         "mode": "lines",
         "showlegend": false,
         "type": "scatter",
         "x": [
          2,
          2
         ],
         "y": [
          0,
          -0.18196571750566293
         ]
        },
        {
         "line": {
          "color": "#3f3f3f"
         },
         "mode": "lines",
         "showlegend": false,
         "type": "scatter",
         "x": [
          3,
          3
         ],
         "y": [
          0,
          -0.03908202346431858
         ]
        },
        {
         "line": {
          "color": "#3f3f3f"
         },
         "mode": "lines",
         "showlegend": false,
         "type": "scatter",
         "x": [
          4,
          4
         ],
         "y": [
          0,
          -0.02429153987231527
         ]
        },
        {
         "line": {
          "color": "#3f3f3f"
         },
         "mode": "lines",
         "showlegend": false,
         "type": "scatter",
         "x": [
          5,
          5
         ],
         "y": [
          0,
          0.11313969671747609
         ]
        },
        {
         "line": {
          "color": "#3f3f3f"
         },
         "mode": "lines",
         "showlegend": false,
         "type": "scatter",
         "x": [
          6,
          6
         ],
         "y": [
          0,
          0.3961918676692141
         ]
        },
        {
         "line": {
          "color": "#3f3f3f"
         },
         "mode": "lines",
         "showlegend": false,
         "type": "scatter",
         "x": [
          7,
          7
         ],
         "y": [
          0,
          0.726934114591207
         ]
        },
        {
         "line": {
          "color": "#3f3f3f"
         },
         "mode": "lines",
         "showlegend": false,
         "type": "scatter",
         "x": [
          8,
          8
         ],
         "y": [
          0,
          -0.3484457981380369
         ]
        },
        {
         "line": {
          "color": "#3f3f3f"
         },
         "mode": "lines",
         "showlegend": false,
         "type": "scatter",
         "x": [
          9,
          9
         ],
         "y": [
          0,
          -0.0740481044194544
         ]
        },
        {
         "line": {
          "color": "#3f3f3f"
         },
         "mode": "lines",
         "showlegend": false,
         "type": "scatter",
         "x": [
          10,
          10
         ],
         "y": [
          0,
          -0.07126924331663718
         ]
        },
        {
         "line": {
          "color": "#3f3f3f"
         },
         "mode": "lines",
         "showlegend": false,
         "type": "scatter",
         "x": [
          11,
          11
         ],
         "y": [
          0,
          -0.01956236750833127
         ]
        },
        {
         "line": {
          "color": "#3f3f3f"
         },
         "mode": "lines",
         "showlegend": false,
         "type": "scatter",
         "x": [
          12,
          12
         ],
         "y": [
          0,
          0.04621130217288305
         ]
        },
        {
         "line": {
          "color": "#3f3f3f"
         },
         "mode": "lines",
         "showlegend": false,
         "type": "scatter",
         "x": [
          13,
          13
         ],
         "y": [
          0,
          0.14036889642625733
         ]
        },
        {
         "line": {
          "color": "#3f3f3f"
         },
         "mode": "lines",
         "showlegend": false,
         "type": "scatter",
         "x": [
          14,
          14
         ],
         "y": [
          0,
          0.20407573892461836
         ]
        },
        {
         "line": {
          "color": "#3f3f3f"
         },
         "mode": "lines",
         "showlegend": false,
         "type": "scatter",
         "x": [
          15,
          15
         ],
         "y": [
          0,
          -0.18676006422358502
         ]
        },
        {
         "line": {
          "color": "#3f3f3f"
         },
         "mode": "lines",
         "showlegend": false,
         "type": "scatter",
         "x": [
          16,
          16
         ],
         "y": [
          0,
          0.03850833108611043
         ]
        },
        {
         "line": {
          "color": "#3f3f3f"
         },
         "mode": "lines",
         "showlegend": false,
         "type": "scatter",
         "x": [
          17,
          17
         ],
         "y": [
          0,
          -0.00931118461545374
         ]
        },
        {
         "line": {
          "color": "#3f3f3f"
         },
         "mode": "lines",
         "showlegend": false,
         "type": "scatter",
         "x": [
          18,
          18
         ],
         "y": [
          0,
          0.014929070137868063
         ]
        },
        {
         "line": {
          "color": "#3f3f3f"
         },
         "mode": "lines",
         "showlegend": false,
         "type": "scatter",
         "x": [
          19,
          19
         ],
         "y": [
          0,
          -0.05020472239444715
         ]
        },
        {
         "line": {
          "color": "#3f3f3f"
         },
         "mode": "lines",
         "showlegend": false,
         "type": "scatter",
         "x": [
          20,
          20
         ],
         "y": [
          0,
          0.04688966199288469
         ]
        },
        {
         "line": {
          "color": "#3f3f3f"
         },
         "mode": "lines",
         "showlegend": false,
         "type": "scatter",
         "x": [
          21,
          21
         ],
         "y": [
          0,
          0.2106921334190565
         ]
        },
        {
         "line": {
          "color": "#3f3f3f"
         },
         "mode": "lines",
         "showlegend": false,
         "type": "scatter",
         "x": [
          22,
          22
         ],
         "y": [
          0,
          -0.09682447135077976
         ]
        },
        {
         "line": {
          "color": "#3f3f3f"
         },
         "mode": "lines",
         "showlegend": false,
         "type": "scatter",
         "x": [
          23,
          23
         ],
         "y": [
          0,
          -0.052706443969069094
         ]
        },
        {
         "line": {
          "color": "#3f3f3f"
         },
         "mode": "lines",
         "showlegend": false,
         "type": "scatter",
         "x": [
          24,
          24
         ],
         "y": [
          0,
          -0.05929292489678321
         ]
        },
        {
         "line": {
          "color": "#3f3f3f"
         },
         "mode": "lines",
         "showlegend": false,
         "type": "scatter",
         "x": [
          25,
          25
         ],
         "y": [
          0,
          0.01647183554999256
         ]
        },
        {
         "line": {
          "color": "#3f3f3f"
         },
         "mode": "lines",
         "showlegend": false,
         "type": "scatter",
         "x": [
          26,
          26
         ],
         "y": [
          0,
          0.0018944088975815672
         ]
        },
        {
         "line": {
          "color": "#3f3f3f"
         },
         "mode": "lines",
         "showlegend": false,
         "type": "scatter",
         "x": [
          27,
          27
         ],
         "y": [
          0,
          0.10967788731620756
         ]
        },
        {
         "marker": {
          "color": "#1f77b4",
          "size": 12
         },
         "mode": "markers",
         "showlegend": false,
         "type": "scatter",
         "x": [
          0,
          1,
          2,
          3,
          4,
          5,
          6,
          7,
          8,
          9,
          10,
          11,
          12,
          13,
          14,
          15,
          16,
          17,
          18,
          19,
          20,
          21,
          22,
          23,
          24,
          25,
          26,
          27
         ],
         "y": [
          1,
          0.4582511947111335,
          -0.18196571750566293,
          -0.03908202346431858,
          -0.02429153987231527,
          0.11313969671747609,
          0.3961918676692141,
          0.726934114591207,
          -0.3484457981380369,
          -0.0740481044194544,
          -0.07126924331663718,
          -0.01956236750833127,
          0.04621130217288305,
          0.14036889642625733,
          0.20407573892461836,
          -0.18676006422358502,
          0.03850833108611043,
          -0.00931118461545374,
          0.014929070137868063,
          -0.05020472239444715,
          0.04688966199288469,
          0.2106921334190565,
          -0.09682447135077976,
          -0.052706443969069094,
          -0.05929292489678321,
          0.01647183554999256,
          0.0018944088975815672,
          0.10967788731620756
         ]
        },
        {
         "line": {
          "color": "rgba(255,255,255,0)"
         },
         "mode": "lines",
         "showlegend": false,
         "type": "scatter",
         "x": [
          0,
          1,
          2,
          3,
          4,
          5,
          6,
          7,
          8,
          9,
          10,
          11,
          12,
          13,
          14,
          15,
          16,
          17,
          18,
          19,
          20,
          21,
          22,
          23,
          24,
          25,
          26,
          27
         ],
         "y": [
          0,
          0.08216596455083847,
          0.08216596455083844,
          0.08216596455083844,
          0.08216596455083844,
          0.08216596455083844,
          0.08216596455083847,
          0.08216596455083847,
          0.08216596455083847,
          0.08216596455083844,
          0.08216596455083844,
          0.08216596455083844,
          0.08216596455083844,
          0.08216596455083844,
          0.08216596455083844,
          0.08216596455083844,
          0.08216596455083844,
          0.08216596455083844,
          0.08216596455083844,
          0.08216596455083844,
          0.08216596455083844,
          0.08216596455083844,
          0.08216596455083844,
          0.08216596455083844,
          0.08216596455083844,
          0.08216596455083844,
          0.08216596455083844,
          0.08216596455083844
         ]
        },
        {
         "fill": "tonexty",
         "fillcolor": "rgba(32, 146, 230,0.3)",
         "line": {
          "color": "rgba(255,255,255,0)"
         },
         "mode": "lines",
         "showlegend": false,
         "type": "scatter",
         "x": [
          0,
          1,
          2,
          3,
          4,
          5,
          6,
          7,
          8,
          9,
          10,
          11,
          12,
          13,
          14,
          15,
          16,
          17,
          18,
          19,
          20,
          21,
          22,
          23,
          24,
          25,
          26,
          27
         ],
         "y": [
          0,
          -0.08216596455083847,
          -0.08216596455083847,
          -0.08216596455083844,
          -0.08216596455083844,
          -0.08216596455083844,
          -0.08216596455083847,
          -0.08216596455083847,
          -0.08216596455083847,
          -0.08216596455083842,
          -0.08216596455083842,
          -0.08216596455083844,
          -0.08216596455083844,
          -0.08216596455083844,
          -0.08216596455083844,
          -0.08216596455083844,
          -0.08216596455083844,
          -0.08216596455083844,
          -0.08216596455083844,
          -0.08216596455083844,
          -0.08216596455083844,
          -0.08216596455083844,
          -0.08216596455083844,
          -0.08216596455083844,
          -0.08216596455083844,
          -0.08216596455083844,
          -0.08216596455083844,
          -0.08216596455083844
         ]
        }
       ],
       "layout": {
        "template": {
         "data": {
          "bar": [
           {
            "error_x": {
             "color": "#2a3f5f"
            },
            "error_y": {
             "color": "#2a3f5f"
            },
            "marker": {
             "line": {
              "color": "#E5ECF6",
              "width": 0.5
             },
             "pattern": {
              "fillmode": "overlay",
              "size": 10,
              "solidity": 0.2
             }
            },
            "type": "bar"
           }
          ],
          "barpolar": [
           {
            "marker": {
             "line": {
              "color": "#E5ECF6",
              "width": 0.5
             },
             "pattern": {
              "fillmode": "overlay",
              "size": 10,
              "solidity": 0.2
             }
            },
            "type": "barpolar"
           }
          ],
          "carpet": [
           {
            "aaxis": {
             "endlinecolor": "#2a3f5f",
             "gridcolor": "white",
             "linecolor": "white",
             "minorgridcolor": "white",
             "startlinecolor": "#2a3f5f"
            },
            "baxis": {
             "endlinecolor": "#2a3f5f",
             "gridcolor": "white",
             "linecolor": "white",
             "minorgridcolor": "white",
             "startlinecolor": "#2a3f5f"
            },
            "type": "carpet"
           }
          ],
          "choropleth": [
           {
            "colorbar": {
             "outlinewidth": 0,
             "ticks": ""
            },
            "type": "choropleth"
           }
          ],
          "contour": [
           {
            "colorbar": {
             "outlinewidth": 0,
             "ticks": ""
            },
            "colorscale": [
             [
              0,
              "#0d0887"
             ],
             [
              0.1111111111111111,
              "#46039f"
             ],
             [
              0.2222222222222222,
              "#7201a8"
             ],
             [
              0.3333333333333333,
              "#9c179e"
             ],
             [
              0.4444444444444444,
              "#bd3786"
             ],
             [
              0.5555555555555556,
              "#d8576b"
             ],
             [
              0.6666666666666666,
              "#ed7953"
             ],
             [
              0.7777777777777778,
              "#fb9f3a"
             ],
             [
              0.8888888888888888,
              "#fdca26"
             ],
             [
              1,
              "#f0f921"
             ]
            ],
            "type": "contour"
           }
          ],
          "contourcarpet": [
           {
            "colorbar": {
             "outlinewidth": 0,
             "ticks": ""
            },
            "type": "contourcarpet"
           }
          ],
          "heatmap": [
           {
            "colorbar": {
             "outlinewidth": 0,
             "ticks": ""
            },
            "colorscale": [
             [
              0,
              "#0d0887"
             ],
             [
              0.1111111111111111,
              "#46039f"
             ],
             [
              0.2222222222222222,
              "#7201a8"
             ],
             [
              0.3333333333333333,
              "#9c179e"
             ],
             [
              0.4444444444444444,
              "#bd3786"
             ],
             [
              0.5555555555555556,
              "#d8576b"
             ],
             [
              0.6666666666666666,
              "#ed7953"
             ],
             [
              0.7777777777777778,
              "#fb9f3a"
             ],
             [
              0.8888888888888888,
              "#fdca26"
             ],
             [
              1,
              "#f0f921"
             ]
            ],
            "type": "heatmap"
           }
          ],
          "heatmapgl": [
           {
            "colorbar": {
             "outlinewidth": 0,
             "ticks": ""
            },
            "colorscale": [
             [
              0,
              "#0d0887"
             ],
             [
              0.1111111111111111,
              "#46039f"
             ],
             [
              0.2222222222222222,
              "#7201a8"
             ],
             [
              0.3333333333333333,
              "#9c179e"
             ],
             [
              0.4444444444444444,
              "#bd3786"
             ],
             [
              0.5555555555555556,
              "#d8576b"
             ],
             [
              0.6666666666666666,
              "#ed7953"
             ],
             [
              0.7777777777777778,
              "#fb9f3a"
             ],
             [
              0.8888888888888888,
              "#fdca26"
             ],
             [
              1,
              "#f0f921"
             ]
            ],
            "type": "heatmapgl"
           }
          ],
          "histogram": [
           {
            "marker": {
             "pattern": {
              "fillmode": "overlay",
              "size": 10,
              "solidity": 0.2
             }
            },
            "type": "histogram"
           }
          ],
          "histogram2d": [
           {
            "colorbar": {
             "outlinewidth": 0,
             "ticks": ""
            },
            "colorscale": [
             [
              0,
              "#0d0887"
             ],
             [
              0.1111111111111111,
              "#46039f"
             ],
             [
              0.2222222222222222,
              "#7201a8"
             ],
             [
              0.3333333333333333,
              "#9c179e"
             ],
             [
              0.4444444444444444,
              "#bd3786"
             ],
             [
              0.5555555555555556,
              "#d8576b"
             ],
             [
              0.6666666666666666,
              "#ed7953"
             ],
             [
              0.7777777777777778,
              "#fb9f3a"
             ],
             [
              0.8888888888888888,
              "#fdca26"
             ],
             [
              1,
              "#f0f921"
             ]
            ],
            "type": "histogram2d"
           }
          ],
          "histogram2dcontour": [
           {
            "colorbar": {
             "outlinewidth": 0,
             "ticks": ""
            },
            "colorscale": [
             [
              0,
              "#0d0887"
             ],
             [
              0.1111111111111111,
              "#46039f"
             ],
             [
              0.2222222222222222,
              "#7201a8"
             ],
             [
              0.3333333333333333,
              "#9c179e"
             ],
             [
              0.4444444444444444,
              "#bd3786"
             ],
             [
              0.5555555555555556,
              "#d8576b"
             ],
             [
              0.6666666666666666,
              "#ed7953"
             ],
             [
              0.7777777777777778,
              "#fb9f3a"
             ],
             [
              0.8888888888888888,
              "#fdca26"
             ],
             [
              1,
              "#f0f921"
             ]
            ],
            "type": "histogram2dcontour"
           }
          ],
          "mesh3d": [
           {
            "colorbar": {
             "outlinewidth": 0,
             "ticks": ""
            },
            "type": "mesh3d"
           }
          ],
          "parcoords": [
           {
            "line": {
             "colorbar": {
              "outlinewidth": 0,
              "ticks": ""
             }
            },
            "type": "parcoords"
           }
          ],
          "pie": [
           {
            "automargin": true,
            "type": "pie"
           }
          ],
          "scatter": [
           {
            "fillpattern": {
             "fillmode": "overlay",
             "size": 10,
             "solidity": 0.2
            },
            "type": "scatter"
           }
          ],
          "scatter3d": [
           {
            "line": {
             "colorbar": {
              "outlinewidth": 0,
              "ticks": ""
             }
            },
            "marker": {
             "colorbar": {
              "outlinewidth": 0,
              "ticks": ""
             }
            },
            "type": "scatter3d"
           }
          ],
          "scattercarpet": [
           {
            "marker": {
             "colorbar": {
              "outlinewidth": 0,
              "ticks": ""
             }
            },
            "type": "scattercarpet"
           }
          ],
          "scattergeo": [
           {
            "marker": {
             "colorbar": {
              "outlinewidth": 0,
              "ticks": ""
             }
            },
            "type": "scattergeo"
           }
          ],
          "scattergl": [
           {
            "marker": {
             "colorbar": {
              "outlinewidth": 0,
              "ticks": ""
             }
            },
            "type": "scattergl"
           }
          ],
          "scattermapbox": [
           {
            "marker": {
             "colorbar": {
              "outlinewidth": 0,
              "ticks": ""
             }
            },
            "type": "scattermapbox"
           }
          ],
          "scatterpolar": [
           {
            "marker": {
             "colorbar": {
              "outlinewidth": 0,
              "ticks": ""
             }
            },
            "type": "scatterpolar"
           }
          ],
          "scatterpolargl": [
           {
            "marker": {
             "colorbar": {
              "outlinewidth": 0,
              "ticks": ""
             }
            },
            "type": "scatterpolargl"
           }
          ],
          "scatterternary": [
           {
            "marker": {
             "colorbar": {
              "outlinewidth": 0,
              "ticks": ""
             }
            },
            "type": "scatterternary"
           }
          ],
          "surface": [
           {
            "colorbar": {
             "outlinewidth": 0,
             "ticks": ""
            },
            "colorscale": [
             [
              0,
              "#0d0887"
             ],
             [
              0.1111111111111111,
              "#46039f"
             ],
             [
              0.2222222222222222,
              "#7201a8"
             ],
             [
              0.3333333333333333,
              "#9c179e"
             ],
             [
              0.4444444444444444,
              "#bd3786"
             ],
             [
              0.5555555555555556,
              "#d8576b"
             ],
             [
              0.6666666666666666,
              "#ed7953"
             ],
             [
              0.7777777777777778,
              "#fb9f3a"
             ],
             [
              0.8888888888888888,
              "#fdca26"
             ],
             [
              1,
              "#f0f921"
             ]
            ],
            "type": "surface"
           }
          ],
          "table": [
           {
            "cells": {
             "fill": {
              "color": "#EBF0F8"
             },
             "line": {
              "color": "white"
             }
            },
            "header": {
             "fill": {
              "color": "#C8D4E3"
             },
             "line": {
              "color": "white"
             }
            },
            "type": "table"
           }
          ]
         },
         "layout": {
          "annotationdefaults": {
           "arrowcolor": "#2a3f5f",
           "arrowhead": 0,
           "arrowwidth": 1
          },
          "autotypenumbers": "strict",
          "coloraxis": {
           "colorbar": {
            "outlinewidth": 0,
            "ticks": ""
           }
          },
          "colorscale": {
           "diverging": [
            [
             0,
             "#8e0152"
            ],
            [
             0.1,
             "#c51b7d"
            ],
            [
             0.2,
             "#de77ae"
            ],
            [
             0.3,
             "#f1b6da"
            ],
            [
             0.4,
             "#fde0ef"
            ],
            [
             0.5,
             "#f7f7f7"
            ],
            [
             0.6,
             "#e6f5d0"
            ],
            [
             0.7,
             "#b8e186"
            ],
            [
             0.8,
             "#7fbc41"
            ],
            [
             0.9,
             "#4d9221"
            ],
            [
             1,
             "#276419"
            ]
           ],
           "sequential": [
            [
             0,
             "#0d0887"
            ],
            [
             0.1111111111111111,
             "#46039f"
            ],
            [
             0.2222222222222222,
             "#7201a8"
            ],
            [
             0.3333333333333333,
             "#9c179e"
            ],
            [
             0.4444444444444444,
             "#bd3786"
            ],
            [
             0.5555555555555556,
             "#d8576b"
            ],
            [
             0.6666666666666666,
             "#ed7953"
            ],
            [
             0.7777777777777778,
             "#fb9f3a"
            ],
            [
             0.8888888888888888,
             "#fdca26"
            ],
            [
             1,
             "#f0f921"
            ]
           ],
           "sequentialminus": [
            [
             0,
             "#0d0887"
            ],
            [
             0.1111111111111111,
             "#46039f"
            ],
            [
             0.2222222222222222,
             "#7201a8"
            ],
            [
             0.3333333333333333,
             "#9c179e"
            ],
            [
             0.4444444444444444,
             "#bd3786"
            ],
            [
             0.5555555555555556,
             "#d8576b"
            ],
            [
             0.6666666666666666,
             "#ed7953"
            ],
            [
             0.7777777777777778,
             "#fb9f3a"
            ],
            [
             0.8888888888888888,
             "#fdca26"
            ],
            [
             1,
             "#f0f921"
            ]
           ]
          },
          "colorway": [
           "#636efa",
           "#EF553B",
           "#00cc96",
           "#ab63fa",
           "#FFA15A",
           "#19d3f3",
           "#FF6692",
           "#B6E880",
           "#FF97FF",
           "#FECB52"
          ],
          "font": {
           "color": "#2a3f5f"
          },
          "geo": {
           "bgcolor": "white",
           "lakecolor": "white",
           "landcolor": "#E5ECF6",
           "showlakes": true,
           "showland": true,
           "subunitcolor": "white"
          },
          "hoverlabel": {
           "align": "left"
          },
          "hovermode": "closest",
          "mapbox": {
           "style": "light"
          },
          "paper_bgcolor": "white",
          "plot_bgcolor": "#E5ECF6",
          "polar": {
           "angularaxis": {
            "gridcolor": "white",
            "linecolor": "white",
            "ticks": ""
           },
           "bgcolor": "#E5ECF6",
           "radialaxis": {
            "gridcolor": "white",
            "linecolor": "white",
            "ticks": ""
           }
          },
          "scene": {
           "xaxis": {
            "backgroundcolor": "#E5ECF6",
            "gridcolor": "white",
            "gridwidth": 2,
            "linecolor": "white",
            "showbackground": true,
            "ticks": "",
            "zerolinecolor": "white"
           },
           "yaxis": {
            "backgroundcolor": "#E5ECF6",
            "gridcolor": "white",
            "gridwidth": 2,
            "linecolor": "white",
            "showbackground": true,
            "ticks": "",
            "zerolinecolor": "white"
           },
           "zaxis": {
            "backgroundcolor": "#E5ECF6",
            "gridcolor": "white",
            "gridwidth": 2,
            "linecolor": "white",
            "showbackground": true,
            "ticks": "",
            "zerolinecolor": "white"
           }
          },
          "shapedefaults": {
           "line": {
            "color": "#2a3f5f"
           }
          },
          "ternary": {
           "aaxis": {
            "gridcolor": "white",
            "linecolor": "white",
            "ticks": ""
           },
           "baxis": {
            "gridcolor": "white",
            "linecolor": "white",
            "ticks": ""
           },
           "bgcolor": "#E5ECF6",
           "caxis": {
            "gridcolor": "white",
            "linecolor": "white",
            "ticks": ""
           }
          },
          "title": {
           "x": 0.05
          },
          "xaxis": {
           "automargin": true,
           "gridcolor": "white",
           "linecolor": "white",
           "ticks": "",
           "title": {
            "standoff": 15
           },
           "zerolinecolor": "white",
           "zerolinewidth": 2
          },
          "yaxis": {
           "automargin": true,
           "gridcolor": "white",
           "linecolor": "white",
           "ticks": "",
           "title": {
            "standoff": 15
           },
           "zerolinecolor": "white",
           "zerolinewidth": 2
          }
         }
        },
        "title": {
         "text": "Partial Autocorrelation (PACF)"
        },
        "xaxis": {
         "range": [
          -1,
          42
         ]
        },
        "yaxis": {
         "zerolinecolor": "#000000"
        }
       }
      }
     },
     "metadata": {},
     "output_type": "display_data"
    }
   ],
   "source": [
    "demand = clean_data.set_index('date').demand\n",
    "create_corr_plot(demand, plot_pacf=False)\n",
    "create_corr_plot(demand, plot_pacf=True)"
   ]
  },
  {
   "cell_type": "code",
   "execution_count": 14,
   "metadata": {},
   "outputs": [],
   "source": [
    "clean_data = clean_data.set_index('date')"
   ]
  },
  {
   "cell_type": "code",
   "execution_count": 15,
   "metadata": {},
   "outputs": [],
   "source": [
    "from datetime import timedelta\n",
    "train_st = clean_data.index.min()\n",
    "train_end = train_st + timedelta(days=555)\n",
    "test_st = train_end + timedelta(days=1)\n",
    "test_end = clean_data.index.max()"
   ]
  },
  {
   "cell_type": "code",
   "execution_count": 16,
   "metadata": {},
   "outputs": [
    {
     "data": {
      "text/plain": [
       "Timestamp('2022-01-09 00:00:00')"
      ]
     },
     "execution_count": 16,
     "metadata": {},
     "output_type": "execute_result"
    }
   ],
   "source": [
    "clean_data.index[0]"
   ]
  },
  {
   "cell_type": "code",
   "execution_count": 17,
   "metadata": {},
   "outputs": [
    {
     "data": {
      "text/plain": [
       "Timestamp('2023-07-31 00:00:00')"
      ]
     },
     "execution_count": 17,
     "metadata": {},
     "output_type": "execute_result"
    }
   ],
   "source": [
    "test_end"
   ]
  },
  {
   "cell_type": "code",
   "execution_count": 18,
   "metadata": {},
   "outputs": [
    {
     "data": {
      "text/plain": [
       "'train'"
      ]
     },
     "metadata": {},
     "output_type": "display_data"
    },
    {
     "data": {
      "text/plain": [
       "Timestamp('2022-01-09 00:00:00')"
      ]
     },
     "metadata": {},
     "output_type": "display_data"
    },
    {
     "data": {
      "text/plain": [
       "Timestamp('2023-07-18 00:00:00')"
      ]
     },
     "metadata": {},
     "output_type": "display_data"
    },
    {
     "data": {
      "text/plain": [
       "'test'"
      ]
     },
     "metadata": {},
     "output_type": "display_data"
    },
    {
     "data": {
      "text/plain": [
       "Timestamp('2023-07-19 00:00:00')"
      ]
     },
     "metadata": {},
     "output_type": "display_data"
    },
    {
     "data": {
      "text/plain": [
       "Timestamp('2023-07-31 00:00:00')"
      ]
     },
     "metadata": {},
     "output_type": "display_data"
    }
   ],
   "source": [
    "train = clean_data[\n",
    "    (clean_data.index>=train_st)\n",
    "    &(clean_data.index<=train_end)\n",
    "    ]\n",
    "test = clean_data[\n",
    "    (clean_data.index>test_st)\n",
    "    &(clean_data.index<=test_end)]\n",
    "\n",
    "display(\n",
    "    'train', train_st, train_end,\n",
    "    'test', test_st, test_end,\n",
    "        )\n",
    "train = train.demand\n",
    "test = test.demand"
   ]
  },
  {
   "cell_type": "code",
   "execution_count": 19,
   "metadata": {},
   "outputs": [
    {
     "data": {
      "text/plain": [
       "array(['train', 'test'], dtype=object)"
      ]
     },
     "execution_count": 19,
     "metadata": {},
     "output_type": "execute_result"
    }
   ],
   "source": [
    "clean_data['partition'] = np.nan\n",
    "clean_data.loc[(clean_data.index>=train_st)\n",
    "    &(clean_data.index<=train_end), 'partition'] = 'train'\n",
    "clean_data.loc[(clean_data.index>=test_st)\n",
    "    &(clean_data.index<=test_end), 'partition']= 'test'\n",
    "clean_data.partition.unique()"
   ]
  },
  {
   "cell_type": "code",
   "execution_count": 20,
   "metadata": {},
   "outputs": [
    {
     "data": {
      "text/html": [
       "<div>\n",
       "<style scoped>\n",
       "    .dataframe tbody tr th:only-of-type {\n",
       "        vertical-align: middle;\n",
       "    }\n",
       "\n",
       "    .dataframe tbody tr th {\n",
       "        vertical-align: top;\n",
       "    }\n",
       "\n",
       "    .dataframe thead th {\n",
       "        text-align: right;\n",
       "    }\n",
       "</style>\n",
       "<table border=\"1\" class=\"dataframe\">\n",
       "  <thead>\n",
       "    <tr style=\"text-align: right;\">\n",
       "      <th></th>\n",
       "      <th>green</th>\n",
       "      <th>yellow</th>\n",
       "      <th>red</th>\n",
       "      <th>ud</th>\n",
       "      <th>demand</th>\n",
       "      <th>partition</th>\n",
       "    </tr>\n",
       "    <tr>\n",
       "      <th>date</th>\n",
       "      <th></th>\n",
       "      <th></th>\n",
       "      <th></th>\n",
       "      <th></th>\n",
       "      <th></th>\n",
       "      <th></th>\n",
       "    </tr>\n",
       "  </thead>\n",
       "  <tbody>\n",
       "  </tbody>\n",
       "</table>\n",
       "</div>"
      ],
      "text/plain": [
       "Empty DataFrame\n",
       "Columns: [green, yellow, red, ud, demand, partition]\n",
       "Index: []"
      ]
     },
     "execution_count": 20,
     "metadata": {},
     "output_type": "execute_result"
    }
   ],
   "source": [
    "clean_data[clean_data.partition.isna()]\n",
    "# clean_data[clean_data.index == clean_data.index.max()]"
   ]
  },
  {
   "cell_type": "code",
   "execution_count": 21,
   "metadata": {},
   "outputs": [
    {
     "name": "stdout",
     "output_type": "stream",
     "text": [
      "Performing stepwise search to minimize aic\n",
      " ARIMA(1,1,1)(0,0,0)[0] intercept   : AIC=11532.184, Time=4.00 sec\n",
      " ARIMA(0,1,0)(0,0,0)[0] intercept   : AIC=11703.483, Time=0.01 sec\n",
      " ARIMA(1,1,0)(0,0,0)[0] intercept   : AIC=11694.470, Time=0.03 sec\n",
      " ARIMA(0,1,1)(0,0,0)[0] intercept   : AIC=11586.997, Time=0.16 sec\n",
      " ARIMA(0,1,0)(0,0,0)[0]             : AIC=11701.486, Time=0.01 sec\n",
      " ARIMA(2,1,1)(0,0,0)[0] intercept   : AIC=11499.335, Time=0.11 sec\n",
      " ARIMA(2,1,0)(0,0,0)[0] intercept   : AIC=11661.581, Time=0.04 sec\n",
      " ARIMA(3,1,1)(0,0,0)[0] intercept   : AIC=11465.627, Time=0.41 sec\n",
      " ARIMA(3,1,0)(0,0,0)[0] intercept   : AIC=11637.183, Time=0.06 sec\n",
      " ARIMA(4,1,1)(0,0,0)[0] intercept   : AIC=11434.474, Time=0.16 sec\n",
      " ARIMA(4,1,0)(0,0,0)[0] intercept   : AIC=11591.509, Time=0.07 sec\n",
      " ARIMA(5,1,1)(0,0,0)[0] intercept   : AIC=11326.152, Time=0.19 sec\n",
      " ARIMA(5,1,0)(0,0,0)[0] intercept   : AIC=11453.591, Time=0.10 sec\n",
      " ARIMA(6,1,1)(0,0,0)[0] intercept   : AIC=10983.021, Time=0.56 sec\n",
      " ARIMA(6,1,0)(0,0,0)[0] intercept   : AIC=11029.889, Time=0.16 sec\n",
      " ARIMA(7,1,1)(0,0,0)[0] intercept   : AIC=10967.372, Time=0.71 sec\n",
      " ARIMA(7,1,0)(0,0,0)[0] intercept   : AIC=10967.163, Time=0.25 sec\n",
      " ARIMA(7,1,0)(0,0,0)[0]             : AIC=10965.186, Time=0.44 sec\n",
      " ARIMA(6,1,0)(0,0,0)[0]             : AIC=11027.926, Time=0.15 sec\n",
      " ARIMA(7,1,1)(0,0,0)[0]             : AIC=10965.395, Time=0.78 sec\n",
      " ARIMA(6,1,1)(0,0,0)[0]             : AIC=10981.049, Time=0.54 sec\n",
      "\n",
      "Best model:  ARIMA(7,1,0)(0,0,0)[0]          \n",
      "Total fit time: 8.946 seconds\n",
      "                               SARIMAX Results                                \n",
      "==============================================================================\n",
      "Dep. Variable:                      y   No. Observations:                  556\n",
      "Model:               SARIMAX(7, 1, 0)   Log Likelihood               -5474.593\n",
      "Date:                Wed, 06 Mar 2024   AIC                          10965.186\n",
      "Time:                        21:42:17   BIC                          10999.737\n",
      "Sample:                    01-09-2022   HQIC                         10978.683\n",
      "                         - 07-18-2023                                         \n",
      "Covariance Type:                  opg                                         \n",
      "==============================================================================\n",
      "                 coef    std err          z      P>|z|      [0.025      0.975]\n",
      "------------------------------------------------------------------------------\n",
      "ar.L1         -0.5307      0.028    -19.175      0.000      -0.585      -0.476\n",
      "ar.L2         -0.5493      0.027    -20.307      0.000      -0.602      -0.496\n",
      "ar.L3         -0.5270      0.031    -16.833      0.000      -0.588      -0.466\n",
      "ar.L4         -0.5289      0.031    -17.151      0.000      -0.589      -0.468\n",
      "ar.L5         -0.5132      0.031    -16.798      0.000      -0.573      -0.453\n",
      "ar.L6         -0.4749      0.029    -16.316      0.000      -0.532      -0.418\n",
      "ar.L7          0.3323      0.025     13.258      0.000       0.283       0.381\n",
      "sigma2      2.147e+07   7.65e-10    2.8e+16      0.000    2.15e+07    2.15e+07\n",
      "===================================================================================\n",
      "Ljung-Box (L1) (Q):                   0.12   Jarque-Bera (JB):              1375.81\n",
      "Prob(Q):                              0.73   Prob(JB):                         0.00\n",
      "Heteroskedasticity (H):               1.57   Skew:                             0.23\n",
      "Prob(H) (two-sided):                  0.00   Kurtosis:                        10.70\n",
      "===================================================================================\n",
      "\n",
      "Warnings:\n",
      "[1] Covariance matrix calculated using the outer product of gradients (complex-step).\n",
      "[2] Covariance matrix is singular or near-singular, with condition number 1.8e+31. Standard errors may be unstable.\n"
     ]
    }
   ],
   "source": [
    "import pmdarima\n",
    "# настроим поиск параметров на обучающей выборке\n",
    "parameter_search =pmdarima.auto_arima(\n",
    "                            train, \n",
    "                            start_p = 1, \n",
    "                            start_q = 1, \n",
    "                            max_p = 7, \n",
    "                            max_q = 7, \n",
    "                            start_P = 1,\n",
    "                            max_P=14,\n",
    "                            start_Q=1, \n",
    "                            max_Q=14, \n",
    "                            seasonal = True,\n",
    "                            d = 1, \n",
    "                            D = 1, \n",
    "                            trace = True, \n",
    "                            error_action ='ignore', \n",
    "                            suppress_warnings = True,  \n",
    "                            stepwise = True\n",
    "                            )\n",
    "                            \n",
    "# выведем результат\n",
    "print(parameter_search.summary())"
   ]
  },
  {
   "cell_type": "code",
   "execution_count": 22,
   "metadata": {},
   "outputs": [
    {
     "name": "stderr",
     "output_type": "stream",
     "text": [
      "/Users/olgahromova/opt/anaconda3/lib/python3.8/site-packages/statsmodels/tsa/base/tsa_model.py:473: ValueWarning:\n",
      "\n",
      "No frequency information was provided, so inferred frequency D will be used.\n",
      "\n",
      "/Users/olgahromova/opt/anaconda3/lib/python3.8/site-packages/statsmodels/tsa/base/tsa_model.py:473: ValueWarning:\n",
      "\n",
      "No frequency information was provided, so inferred frequency D will be used.\n",
      "\n"
     ]
    }
   ],
   "source": [
    "import statsmodels.api as sm\n",
    "def model_fit(train, test, model=sm.tsa.statespace.SARIMAX(\n",
    "                                        train, \n",
    "                                        order = (3, 0, 0), \n",
    "                                        seasonal_order = (0, 1, 0, 12))):\n",
    "    # применим метод fit\n",
    "    result = model.fit()\n",
    "\n",
    "    # тестовый прогнозный период начнется с конца обучающего периода\n",
    "    start = len(train)\n",
    "    \n",
    "    # и закончится в конце тестового\n",
    "    end = start+ len(test) - 1\n",
    "    predictions = result.predict(start, end)\n",
    "    assert len(test)==len(predictions), 'Количество тестовых и предсказанных наблюдений не равно'\n",
    "    display(result.summary())\n",
    "    \n",
    "    return predictions"
   ]
  },
  {
   "cell_type": "code",
   "execution_count": 23,
   "metadata": {},
   "outputs": [
    {
     "name": "stderr",
     "output_type": "stream",
     "text": [
      "/Users/olgahromova/opt/anaconda3/lib/python3.8/site-packages/statsmodels/tsa/base/tsa_model.py:473: ValueWarning:\n",
      "\n",
      "No frequency information was provided, so inferred frequency D will be used.\n",
      "\n",
      "/Users/olgahromova/opt/anaconda3/lib/python3.8/site-packages/statsmodels/tsa/base/tsa_model.py:473: ValueWarning:\n",
      "\n",
      "No frequency information was provided, so inferred frequency D will be used.\n",
      "\n"
     ]
    }
   ],
   "source": [
    "def get_model_res(train, test, df, model=sm.tsa.statespace.SARIMAX(\n",
    "                                        train, \n",
    "                                        order = (3, 0, 0), \n",
    "                                        seasonal_order = (0, 1, 0, 12))):\n",
    "    predictions = model_fit(train, test, model)\n",
    "    \n",
    "    predictions_df = pd.DataFrame(predictions).rename(columns={'predicted_mean':'demand'})\n",
    "    predictions_df = predictions_df.set_index(test.index)\n",
    "    predictions_df['partition'] = 'predicted_mean'\n",
    "    pred_df = df.reset_index().append(predictions_df.reset_index())\n",
    "    plot_graph(pred_df, colour_col='partition', title_n='Предсказание спроса на офтальмологов')\n",
    "    return [pred_df, predictions]"
   ]
  },
  {
   "cell_type": "code",
   "execution_count": 24,
   "metadata": {},
   "outputs": [],
   "source": [
    "# models_m = pd.DataFrame()\n",
    "def get_metrics_df(test, predictions, train_st, train_end, test_st, test_end, mod_type='SARIMAX(3, 0, 0)x(0, 1, 0, 12)'):\n",
    "    res_arima = count_metrics(test, predictions).T\n",
    "    res_arima['model_params'] = mod_type\n",
    "\n",
    "    res_arima['train_st'] =  train_st\n",
    "    res_arima['train_end'] = train_end\n",
    "    res_arima['test_st'] = test_st\n",
    "    res_arima['test_end'] = test_end\n",
    "    return res_arima"
   ]
  },
  {
   "cell_type": "code",
   "execution_count": 25,
   "metadata": {},
   "outputs": [
    {
     "name": "stderr",
     "output_type": "stream",
     "text": [
      "/Users/olgahromova/opt/anaconda3/lib/python3.8/site-packages/statsmodels/tsa/base/tsa_model.py:473: ValueWarning:\n",
      "\n",
      "No frequency information was provided, so inferred frequency D will be used.\n",
      "\n",
      "/Users/olgahromova/opt/anaconda3/lib/python3.8/site-packages/statsmodels/tsa/base/tsa_model.py:473: ValueWarning:\n",
      "\n",
      "No frequency information was provided, so inferred frequency D will be used.\n",
      "\n"
     ]
    },
    {
     "data": {
      "text/html": [
       "<table class=\"simpletable\">\n",
       "<caption>SARIMAX Results</caption>\n",
       "<tr>\n",
       "  <th>Dep. Variable:</th>        <td>demand</td>      <th>  No. Observations:  </th>    <td>556</td>   \n",
       "</tr>\n",
       "<tr>\n",
       "  <th>Model:</th>           <td>SARIMAX(7, 1, 0)</td> <th>  Log Likelihood     </th> <td>-5474.593</td>\n",
       "</tr>\n",
       "<tr>\n",
       "  <th>Date:</th>            <td>Wed, 06 Mar 2024</td> <th>  AIC                </th> <td>10965.186</td>\n",
       "</tr>\n",
       "<tr>\n",
       "  <th>Time:</th>                <td>21:42:18</td>     <th>  BIC                </th> <td>10999.737</td>\n",
       "</tr>\n",
       "<tr>\n",
       "  <th>Sample:</th>             <td>01-09-2022</td>    <th>  HQIC               </th> <td>10978.683</td>\n",
       "</tr>\n",
       "<tr>\n",
       "  <th></th>                   <td>- 07-18-2023</td>   <th>                     </th>     <td> </td>    \n",
       "</tr>\n",
       "<tr>\n",
       "  <th>Covariance Type:</th>        <td>opg</td>       <th>                     </th>     <td> </td>    \n",
       "</tr>\n",
       "</table>\n",
       "<table class=\"simpletable\">\n",
       "<tr>\n",
       "     <td></td>       <th>coef</th>     <th>std err</th>      <th>z</th>      <th>P>|z|</th>  <th>[0.025</th>    <th>0.975]</th>  \n",
       "</tr>\n",
       "<tr>\n",
       "  <th>ar.L1</th>  <td>   -0.5307</td> <td>    0.028</td> <td>  -19.175</td> <td> 0.000</td> <td>   -0.585</td> <td>   -0.476</td>\n",
       "</tr>\n",
       "<tr>\n",
       "  <th>ar.L2</th>  <td>   -0.5493</td> <td>    0.027</td> <td>  -20.307</td> <td> 0.000</td> <td>   -0.602</td> <td>   -0.496</td>\n",
       "</tr>\n",
       "<tr>\n",
       "  <th>ar.L3</th>  <td>   -0.5270</td> <td>    0.031</td> <td>  -16.833</td> <td> 0.000</td> <td>   -0.588</td> <td>   -0.466</td>\n",
       "</tr>\n",
       "<tr>\n",
       "  <th>ar.L4</th>  <td>   -0.5289</td> <td>    0.031</td> <td>  -17.151</td> <td> 0.000</td> <td>   -0.589</td> <td>   -0.468</td>\n",
       "</tr>\n",
       "<tr>\n",
       "  <th>ar.L5</th>  <td>   -0.5132</td> <td>    0.031</td> <td>  -16.798</td> <td> 0.000</td> <td>   -0.573</td> <td>   -0.453</td>\n",
       "</tr>\n",
       "<tr>\n",
       "  <th>ar.L6</th>  <td>   -0.4749</td> <td>    0.029</td> <td>  -16.316</td> <td> 0.000</td> <td>   -0.532</td> <td>   -0.418</td>\n",
       "</tr>\n",
       "<tr>\n",
       "  <th>ar.L7</th>  <td>    0.3323</td> <td>    0.025</td> <td>   13.258</td> <td> 0.000</td> <td>    0.283</td> <td>    0.381</td>\n",
       "</tr>\n",
       "<tr>\n",
       "  <th>sigma2</th> <td> 2.147e+07</td> <td> 7.65e-10</td> <td>  2.8e+16</td> <td> 0.000</td> <td> 2.15e+07</td> <td> 2.15e+07</td>\n",
       "</tr>\n",
       "</table>\n",
       "<table class=\"simpletable\">\n",
       "<tr>\n",
       "  <th>Ljung-Box (L1) (Q):</th>     <td>0.12</td> <th>  Jarque-Bera (JB):  </th> <td>1375.81</td>\n",
       "</tr>\n",
       "<tr>\n",
       "  <th>Prob(Q):</th>                <td>0.73</td> <th>  Prob(JB):          </th>  <td>0.00</td>  \n",
       "</tr>\n",
       "<tr>\n",
       "  <th>Heteroskedasticity (H):</th> <td>1.57</td> <th>  Skew:              </th>  <td>0.23</td>  \n",
       "</tr>\n",
       "<tr>\n",
       "  <th>Prob(H) (two-sided):</th>    <td>0.00</td> <th>  Kurtosis:          </th>  <td>10.70</td> \n",
       "</tr>\n",
       "</table><br/><br/>Warnings:<br/>[1] Covariance matrix calculated using the outer product of gradients (complex-step).<br/>[2] Covariance matrix is singular or near-singular, with condition number 1.8e+31. Standard errors may be unstable."
      ],
      "text/latex": [
       "\\begin{center}\n",
       "\\begin{tabular}{lclc}\n",
       "\\toprule\n",
       "\\textbf{Dep. Variable:}          &      demand      & \\textbf{  No. Observations:  } &    556      \\\\\n",
       "\\textbf{Model:}                  & SARIMAX(7, 1, 0) & \\textbf{  Log Likelihood     } & -5474.593   \\\\\n",
       "\\textbf{Date:}                   & Wed, 06 Mar 2024 & \\textbf{  AIC                } & 10965.186   \\\\\n",
       "\\textbf{Time:}                   &     21:42:18     & \\textbf{  BIC                } & 10999.737   \\\\\n",
       "\\textbf{Sample:}                 &    01-09-2022    & \\textbf{  HQIC               } & 10978.683   \\\\\n",
       "\\textbf{}                        &   - 07-18-2023   & \\textbf{                     } &             \\\\\n",
       "\\textbf{Covariance Type:}        &       opg        & \\textbf{                     } &             \\\\\n",
       "\\bottomrule\n",
       "\\end{tabular}\n",
       "\\begin{tabular}{lcccccc}\n",
       "                & \\textbf{coef} & \\textbf{std err} & \\textbf{z} & \\textbf{P$> |$z$|$} & \\textbf{[0.025} & \\textbf{0.975]}  \\\\\n",
       "\\midrule\n",
       "\\textbf{ar.L1}  &      -0.5307  &        0.028     &   -19.175  &         0.000        &       -0.585    &       -0.476     \\\\\n",
       "\\textbf{ar.L2}  &      -0.5493  &        0.027     &   -20.307  &         0.000        &       -0.602    &       -0.496     \\\\\n",
       "\\textbf{ar.L3}  &      -0.5270  &        0.031     &   -16.833  &         0.000        &       -0.588    &       -0.466     \\\\\n",
       "\\textbf{ar.L4}  &      -0.5289  &        0.031     &   -17.151  &         0.000        &       -0.589    &       -0.468     \\\\\n",
       "\\textbf{ar.L5}  &      -0.5132  &        0.031     &   -16.798  &         0.000        &       -0.573    &       -0.453     \\\\\n",
       "\\textbf{ar.L6}  &      -0.4749  &        0.029     &   -16.316  &         0.000        &       -0.532    &       -0.418     \\\\\n",
       "\\textbf{ar.L7}  &       0.3323  &        0.025     &    13.258  &         0.000        &        0.283    &        0.381     \\\\\n",
       "\\textbf{sigma2} &    2.147e+07  &     7.65e-10     &   2.8e+16  &         0.000        &     2.15e+07    &     2.15e+07     \\\\\n",
       "\\bottomrule\n",
       "\\end{tabular}\n",
       "\\begin{tabular}{lclc}\n",
       "\\textbf{Ljung-Box (L1) (Q):}     & 0.12 & \\textbf{  Jarque-Bera (JB):  } & 1375.81  \\\\\n",
       "\\textbf{Prob(Q):}                & 0.73 & \\textbf{  Prob(JB):          } &   0.00   \\\\\n",
       "\\textbf{Heteroskedasticity (H):} & 1.57 & \\textbf{  Skew:              } &   0.23   \\\\\n",
       "\\textbf{Prob(H) (two-sided):}    & 0.00 & \\textbf{  Kurtosis:          } &  10.70   \\\\\n",
       "\\bottomrule\n",
       "\\end{tabular}\n",
       "%\\caption{SARIMAX Results}\n",
       "\\end{center}\n",
       "\n",
       "Warnings: \\newline\n",
       " [1] Covariance matrix calculated using the outer product of gradients (complex-step). \\newline\n",
       " [2] Covariance matrix is singular or near-singular, with condition number 1.8e+31. Standard errors may be unstable."
      ],
      "text/plain": [
       "<class 'statsmodels.iolib.summary.Summary'>\n",
       "\"\"\"\n",
       "                               SARIMAX Results                                \n",
       "==============================================================================\n",
       "Dep. Variable:                 demand   No. Observations:                  556\n",
       "Model:               SARIMAX(7, 1, 0)   Log Likelihood               -5474.593\n",
       "Date:                Wed, 06 Mar 2024   AIC                          10965.186\n",
       "Time:                        21:42:18   BIC                          10999.737\n",
       "Sample:                    01-09-2022   HQIC                         10978.683\n",
       "                         - 07-18-2023                                         \n",
       "Covariance Type:                  opg                                         \n",
       "==============================================================================\n",
       "                 coef    std err          z      P>|z|      [0.025      0.975]\n",
       "------------------------------------------------------------------------------\n",
       "ar.L1         -0.5307      0.028    -19.175      0.000      -0.585      -0.476\n",
       "ar.L2         -0.5493      0.027    -20.307      0.000      -0.602      -0.496\n",
       "ar.L3         -0.5270      0.031    -16.833      0.000      -0.588      -0.466\n",
       "ar.L4         -0.5289      0.031    -17.151      0.000      -0.589      -0.468\n",
       "ar.L5         -0.5132      0.031    -16.798      0.000      -0.573      -0.453\n",
       "ar.L6         -0.4749      0.029    -16.316      0.000      -0.532      -0.418\n",
       "ar.L7          0.3323      0.025     13.258      0.000       0.283       0.381\n",
       "sigma2      2.147e+07   7.65e-10    2.8e+16      0.000    2.15e+07    2.15e+07\n",
       "===================================================================================\n",
       "Ljung-Box (L1) (Q):                   0.12   Jarque-Bera (JB):              1375.81\n",
       "Prob(Q):                              0.73   Prob(JB):                         0.00\n",
       "Heteroskedasticity (H):               1.57   Skew:                             0.23\n",
       "Prob(H) (two-sided):                  0.00   Kurtosis:                        10.70\n",
       "===================================================================================\n",
       "\n",
       "Warnings:\n",
       "[1] Covariance matrix calculated using the outer product of gradients (complex-step).\n",
       "[2] Covariance matrix is singular or near-singular, with condition number 1.8e+31. Standard errors may be unstable.\n",
       "\"\"\""
      ]
     },
     "metadata": {},
     "output_type": "display_data"
    },
    {
     "data": {
      "application/vnd.plotly.v1+json": {
       "config": {
        "plotlyServerURL": "https://plot.ly"
       },
       "data": [
        {
         "hovertemplate": "partition=train<br>date=%{x}<br>demand=%{y}<extra></extra>",
         "legendgroup": "train",
         "line": {
          "color": "#636efa",
          "dash": "solid"
         },
         "marker": {
          "symbol": "circle"
         },
         "mode": "lines",
         "name": "train",
         "orientation": "v",
         "showlegend": true,
         "type": "scatter",
         "x": [
          "2022-01-09T00:00:00",
          "2022-01-10T00:00:00",
          "2022-01-11T00:00:00",
          "2022-01-12T00:00:00",
          "2022-01-13T00:00:00",
          "2022-01-14T00:00:00",
          "2022-01-15T00:00:00",
          "2022-01-16T00:00:00",
          "2022-01-17T00:00:00",
          "2022-01-18T00:00:00",
          "2022-01-19T00:00:00",
          "2022-01-20T00:00:00",
          "2022-01-21T00:00:00",
          "2022-01-22T00:00:00",
          "2022-01-23T00:00:00",
          "2022-01-24T00:00:00",
          "2022-01-25T00:00:00",
          "2022-01-26T00:00:00",
          "2022-01-27T00:00:00",
          "2022-01-28T00:00:00",
          "2022-01-29T00:00:00",
          "2022-01-30T00:00:00",
          "2022-01-31T00:00:00",
          "2022-02-01T00:00:00",
          "2022-02-02T00:00:00",
          "2022-02-03T00:00:00",
          "2022-02-04T00:00:00",
          "2022-02-05T00:00:00",
          "2022-02-06T00:00:00",
          "2022-02-07T00:00:00",
          "2022-02-08T00:00:00",
          "2022-02-09T00:00:00",
          "2022-02-10T00:00:00",
          "2022-02-11T00:00:00",
          "2022-02-12T00:00:00",
          "2022-02-13T00:00:00",
          "2022-02-14T00:00:00",
          "2022-02-15T00:00:00",
          "2022-02-16T00:00:00",
          "2022-02-17T00:00:00",
          "2022-02-18T00:00:00",
          "2022-02-19T00:00:00",
          "2022-02-20T00:00:00",
          "2022-02-21T00:00:00",
          "2022-02-22T00:00:00",
          "2022-02-23T00:00:00",
          "2022-02-24T00:00:00",
          "2022-02-25T00:00:00",
          "2022-02-26T00:00:00",
          "2022-02-27T00:00:00",
          "2022-02-28T00:00:00",
          "2022-03-01T00:00:00",
          "2022-03-02T00:00:00",
          "2022-03-03T00:00:00",
          "2022-03-04T00:00:00",
          "2022-03-05T00:00:00",
          "2022-03-06T00:00:00",
          "2022-03-07T00:00:00",
          "2022-03-08T00:00:00",
          "2022-03-09T00:00:00",
          "2022-03-10T00:00:00",
          "2022-03-11T00:00:00",
          "2022-03-12T00:00:00",
          "2022-03-13T00:00:00",
          "2022-03-14T00:00:00",
          "2022-03-15T00:00:00",
          "2022-03-16T00:00:00",
          "2022-03-17T00:00:00",
          "2022-03-18T00:00:00",
          "2022-03-19T00:00:00",
          "2022-03-20T00:00:00",
          "2022-03-21T00:00:00",
          "2022-03-22T00:00:00",
          "2022-03-23T00:00:00",
          "2022-03-24T00:00:00",
          "2022-03-25T00:00:00",
          "2022-03-26T00:00:00",
          "2022-03-27T00:00:00",
          "2022-03-28T00:00:00",
          "2022-03-29T00:00:00",
          "2022-03-30T00:00:00",
          "2022-03-31T00:00:00",
          "2022-04-01T00:00:00",
          "2022-04-02T00:00:00",
          "2022-04-03T00:00:00",
          "2022-04-04T00:00:00",
          "2022-04-05T00:00:00",
          "2022-04-06T00:00:00",
          "2022-04-07T00:00:00",
          "2022-04-08T00:00:00",
          "2022-04-09T00:00:00",
          "2022-04-10T00:00:00",
          "2022-04-11T00:00:00",
          "2022-04-12T00:00:00",
          "2022-04-13T00:00:00",
          "2022-04-14T00:00:00",
          "2022-04-15T00:00:00",
          "2022-04-16T00:00:00",
          "2022-04-17T00:00:00",
          "2022-04-18T00:00:00",
          "2022-04-19T00:00:00",
          "2022-04-20T00:00:00",
          "2022-04-21T00:00:00",
          "2022-04-22T00:00:00",
          "2022-04-23T00:00:00",
          "2022-04-24T00:00:00",
          "2022-04-25T00:00:00",
          "2022-04-26T00:00:00",
          "2022-04-27T00:00:00",
          "2022-04-28T00:00:00",
          "2022-04-29T00:00:00",
          "2022-04-30T00:00:00",
          "2022-05-01T00:00:00",
          "2022-05-02T00:00:00",
          "2022-05-03T00:00:00",
          "2022-05-04T00:00:00",
          "2022-05-05T00:00:00",
          "2022-05-06T00:00:00",
          "2022-05-07T00:00:00",
          "2022-05-08T00:00:00",
          "2022-05-09T00:00:00",
          "2022-05-10T00:00:00",
          "2022-05-11T00:00:00",
          "2022-05-12T00:00:00",
          "2022-05-13T00:00:00",
          "2022-05-14T00:00:00",
          "2022-05-15T00:00:00",
          "2022-05-16T00:00:00",
          "2022-05-17T00:00:00",
          "2022-05-18T00:00:00",
          "2022-05-19T00:00:00",
          "2022-05-20T00:00:00",
          "2022-05-21T00:00:00",
          "2022-05-22T00:00:00",
          "2022-05-23T00:00:00",
          "2022-05-24T00:00:00",
          "2022-05-25T00:00:00",
          "2022-05-26T00:00:00",
          "2022-05-27T00:00:00",
          "2022-05-28T00:00:00",
          "2022-05-29T00:00:00",
          "2022-05-30T00:00:00",
          "2022-05-31T00:00:00",
          "2022-06-01T00:00:00",
          "2022-06-02T00:00:00",
          "2022-06-03T00:00:00",
          "2022-06-04T00:00:00",
          "2022-06-05T00:00:00",
          "2022-06-06T00:00:00",
          "2022-06-07T00:00:00",
          "2022-06-08T00:00:00",
          "2022-06-09T00:00:00",
          "2022-06-10T00:00:00",
          "2022-06-11T00:00:00",
          "2022-06-12T00:00:00",
          "2022-06-13T00:00:00",
          "2022-06-14T00:00:00",
          "2022-06-15T00:00:00",
          "2022-06-16T00:00:00",
          "2022-06-17T00:00:00",
          "2022-06-18T00:00:00",
          "2022-06-19T00:00:00",
          "2022-06-20T00:00:00",
          "2022-06-21T00:00:00",
          "2022-06-22T00:00:00",
          "2022-06-23T00:00:00",
          "2022-06-24T00:00:00",
          "2022-06-25T00:00:00",
          "2022-06-26T00:00:00",
          "2022-06-27T00:00:00",
          "2022-06-28T00:00:00",
          "2022-06-29T00:00:00",
          "2022-06-30T00:00:00",
          "2022-07-01T00:00:00",
          "2022-07-02T00:00:00",
          "2022-07-03T00:00:00",
          "2022-07-04T00:00:00",
          "2022-07-05T00:00:00",
          "2022-07-06T00:00:00",
          "2022-07-07T00:00:00",
          "2022-07-08T00:00:00",
          "2022-07-09T00:00:00",
          "2022-07-10T00:00:00",
          "2022-07-11T00:00:00",
          "2022-07-12T00:00:00",
          "2022-07-13T00:00:00",
          "2022-07-14T00:00:00",
          "2022-07-15T00:00:00",
          "2022-07-16T00:00:00",
          "2022-07-17T00:00:00",
          "2022-07-18T00:00:00",
          "2022-07-19T00:00:00",
          "2022-07-20T00:00:00",
          "2022-07-21T00:00:00",
          "2022-07-22T00:00:00",
          "2022-07-23T00:00:00",
          "2022-07-24T00:00:00",
          "2022-07-25T00:00:00",
          "2022-07-26T00:00:00",
          "2022-07-27T00:00:00",
          "2022-07-28T00:00:00",
          "2022-07-29T00:00:00",
          "2022-07-30T00:00:00",
          "2022-07-31T00:00:00",
          "2022-08-01T00:00:00",
          "2022-08-02T00:00:00",
          "2022-08-03T00:00:00",
          "2022-08-04T00:00:00",
          "2022-08-05T00:00:00",
          "2022-08-06T00:00:00",
          "2022-08-07T00:00:00",
          "2022-08-08T00:00:00",
          "2022-08-09T00:00:00",
          "2022-08-10T00:00:00",
          "2022-08-11T00:00:00",
          "2022-08-12T00:00:00",
          "2022-08-13T00:00:00",
          "2022-08-14T00:00:00",
          "2022-08-15T00:00:00",
          "2022-08-16T00:00:00",
          "2022-08-17T00:00:00",
          "2022-08-18T00:00:00",
          "2022-08-19T00:00:00",
          "2022-08-20T00:00:00",
          "2022-08-21T00:00:00",
          "2022-08-22T00:00:00",
          "2022-08-23T00:00:00",
          "2022-08-24T00:00:00",
          "2022-08-25T00:00:00",
          "2022-08-26T00:00:00",
          "2022-08-27T00:00:00",
          "2022-08-28T00:00:00",
          "2022-08-29T00:00:00",
          "2022-08-30T00:00:00",
          "2022-08-31T00:00:00",
          "2022-09-01T00:00:00",
          "2022-09-02T00:00:00",
          "2022-09-03T00:00:00",
          "2022-09-04T00:00:00",
          "2022-09-05T00:00:00",
          "2022-09-06T00:00:00",
          "2022-09-07T00:00:00",
          "2022-09-08T00:00:00",
          "2022-09-09T00:00:00",
          "2022-09-10T00:00:00",
          "2022-09-11T00:00:00",
          "2022-09-12T00:00:00",
          "2022-09-13T00:00:00",
          "2022-09-14T00:00:00",
          "2022-09-15T00:00:00",
          "2022-09-16T00:00:00",
          "2022-09-17T00:00:00",
          "2022-09-18T00:00:00",
          "2022-09-19T00:00:00",
          "2022-09-20T00:00:00",
          "2022-09-21T00:00:00",
          "2022-09-22T00:00:00",
          "2022-09-23T00:00:00",
          "2022-09-24T00:00:00",
          "2022-09-25T00:00:00",
          "2022-09-26T00:00:00",
          "2022-09-27T00:00:00",
          "2022-09-28T00:00:00",
          "2022-09-29T00:00:00",
          "2022-09-30T00:00:00",
          "2022-10-01T00:00:00",
          "2022-10-02T00:00:00",
          "2022-10-03T00:00:00",
          "2022-10-04T00:00:00",
          "2022-10-05T00:00:00",
          "2022-10-06T00:00:00",
          "2022-10-07T00:00:00",
          "2022-10-08T00:00:00",
          "2022-10-09T00:00:00",
          "2022-10-10T00:00:00",
          "2022-10-11T00:00:00",
          "2022-10-12T00:00:00",
          "2022-10-13T00:00:00",
          "2022-10-14T00:00:00",
          "2022-10-15T00:00:00",
          "2022-10-16T00:00:00",
          "2022-10-17T00:00:00",
          "2022-10-18T00:00:00",
          "2022-10-19T00:00:00",
          "2022-10-20T00:00:00",
          "2022-10-21T00:00:00",
          "2022-10-22T00:00:00",
          "2022-10-23T00:00:00",
          "2022-10-24T00:00:00",
          "2022-10-25T00:00:00",
          "2022-10-26T00:00:00",
          "2022-10-27T00:00:00",
          "2022-10-28T00:00:00",
          "2022-10-29T00:00:00",
          "2022-10-30T00:00:00",
          "2022-10-31T00:00:00",
          "2022-11-01T00:00:00",
          "2022-11-02T00:00:00",
          "2022-11-03T00:00:00",
          "2022-11-04T00:00:00",
          "2022-11-05T00:00:00",
          "2022-11-06T00:00:00",
          "2022-11-07T00:00:00",
          "2022-11-08T00:00:00",
          "2022-11-09T00:00:00",
          "2022-11-10T00:00:00",
          "2022-11-11T00:00:00",
          "2022-11-12T00:00:00",
          "2022-11-13T00:00:00",
          "2022-11-14T00:00:00",
          "2022-11-15T00:00:00",
          "2022-11-16T00:00:00",
          "2022-11-17T00:00:00",
          "2022-11-18T00:00:00",
          "2022-11-19T00:00:00",
          "2022-11-20T00:00:00",
          "2022-11-21T00:00:00",
          "2022-11-22T00:00:00",
          "2022-11-23T00:00:00",
          "2022-11-24T00:00:00",
          "2022-11-25T00:00:00",
          "2022-11-26T00:00:00",
          "2022-11-27T00:00:00",
          "2022-11-28T00:00:00",
          "2022-11-29T00:00:00",
          "2022-11-30T00:00:00",
          "2022-12-01T00:00:00",
          "2022-12-02T00:00:00",
          "2022-12-03T00:00:00",
          "2022-12-04T00:00:00",
          "2022-12-05T00:00:00",
          "2022-12-06T00:00:00",
          "2022-12-07T00:00:00",
          "2022-12-08T00:00:00",
          "2022-12-09T00:00:00",
          "2022-12-10T00:00:00",
          "2022-12-11T00:00:00",
          "2022-12-12T00:00:00",
          "2022-12-13T00:00:00",
          "2022-12-14T00:00:00",
          "2022-12-15T00:00:00",
          "2022-12-16T00:00:00",
          "2022-12-17T00:00:00",
          "2022-12-18T00:00:00",
          "2022-12-19T00:00:00",
          "2022-12-20T00:00:00",
          "2022-12-21T00:00:00",
          "2022-12-22T00:00:00",
          "2022-12-23T00:00:00",
          "2022-12-24T00:00:00",
          "2022-12-25T00:00:00",
          "2022-12-26T00:00:00",
          "2022-12-27T00:00:00",
          "2022-12-28T00:00:00",
          "2022-12-29T00:00:00",
          "2022-12-30T00:00:00",
          "2022-12-31T00:00:00",
          "2023-01-01T00:00:00",
          "2023-01-02T00:00:00",
          "2023-01-03T00:00:00",
          "2023-01-04T00:00:00",
          "2023-01-05T00:00:00",
          "2023-01-06T00:00:00",
          "2023-01-07T00:00:00",
          "2023-01-08T00:00:00",
          "2023-01-09T00:00:00",
          "2023-01-10T00:00:00",
          "2023-01-11T00:00:00",
          "2023-01-12T00:00:00",
          "2023-01-13T00:00:00",
          "2023-01-14T00:00:00",
          "2023-01-15T00:00:00",
          "2023-01-16T00:00:00",
          "2023-01-17T00:00:00",
          "2023-01-18T00:00:00",
          "2023-01-19T00:00:00",
          "2023-01-20T00:00:00",
          "2023-01-21T00:00:00",
          "2023-01-22T00:00:00",
          "2023-01-23T00:00:00",
          "2023-01-24T00:00:00",
          "2023-01-25T00:00:00",
          "2023-01-26T00:00:00",
          "2023-01-27T00:00:00",
          "2023-01-28T00:00:00",
          "2023-01-29T00:00:00",
          "2023-01-30T00:00:00",
          "2023-01-31T00:00:00",
          "2023-02-01T00:00:00",
          "2023-02-02T00:00:00",
          "2023-02-03T00:00:00",
          "2023-02-04T00:00:00",
          "2023-02-05T00:00:00",
          "2023-02-06T00:00:00",
          "2023-02-07T00:00:00",
          "2023-02-08T00:00:00",
          "2023-02-09T00:00:00",
          "2023-02-10T00:00:00",
          "2023-02-11T00:00:00",
          "2023-02-12T00:00:00",
          "2023-02-13T00:00:00",
          "2023-02-14T00:00:00",
          "2023-02-15T00:00:00",
          "2023-02-16T00:00:00",
          "2023-02-17T00:00:00",
          "2023-02-18T00:00:00",
          "2023-02-19T00:00:00",
          "2023-02-20T00:00:00",
          "2023-02-21T00:00:00",
          "2023-02-22T00:00:00",
          "2023-02-23T00:00:00",
          "2023-02-24T00:00:00",
          "2023-02-25T00:00:00",
          "2023-02-26T00:00:00",
          "2023-02-27T00:00:00",
          "2023-02-28T00:00:00",
          "2023-03-01T00:00:00",
          "2023-03-02T00:00:00",
          "2023-03-03T00:00:00",
          "2023-03-04T00:00:00",
          "2023-03-05T00:00:00",
          "2023-03-06T00:00:00",
          "2023-03-07T00:00:00",
          "2023-03-08T00:00:00",
          "2023-03-09T00:00:00",
          "2023-03-10T00:00:00",
          "2023-03-11T00:00:00",
          "2023-03-12T00:00:00",
          "2023-03-13T00:00:00",
          "2023-03-14T00:00:00",
          "2023-03-15T00:00:00",
          "2023-03-16T00:00:00",
          "2023-03-17T00:00:00",
          "2023-03-18T00:00:00",
          "2023-03-19T00:00:00",
          "2023-03-20T00:00:00",
          "2023-03-21T00:00:00",
          "2023-03-22T00:00:00",
          "2023-03-23T00:00:00",
          "2023-03-24T00:00:00",
          "2023-03-25T00:00:00",
          "2023-03-26T00:00:00",
          "2023-03-27T00:00:00",
          "2023-03-28T00:00:00",
          "2023-03-29T00:00:00",
          "2023-03-30T00:00:00",
          "2023-03-31T00:00:00",
          "2023-04-01T00:00:00",
          "2023-04-02T00:00:00",
          "2023-04-03T00:00:00",
          "2023-04-04T00:00:00",
          "2023-04-05T00:00:00",
          "2023-04-06T00:00:00",
          "2023-04-07T00:00:00",
          "2023-04-08T00:00:00",
          "2023-04-09T00:00:00",
          "2023-04-10T00:00:00",
          "2023-04-11T00:00:00",
          "2023-04-12T00:00:00",
          "2023-04-13T00:00:00",
          "2023-04-14T00:00:00",
          "2023-04-15T00:00:00",
          "2023-04-16T00:00:00",
          "2023-04-17T00:00:00",
          "2023-04-18T00:00:00",
          "2023-04-19T00:00:00",
          "2023-04-20T00:00:00",
          "2023-04-21T00:00:00",
          "2023-04-22T00:00:00",
          "2023-04-23T00:00:00",
          "2023-04-24T00:00:00",
          "2023-04-25T00:00:00",
          "2023-04-26T00:00:00",
          "2023-04-27T00:00:00",
          "2023-04-28T00:00:00",
          "2023-04-29T00:00:00",
          "2023-04-30T00:00:00",
          "2023-05-01T00:00:00",
          "2023-05-02T00:00:00",
          "2023-05-03T00:00:00",
          "2023-05-04T00:00:00",
          "2023-05-05T00:00:00",
          "2023-05-06T00:00:00",
          "2023-05-07T00:00:00",
          "2023-05-08T00:00:00",
          "2023-05-09T00:00:00",
          "2023-05-10T00:00:00",
          "2023-05-11T00:00:00",
          "2023-05-12T00:00:00",
          "2023-05-13T00:00:00",
          "2023-05-14T00:00:00",
          "2023-05-15T00:00:00",
          "2023-05-16T00:00:00",
          "2023-05-17T00:00:00",
          "2023-05-18T00:00:00",
          "2023-05-19T00:00:00",
          "2023-05-20T00:00:00",
          "2023-05-21T00:00:00",
          "2023-05-22T00:00:00",
          "2023-05-23T00:00:00",
          "2023-05-24T00:00:00",
          "2023-05-25T00:00:00",
          "2023-05-26T00:00:00",
          "2023-05-27T00:00:00",
          "2023-05-28T00:00:00",
          "2023-05-29T00:00:00",
          "2023-05-30T00:00:00",
          "2023-05-31T00:00:00",
          "2023-06-01T00:00:00",
          "2023-06-02T00:00:00",
          "2023-06-03T00:00:00",
          "2023-06-04T00:00:00",
          "2023-06-05T00:00:00",
          "2023-06-06T00:00:00",
          "2023-06-07T00:00:00",
          "2023-06-08T00:00:00",
          "2023-06-09T00:00:00",
          "2023-06-10T00:00:00",
          "2023-06-11T00:00:00",
          "2023-06-12T00:00:00",
          "2023-06-13T00:00:00",
          "2023-06-14T00:00:00",
          "2023-06-15T00:00:00",
          "2023-06-16T00:00:00",
          "2023-06-17T00:00:00",
          "2023-06-18T00:00:00",
          "2023-06-19T00:00:00",
          "2023-06-20T00:00:00",
          "2023-06-21T00:00:00",
          "2023-06-22T00:00:00",
          "2023-06-23T00:00:00",
          "2023-06-24T00:00:00",
          "2023-06-25T00:00:00",
          "2023-06-26T00:00:00",
          "2023-06-27T00:00:00",
          "2023-06-28T00:00:00",
          "2023-06-29T00:00:00",
          "2023-06-30T00:00:00",
          "2023-07-01T00:00:00",
          "2023-07-02T00:00:00",
          "2023-07-03T00:00:00",
          "2023-07-04T00:00:00",
          "2023-07-05T00:00:00",
          "2023-07-06T00:00:00",
          "2023-07-07T00:00:00",
          "2023-07-08T00:00:00",
          "2023-07-09T00:00:00",
          "2023-07-10T00:00:00",
          "2023-07-11T00:00:00",
          "2023-07-12T00:00:00",
          "2023-07-13T00:00:00",
          "2023-07-14T00:00:00",
          "2023-07-15T00:00:00",
          "2023-07-16T00:00:00",
          "2023-07-17T00:00:00",
          "2023-07-18T00:00:00"
         ],
         "xaxis": "x",
         "y": [
          8424,
          4017,
          18828,
          17415,
          15584,
          13993,
          7099,
          6779,
          2951,
          15770,
          14306,
          14468,
          13108,
          6959,
          6813,
          2624,
          15547,
          15511,
          14733,
          14402,
          9414,
          4833,
          2418,
          18014,
          17875,
          17548,
          17892,
          11497,
          6052,
          1904,
          23646,
          25878,
          24913,
          22987,
          15595,
          10802,
          3326,
          26479,
          26109,
          23106,
          18567,
          9256,
          9061,
          4204,
          17519,
          10400,
          6841,
          16046,
          8796,
          7719,
          4269,
          19910,
          1332,
          1329,
          5876,
          5876,
          6399,
          2287,
          7611,
          6197,
          20531,
          18609,
          9378,
          9504,
          5174,
          22398,
          21700,
          20595,
          17835,
          9557,
          9977,
          5397,
          22294,
          20354,
          19477,
          19013,
          9836,
          9526,
          5999,
          23538,
          22676,
          22028,
          20285,
          10385,
          10781,
          7157,
          24001,
          23077,
          21560,
          19379,
          10965,
          11616,
          5726,
          24031,
          23103,
          20545,
          18375,
          7407,
          10679,
          6612,
          26731,
          25874,
          20953,
          18877,
          9087,
          9438,
          7264,
          25207,
          25392,
          24477,
          20069,
          9995,
          7242,
          3411,
          3245,
          21907,
          21598,
          17878,
          8299,
          7309,
          2345,
          4310,
          9158,
          23815,
          20370,
          10033,
          10508,
          6596,
          21832,
          21312,
          20089,
          17018,
          8928,
          9003,
          6783,
          20521,
          19641,
          18734,
          16721,
          8888,
          7637,
          4560,
          20788,
          2312,
          12599,
          16233,
          8605,
          8068,
          5472,
          19390,
          17918,
          16207,
          13906,
          7322,
          5471,
          4157,
          6739,
          18176,
          15168,
          8586,
          8418,
          7362,
          5876,
          18373,
          17980,
          15977,
          13983,
          7640,
          6940,
          5965,
          16721,
          16504,
          15907,
          14630,
          7819,
          6490,
          5390,
          15553,
          16264,
          14795,
          13498,
          7769,
          6012,
          5729,
          16704,
          15579,
          15373,
          14054,
          7571,
          6804,
          4862,
          16674,
          16261,
          15258,
          13579,
          7481,
          5822,
          393,
          15857,
          15430,
          15068,
          13730,
          7599,
          5821,
          6419,
          18397,
          17006,
          16182,
          14278,
          8399,
          7486,
          5932,
          20619,
          19736,
          19166,
          16699,
          10580,
          9582,
          4674,
          22622,
          21594,
          18458,
          16254,
          9636,
          10671,
          6144,
          21748,
          20731,
          19766,
          17641,
          11003,
          10453,
          5074,
          25185,
          19701,
          21830,
          19877,
          10219,
          4146,
          27817,
          24780,
          23421,
          22850,
          19264,
          10320,
          6241,
          27049,
          25105,
          23813,
          22369,
          19484,
          6300,
          2533,
          21601,
          24063,
          23769,
          22686,
          19800,
          11378,
          3813,
          28566,
          26612,
          26310,
          25833,
          23117,
          13160,
          4912,
          35013,
          32378,
          29050,
          28333,
          24050,
          12349,
          5008,
          31786,
          31019,
          29831,
          28729,
          24368,
          13198,
          7169,
          33339,
          30657,
          28158,
          27535,
          23329,
          12201,
          6152,
          31324,
          30632,
          28898,
          27268,
          24595,
          10621,
          4710,
          31076,
          29641,
          28771,
          24932,
          6315,
          11600,
          6239,
          33422,
          30500,
          28666,
          28299,
          24307,
          14427,
          5068,
          32022,
          29373,
          27497,
          27038,
          22212,
          12963,
          5351,
          29256,
          25970,
          24491,
          24264,
          20848,
          12029,
          5761,
          27326,
          25527,
          24412,
          23271,
          20546,
          11860,
          5427,
          27615,
          25103,
          22785,
          21824,
          19416,
          10677,
          3702,
          23377,
          21277,
          19672,
          19418,
          16258,
          8722,
          3628,
          18168,
          17737,
          17239,
          16409,
          15951,
          10795,
          5447,
          21024,
          17197,
          15456,
          13970,
          10402,
          3610,
          1310,
          3004,
          4341,
          3188,
          4245,
          3699,
          2474,
          6028,
          25125,
          23201,
          21851,
          21107,
          18101,
          10152,
          5018,
          24695,
          22174,
          20506,
          20077,
          18907,
          9656,
          4368,
          25659,
          23637,
          22295,
          21880,
          20082,
          11397,
          5578,
          27090,
          25224,
          25091,
          24597,
          22681,
          13127,
          5433,
          30287,
          29180,
          27891,
          25481,
          23614,
          14331,
          6298,
          32944,
          26886,
          27479,
          27205,
          24115,
          12919,
          6172,
          28508,
          24372,
          18329,
          6407,
          5920,
          11811,
          5895,
          30204,
          26983,
          27799,
          27546,
          24761,
          11570,
          5266,
          32814,
          25533,
          3165,
          31687,
          26189,
          10472,
          5813,
          32008,
          29731,
          29722,
          27029,
          25171,
          8039,
          5239,
          33046,
          30596,
          29730,
          29544,
          25767,
          7782,
          5693,
          33506,
          31750,
          30319,
          29301,
          27176,
          14900,
          4761,
          35724,
          32129,
          31351,
          30026,
          26565,
          12293,
          3447,
          33238,
          31569,
          28762,
          25495,
          23241,
          12010,
          4562,
          31997,
          31333,
          30258,
          28762,
          24202,
          11284,
          4411,
          34880,
          36818,
          34425,
          29862,
          24633,
          12217,
          4470,
          8502,
          28940,
          26086,
          24626,
          21294,
          9709,
          5298,
          4422,
          5790,
          27679,
          25702,
          22064,
          11856,
          5005,
          27923,
          25408,
          23704,
          21917,
          20060,
          10911,
          4658,
          25312,
          24088,
          22651,
          21665,
          16689,
          8736,
          4561,
          25059,
          24400,
          22618,
          22241,
          19555,
          11166,
          5260,
          25822,
          24248,
          20699,
          21797,
          18451,
          9614,
          3633,
          6713,
          24404,
          21893,
          20564,
          17599,
          9202,
          3177,
          22974,
          22049,
          20869,
          19322,
          16816,
          7180,
          3634,
          20625,
          20905,
          19574,
          19261,
          17558,
          9907,
          5274,
          23057,
          20579,
          19697,
          18279,
          16120,
          8200,
          3518,
          20525,
          18962,
          18603,
          17110,
          15801,
          9390,
          4518,
          20770,
          18377
         ],
         "yaxis": "y"
        },
        {
         "hovertemplate": "partition=test<br>date=%{x}<br>demand=%{y}<extra></extra>",
         "legendgroup": "test",
         "line": {
          "color": "#EF553B",
          "dash": "solid"
         },
         "marker": {
          "symbol": "circle"
         },
         "mode": "lines",
         "name": "test",
         "orientation": "v",
         "showlegend": true,
         "type": "scatter",
         "x": [
          "2023-07-19T00:00:00",
          "2023-07-20T00:00:00",
          "2023-07-21T00:00:00",
          "2023-07-22T00:00:00",
          "2023-07-23T00:00:00",
          "2023-07-24T00:00:00",
          "2023-07-25T00:00:00",
          "2023-07-26T00:00:00",
          "2023-07-27T00:00:00",
          "2023-07-28T00:00:00",
          "2023-07-29T00:00:00",
          "2023-07-30T00:00:00",
          "2023-07-31T00:00:00"
         ],
         "xaxis": "x",
         "y": [
          17629,
          17717,
          15826,
          8491,
          3359,
          20388,
          19452,
          18057,
          17738,
          15115,
          6177,
          2882,
          21760
         ],
         "yaxis": "y"
        },
        {
         "hovertemplate": "partition=predicted_mean<br>date=%{x}<br>demand=%{y}<extra></extra>",
         "legendgroup": "predicted_mean",
         "line": {
          "color": "#00cc96",
          "dash": "solid"
         },
         "marker": {
          "symbol": "circle"
         },
         "mode": "lines",
         "name": "predicted_mean",
         "orientation": "v",
         "showlegend": true,
         "type": "scatter",
         "x": [
          "2023-07-20T00:00:00",
          "2023-07-21T00:00:00",
          "2023-07-22T00:00:00",
          "2023-07-23T00:00:00",
          "2023-07-24T00:00:00",
          "2023-07-25T00:00:00",
          "2023-07-26T00:00:00",
          "2023-07-27T00:00:00",
          "2023-07-28T00:00:00",
          "2023-07-29T00:00:00",
          "2023-07-30T00:00:00",
          "2023-07-31T00:00:00"
         ],
         "xaxis": "x",
         "y": [
          17939.294608137443,
          16914.672553267566,
          15474.322450657795,
          10140.27308265871,
          6424.943713666343,
          19388.28039270482,
          18061.229841812186,
          17504.052861723707,
          16743.793090237585,
          15257.711715346,
          10798.282516569137,
          7966.812691216839
         ],
         "yaxis": "y"
        }
       ],
       "layout": {
        "height": 600,
        "legend": {
         "orientation": "h",
         "title": {
          "text": "partition"
         },
         "tracegroupgap": 0,
         "x": 0.001,
         "xanchor": "left",
         "y": 1,
         "yanchor": "top"
        },
        "margin": {
         "b": 20,
         "l": 20,
         "r": 20,
         "t": 35
        },
        "template": {
         "data": {
          "bar": [
           {
            "error_x": {
             "color": "#2a3f5f"
            },
            "error_y": {
             "color": "#2a3f5f"
            },
            "marker": {
             "line": {
              "color": "#E5ECF6",
              "width": 0.5
             },
             "pattern": {
              "fillmode": "overlay",
              "size": 10,
              "solidity": 0.2
             }
            },
            "type": "bar"
           }
          ],
          "barpolar": [
           {
            "marker": {
             "line": {
              "color": "#E5ECF6",
              "width": 0.5
             },
             "pattern": {
              "fillmode": "overlay",
              "size": 10,
              "solidity": 0.2
             }
            },
            "type": "barpolar"
           }
          ],
          "carpet": [
           {
            "aaxis": {
             "endlinecolor": "#2a3f5f",
             "gridcolor": "white",
             "linecolor": "white",
             "minorgridcolor": "white",
             "startlinecolor": "#2a3f5f"
            },
            "baxis": {
             "endlinecolor": "#2a3f5f",
             "gridcolor": "white",
             "linecolor": "white",
             "minorgridcolor": "white",
             "startlinecolor": "#2a3f5f"
            },
            "type": "carpet"
           }
          ],
          "choropleth": [
           {
            "colorbar": {
             "outlinewidth": 0,
             "ticks": ""
            },
            "type": "choropleth"
           }
          ],
          "contour": [
           {
            "colorbar": {
             "outlinewidth": 0,
             "ticks": ""
            },
            "colorscale": [
             [
              0,
              "#0d0887"
             ],
             [
              0.1111111111111111,
              "#46039f"
             ],
             [
              0.2222222222222222,
              "#7201a8"
             ],
             [
              0.3333333333333333,
              "#9c179e"
             ],
             [
              0.4444444444444444,
              "#bd3786"
             ],
             [
              0.5555555555555556,
              "#d8576b"
             ],
             [
              0.6666666666666666,
              "#ed7953"
             ],
             [
              0.7777777777777778,
              "#fb9f3a"
             ],
             [
              0.8888888888888888,
              "#fdca26"
             ],
             [
              1,
              "#f0f921"
             ]
            ],
            "type": "contour"
           }
          ],
          "contourcarpet": [
           {
            "colorbar": {
             "outlinewidth": 0,
             "ticks": ""
            },
            "type": "contourcarpet"
           }
          ],
          "heatmap": [
           {
            "colorbar": {
             "outlinewidth": 0,
             "ticks": ""
            },
            "colorscale": [
             [
              0,
              "#0d0887"
             ],
             [
              0.1111111111111111,
              "#46039f"
             ],
             [
              0.2222222222222222,
              "#7201a8"
             ],
             [
              0.3333333333333333,
              "#9c179e"
             ],
             [
              0.4444444444444444,
              "#bd3786"
             ],
             [
              0.5555555555555556,
              "#d8576b"
             ],
             [
              0.6666666666666666,
              "#ed7953"
             ],
             [
              0.7777777777777778,
              "#fb9f3a"
             ],
             [
              0.8888888888888888,
              "#fdca26"
             ],
             [
              1,
              "#f0f921"
             ]
            ],
            "type": "heatmap"
           }
          ],
          "heatmapgl": [
           {
            "colorbar": {
             "outlinewidth": 0,
             "ticks": ""
            },
            "colorscale": [
             [
              0,
              "#0d0887"
             ],
             [
              0.1111111111111111,
              "#46039f"
             ],
             [
              0.2222222222222222,
              "#7201a8"
             ],
             [
              0.3333333333333333,
              "#9c179e"
             ],
             [
              0.4444444444444444,
              "#bd3786"
             ],
             [
              0.5555555555555556,
              "#d8576b"
             ],
             [
              0.6666666666666666,
              "#ed7953"
             ],
             [
              0.7777777777777778,
              "#fb9f3a"
             ],
             [
              0.8888888888888888,
              "#fdca26"
             ],
             [
              1,
              "#f0f921"
             ]
            ],
            "type": "heatmapgl"
           }
          ],
          "histogram": [
           {
            "marker": {
             "pattern": {
              "fillmode": "overlay",
              "size": 10,
              "solidity": 0.2
             }
            },
            "type": "histogram"
           }
          ],
          "histogram2d": [
           {
            "colorbar": {
             "outlinewidth": 0,
             "ticks": ""
            },
            "colorscale": [
             [
              0,
              "#0d0887"
             ],
             [
              0.1111111111111111,
              "#46039f"
             ],
             [
              0.2222222222222222,
              "#7201a8"
             ],
             [
              0.3333333333333333,
              "#9c179e"
             ],
             [
              0.4444444444444444,
              "#bd3786"
             ],
             [
              0.5555555555555556,
              "#d8576b"
             ],
             [
              0.6666666666666666,
              "#ed7953"
             ],
             [
              0.7777777777777778,
              "#fb9f3a"
             ],
             [
              0.8888888888888888,
              "#fdca26"
             ],
             [
              1,
              "#f0f921"
             ]
            ],
            "type": "histogram2d"
           }
          ],
          "histogram2dcontour": [
           {
            "colorbar": {
             "outlinewidth": 0,
             "ticks": ""
            },
            "colorscale": [
             [
              0,
              "#0d0887"
             ],
             [
              0.1111111111111111,
              "#46039f"
             ],
             [
              0.2222222222222222,
              "#7201a8"
             ],
             [
              0.3333333333333333,
              "#9c179e"
             ],
             [
              0.4444444444444444,
              "#bd3786"
             ],
             [
              0.5555555555555556,
              "#d8576b"
             ],
             [
              0.6666666666666666,
              "#ed7953"
             ],
             [
              0.7777777777777778,
              "#fb9f3a"
             ],
             [
              0.8888888888888888,
              "#fdca26"
             ],
             [
              1,
              "#f0f921"
             ]
            ],
            "type": "histogram2dcontour"
           }
          ],
          "mesh3d": [
           {
            "colorbar": {
             "outlinewidth": 0,
             "ticks": ""
            },
            "type": "mesh3d"
           }
          ],
          "parcoords": [
           {
            "line": {
             "colorbar": {
              "outlinewidth": 0,
              "ticks": ""
             }
            },
            "type": "parcoords"
           }
          ],
          "pie": [
           {
            "automargin": true,
            "type": "pie"
           }
          ],
          "scatter": [
           {
            "fillpattern": {
             "fillmode": "overlay",
             "size": 10,
             "solidity": 0.2
            },
            "type": "scatter"
           }
          ],
          "scatter3d": [
           {
            "line": {
             "colorbar": {
              "outlinewidth": 0,
              "ticks": ""
             }
            },
            "marker": {
             "colorbar": {
              "outlinewidth": 0,
              "ticks": ""
             }
            },
            "type": "scatter3d"
           }
          ],
          "scattercarpet": [
           {
            "marker": {
             "colorbar": {
              "outlinewidth": 0,
              "ticks": ""
             }
            },
            "type": "scattercarpet"
           }
          ],
          "scattergeo": [
           {
            "marker": {
             "colorbar": {
              "outlinewidth": 0,
              "ticks": ""
             }
            },
            "type": "scattergeo"
           }
          ],
          "scattergl": [
           {
            "marker": {
             "colorbar": {
              "outlinewidth": 0,
              "ticks": ""
             }
            },
            "type": "scattergl"
           }
          ],
          "scattermapbox": [
           {
            "marker": {
             "colorbar": {
              "outlinewidth": 0,
              "ticks": ""
             }
            },
            "type": "scattermapbox"
           }
          ],
          "scatterpolar": [
           {
            "marker": {
             "colorbar": {
              "outlinewidth": 0,
              "ticks": ""
             }
            },
            "type": "scatterpolar"
           }
          ],
          "scatterpolargl": [
           {
            "marker": {
             "colorbar": {
              "outlinewidth": 0,
              "ticks": ""
             }
            },
            "type": "scatterpolargl"
           }
          ],
          "scatterternary": [
           {
            "marker": {
             "colorbar": {
              "outlinewidth": 0,
              "ticks": ""
             }
            },
            "type": "scatterternary"
           }
          ],
          "surface": [
           {
            "colorbar": {
             "outlinewidth": 0,
             "ticks": ""
            },
            "colorscale": [
             [
              0,
              "#0d0887"
             ],
             [
              0.1111111111111111,
              "#46039f"
             ],
             [
              0.2222222222222222,
              "#7201a8"
             ],
             [
              0.3333333333333333,
              "#9c179e"
             ],
             [
              0.4444444444444444,
              "#bd3786"
             ],
             [
              0.5555555555555556,
              "#d8576b"
             ],
             [
              0.6666666666666666,
              "#ed7953"
             ],
             [
              0.7777777777777778,
              "#fb9f3a"
             ],
             [
              0.8888888888888888,
              "#fdca26"
             ],
             [
              1,
              "#f0f921"
             ]
            ],
            "type": "surface"
           }
          ],
          "table": [
           {
            "cells": {
             "fill": {
              "color": "#EBF0F8"
             },
             "line": {
              "color": "white"
             }
            },
            "header": {
             "fill": {
              "color": "#C8D4E3"
             },
             "line": {
              "color": "white"
             }
            },
            "type": "table"
           }
          ]
         },
         "layout": {
          "annotationdefaults": {
           "arrowcolor": "#2a3f5f",
           "arrowhead": 0,
           "arrowwidth": 1
          },
          "autotypenumbers": "strict",
          "coloraxis": {
           "colorbar": {
            "outlinewidth": 0,
            "ticks": ""
           }
          },
          "colorscale": {
           "diverging": [
            [
             0,
             "#8e0152"
            ],
            [
             0.1,
             "#c51b7d"
            ],
            [
             0.2,
             "#de77ae"
            ],
            [
             0.3,
             "#f1b6da"
            ],
            [
             0.4,
             "#fde0ef"
            ],
            [
             0.5,
             "#f7f7f7"
            ],
            [
             0.6,
             "#e6f5d0"
            ],
            [
             0.7,
             "#b8e186"
            ],
            [
             0.8,
             "#7fbc41"
            ],
            [
             0.9,
             "#4d9221"
            ],
            [
             1,
             "#276419"
            ]
           ],
           "sequential": [
            [
             0,
             "#0d0887"
            ],
            [
             0.1111111111111111,
             "#46039f"
            ],
            [
             0.2222222222222222,
             "#7201a8"
            ],
            [
             0.3333333333333333,
             "#9c179e"
            ],
            [
             0.4444444444444444,
             "#bd3786"
            ],
            [
             0.5555555555555556,
             "#d8576b"
            ],
            [
             0.6666666666666666,
             "#ed7953"
            ],
            [
             0.7777777777777778,
             "#fb9f3a"
            ],
            [
             0.8888888888888888,
             "#fdca26"
            ],
            [
             1,
             "#f0f921"
            ]
           ],
           "sequentialminus": [
            [
             0,
             "#0d0887"
            ],
            [
             0.1111111111111111,
             "#46039f"
            ],
            [
             0.2222222222222222,
             "#7201a8"
            ],
            [
             0.3333333333333333,
             "#9c179e"
            ],
            [
             0.4444444444444444,
             "#bd3786"
            ],
            [
             0.5555555555555556,
             "#d8576b"
            ],
            [
             0.6666666666666666,
             "#ed7953"
            ],
            [
             0.7777777777777778,
             "#fb9f3a"
            ],
            [
             0.8888888888888888,
             "#fdca26"
            ],
            [
             1,
             "#f0f921"
            ]
           ]
          },
          "colorway": [
           "#636efa",
           "#EF553B",
           "#00cc96",
           "#ab63fa",
           "#FFA15A",
           "#19d3f3",
           "#FF6692",
           "#B6E880",
           "#FF97FF",
           "#FECB52"
          ],
          "font": {
           "color": "#2a3f5f"
          },
          "geo": {
           "bgcolor": "white",
           "lakecolor": "white",
           "landcolor": "#E5ECF6",
           "showlakes": true,
           "showland": true,
           "subunitcolor": "white"
          },
          "hoverlabel": {
           "align": "left"
          },
          "hovermode": "closest",
          "mapbox": {
           "style": "light"
          },
          "paper_bgcolor": "white",
          "plot_bgcolor": "#E5ECF6",
          "polar": {
           "angularaxis": {
            "gridcolor": "white",
            "linecolor": "white",
            "ticks": ""
           },
           "bgcolor": "#E5ECF6",
           "radialaxis": {
            "gridcolor": "white",
            "linecolor": "white",
            "ticks": ""
           }
          },
          "scene": {
           "xaxis": {
            "backgroundcolor": "#E5ECF6",
            "gridcolor": "white",
            "gridwidth": 2,
            "linecolor": "white",
            "showbackground": true,
            "ticks": "",
            "zerolinecolor": "white"
           },
           "yaxis": {
            "backgroundcolor": "#E5ECF6",
            "gridcolor": "white",
            "gridwidth": 2,
            "linecolor": "white",
            "showbackground": true,
            "ticks": "",
            "zerolinecolor": "white"
           },
           "zaxis": {
            "backgroundcolor": "#E5ECF6",
            "gridcolor": "white",
            "gridwidth": 2,
            "linecolor": "white",
            "showbackground": true,
            "ticks": "",
            "zerolinecolor": "white"
           }
          },
          "shapedefaults": {
           "line": {
            "color": "#2a3f5f"
           }
          },
          "ternary": {
           "aaxis": {
            "gridcolor": "white",
            "linecolor": "white",
            "ticks": ""
           },
           "baxis": {
            "gridcolor": "white",
            "linecolor": "white",
            "ticks": ""
           },
           "bgcolor": "#E5ECF6",
           "caxis": {
            "gridcolor": "white",
            "linecolor": "white",
            "ticks": ""
           }
          },
          "title": {
           "x": 0.05
          },
          "xaxis": {
           "automargin": true,
           "gridcolor": "white",
           "linecolor": "white",
           "ticks": "",
           "title": {
            "standoff": 15
           },
           "zerolinecolor": "white",
           "zerolinewidth": 2
          },
          "yaxis": {
           "automargin": true,
           "gridcolor": "white",
           "linecolor": "white",
           "ticks": "",
           "title": {
            "standoff": 15
           },
           "zerolinecolor": "white",
           "zerolinewidth": 2
          }
         }
        },
        "title": {
         "text": "Предсказание спроса на офтальмологов"
        },
        "width": 1800,
        "xaxis": {
         "anchor": "y",
         "domain": [
          0,
          1
         ],
         "rangeslider": {
          "visible": true
         },
         "title": {
          "text": "date"
         }
        },
        "yaxis": {
         "anchor": "x",
         "domain": [
          0,
          1
         ],
         "title": {
          "text": "demand"
         }
        }
       }
      }
     },
     "metadata": {},
     "output_type": "display_data"
    }
   ],
   "source": [
    "order=(7,1,0)\n",
    "seasonal_order=(0,0,0, 0)\n",
    "pred_df, predictions = get_model_res(train, test, clean_data, SARIMAX(\n",
    "                                    train,\n",
    "                                    # freq='D',\n",
    "                                    order=order,\n",
    "                                    seasonal_order=seasonal_order\n",
    "                                )\n",
    "              )\n"
   ]
  },
  {
   "cell_type": "code",
   "execution_count": 26,
   "metadata": {},
   "outputs": [
    {
     "data": {
      "text/html": [
       "<div>\n",
       "<style scoped>\n",
       "    .dataframe tbody tr th:only-of-type {\n",
       "        vertical-align: middle;\n",
       "    }\n",
       "\n",
       "    .dataframe tbody tr th {\n",
       "        vertical-align: top;\n",
       "    }\n",
       "\n",
       "    .dataframe thead th {\n",
       "        text-align: right;\n",
       "    }\n",
       "</style>\n",
       "<table border=\"1\" class=\"dataframe\">\n",
       "  <thead>\n",
       "    <tr style=\"text-align: right;\">\n",
       "      <th></th>\n",
       "      <th>mape</th>\n",
       "      <th>mae</th>\n",
       "      <th>mse</th>\n",
       "      <th>R^2</th>\n",
       "      <th>model_params</th>\n",
       "      <th>train_st</th>\n",
       "      <th>train_end</th>\n",
       "      <th>test_st</th>\n",
       "      <th>test_end</th>\n",
       "    </tr>\n",
       "  </thead>\n",
       "  <tbody>\n",
       "    <tr>\n",
       "      <th>model_res</th>\n",
       "      <td>0.72</td>\n",
       "      <td>5146.62</td>\n",
       "      <td>52420388.94</td>\n",
       "      <td>-0.24</td>\n",
       "      <td>SARIMAX(3, 0, 0)x(0, 1, 0, 12)</td>\n",
       "      <td>2022-01-09</td>\n",
       "      <td>2023-07-18</td>\n",
       "      <td>2023-07-19</td>\n",
       "      <td>2023-07-31</td>\n",
       "    </tr>\n",
       "  </tbody>\n",
       "</table>\n",
       "</div>"
      ],
      "text/plain": [
       "           mape      mae          mse    R^2                    model_params  \\\n",
       "model_res  0.72  5146.62  52420388.94  -0.24  SARIMAX(3, 0, 0)x(0, 1, 0, 12)   \n",
       "\n",
       "            train_st  train_end    test_st   test_end  \n",
       "model_res 2022-01-09 2023-07-18 2023-07-19 2023-07-31  "
      ]
     },
     "execution_count": 26,
     "metadata": {},
     "output_type": "execute_result"
    }
   ],
   "source": [
    "get_metrics_df(test, predictions, train_st, train_end, test_st, test_end)"
   ]
  },
  {
   "cell_type": "markdown",
   "metadata": {},
   "source": [
    "## Кластеризация"
   ]
  },
  {
   "cell_type": "code",
   "execution_count": 27,
   "metadata": {},
   "outputs": [
    {
     "name": "stdout",
     "output_type": "stream",
     "text": [
      "              mo_name  cluster\n",
      "0   ГБУЗ ГП № 107 ДЗМ        0\n",
      "1   ГБУЗ ГП № 109 ДЗМ        0\n",
      "2    ГБУЗ ГП № 11 ДЗМ        0\n",
      "3   ГБУЗ ГП № 115 ДЗМ        0\n",
      "4    ГБУЗ ГП № 12 ДЗМ        0\n",
      "..                ...      ...\n",
      "80    ГБУЗ ДЦ № 5 ДЗМ        0\n",
      "81  ГБУЗ КДП №121 ДЗМ        1\n",
      "82   ГБУЗ КДЦ № 2 ДЗМ        0\n",
      "83   ГБУЗ КДЦ № 4 ДЗМ        0\n",
      "84   ГБУЗ КДЦ № 6 ДЗМ        0\n",
      "\n",
      "[85 rows x 2 columns]\n"
     ]
    }
   ],
   "source": [
    "# Кластеризация специальностей\n",
    "from sklearn.cluster import KMeans\n",
    "from sklearn.preprocessing import StandardScaler\n",
    "\n",
    "# Выберем необходимые признаки для кластеризации\n",
    "data_clst = data.groupby(['mo_name'])[['green',\t'yellow',\t'red',\t'ud', 'demand', 'slots_qty']].sum().reset_index()\n",
    "\n",
    "features = ['demand',\t'ud', 'slots_qty']\n",
    "# Стандартизация данных\n",
    "scaler = StandardScaler()\n",
    "data_scaled = scaler.fit_transform(data_clst[features])\n",
    "\n",
    "# Выбор оптимального количества кластеров\n",
    "# Это может быть сделано с использованием, например, метода локтя или силуэта\n",
    "# В данном случае для примера выберем количество кластеров равным 3\n",
    "n_clusters = 3\n",
    "\n",
    "# Кластеризация с использованием KMeans\n",
    "kmeans = KMeans(n_clusters=n_clusters, random_state=42)\n",
    "data_clst['cluster'] = kmeans.fit_predict(data_scaled)\n",
    "\n",
    "# Результаты кластеризации\n",
    "print(data_clst[['mo_name', 'cluster']])"
   ]
  },
  {
   "cell_type": "code",
   "execution_count": 28,
   "metadata": {},
   "outputs": [
    {
     "data": {
      "text/plain": [
       "Index(['index', 'month', 'mo_id', 'dn_qty', 'attach_qty', 'male_attach_qty',\n",
       "       'femail_attach_qty', 'spec', 'date', 'slots_qty', 'adm_area', 'mo_name',\n",
       "       'green', 'yellow', 'red', 'ud', 'demand', 'age_group', 'mo_type'],\n",
       "      dtype='object')"
      ]
     },
     "execution_count": 28,
     "metadata": {},
     "output_type": "execute_result"
    }
   ],
   "source": [
    "data.columns"
   ]
  },
  {
   "cell_type": "code",
   "execution_count": 29,
   "metadata": {},
   "outputs": [
    {
     "data": {
      "image/png": "[encoded data removed]",
      "text/plain": [
       "<Figure size 432x288 with 1 Axes>"
      ]
     },
     "metadata": {
      "needs_background": "light"
     },
     "output_type": "display_data"
    }
   ],
   "source": [
    "import seaborn as sns\n",
    "import urbangrammar_graphics as ugg\n",
    "import matplotlib.pyplot as plt\n",
    "X =data_clst[['demand', 'ud', 'slots_qty', 'cluster']]\n",
    "plt.scatter(X[X.cluster==0].demand, X[X.cluster==0].ud, s=100, c='red', label ='Cluster 1')\n",
    "plt.scatter(X[X.cluster==1].demand, X[X.cluster==1].ud, s=100, c='blue', label ='Cluster 2')\n",
    "plt.scatter(X[X.cluster==2].demand, X[X.cluster==2].ud, s=100, c='green', label ='Cluster 3')\n",
    "plt.title('Кластеры МО')\n",
    "plt.xlabel('Спрос')\n",
    "plt.ylabel('Нереализованный спрос')\n",
    "plt.show()"
   ]
  },
  {
   "cell_type": "code",
   "execution_count": 30,
   "metadata": {},
   "outputs": [
    {
     "data": {
      "image/png": "[encoded data removed]",
      "text/plain": [
       "<Figure size 432x288 with 1 Axes>"
      ]
     },
     "metadata": {
      "needs_background": "light"
     },
     "output_type": "display_data"
    }
   ],
   "source": [
    "plt.scatter(X[X.cluster==0].demand, X[X.cluster==0].slots_qty, s=100, c='red', label ='Cluster 1')\n",
    "plt.scatter(X[X.cluster==1].demand, X[X.cluster==1].slots_qty, s=100, c='blue', label ='Cluster 2')\n",
    "plt.scatter(X[X.cluster==2].demand, X[X.cluster==2].slots_qty, s=100, c='green', label ='Cluster 3')\n",
    "plt.title('Кластеры МО')\n",
    "plt.xlabel('Спрос')\n",
    "plt.ylabel('Количество слотов')\n",
    "plt.show()"
   ]
  },
  {
   "cell_type": "code",
   "execution_count": 45,
   "metadata": {},
   "outputs": [
    {
     "name": "stderr",
     "output_type": "stream",
     "text": [
      "<ipython-input-45-43fdd0dd0319>:30: UserWarning:\n",
      "\n",
      "Matplotlib is currently using module://ipykernel.pylab.backend_inline, which is a non-GUI backend, so cannot show the figure.\n",
      "\n"
     ]
    },
    {
     "data": {
      "image/png": "[encoded data removed]",
      "text/plain": [
       "<Figure size 2160x720 with 3 Axes>"
      ]
     },
     "metadata": {
      "needs_background": "light"
     },
     "output_type": "display_data"
    }
   ],
   "source": [
    "# Создаем трехмерную диаграмму\n",
    "fig = plt.figure(figsize=(30, 10))\n",
    "ax = fig.add_subplot(131, projection='3d')\n",
    "\n",
    "# Разделяем точки по категории и рисуем их с разными цветами\n",
    "colors = {0: 'red', 1: 'blue', 2:'green'}\n",
    "for category, group in X.groupby('cluster'):\n",
    "    ax.scatter(group['slots_qty'], group['ud'], group['demand'], c=colors[category], label=category)\n",
    "ax.set_xlabel('Количество слотов')\n",
    "ax.set_ylabel('Нереализованный спрос')\n",
    "ax.set_zlabel('Спрос')\n",
    "\n",
    "ax.legend()\n",
    "ax1 = fig.add_subplot(132)\n",
    "ax1.scatter(X[X.cluster==0].demand, X[X.cluster==0].slots_qty, s=100, c='red', label ='Cluster 1')\n",
    "ax1.scatter(X[X.cluster==1].demand, X[X.cluster==1].slots_qty, s=100, c='blue', label ='Cluster 2')\n",
    "ax1.scatter(X[X.cluster==2].demand, X[X.cluster==2].slots_qty, s=100, c='green', label ='Cluster 3')\n",
    "ax1.set_xlabel('Спрос')\n",
    "ax1.grid(visible=True)\n",
    "ax1.set_ylabel('Количество слотов')\n",
    "\n",
    "ax2 = fig.add_subplot(133)\n",
    "ax2.scatter(X[X.cluster==0].demand, X[X.cluster==0].ud, s=100, c='red', label ='Cluster 1')\n",
    "ax2.scatter(X[X.cluster==1].demand, X[X.cluster==1].ud, s=100, c='blue', label ='Cluster 2')\n",
    "ax2.scatter(X[X.cluster==2].demand, X[X.cluster==2].ud, s=100, c='green', label ='Cluster 3')\n",
    "ax2.set_xlabel('Спрос')\n",
    "ax2.grid(visible=True)\n",
    "ax2.set_ylabel('Нереализованный спрос')\n",
    "\n",
    "fig.show()\n"
   ]
  },
  {
   "cell_type": "markdown",
   "metadata": {},
   "source": [
    "Таким образом среди медицинских организаций выделилось 3 кластера:\n",
    "0) Спрос, НС и к-во слотов имеют   "
   ]
  },
  {
   "cell_type": "markdown",
   "metadata": {},
   "source": []
  }
 ],
 "metadata": {
  "kernelspec": {
   "display_name": "base",
   "language": "python",
   "name": "python3"
  },
  "language_info": {
   "codemirror_mode": {
    "name": "ipython",
    "version": 3
   },
   "file_extension": ".py",
   "mimetype": "text/x-python",
   "name": "python",
   "nbconvert_exporter": "python",
   "pygments_lexer": "ipython3",
   "version": "3.8.8"
  }
 },
 "nbformat": 4,
 "nbformat_minor": 2
}
